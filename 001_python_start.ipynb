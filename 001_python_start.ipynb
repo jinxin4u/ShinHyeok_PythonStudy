{
 "cells": [
  {
   "cell_type": "code",
   "execution_count": null,
   "metadata": {},
   "outputs": [],
   "source": [
    "# 편집모드와 명령행 모드"
   ]
  },
  {
   "cell_type": "code",
   "execution_count": 6,
   "metadata": {},
   "outputs": [
    {
     "name": "stdout",
     "output_type": "stream",
     "text": [
      "10\n",
      "10\n"
     ]
    }
   ],
   "source": [
    "a = 10 # 주소 -> 값저장(mapping)\n",
    "b = a  # 10 대입이 아닌 a 가 가르키는 주소가 b에 대입\n",
    "print(a)\n",
    "print(b)"
   ]
  },
  {
   "cell_type": "code",
   "execution_count": 37,
   "metadata": {},
   "outputs": [
    {
     "name": "stdout",
     "output_type": "stream",
     "text": [
      "주소값 140714795442864\n",
      "140714795442864\n"
     ]
    }
   ],
   "source": [
    "# 주소값이 일치함을 확인\n",
    "print(\"주소값\", id(a)); print(id(b))"
   ]
  },
  {
   "cell_type": "code",
   "execution_count": 38,
   "metadata": {},
   "outputs": [
    {
     "name": "stdout",
     "output_type": "stream",
     "text": [
      "20\n",
      "10\n",
      "주소값 140714795443184\n",
      "140714795442864\n"
     ]
    }
   ],
   "source": [
    "# 주소값이 다름을 확인\n",
    "a = 20\n",
    "print(a)\n",
    "print(b)\n",
    "print(\"주소값\", id(a)); print(id(b))"
   ]
  },
  {
   "cell_type": "code",
   "execution_count": null,
   "metadata": {},
   "outputs": [],
   "source": [
    "# 파이썬은 대소문자를 구분한다"
   ]
  },
  {
   "cell_type": "code",
   "execution_count": 11,
   "metadata": {},
   "outputs": [
    {
     "data": {
      "text/plain": [
       "int"
      ]
     },
     "execution_count": 11,
     "metadata": {},
     "output_type": "execute_result"
    }
   ],
   "source": [
    "type(a)"
   ]
  },
  {
   "cell_type": "code",
   "execution_count": 13,
   "metadata": {},
   "outputs": [
    {
     "name": "stdout",
     "output_type": "stream",
     "text": [
      "10\n"
     ]
    }
   ],
   "source": [
    "a = 10\n",
    "A = 20\n",
    "print(a)"
   ]
  },
  {
   "cell_type": "code",
   "execution_count": 18,
   "metadata": {},
   "outputs": [
    {
     "name": "stdout",
     "output_type": "stream",
     "text": [
      "수식을 입력하시오10+20\n",
      "10+20\n",
      "30\n"
     ]
    }
   ],
   "source": [
    "# 데이터 입력: 프롬프트 텍스트\n",
    "problem = input(\"수식을 입력하시오\") # 데이터 입출력은 문자열로 입출력됨\n",
    "\n",
    "# 연산을 위해 데이터 타입을 숫자로 변경\n",
    "print(problem)\n",
    "#print(int(problem)) # type casting\n",
    "print(eval(problem)) # eval 평가; 해당 표현식 내용을 평가하여 실행하주는 함수"
   ]
  },
  {
   "cell_type": "code",
   "execution_count": 20,
   "metadata": {},
   "outputs": [
    {
     "name": "stdout",
     "output_type": "stream",
     "text": [
      "0.00424\n",
      "127\n"
     ]
    }
   ],
   "source": [
    "a3 = 4.24e-3 # exponent 지수형\n",
    "a4 = 0o177   # Octal 8진수 표현\n",
    "print(a3)\n",
    "print(a4)"
   ]
  },
  {
   "cell_type": "code",
   "execution_count": 28,
   "metadata": {},
   "outputs": [
    {
     "name": "stdout",
     "output_type": "stream",
     "text": [
      "이름을 입력하세요 : 김 신혁\n",
      "김\n",
      " \n",
      "신\n",
      "1\n",
      "이름: 신혁\n",
      "성(s) 김\n"
     ]
    }
   ],
   "source": [
    "# fullName 문자열 : 기본 1차원 배열\n",
    "fullName = input(\"이름을 입력하세요 : \")\n",
    "n = fullName.rfind(\" \") # Reverse find\n",
    "\n",
    "print(fullName[0]) # 배열과 리스트의 인덱싱은 동일\n",
    "print(fullName[1])\n",
    "print(fullName[2])\n",
    "print(n)\n",
    "print(\"이름:\", fullName[n+1:])\n",
    "print(\"성(s)\", fullName[:n])\n",
    "\n",
    "# 숫자 int : 4byte\n",
    "#    float : 4byte"
   ]
  },
  {
   "cell_type": "code",
   "execution_count": 31,
   "metadata": {},
   "outputs": [
    {
     "name": "stdout",
     "output_type": "stream",
     "text": [
      "koreakorea\n",
      "koreakoreakorea\n",
      "korea\n",
      "a\n",
      "a\n",
      "or\n",
      "ea\n",
      "ea\n",
      "e\n",
      "5\n"
     ]
    },
    {
     "data": {
      "text/plain": [
       "['ko', 'ea']"
      ]
     },
     "execution_count": 31,
     "metadata": {},
     "output_type": "execute_result"
    }
   ],
   "source": [
    "# 문자열은 'single quotation' ,'double quotation'\n",
    "# ''' ''' : 주석처리\n",
    "\n",
    "s = 'korea'\n",
    "\n",
    "print(s+s)\n",
    "print(s * 3)\n",
    "print(s[0:])\n",
    "print(s[4])\n",
    "print(s[-1]) # R에서는 -는 제외대상에 쓰였지만, 파이썬에서는 배열 끝에서부터..\n",
    "print(s[1:3]) # 끝은 제외\n",
    "print(s[-2:])\n",
    "print(s[-2:5])\n",
    "print(s[3:-1])\n",
    "print(len(s))\n",
    "s.split('r')"
   ]
  },
  {
   "cell_type": "code",
   "execution_count": 32,
   "metadata": {},
   "outputs": [
    {
     "name": "stdout",
     "output_type": "stream",
     "text": [
      "['Seoul', ' Incheon', ' won']\n"
     ]
    }
   ],
   "source": [
    "# csv데이터 : comma seperator; Comma로 분리된 데이터\n",
    "t = 'Seoul, Incheon, won'.split(',')\n",
    "print(t) # 리스트로 분할"
   ]
  },
  {
   "cell_type": "code",
   "execution_count": 34,
   "metadata": {},
   "outputs": [
    {
     "data": {
      "text/plain": [
       "'Seoul, Incheon, won'"
      ]
     },
     "execution_count": 34,
     "metadata": {},
     "output_type": "execute_result"
    }
   ],
   "source": [
    "','.join(t) # 함수명 그대로.. 조인"
   ]
  },
  {
   "cell_type": "code",
   "execution_count": 36,
   "metadata": {},
   "outputs": [
    {
     "name": "stdout",
     "output_type": "stream",
     "text": [
      "Korea\n",
      "2\n",
      "1\n",
      "True\n",
      "False\n",
      "True\n",
      "koRea\n",
      "False\n",
      "True\n"
     ]
    }
   ],
   "source": [
    "# 파이썬은 객체지향프로그래밍으로 설계된 언어: 모든 것이 객체 함수도..\n",
    "# C++, java는 객체지향을 별도로 학습\n",
    "# python은 자체가 객체지향언어\n",
    "\n",
    "s = 'korea'\n",
    "print(s.capitalize()) # 첫자 대문자\n",
    "print(s.find('r'))\n",
    "print(s.count('re'))\n",
    "print(s.isalpha())\n",
    "print(s.isdigit())\n",
    "print('0123'.isdigit())\n",
    "print(s.replace('r', 'R'))\n",
    "print(s.startswith('K'))\n",
    "print(s.endswith('a'))"
   ]
  },
  {
   "cell_type": "code",
   "execution_count": 39,
   "metadata": {},
   "outputs": [
    {
     "name": "stdout",
     "output_type": "stream",
     "text": [
      "7 -1 12 0.75\n",
      "0.75\n",
      "3\n",
      "1\n",
      "0\n",
      "1\n",
      "0\n",
      "1.75\n",
      "1\n"
     ]
    }
   ],
   "source": [
    "a = 3\n",
    "b = 4\n",
    "\n",
    "print(a+b, a-b, a*b, a/b)\n",
    "print(a/b)\n",
    "print(a%b) # 나머지 연산자 : 경우의 수를 생성할 때 : 변수가 가질 수 있는 경우의 수를 확인\n",
    "print(1%2)\n",
    "print(2%2)\n",
    "print(3%2)\n",
    "print(4%2)\n",
    "\n",
    "print(7/4)\n",
    "print(7//4)# 몫연산자"
   ]
  },
  {
   "cell_type": "code",
   "execution_count": 41,
   "metadata": {},
   "outputs": [
    {
     "name": "stdout",
     "output_type": "stream",
     "text": [
      "sum([1,2,3]) :  6\n",
      "min([1,2,3]) :  1\n",
      "abs(-11) :  11\n",
      "pow(2,10) :  1024\n",
      "round(3.141592) :  3\n",
      "round(3.141592, 2) :  3.14\n"
     ]
    }
   ],
   "source": [
    "# 내장함수 : \n",
    "# 괄호 : []:list, {}:dict,set, ():tuple, function\n",
    "\n",
    "print(\"sum([1,2,3]) : \", sum([1,2,3]))\n",
    "print(\"min([1,2,3]) : \", min([1,2,3]))\n",
    "print(\"abs(-11) : \", abs(-11))\n",
    "print(\"pow(2,10) : \", pow(2,10))\n",
    "print(\"round(3.141592) : \", round(3.141592))\n",
    "print(\"round(3.141592, 2) : \", round(3.141592, 2))\n",
    "\n",
    "# 함수의 형태가 다르면 : 오버로딩\n",
    "# 파이썬은 오버로딩이 없음 => 디폴트 매개변수"
   ]
  },
  {
   "cell_type": "code",
   "execution_count": 42,
   "metadata": {},
   "outputs": [
    {
     "data": {
      "text/plain": [
       "19"
      ]
     },
     "execution_count": 42,
     "metadata": {},
     "output_type": "execute_result"
    }
   ],
   "source": [
    "# 문제 : 숫자 4,7,8을 리스트로 초기화하고 합계를 출력\n",
    "num = [4,7,8]\n",
    "sum(num)"
   ]
  },
  {
   "cell_type": "code",
   "execution_count": 46,
   "metadata": {},
   "outputs": [
    {
     "name": "stdout",
     "output_type": "stream",
     "text": [
      "10\n",
      "2\n",
      "5 0\n",
      "짝수입니다\n"
     ]
    }
   ],
   "source": [
    "# 문제 : 두 수를 입력받아 몫과 나머지를 출력하시오\n",
    "x = input()\n",
    "y = input()\n",
    "x= int(x)\n",
    "y= int(y)\n",
    "quotient = x//y\n",
    "remainder = x%y\n",
    "print(quotient, remainder)\n",
    "\n",
    "# 파이썬의 블록은 들여쓰기임\n",
    "# :(콜론)은 조건문, 반복문, 함수\n",
    "if remainder == 0:\n",
    "    print(\"짝수입니다\")\n",
    "else:\n",
    "    print(\"홀수입니다\")"
   ]
  },
  {
   "cell_type": "markdown",
   "metadata": {},
   "source": [
    "# scope"
   ]
  },
  {
   "cell_type": "code",
   "execution_count": 47,
   "metadata": {},
   "outputs": [
    {
     "name": "stdout",
     "output_type": "stream",
     "text": [
      "200\n",
      "300\n"
     ]
    }
   ],
   "source": [
    "x = 300 # 전역변수\n",
    "\n",
    "def myfunc(): # 함수도 리턴타입을 지정하지 않음\n",
    "    x = 200   # 지역변수 : 함수와 생사를 같이 함\n",
    "    print(x)\n",
    "    \n",
    "myfunc()\n",
    "print(x)"
   ]
  },
  {
   "cell_type": "code",
   "execution_count": 50,
   "metadata": {},
   "outputs": [
    {
     "name": "stdout",
     "output_type": "stream",
     "text": [
      "15\n",
      "가위\n"
     ]
    }
   ],
   "source": [
    "# 어떤 수가 입력되어도 나머지가 0:가위, 1:바위, 2:보로 출력하시오\n",
    "num = input()\n",
    "re = int(num) % 3\n",
    "if re == 0:\n",
    "    print(\"가위\")\n",
    "elif re == 1:\n",
    "    print(\"바위\")\n",
    "else:\n",
    "    print(\"보\")"
   ]
  },
  {
   "cell_type": "code",
   "execution_count": 51,
   "metadata": {},
   "outputs": [
    {
     "name": "stdout",
     "output_type": "stream",
     "text": [
      "4\n",
      "earths\n",
      "['fire', 'air']\n",
      "['air', 1, 'water', 'fire', 'earths']\n"
     ]
    }
   ],
   "source": [
    "# random : 프로그램에서 난수는 의사난수임\n",
    "import random\n",
    "random.seed(1000)\n",
    "print(random.randint(1,5))\n",
    "elements = [\"earth\", 1, \"air\", \"fire\", \"water\"]\n",
    "elements[0] = \"earths\"\n",
    "\n",
    "print(random.choice(elements))\n",
    "print(random.sample(elements, 2))\n",
    "random.shuffle(elements)\n",
    "print(elements)"
   ]
  },
  {
   "cell_type": "code",
   "execution_count": 52,
   "metadata": {},
   "outputs": [
    {
     "name": "stdout",
     "output_type": "stream",
     "text": [
      "True\n",
      "True\n"
     ]
    }
   ],
   "source": [
    "# 비교연산자와 논리연산자\n",
    "a = 20\n",
    "b = 10\n",
    "c = a > 10 and b < 50\n",
    "print(c)\n",
    "\n",
    "c = 10<a<50\n",
    "print(c)"
   ]
  },
  {
   "cell_type": "code",
   "execution_count": 53,
   "metadata": {},
   "outputs": [
    {
     "name": "stdout",
     "output_type": "stream",
     "text": [
      "6 5\n"
     ]
    }
   ],
   "source": [
    "# swap\n",
    "x = 5\n",
    "y = 6\n",
    "x, y = y, x # 리턴값이 2개 이상도 가능\n",
    "print(x, y)"
   ]
  },
  {
   "cell_type": "code",
   "execution_count": 54,
   "metadata": {},
   "outputs": [
    {
     "name": "stdout",
     "output_type": "stream",
     "text": [
      "[3, ['a', 'b', 'c'], 4]\n",
      "['a', 'b']\n",
      "1\n",
      "Life\n"
     ]
    }
   ],
   "source": [
    "# list 안에 list\n",
    "# a에 저장된 것 : list주소, 리스트는 주소를 담아논 항아리\n",
    "\n",
    "a = [1,2,3,['a','b','c'],4,5]\n",
    "print(a[2:5])\n",
    "print(a[3][:2])\n",
    "\n",
    "a = [1,2,['a','b',['Life','is']]]\n",
    "print(a[0])\n",
    "print(a[2][2][0])\n",
    "\n",
    "# 2차원 리스트\n",
    "a = [['a',100, 50],['b', 90, 88],['c', 100, 100]]"
   ]
  },
  {
   "cell_type": "code",
   "execution_count": 55,
   "metadata": {},
   "outputs": [
    {
     "name": "stdout",
     "output_type": "stream",
     "text": [
      "60\n",
      "60\n",
      "80\n"
     ]
    }
   ],
   "source": [
    "# 리스트(List) 를 이용한 스택(Stack)\n",
    "a = [10,20,30,40,50]\n",
    "a.append(60)\n",
    "print(a.pop())\n",
    "a.append(60)\n",
    "print(a.pop())\n",
    "a.append(70)\n",
    "a.append(80)\n",
    "print(a.pop())"
   ]
  },
  {
   "cell_type": "code",
   "execution_count": 56,
   "metadata": {},
   "outputs": [
    {
     "name": "stdout",
     "output_type": "stream",
     "text": [
      "7 12\n",
      "7\n"
     ]
    },
    {
     "data": {
      "text/plain": [
       "(9, 20)"
      ]
     },
     "execution_count": 56,
     "metadata": {},
     "output_type": "execute_result"
    }
   ],
   "source": [
    "# 파이썬 함수 - 리턴값의 지정은 없음\n",
    "\n",
    "def calc(a,b):\n",
    "    return a+b, a*b\n",
    "\n",
    "x,y = calc(3,4)\n",
    "print(x,y)\n",
    "print(x)\n",
    "x,y\n",
    "args = (4,5)\n",
    "calc(*args) # 포인터"
   ]
  },
  {
   "cell_type": "code",
   "execution_count": 57,
   "metadata": {},
   "outputs": [
    {
     "data": {
      "text/plain": [
       "dict_items([('one', 1), ('two', 2)])"
      ]
     },
     "execution_count": 57,
     "metadata": {},
     "output_type": "execute_result"
    }
   ],
   "source": [
    "# Dictionary\n",
    "d = { 'one':1, 'two':2 }                                                                                                  \n",
    "d.items()\n",
    "# mongodbv -> noSQL"
   ]
  },
  {
   "cell_type": "code",
   "execution_count": 80,
   "metadata": {},
   "outputs": [
    {
     "name": "stdout",
     "output_type": "stream",
     "text": [
      "2\n",
      "True\n",
      "1\n"
     ]
    },
    {
     "data": {
      "text/plain": [
       "['suwon', 'seoul', 'incheon']"
      ]
     },
     "execution_count": 80,
     "metadata": {},
     "output_type": "execute_result"
    }
   ],
   "source": [
    "cities = ['seoul', 'incheon', 'suwon']\n",
    "print(cities.index('suwon'))\n",
    "print('incheon' in cities)\n",
    "print(cities.count('seoul'))\n",
    "sorted(cities)\n",
    "sorted(cities, reverse = True)"
   ]
  },
  {
   "cell_type": "code",
   "execution_count": 81,
   "metadata": {},
   "outputs": [
    {
     "name": "stdout",
     "output_type": "stream",
     "text": [
      "['seoul', 'incheon', 'suwon']\n",
      "['seoul', 'incheon', 'suwon', 'busan']\n",
      "['daegu', 'seoul', 'incheon', 'suwon', 'busan']\n",
      "결합 ['daegu', 'seoul', 'incheon', 'suwon', 'busan', 'jeju', 'kwangju']\n",
      "['daegu', 'seoul', 'incheon', 'suwon', 'busan', ['daejun', 'ulsan']]\n",
      "['daegu', 'seoul', 'incheon', 'suwon', 'busan', ['daejun', 'ulsan'], ['jeju', 'kwangju']]\n"
     ]
    }
   ],
   "source": [
    "# 리스트는 데이터 삽입 삭제가 용이\n",
    "print(cities)\n",
    "cities.append('busan')\n",
    "print(cities)\n",
    "cities.insert(0,'daegu')\n",
    "print(cities)\n",
    "other_cities = ['jeju', 'kwangju']\n",
    "print('결합', cities + other_cities) # 리스트 + 연산자\n",
    "cities.append(['daejun', 'ulsan']) # 모양이 유지 됨\n",
    "print(cities)\n",
    "cities.append(['jeju', 'kwangju'])\n",
    "print(cities)"
   ]
  },
  {
   "cell_type": "code",
   "execution_count": 82,
   "metadata": {},
   "outputs": [
    {
     "name": "stdout",
     "output_type": "stream",
     "text": [
      "ulsan\n"
     ]
    }
   ],
   "source": [
    "print(cities[5][1])\n",
    "cities[5][1] = 'jeju'"
   ]
  },
  {
   "cell_type": "code",
   "execution_count": 85,
   "metadata": {},
   "outputs": [
    {
     "name": "stdout",
     "output_type": "stream",
     "text": [
      "['daegu', 'seoul', 'incheon', 'suwon', 'busan', ['daejun', 'jeju'], ['jeju', 'kwangju']]\n"
     ]
    }
   ],
   "source": [
    "print(cities)"
   ]
  },
  {
   "cell_type": "code",
   "execution_count": 86,
   "metadata": {},
   "outputs": [
    {
     "name": "stdout",
     "output_type": "stream",
     "text": [
      "['daegu', 'seoul', 'incheon', 'suwon', 'busan', ['daejun'], ['jeju', 'kwangju']]\n"
     ]
    }
   ],
   "source": [
    "#cities.remove(cities[5][1])\n",
    "del(cities[5][1])\n",
    "print(cities)"
   ]
  },
  {
   "cell_type": "code",
   "execution_count": 87,
   "metadata": {},
   "outputs": [
    {
     "name": "stdout",
     "output_type": "stream",
     "text": [
      "['daegu', 'seoul', 'incheon', 'suwon', 'busan', ['daejun'], ['jeju', 'kwangju']]\n"
     ]
    }
   ],
   "source": [
    "print(cities)"
   ]
  },
  {
   "cell_type": "code",
   "execution_count": 88,
   "metadata": {},
   "outputs": [
    {
     "name": "stdout",
     "output_type": "stream",
     "text": [
      "점수입력 :  15\n",
      "F\n"
     ]
    }
   ],
   "source": [
    "print('점수입력 : ', end = ' ') # 원래는 개행 들어감 그걸 공백으로 변환\n",
    "jumsu = int(input())\n",
    "if jumsu >= 90: print('A')\n",
    "elif jumsu >= 80: print('B')\n",
    "elif jumsu >= 70: print('C')\n",
    "elif jumsu >= 60: print('D')\n",
    "else: print('F')"
   ]
  },
  {
   "cell_type": "code",
   "execution_count": null,
   "metadata": {},
   "outputs": [],
   "source": [
    "# 자료구조를 데이터 타입화(python core에서 사용하는 자료구조)\n",
    "# list\n",
    "# dict\n",
    "# set\n",
    "# tuple : 주로 Function의 parameter나 return 용으로 사용, 속도가 빨라서 시스템에서 주로 쓰임"
   ]
  },
  {
   "cell_type": "code",
   "execution_count": 90,
   "metadata": {},
   "outputs": [
    {
     "name": "stdout",
     "output_type": "stream",
     "text": [
      "RED\n",
      "FLASHING\n",
      "눈오는날\n"
     ]
    }
   ],
   "source": [
    "# 다음 표(color와 mode에 따른 날씨)를 if문을 이용하여 출력하시오\n",
    "# (반응에 따른 날씨 에측 프로그램)\n",
    "#                 BLUE      RED\n",
    "#      STEADY    화창    비오는날\n",
    "#      FLASHING  구름    눈오는날\n",
    "\n",
    "color = input()\n",
    "mode = input()\n",
    "if color == 'BLUE':\n",
    "    if mode == 'STEADY':\n",
    "        print('화창')\n",
    "    elif mode == 'FLASHING':\n",
    "        print('구름')\n",
    "elif color == 'RED':\n",
    "    if mode == 'STEADY':\n",
    "        print('비오는날')\n",
    "    elif mode == 'FLASHING':\n",
    "        print('눈오는날')\n",
    "    \n",
    "    "
   ]
  },
  {
   "cell_type": "code",
   "execution_count": 96,
   "metadata": {},
   "outputs": [
    {
     "name": "stdout",
     "output_type": "stream",
     "text": [
      "1561.1541654\n",
      "1131.4548\n",
      "순수익 :  429.7\n"
     ]
    }
   ],
   "source": [
    "#  수입(revenue)과 지출(costs)을 입력받아 순수입을 출력하는 프로그램을 작성하시오\n",
    "#   - 제약조건 : 소수점 이하 2자리까지 출력\n",
    "#              : 수입과 지출이 동일한 경우를 고려(손익분기점)\n",
    "#              : 결과 출력시 경우에 따라 순수익, 순손실도 같이 출력하도록 하시오\n",
    "\n",
    "revenue = float(input())\n",
    "costs = float(input())\n",
    "\n",
    "income = revenue - costs\n",
    "\n",
    "if income==0:\n",
    "    print(\"손익분기점!\")\n",
    "elif income > 0:\n",
    "    print(\"순수익 : \",round(income,2))\n",
    "else:\n",
    "    print(\"순손실 : \",round(income,2))\n",
    "    \n",
    "# result = \"순수익 = {0:,.2f}.\".format(round(profit,2)) # 포맷 문자열의 예"
   ]
  },
  {
   "cell_type": "code",
   "execution_count": null,
   "metadata": {},
   "outputs": [],
   "source": [
    "# 평균, 분산, 표준편차, 표준오차 : 데이터개수의 root값으로 나누어서\n",
    "    # 분산 : 관측치 - 평균\n",
    "    \n",
    "# for문 :  "
   ]
  },
  {
   "cell_type": "code",
   "execution_count": null,
   "metadata": {},
   "outputs": [],
   "source": []
  },
  {
   "cell_type": "code",
   "execution_count": null,
   "metadata": {},
   "outputs": [],
   "source": []
  },
  {
   "cell_type": "code",
   "execution_count": null,
   "metadata": {},
   "outputs": [],
   "source": []
  },
  {
   "cell_type": "code",
   "execution_count": null,
   "metadata": {},
   "outputs": [],
   "source": []
  },
  {
   "cell_type": "code",
   "execution_count": null,
   "metadata": {},
   "outputs": [],
   "source": []
  },
  {
   "cell_type": "code",
   "execution_count": null,
   "metadata": {},
   "outputs": [],
   "source": []
  },
  {
   "cell_type": "code",
   "execution_count": null,
   "metadata": {},
   "outputs": [],
   "source": []
  }
 ],
 "metadata": {
  "kernelspec": {
   "display_name": "Python 3",
   "language": "python",
   "name": "python3"
  },
  "language_info": {
   "codemirror_mode": {
    "name": "ipython",
    "version": 3
   },
   "file_extension": ".py",
   "mimetype": "text/x-python",
   "name": "python",
   "nbconvert_exporter": "python",
   "pygments_lexer": "ipython3",
   "version": "3.7.4"
  }
 },
 "nbformat": 4,
 "nbformat_minor": 2
}
