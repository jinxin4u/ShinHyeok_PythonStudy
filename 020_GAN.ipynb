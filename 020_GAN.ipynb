{
 "cells": [
  {
   "cell_type": "markdown",
   "metadata": {},
   "source": [
    "# GAN\n",
    "- 이미지에서는 VAE보다 GAN이 대세"
   ]
  },
  {
   "cell_type": "code",
   "execution_count": null,
   "metadata": {},
   "outputs": [],
   "source": [
    "import tensorflow as tf\n",
    "import matplotlibe.pyplot as plt\n",
    "import numpy as np\n",
    "from tensorflow.examples.tutorials.mnist import input_data\n",
    "mnist = input_data.read_data_sets(\"./mnist/data/\", one_hot=True)"
   ]
  },
  {
   "cell_type": "code",
   "execution_count": null,
   "metadata": {},
   "outputs": [],
   "source": [
    "total_epoch = 100\n",
    "batch_size = 100\n",
    "learning_rate = 0.0002\n",
    "n_hidden = 256\n",
    "n_input = 28*28\n",
    "n_noise = 128\n",
    "X = tf.placeholder(tf.float32, [None, n_input])\n",
    "Z = tf.placeholder(tf.float32, [None, n_noise])"
   ]
  },
  {
   "cell_type": "code",
   "execution_count": null,
   "metadata": {},
   "outputs": [],
   "source": [
    "# 128 x 256\n",
    "G_W1 = tf.Variable(tf.random_normal([n_noise, n_hidden], stddev=0.01))\n",
    "G_b1 = tf.Variable(tf.zeros([n_hidden]))\n",
    "# 128 x 784\n",
    "G_W2 = tf.Variable(tf.random_normal([n_hidden, n_input], stddev=0.01))\n",
    "G_b2 = tf.Variable(tf.zeros([n_input]))\n",
    "\n",
    "D_W1 = tf.Variable(tf.random_normal([n_input, n_hidden], stddev=0.01))\n",
    "D_b1 = tf.Variable(tf.zeros([n_hidden]))\n",
    "\n",
    "D_W2 = tf.Variable(tf.random_normal([n_hidden, 1], stddev=0.01))\n",
    "D_b2 = tf.Variable(tf.zeros([1]))"
   ]
  },
  {
   "cell_type": "code",
   "execution_count": null,
   "metadata": {},
   "outputs": [],
   "source": [
    "# GAN에는 생성기와 판별기가 있다\n",
    "# cost function : 확률점 함수를 사용\n",
    "# Kulback-libler??   KL-Divergence 함수를 사용  -> GAN, VAE에서 사용\n",
    "#       -> 분포의 차를 확인하는 함수\n",
    "#       -> 생성기 : nosie가 input data [cost function : KL-Divergence]\n",
    "#       -> \n",
    "\n",
    "# 그동안은 MSE(예측), Enthropy(분류) 사용했었다.\n",
    "\n",
    "def generator(noise_z): # 128 x 128\n",
    "    hidden = tf.nn.relu(tf.matmul(noise_z, G_W1) + G_b1) # 128x256\n",
    "    output = tf.nn.sigmoid(tf.matmul(hidden, G_W2) + G_b2) # 128x784   784 이미지 생성\n",
    "    return output \n",
    "\n",
    "def discriminator(inputs):# 실제이미지의 분포를 확인\n",
    "    hidden = tf.nn.relu(tf.matmul(inputs, D_W1) + D_b1)\n",
    "    output = tf.nn.sigmoid(tf.matmul(hidden, D_W2) + D_b2)\n",
    "    return output\n",
    "\n",
    "def get_noise(batch_size, n_noise):\n",
    "    return np.random.normal(size=(batch_size, n_noise)"
   ]
  },
  {
   "cell_type": "code",
   "execution_count": null,
   "metadata": {},
   "outputs": [],
   "source": [
    "G = generator(Z) # 노이즈 => 이미지 생성\n",
    "D_gene = discriminator(G) # 생성되어진 이미지 판별함[분포를 확인함]\n",
    "D_real = discriminator(X) # 실제이미지의 분포를 확인\n",
    "\n",
    "# log 함수 붙은 이유? 확률값에 로그 취하는 이유는? 정보량을 구하는 것\n",
    "# 확률이 높아지면 정보량이 작아지고,\n",
    "# 확률이 낮아지면 정보량이 커짐\\\n",
    "# 마치 tf idf의 논리와 같.\n",
    "# 가장 적합한 분포를 찾아가는 것이니 높은 것이 유리하다.\n",
    "loss_D = tf.reduce_mean(tf.log(D_real) + tf.log(1-D_gene))\n",
    "loss_G = tf.reduce_mean(tf.log(D_gene)# 최대우도 추정법 : 적합한 분포가 (확률이 높은) 될 수 있도록\n",
    "D_var_list = [D_W1, D_b1, D_W2, D_b2]\n",
    "G_var_list = [G_W1, G_b1, G_W2, G_b2]\n",
    "                        \n",
    "# 최대화하기 위해 -를 줌\n",
    "train_D = tf.train.AdamOptimizer(learning_rate).minimize( -loss_D, var_list=D_var_list) # 역전파 변수를 지정\n",
    "train_G = tf.train.AdamOptimizer(learning_rate).minimize( -loss_G, var_list=G_var_list)"
   ]
  },
  {
   "cell_type": "code",
   "execution_count": null,
   "metadata": {},
   "outputs": [],
   "source": [
    "%matplotlib inline\n",
    "sess = tf.Session()\n",
    "sess.run(tf.global_variables_initializer())\n",
    "total_batch = int(mnist.train.num_examples/batch_size)\n",
    "loss_val_D, loss_val_G = 0, 0"
   ]
  },
  {
   "cell_type": "code",
   "execution_count": null,
   "metadata": {},
   "outputs": [],
   "source": [
    "# 이미지 분포의 특징을 추출하는 망\n",
    "for epoch in range(total_epoch):\n",
    "    \n",
    "    for i in range(total_batch):\n",
    "        batch_xs, batch_ys = mnist.train.next_batch(batch_size)\n",
    "        noise = get_noise(batch_size, n_noise)    \n",
    "        # 실제 이미지 분포\n",
    "        _, loss_val_D = sess.run([train_D, loss_D], feed_dict = {X: batch_xs, Z : noise})     \n",
    "        # 생성된 이미지 분포\n",
    "        _, loss_val_G = sess.run([train_G, loss_G], feed_dict ={Z:noise})\n",
    "        \n",
    "    print('Epoch :', '%04d' %epoch,\n",
    "         'D loss :', '{:.4}'.format(loss_val_D),\n",
    "         'G loss :', '{:.4}'.format(loss_val_G))    \n",
    "    \n",
    "    if epoch==0 or (epoch + 1) % 10 == 0:\n",
    "        sample_size = 10\n",
    "\n",
    "        # 노이즈로부터 이미지를 생성 'generator'\n",
    "        noise = get_noise(sample_size, n_noise) # 10x128\n",
    "        samples = sess.run(G, feed_dict = {Z:noise})\n",
    "        fig, ax = plt.subplots(1, sample_size, figsize=(sample_size, 1)) \n",
    "        \n",
    "        for i in range(sample_size) :\n",
    "            ax[i].set_axis_off()\n",
    "            ax[i].imshow(np.reshape(samples[i], (28,28)))\n",
    "            \n",
    "        plt.savefig('samples/{}.png'.format(str(epoch).zfill(3)), bbox_inches='tight')\n",
    "        plt.close(fig)\n",
    "print(\"최적화완료\")"
   ]
  },
  {
   "cell_type": "code",
   "execution_count": null,
   "metadata": {},
   "outputs": [],
   "source": []
  },
  {
   "cell_type": "code",
   "execution_count": null,
   "metadata": {},
   "outputs": [],
   "source": []
  },
  {
   "cell_type": "code",
   "execution_count": null,
   "metadata": {},
   "outputs": [],
   "source": []
  },
  {
   "cell_type": "code",
   "execution_count": null,
   "metadata": {},
   "outputs": [],
   "source": []
  },
  {
   "cell_type": "code",
   "execution_count": null,
   "metadata": {},
   "outputs": [],
   "source": []
  },
  {
   "cell_type": "code",
   "execution_count": null,
   "metadata": {},
   "outputs": [],
   "source": []
  },
  {
   "cell_type": "code",
   "execution_count": null,
   "metadata": {},
   "outputs": [],
   "source": []
  },
  {
   "cell_type": "code",
   "execution_count": null,
   "metadata": {},
   "outputs": [],
   "source": []
  },
  {
   "cell_type": "code",
   "execution_count": null,
   "metadata": {},
   "outputs": [],
   "source": []
  },
  {
   "cell_type": "code",
   "execution_count": null,
   "metadata": {},
   "outputs": [],
   "source": []
  },
  {
   "cell_type": "code",
   "execution_count": null,
   "metadata": {},
   "outputs": [],
   "source": []
  },
  {
   "cell_type": "code",
   "execution_count": null,
   "metadata": {},
   "outputs": [],
   "source": []
  },
  {
   "cell_type": "code",
   "execution_count": null,
   "metadata": {},
   "outputs": [],
   "source": []
  },
  {
   "cell_type": "code",
   "execution_count": null,
   "metadata": {},
   "outputs": [],
   "source": []
  },
  {
   "cell_type": "code",
   "execution_count": null,
   "metadata": {},
   "outputs": [],
   "source": []
  },
  {
   "cell_type": "code",
   "execution_count": null,
   "metadata": {},
   "outputs": [],
   "source": []
  }
 ],
 "metadata": {
  "kernelspec": {
   "display_name": "Python 3",
   "language": "python",
   "name": "python3"
  },
  "language_info": {
   "codemirror_mode": {
    "name": "ipython",
    "version": 3
   },
   "file_extension": ".py",
   "mimetype": "text/x-python",
   "name": "python",
   "nbconvert_exporter": "python",
   "pygments_lexer": "ipython3",
   "version": "3.5.6"
  },
  "toc": {
   "base_numbering": 1,
   "nav_menu": {},
   "number_sections": true,
   "sideBar": true,
   "skip_h1_title": false,
   "title_cell": "Table of Contents",
   "title_sidebar": "Contents",
   "toc_cell": false,
   "toc_position": {},
   "toc_section_display": true,
   "toc_window_display": false
  }
 },
 "nbformat": 4,
 "nbformat_minor": 4
}
