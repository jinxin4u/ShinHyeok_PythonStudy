{
 "cells": [
  {
   "cell_type": "code",
   "execution_count": 11,
   "metadata": {},
   "outputs": [
    {
     "name": "stdout",
     "output_type": "stream",
     "text": [
      "t\n"
     ]
    },
    {
     "data": {
      "text/plain": [
       "<method-wrapper '__repr__' of A object at 0x000001DCDC49CD08>"
      ]
     },
     "execution_count": 11,
     "metadata": {},
     "output_type": "execute_result"
    }
   ],
   "source": [
    "# 파이썬에서의 private 선언 방법 -> 변수 앞에 '__' 붙여라\n",
    "# default은 public\n",
    "\n",
    "# 객체지향성격 개념\n",
    "# 캡슐화 : public or private\n",
    "# 추상화 : 메소드에 의한 접근, 데이터 토스\n",
    "# 상속성 : 말그대로 상속 / 공통부분은 상속받아 재정의\n",
    "# 다형성 : Overloading -> 파이썬에서는 기본적인 오버로딩은 없고 연산자 오버로딩의 경우는 오버라이딩으로 해결\n",
    "#            \n",
    "\n",
    "class A:\n",
    "    def func1(self):\n",
    "        return print('t')\n",
    "    \n",
    "a = A()\n",
    "a.func1()\n",
    "dir(a)"
   ]
  }
 ],
 "metadata": {
  "kernelspec": {
   "display_name": "Python 3",
   "language": "python",
   "name": "python3"
  },
  "language_info": {
   "codemirror_mode": {
    "name": "ipython",
    "version": 3
   },
   "file_extension": ".py",
   "mimetype": "text/x-python",
   "name": "python",
   "nbconvert_exporter": "python",
   "pygments_lexer": "ipython3",
   "version": "3.7.4"
  }
 },
 "nbformat": 4,
 "nbformat_minor": 2
}
