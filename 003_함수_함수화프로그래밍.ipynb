{
 "cells": [
  {
   "cell_type": "code",
   "execution_count": null,
   "metadata": {},
   "outputs": [],
   "source": [
    "# 함수 (function) - 함수 이름은 중복이 되면 안된다( Overloading은 default parameter로 해결)\n",
    "\n",
    "# Required arguments : parameter를 순차적으로 입력\n",
    "# Keyword arguments : Key parametyer는 순서 변경이 가능\n",
    "# Default arguments : Overloading 해결\n",
    "# Variable-length arguments : 변동매개변수; * -> list, ** -> dict\n"
   ]
  },
  {
   "cell_type": "code",
   "execution_count": null,
   "metadata": {},
   "outputs": [],
   "source": [
    "'''a = 10\n",
    "b = 20\n",
    "result = a + b\n",
    "print(result)\n",
    "\n",
    "c = 30\n",
    "d = 40\n",
    "result = c + d\n",
    "print(result)'''\n",
    "\n",
    "# 사용자 정의 함수 : call by reference\n",
    "def addvalue(a,b):\n",
    "    return a + b\n",
    "\n",
    "print(addvalue(10,20))\n",
    "print(addvalue(30,40))"
   ]
  },
  {
   "cell_type": "code",
   "execution_count": null,
   "metadata": {},
   "outputs": [],
   "source": [
    "# 회귀분석\n",
    "y = ax+b\n",
    "# a : 기울기 계수\n",
    "# b : bias; 절편;"
   ]
  },
  {
   "cell_type": "code",
   "execution_count": null,
   "metadata": {},
   "outputs": [],
   "source": [
    "def reg(a,b,x):\n",
    "    return a * x + b\n",
    "\n",
    "print(reg(10,30,100))\n",
    "\n",
    "def reg(x):\n",
    "    a = 2\n",
    "    b = 3\n",
    "    return a * x + b\n",
    "\n",
    "print(reg(100))\n",
    "# reg(10,30,100)"
   ]
  },
  {
   "cell_type": "code",
   "execution_count": null,
   "metadata": {},
   "outputs": [],
   "source": [
    "# 두 수를 더한 값이 10보다 큰지 확인하시오\n",
    "a = 10\n",
    "b = 20\n",
    "result = a + b\n",
    "\n",
    "if result >= 10:\n",
    "    result = \"10보다 크다\"\n",
    "else:\n",
    "    result = \"10보다 작다\"\n",
    "\n",
    "print(result)"
   ]
  },
  {
   "cell_type": "code",
   "execution_count": null,
   "metadata": {},
   "outputs": [],
   "source": [
    "def sum_1(a,b):\n",
    "    result = a + b\n",
    "    \n",
    "    if result >= 10:\n",
    "        result = \"10보다 크다\"\n",
    "    else:\n",
    "        result = \"10보다 작다\"\n",
    "    return result\n",
    "\n",
    "print(sum_1(10,20))"
   ]
  },
  {
   "cell_type": "code",
   "execution_count": null,
   "metadata": {},
   "outputs": [],
   "source": [
    "a = 10\n",
    "b = 20\n",
    "\n",
    "def tran(x,y):\n",
    "    return y,x\n",
    "\n",
    "a,b = tran(10,20)\n",
    "print(a, b)\n",
    "\n",
    "a = tran(x,y) # 함수가 리턴하는 값은 튜플\n",
    "print(a)\n",
    "type(a)"
   ]
  },
  {
   "cell_type": "code",
   "execution_count": null,
   "metadata": {},
   "outputs": [],
   "source": [
    "# 두 수를 입력받아 +, -, * 하는 함수를 각각 작성\n",
    "# 함수명은 add, subtract, multipy\n",
    "\n",
    "num1 = 10\n",
    "num2 = 20\n",
    "\n",
    "def add(x,y):\n",
    "    return x+y\n",
    "\n",
    "def subtract(x,y):\n",
    "    return x-y\n",
    "\n",
    "def multiply(x,y):\n",
    "    return x*y\n",
    "\n",
    "print( add(num1, num2), subtract(num1, num2), multiply(num1, num2) )"
   ]
  },
  {
   "cell_type": "code",
   "execution_count": null,
   "metadata": {},
   "outputs": [],
   "source": [
    "# 함수는 일급함수\n",
    "#       -> 함수가 매개변수로 전달가능, 리턴값으로 가능(javascript서도 가능)\n",
    "\n",
    "def changefun(g,a,b):\n",
    "    return g(a,b)\n",
    "\n",
    "print(changefun(add,10,20)) # 앞전의 활용 예 sort(key 함수 전달)\n",
    "print(changefun(subtract,10,20))\n",
    "print(changefun(multiply,10,20))"
   ]
  },
  {
   "cell_type": "code",
   "execution_count": null,
   "metadata": {},
   "outputs": [],
   "source": [
    "def changeme(mylist): #mylist = mylist의 주소\n",
    "    mylist.append([1,2,3,4])\n",
    "#    mylist = [1,2,3,4] # 넘어온 주소에 덮어쓰기가 되어버리면 call by value\n",
    "    print(\"함수 내부에서 출력 : \",mylist)\n",
    "\n",
    "mylist = [10,20,30]\n",
    "    # heap에 저장, 이유 : 주소값이 넘어갔기 때문 call by reference\n",
    "changeme(mylist)\n",
    "print(\"함수 외부에서 출력 : \",mylist)"
   ]
  },
  {
   "cell_type": "code",
   "execution_count": null,
   "metadata": {},
   "outputs": [],
   "source": [
    "# 실행이 안되는 이유 : data type을 구분해야 하는것은 프로그래머의 책임\n",
    "#                      Set은 append Method가 없다\n",
    "mylist = {10,20,30}\n",
    "changeme(mylist)\n",
    "print(\"함수 외부에서 출력 : \",mylist)"
   ]
  },
  {
   "cell_type": "code",
   "execution_count": null,
   "metadata": {},
   "outputs": [],
   "source": [
    "# 변동 매개변수\n",
    "\n",
    "def func1(*args): # list\n",
    "    for i in args:\n",
    "        print(i, end=\",\")\n",
    "    print()\n",
    "    \n",
    "print('시작')\n",
    "func1(1,2,3)\n",
    "func1(1,2,3,4,5)"
   ]
  },
  {
   "cell_type": "code",
   "execution_count": null,
   "metadata": {},
   "outputs": [],
   "source": [
    "def say_hello_then_call(f, *args, **kwargs):\n",
    "    print('args is ', args)\n",
    "    print('kwargs is ', kwargs)\n",
    "    print(\"Hello Now I'm going to call %s\" %f) # 함수 위치한 주소값 출력\n",
    "    return f(*args, **kwargs)\n",
    "\n",
    "def g(x,y,z=1):\n",
    "    print(x)\n",
    "    print(y)\n",
    "    print(z)\n",
    "    return (x+y)/z\n",
    "\n",
    "say_hello_then_call(g,1,2,z=5.)"
   ]
  },
  {
   "cell_type": "code",
   "execution_count": null,
   "metadata": {},
   "outputs": [],
   "source": [
    "def func_test2(a,b=0):\n",
    "    print(a,b)\n",
    "\n",
    "func_test2(1)         # a=1, b=0\n",
    "func_test2(1,2)       # a=1, b=2\n",
    "func_test2(b=2, a=1)  # a=1, b=2  key parameter"
   ]
  },
  {
   "cell_type": "code",
   "execution_count": null,
   "metadata": {},
   "outputs": [],
   "source": [
    "def func_test4(): # None 객체\n",
    "    pass # 몸통을 미지정??"
   ]
  },
  {
   "cell_type": "code",
   "execution_count": null,
   "metadata": {},
   "outputs": [],
   "source": [
    "# == 는 숫자나 문자의 논리비교\n",
    "# is 는 객체 논리 비교\n",
    "\n",
    "result = func_test4()\n",
    "result is None"
   ]
  },
  {
   "cell_type": "code",
   "execution_count": null,
   "metadata": {},
   "outputs": [],
   "source": [
    "result.__class__ # 멤버변수\n",
    "# 참고 : __?__는 시스템에서 만들어 놓은 변수"
   ]
  },
  {
   "cell_type": "code",
   "execution_count": null,
   "metadata": {},
   "outputs": [],
   "source": [
    "func_test4.__class__"
   ]
  },
  {
   "cell_type": "code",
   "execution_count": null,
   "metadata": {},
   "outputs": [],
   "source": [
    "def func_test3(a,b):\n",
    "    return a+b, a-b, a*b\n",
    "\n",
    "a,b,c = func_test3(10,5)\n",
    "\n",
    "print(a,b,c)\n",
    "print(type(func_test3)) # 함수도 객체다"
   ]
  },
  {
   "cell_type": "code",
   "execution_count": null,
   "metadata": {},
   "outputs": [],
   "source": [
    "# https://www.w3schools.com/python/ref_list_sort.asp"
   ]
  },
  {
   "cell_type": "code",
   "execution_count": null,
   "metadata": {},
   "outputs": [],
   "source": [
    "# 커링\n",
    "\n",
    "def all_number(x,y):\n",
    "    return x+y\n",
    "\n",
    "add_five = lambda y : all_number(5,y) # 람다함수에서도 다른 함수 호출 가능\n",
    "\n",
    "print(add_five(10))\n"
   ]
  },
  {
   "cell_type": "code",
   "execution_count": null,
   "metadata": {},
   "outputs": [],
   "source": [
    "# 문제 : 두 점 사이의 거리값을 구하는 함수를 작성하시오\n",
    "import math\n",
    "# math.sqrt()\n",
    "\n",
    "def solution(x1,y1,x2,y2):\n",
    "    '''두 점 사이의 거리를 구하는 함수'''\n",
    "    return math.sqrt( (x2-x1)**2 + (y2-y1)**2 )\n",
    "\n",
    "x1 = int(input())\n",
    "y1 = int(input())\n",
    "x2 = int(input())\n",
    "y2 = int(input())\n",
    "\n",
    "sol = solution(x1,y1,x2,y2)\n",
    "\n",
    "print(sol)\n",
    "\n",
    "?solution"
   ]
  },
  {
   "cell_type": "code",
   "execution_count": null,
   "metadata": {},
   "outputs": [],
   "source": [
    "# 수학에서 factorial 5! = 5*4*3*2*1\n",
    "\n",
    "def factorial(n):\n",
    "    sum = 1# 항등원 : 덧셈의 항등원 : 0, 곱셈 : 항등원1, 행렬의 항등원 : 단위행렬\n",
    "    for i in range(n,1,-1):\n",
    "        sum *= i\n",
    "    return sum\n",
    "\n",
    "factorial(5)"
   ]
  },
  {
   "cell_type": "code",
   "execution_count": null,
   "metadata": {},
   "outputs": [],
   "source": [
    "# 재귀함수 : 함수가 자기 자신 함수를 호출\n",
    "\n",
    "def factorial(n, stop=1):\n",
    "    if n <= 0 or n <= stop:\n",
    "        return 1\n",
    "    return n*factorial(n-1,stop)\n",
    "\n",
    "factorial(5)"
   ]
  },
  {
   "cell_type": "code",
   "execution_count": null,
   "metadata": {},
   "outputs": [],
   "source": [
    "# power 함수를 구현하시오 예) 2^10 # pow(2,10)\n",
    "\n",
    "def power(r,n):\n",
    "    value = 1\n",
    "    for i in range(1, n+1):\n",
    "        value = r * value\n",
    "    return value\n",
    "\n",
    "print(power(2,3))"
   ]
  },
  {
   "cell_type": "code",
   "execution_count": null,
   "metadata": {},
   "outputs": [],
   "source": [
    "\n",
    "def pow_(r,n):\n",
    "    if n == 1:\n",
    "        return r\n",
    "    return r * pow_( r, n-1 )\n",
    "\n",
    "print(pow_(2,3))"
   ]
  },
  {
   "cell_type": "code",
   "execution_count": null,
   "metadata": {},
   "outputs": [],
   "source": [
    "# 내부함수\n",
    "\n",
    "def outer():\n",
    "    def inner():\n",
    "        print('inner')\n",
    "    inner()\n",
    "\n",
    "def inner():\n",
    "    print('global inner')\n",
    "    \n",
    "outer()"
   ]
  },
  {
   "cell_type": "code",
   "execution_count": null,
   "metadata": {},
   "outputs": [],
   "source": [
    "# Generator\n",
    "# in 뒤에오는 건 : Collections(list, tuple, dict, set), iterator(range), generator, eneumerate\n",
    "\n",
    "import random\n",
    "\n",
    "def gaus_dist(n):\n",
    "    while n > 0:\n",
    "        yield random.random() # yield 비동기 호출 함수 / 여기서 멈춰있다가 함수 호출시 동작됨.\n",
    "        n-=1\n",
    "        \n",
    "gd = gaus_dist(5)\n",
    "\n",
    "for i in gd:\n",
    "    print(i)\n",
    "    \n",
    "gd"
   ]
  },
  {
   "cell_type": "code",
   "execution_count": null,
   "metadata": {},
   "outputs": [],
   "source": [
    "# 함수가 값을 저장할 수 있는가? 원래 c같은 곳에선 불가능하나 클로저를 쓰면 가능하다\n",
    "# clouser (JS에서 사용하던 방식) : 값을 저장하는 방법\n",
    "\n",
    "def cookbook(name):\n",
    "    def recipe(no):\n",
    "        print(\"%s's recipe no.%d\"%(name,no))\n",
    "    return recipe\n",
    "\n",
    "python_recipe = cookbook('python')\n",
    "perl_recipe = cookbook('perl')\n",
    "\n",
    "python_recipe(1)\n",
    "python_recipe(2)\n",
    "\n",
    "id(python_recipe), id(perl_recipe)"
   ]
  },
  {
   "cell_type": "code",
   "execution_count": null,
   "metadata": {},
   "outputs": [],
   "source": [
    "# Clouser 클로저의 응용(장식자 : decorator)\n",
    "\n",
    "def format_and_pad(template, space):\n",
    "    def formatter(x):\n",
    "        return (template % x).rjust(space)\n",
    "    return formatter\n",
    "\n",
    "fmt = format_and_pad('%.4f',15)\n",
    "print(fmt(1.756))\n",
    "\n",
    "fmt2 = format_and_pad('%d',15)\n",
    "print(fmt2(1.756))"
   ]
  },
  {
   "cell_type": "code",
   "execution_count": null,
   "metadata": {},
   "outputs": [],
   "source": [
    "# 데이터를 입력받아\n",
    "# 삼각형의 넓이(밑변, 높이)\n",
    "# 사각형의 넓이(밑변, 높이)\n",
    "# 원의 넓이를 계산하는 함수를 작성해보시오\n",
    "import math\n",
    "\n",
    "def tri(x,y):\n",
    "    return (x*y)/2\n",
    "def sqr(x,y):\n",
    "    return x*y\n",
    "def cir(r):\n",
    "    return math.pi*(r**2)\n",
    "\n",
    "while 1:\n",
    "    command = input(\"넓이 구할 도형 선택 - 삼각형 : t / 사각형 : s / 원 : c / 종료 : q\\n\")\n",
    "    if command == 't':\n",
    "        x = int(input(\"x:\"))\n",
    "        y = int(input(\"y:\"))\n",
    "        print(tri(x,y))\n",
    "    elif command == 's':\n",
    "        x = int(input(\"x:\"))\n",
    "        y = int(input(\"y:\"))\n",
    "        print(sqr(x,y))\n",
    "    elif command == 'c':\n",
    "        r= int(input(\"r:\"))\n",
    "        print(cir(r))\n",
    "    elif command == 'q':\n",
    "        break;\n",
    "    else: print(\"잘못된 명령입니다 다시 입력하세요\")"
   ]
  },
  {
   "cell_type": "code",
   "execution_count": 4,
   "metadata": {},
   "outputs": [
    {
     "name": "stdout",
     "output_type": "stream",
     "text": [
      "밑변이나 반지름으로 사용할 값을 입력하시오123\n",
      "삼각형이나 사각형의 높이를 입력하시오421\n",
      "삼각형의 넓이는  25891.5\n",
      "사각형의 넓이는  51783\n",
      "원의 넓이는  47529.15525615998\n"
     ]
    }
   ],
   "source": [
    "import math\n",
    "\n",
    "def calc_tri(mylist):\n",
    "    return mylist[0] * mylist[1] / 2\n",
    "def calc_sqr(mylist):\n",
    "    return mylist[0] * mylist[1]\n",
    "def calc_cir(mylist):\n",
    "    return math.pi* (mylist[0]**2)\n",
    "\n",
    "mylist = []\n",
    "width = eval(input(\"밑변이나 반지름으로 사용할 값을 입력하시오\"))\n",
    "height = eval(input(\"삼각형이나 사각형의 높이를 입력하시오\"))\n",
    "\n",
    "mylist.append(width)\n",
    "mylist.append(height)\n",
    "\n",
    "print(\"삼각형의 넓이는 \", calc_tri(mylist))\n",
    "print(\"사각형의 넓이는 \", calc_sqr(mylist))\n",
    "print(\"원의 넓이는 \", calc_cir(mylist))"
   ]
  },
  {
   "cell_type": "code",
   "execution_count": 9,
   "metadata": {},
   "outputs": [
    {
     "name": "stdout",
     "output_type": "stream",
     "text": [
      "일한 시간 입력하십쇼41\n",
      "시급 얼마인지 입력하십쇼8350\n",
      "346525.0\n"
     ]
    }
   ],
   "source": [
    "# 문제 : 시간과 시간당 급여를 입력받아 주급을 계산하는 프로그램 작성\n",
    "# - 조건 : 40시간이 넘으면 1.5배 지급\n",
    "# - 매개변수( 시간, 시간당 급여 )\n",
    "\n",
    "def pay_for(times, pay):\n",
    "    if times > 40:\n",
    "        return pay*40 + pay*1.5*(times-40)\n",
    "    else:\n",
    "        return pay * times\n",
    "        \n",
    "\n",
    "times = int(input(\"일한 시간 입력하십쇼\"))\n",
    "pay = int(input(\"시급 얼마인지 입력하십쇼\"))\n",
    "\n",
    "print(pay_for(times, pay))\n",
    "\n",
    "\n",
    "\n",
    "'''basictime = 40\n",
    "\n",
    "def pay(wage, hours):\n",
    "    if hours <= basictime:\n",
    "        amount = wage * hours\n",
    "    else:\n",
    "        amount = (wage * basictime) + ((1.5) * wage * (hours - basictime))\n",
    "    return amount\n",
    "\n",
    "hourlyWage = eval(input(\"시간당급여는 : \"))\n",
    "hoursWorked = eval(input(\"주간 총 근무시간 : \"))\n",
    "earnings = pay(horlyWage, hoursWorked)\n",
    "\n",
    "print(\"주간 수입은 : {0:,.2f} 원\".format(earnings))'''"
   ]
  },
  {
   "cell_type": "code",
   "execution_count": 20,
   "metadata": {},
   "outputs": [
    {
     "name": "stdout",
     "output_type": "stream",
     "text": [
      "원가 : 100\n",
      "거치년수 : 2\n",
      "총액 :  108.16000000000001 원\n",
      "이자수익 :  8.16000000000001 원\n"
     ]
    }
   ],
   "source": [
    "# 이자율이 주어졌을 때 기간을 거친 후의 총액과 이자 수익을 출력하시오\n",
    "# 복리계산 = 원가 * (1 + 이율) ^ 거치년수\n",
    "# 이율 : 0.04\n",
    "# 매개변수 : 원금, 거치기간\n",
    "# 조건 추가 : 입력 함수, 계산함수, 출력함수로 분리해서 작성하시오\n",
    "\n",
    "INTERST_RATE = 0.04\n",
    "\n",
    "def set_money():\n",
    "    costs = int(input(\"원가 : \"))\n",
    "    years = int(input(\"거치년수 : \"))\n",
    "    return (costs, years)\n",
    "\n",
    "def calc_money(costs, years):\n",
    "    income = costs * (1+INTERST_RATE) ** years\n",
    "    interest = income - costs\n",
    "    return ( income, interest )\n",
    "\n",
    "def get_money(income, interest):\n",
    "    print(\"총액 : \",income,\"원\")\n",
    "    print(\"이자수익 : \", interest,\"원\")\n",
    "    \n",
    "set_param = set_money()\n",
    "calced = calc_money(*set_param)\n",
    "get_money(*calced)"
   ]
  },
  {
   "cell_type": "code",
   "execution_count": 22,
   "metadata": {},
   "outputs": [
    {
     "data": {
      "text/plain": [
       "100"
      ]
     },
     "execution_count": 22,
     "metadata": {},
     "output_type": "execute_result"
    }
   ],
   "source": [
    "# 함수화 프로그래밍 [for + function] 을 적용\n",
    "\n",
    "# lambda 함수를 이용한 처리가 많음\n",
    "\n",
    "(lambda x: x*x)(10)"
   ]
  },
  {
   "cell_type": "code",
   "execution_count": 23,
   "metadata": {},
   "outputs": [
    {
     "name": "stdout",
     "output_type": "stream",
     "text": [
      "11\n"
     ]
    },
    {
     "data": {
      "text/plain": [
       "15"
      ]
     },
     "execution_count": 23,
     "metadata": {},
     "output_type": "execute_result"
    }
   ],
   "source": [
    "incr = lambda x, incr = 1 : x + incr\n",
    "\n",
    "print(incr(10))\n",
    "incr(10,5)"
   ]
  },
  {
   "cell_type": "code",
   "execution_count": 31,
   "metadata": {},
   "outputs": [
    {
     "name": "stdout",
     "output_type": "stream",
     "text": [
      "['aaaa', 'foo', 'abab', 'bar', 'card']\n"
     ]
    }
   ],
   "source": [
    "# 개수에 따른 정렬\n",
    "strings = ['foo', 'card', 'bar', 'aaaa', 'abab']\n",
    "# 정렬기준을 key에 함수로 전달\n",
    "strings.sort(key = lambda x : len(set(list(x)))) # 중복되지않는 데이터 갯수에 따라 정렬\n",
    "print(strings)"
   ]
  },
  {
   "cell_type": "code",
   "execution_count": 35,
   "metadata": {},
   "outputs": [
    {
     "name": "stdout",
     "output_type": "stream",
     "text": [
      "<map object at 0x000001CD9B392508>\n",
      "[9, 16]\n"
     ]
    }
   ],
   "source": [
    "# map 함수 \n",
    "# 맵 함수는 디폴트가 없\n",
    "m = map(lambda x : x*x, [3,4]) # map함수는 맵포맷으로 출력되므로 내용보려면 type casting 해줘야\n",
    "print(m)\n",
    "print(list(m))"
   ]
  },
  {
   "cell_type": "code",
   "execution_count": 36,
   "metadata": {},
   "outputs": [
    {
     "data": {
      "text/plain": [
       "[0, 1, 4, 9, 16]"
      ]
     },
     "execution_count": 36,
     "metadata": {},
     "output_type": "execute_result"
    }
   ],
   "source": [
    "list(map(lambda x : x*x, range(5)))"
   ]
  },
  {
   "cell_type": "code",
   "execution_count": 38,
   "metadata": {},
   "outputs": [
    {
     "data": {
      "text/plain": [
       "[0, 1, 4, 9, 16]"
      ]
     },
     "execution_count": 38,
     "metadata": {},
     "output_type": "execute_result"
    }
   ],
   "source": [
    "sqr = lambda x :x*x\n",
    "list(map(sqr, range(5)))"
   ]
  },
  {
   "cell_type": "code",
   "execution_count": 39,
   "metadata": {},
   "outputs": [
    {
     "data": {
      "text/plain": [
       "[0, 1, 4, 9, 16]"
      ]
     },
     "execution_count": 39,
     "metadata": {},
     "output_type": "execute_result"
    }
   ],
   "source": [
    "def sqr2(x):\n",
    "    return x*x\n",
    "list(map(sqr2, range(5)))"
   ]
  },
  {
   "cell_type": "code",
   "execution_count": 41,
   "metadata": {},
   "outputs": [
    {
     "data": {
      "text/plain": [
       "[1210000, 1135000, 910000, 1360000, 2260000, 3010000]"
      ]
     },
     "execution_count": 41,
     "metadata": {},
     "output_type": "execute_result"
    }
   ],
   "source": [
    "# 문제 : 다음 출근 시간 데이터에 대하여 기본금 10000원 시간당 7500원의 급여를 계산하고자한다\n",
    "# lambda 함수와 map함수를 이용하여 구하시오\n",
    "\n",
    "tot_time = [160,150,120,180,300,400]\n",
    "\n",
    "list(map(lambda x : 10000+7500*x, tot_time))"
   ]
  },
  {
   "cell_type": "code",
   "execution_count": 43,
   "metadata": {},
   "outputs": [
    {
     "data": {
      "text/plain": [
       "[1, 3, 5, 7, 9]"
      ]
     },
     "execution_count": 43,
     "metadata": {},
     "output_type": "execute_result"
    }
   ],
   "source": [
    "def odd(p):\n",
    "    return [i for i in p if i%2]\n",
    "odd(range(10))"
   ]
  },
  {
   "cell_type": "code",
   "execution_count": 52,
   "metadata": {},
   "outputs": [
    {
     "name": "stdout",
     "output_type": "stream",
     "text": [
      "[1, 3, 5, 7, 9, 11, 13, 15, 17, 19, 21, 23, 25, 27, 29, 31, 33, 35, 37, 39, 41, 43, 45, 47, 49, 51, 53, 55, 57, 59, 61, 63, 65, 67, 69, 71, 73, 75, 77, 79, 81, 83, 85, 87, 89, 91, 93, 95, 97, 99] "
     ]
    }
   ],
   "source": [
    "# 필터의 함수는 True / False 를 리턴하는 함수여야 함\n",
    "def odd(k):\n",
    "    return k%2\n",
    "\n",
    "print(list(filter(odd, range(100))), end=\" \")"
   ]
  },
  {
   "cell_type": "code",
   "execution_count": 57,
   "metadata": {},
   "outputs": [
    {
     "name": "stdout",
     "output_type": "stream",
     "text": [
      "[3, 6, 9, 12, 15, 18, 21, 24, 27, 30, 33, 36, 39, 42, 45, 48, 51, 54, 57, 60, 63, 66, 69, 72, 75, 78, 81, 84, 87, 90, 93, 96, 99] "
     ]
    }
   ],
   "source": [
    "# 문제 : 1~99 사이의 데이터 중 3으로 나누어 떨어지는 데이터\n",
    "\n",
    "def triple(x):\n",
    "    return x%3 == 0\n",
    "\n",
    "print( list(filter(triple ,range(1,100))), end=\" \")"
   ]
  },
  {
   "cell_type": "code",
   "execution_count": 55,
   "metadata": {},
   "outputs": [
    {
     "data": {
      "text/plain": [
       "55"
      ]
     },
     "execution_count": 55,
     "metadata": {},
     "output_type": "execute_result"
    }
   ],
   "source": [
    "# reduce : 분산처리 값을 계산 할 때 사용\n",
    "\n",
    "from functools import reduce\n",
    "reduce(lambda x, y: x+y, range(11)) # 이전 계산되었던 값이 x로 "
   ]
  },
  {
   "cell_type": "code",
   "execution_count": 58,
   "metadata": {},
   "outputs": [
    {
     "data": {
      "text/plain": [
       "362880"
      ]
     },
     "execution_count": 58,
     "metadata": {},
     "output_type": "execute_result"
    }
   ],
   "source": [
    "reduce(lambda x,y : x*y, range(1,10))"
   ]
  },
  {
   "cell_type": "code",
   "execution_count": 59,
   "metadata": {},
   "outputs": [
    {
     "data": {
      "text/plain": [
       "'edcba'"
      ]
     },
     "execution_count": 59,
     "metadata": {},
     "output_type": "execute_result"
    }
   ],
   "source": [
    "reduce(lambda x,y : y+x, 'abcde')"
   ]
  },
  {
   "cell_type": "code",
   "execution_count": 62,
   "metadata": {},
   "outputs": [
    {
     "data": {
      "text/plain": [
       "5.0"
      ]
     },
     "execution_count": 62,
     "metadata": {},
     "output_type": "execute_result"
    }
   ],
   "source": [
    "# 함수 배열\n",
    "func_choice = [lambda x,y : x**y, lambda x,y : x/y]\n",
    "func_choice[0](10,2)\n",
    "func_choice[1](10,2)"
   ]
  },
  {
   "cell_type": "code",
   "execution_count": 61,
   "metadata": {},
   "outputs": [
    {
     "name": "stdout",
     "output_type": "stream",
     "text": [
      "[5, 6, 7, 8]\n"
     ]
    }
   ],
   "source": [
    "# 문제 : 1) 다음 데이터에서 4보다 큰 수만 출력하도록 filtering해보시오\n",
    "data= [1,2,3,4,5,6,7,8,3,4,2,1]\n",
    "\n",
    "fil = list(filter(lambda x:x>4, data))\n",
    "print(fil)"
   ]
  },
  {
   "cell_type": "code",
   "execution_count": 65,
   "metadata": {},
   "outputs": [
    {
     "name": "stdout",
     "output_type": "stream",
     "text": [
      "213\n",
      "나는 행복합니다\n"
     ]
    }
   ],
   "source": [
    "# 문제 2) 숫자입력받아서 홀수인 경우 \"나는 행복합니다\"라고 출력하고\n",
    "#                        짝수면 \"나는 귀중한 사람이다\"라고 출력하는 함수선택을 구현해보시오\n",
    "\n",
    "num = int(input())\n",
    "choice = [ lambda:print(\"나는 귀중한 사람이다\"),lambda:print(\"나는 행복합니다\")  ]\n",
    "choice[num%2]()"
   ]
  },
  {
   "cell_type": "code",
   "execution_count": 5,
   "metadata": {},
   "outputs": [
    {
     "ename": "SyntaxError",
     "evalue": "invalid syntax (<ipython-input-5-d7bbed7b7bfd>, line 14)",
     "output_type": "error",
     "traceback": [
      "\u001b[1;36m  File \u001b[1;32m\"<ipython-input-5-d7bbed7b7bfd>\"\u001b[1;36m, line \u001b[1;32m14\u001b[0m\n\u001b[1;33m    for i in range(n):\u001b[0m\n\u001b[1;37m                     ^\u001b[0m\n\u001b[1;31mSyntaxError\u001b[0m\u001b[1;31m:\u001b[0m invalid syntax\n"
     ]
    }
   ],
   "source": [
    "# 성적프로그램을 입력, 처리, 출력 함수를 이용해서 구현하시오\n",
    "#      이름, 국어, 영어, 수학, 총점, 평균\n",
    "# 입력   o     o     o      o\n",
    "# 출력                          o      o\n",
    "# sungjuk = [] #전역선언 후 구현\n",
    "\n",
    "sungjuk = []\n",
    "n = 0\n",
    "\n",
    "def set_score():\n",
    "    \n",
    "    n = int(input(\"사람 수 : \")\n",
    "    \n",
    "    for i in range(n):\n",
    "        students = []\n",
    "        name = input(\"이름 : \")\n",
    "        kor = int(input(\"국어점수 : \"))\n",
    "        eng = int(input(\"영어점수 : \"))\n",
    "        math = int(input(\"수학점수 : \"))\n",
    "\n",
    "        students.append(name)\n",
    "        students.append(kor)\n",
    "        students.append(eng)\n",
    "        students.append(math)\n",
    "        sungjuk.append(students)\n",
    "    \n",
    "def process_score():\n",
    "    for i in range(n):\n",
    "        sum_ = sum(sungjuk[i][1:4])\n",
    "        ave = sum_ / 3\n",
    "\n",
    "        sungjuk[i].append(sum_)\n",
    "        sungjuk[i].append(ave)    \n",
    "    \n",
    "def get_score():\n",
    "    print(\"\\n결과\\n이름 : {}\\n국어 : {}\\n영어 : {}\\n수학 : {}\\n총점 : {}\\n평균 : {}\\n\".format(sungjuk[0],sungjuk[1],sungjuk[2],sungjuk[3],sungjuk[4],sungjuk[5]))\n",
    "\n",
    "set_score()\n",
    "process_score()\n",
    "get_score()\n",
    "\n",
    "\n",
    "\n",
    "\n",
    "\n",
    "\n"
   ]
  },
  {
   "cell_type": "code",
   "execution_count": 67,
   "metadata": {},
   "outputs": [
    {
     "data": {
      "text/plain": [
       "[2, 3]"
      ]
     },
     "execution_count": 67,
     "metadata": {},
     "output_type": "execute_result"
    }
   ],
   "source": [
    "ss= [1,2,3,4]\n",
    "\n",
    "ss[1:3]"
   ]
  },
  {
   "cell_type": "code",
   "execution_count": null,
   "metadata": {},
   "outputs": [],
   "source": []
  },
  {
   "cell_type": "code",
   "execution_count": null,
   "metadata": {},
   "outputs": [],
   "source": []
  },
  {
   "cell_type": "code",
   "execution_count": null,
   "metadata": {},
   "outputs": [],
   "source": []
  },
  {
   "cell_type": "code",
   "execution_count": null,
   "metadata": {},
   "outputs": [],
   "source": []
  },
  {
   "cell_type": "code",
   "execution_count": null,
   "metadata": {},
   "outputs": [],
   "source": []
  },
  {
   "cell_type": "code",
   "execution_count": null,
   "metadata": {},
   "outputs": [],
   "source": []
  },
  {
   "cell_type": "code",
   "execution_count": null,
   "metadata": {},
   "outputs": [],
   "source": []
  },
  {
   "cell_type": "code",
   "execution_count": null,
   "metadata": {},
   "outputs": [],
   "source": []
  },
  {
   "cell_type": "code",
   "execution_count": null,
   "metadata": {},
   "outputs": [],
   "source": []
  }
 ],
 "metadata": {
  "kernelspec": {
   "display_name": "Python 3",
   "language": "python",
   "name": "python3"
  },
  "language_info": {
   "codemirror_mode": {
    "name": "ipython",
    "version": 3
   },
   "file_extension": ".py",
   "mimetype": "text/x-python",
   "name": "python",
   "nbconvert_exporter": "python",
   "pygments_lexer": "ipython3",
   "version": "3.7.4"
  }
 },
 "nbformat": 4,
 "nbformat_minor": 2
}
