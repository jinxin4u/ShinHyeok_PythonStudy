{
 "cells": [
  {
   "cell_type": "code",
   "execution_count": null,
   "metadata": {},
   "outputs": [],
   "source": [
    "# conda install -c conda-forge graphviz\n",
    "# conda install -c conda-forge python-graphviz\n",
    "# pip install pydot\n",
    "# pip install pydotplus"
   ]
  },
  {
   "cell_type": "code",
   "execution_count": 3,
   "metadata": {},
   "outputs": [],
   "source": [
    "%matplotlib inline\n",
    "from sklearn.datasets import load_iris\n",
    "from sklearn.model_selection import cross_val_score # cross validation 해주는..\n",
    "from sklearn import tree\n",
    "\n",
    "clf = tree.DecisionTreeClassifier(random_state=0)\n",
    "iris = load_iris()"
   ]
  },
  {
   "cell_type": "code",
   "execution_count": 8,
   "metadata": {},
   "outputs": [
    {
     "data": {
      "text/plain": [
       "[Text(167.4, 199.32, 'X[3] <= 0.8\\ngini = 0.667\\nsamples = 150\\nvalue = [50, 50, 50]'),\n",
       " Text(141.64615384615385, 163.07999999999998, 'gini = 0.0\\nsamples = 50\\nvalue = [50, 0, 0]'),\n",
       " Text(193.15384615384616, 163.07999999999998, 'X[3] <= 1.75\\ngini = 0.5\\nsamples = 100\\nvalue = [0, 50, 50]'),\n",
       " Text(103.01538461538462, 126.83999999999999, 'X[2] <= 4.95\\ngini = 0.168\\nsamples = 54\\nvalue = [0, 49, 5]'),\n",
       " Text(51.50769230769231, 90.6, 'X[3] <= 1.65\\ngini = 0.041\\nsamples = 48\\nvalue = [0, 47, 1]'),\n",
       " Text(25.753846153846155, 54.359999999999985, 'gini = 0.0\\nsamples = 47\\nvalue = [0, 47, 0]'),\n",
       " Text(77.26153846153846, 54.359999999999985, 'gini = 0.0\\nsamples = 1\\nvalue = [0, 0, 1]'),\n",
       " Text(154.52307692307693, 90.6, 'X[3] <= 1.55\\ngini = 0.444\\nsamples = 6\\nvalue = [0, 2, 4]'),\n",
       " Text(128.76923076923077, 54.359999999999985, 'gini = 0.0\\nsamples = 3\\nvalue = [0, 0, 3]'),\n",
       " Text(180.27692307692308, 54.359999999999985, 'X[2] <= 5.45\\ngini = 0.444\\nsamples = 3\\nvalue = [0, 2, 1]'),\n",
       " Text(154.52307692307693, 18.119999999999976, 'gini = 0.0\\nsamples = 2\\nvalue = [0, 2, 0]'),\n",
       " Text(206.03076923076924, 18.119999999999976, 'gini = 0.0\\nsamples = 1\\nvalue = [0, 0, 1]'),\n",
       " Text(283.2923076923077, 126.83999999999999, 'X[2] <= 4.85\\ngini = 0.043\\nsamples = 46\\nvalue = [0, 1, 45]'),\n",
       " Text(257.53846153846155, 90.6, 'X[1] <= 3.1\\ngini = 0.444\\nsamples = 3\\nvalue = [0, 1, 2]'),\n",
       " Text(231.7846153846154, 54.359999999999985, 'gini = 0.0\\nsamples = 2\\nvalue = [0, 0, 2]'),\n",
       " Text(283.2923076923077, 54.359999999999985, 'gini = 0.0\\nsamples = 1\\nvalue = [0, 1, 0]'),\n",
       " Text(309.04615384615386, 90.6, 'gini = 0.0\\nsamples = 43\\nvalue = [0, 0, 43]')]"
      ]
     },
     "execution_count": 8,
     "metadata": {},
     "output_type": "execute_result"
    },
    {
     "data": {
      "image/png": "[encoded data removed]",
      "text/plain": [
       "<Figure size 432x288 with 1 Axes>"
      ]
     },
     "metadata": {
      "needs_background": "light"
     },
     "output_type": "display_data"
    }
   ],
   "source": [
    "clf = clf.fit(iris.data, iris.target)\n",
    "tree.plot_tree(clf)\n",
    "\n",
    "# 트리 : 정보이득이 있어야\n",
    "#     - 불순도가 낮아야 정보이득이 있다고 볼 수 있음.\n",
    "#         이를 나누는 기준은 'gini'계수, 'entropy'\n",
    "#         hyper parameter -> GridSearchCV\n",
    "        \n",
    "# 의사결정트리를 만드는 이유?\n",
    "#     - 비교를 적게하기 위해서       time complexity : O(log n)\n",
    "\n",
    "# 문제점 : 과적합, 변수의 순서를 달리하면 결과도 달라지는 문제 발생\n",
    "#         -> max depth로 과적합 방지\n",
    "#         -> min samples split : 노드를 나누기 위한 최소 개수 조정.\n",
    "#         -> min samples leaf : 하나의 노드가 되기 위한 최소한의 수\n",
    "\n",
    "# hyper parameter 조합을 만들어서 테스트 : GridSearchCV\n",
    "\n",
    "# https://scikit-learn.org/stable/modules/generated/sklearn.tree.DecisionTreeClassifier.html"
   ]
  },
  {
   "cell_type": "code",
   "execution_count": 9,
   "metadata": {},
   "outputs": [
    {
     "data": {
      "text/plain": [
       "array([1.        , 0.93333333, 1.        , 0.93333333, 0.93333333,\n",
       "       0.86666667, 0.93333333, 1.        , 1.        , 1.        ])"
      ]
     },
     "execution_count": 9,
     "metadata": {},
     "output_type": "execute_result"
    }
   ],
   "source": [
    "cross_val_score(clf, iris.data, iris.target, cv=10)"
   ]
  },
  {
   "cell_type": "code",
   "execution_count": 10,
   "metadata": {},
   "outputs": [
    {
     "name": "stdout",
     "output_type": "stream",
     "text": [
      "9\n"
     ]
    }
   ],
   "source": [
    "print(clf.get_n_leaves()) # leaf 갯수 확인"
   ]
  },
  {
   "cell_type": "code",
   "execution_count": 11,
   "metadata": {},
   "outputs": [
    {
     "data": {
      "text/plain": [
       "5"
      ]
     },
     "execution_count": 11,
     "metadata": {},
     "output_type": "execute_result"
    }
   ],
   "source": [
    "clf.get_depth() # 깊이 확인"
   ]
  },
  {
   "cell_type": "code",
   "execution_count": 13,
   "metadata": {},
   "outputs": [
    {
     "data": {
      "text/plain": [
       "{'class_weight': None,\n",
       " 'criterion': 'gini',\n",
       " 'max_depth': None,\n",
       " 'max_features': None,\n",
       " 'max_leaf_nodes': None,\n",
       " 'min_impurity_decrease': 0.0,\n",
       " 'min_impurity_split': None,\n",
       " 'min_samples_leaf': 1,\n",
       " 'min_samples_split': 2,\n",
       " 'min_weight_fraction_leaf': 0.0,\n",
       " 'presort': False,\n",
       " 'random_state': 0,\n",
       " 'splitter': 'best'}"
      ]
     },
     "execution_count": 13,
     "metadata": {},
     "output_type": "execute_result"
    }
   ],
   "source": [
    "clf.get_params() # gini가 default값임을 알 수 있다.."
   ]
  },
  {
   "cell_type": "code",
   "execution_count": 14,
   "metadata": {},
   "outputs": [
    {
     "data": {
      "text/plain": [
       "{'data': array([[5.1, 3.5, 1.4, 0.2],\n",
       "        [4.9, 3. , 1.4, 0.2],\n",
       "        [4.7, 3.2, 1.3, 0.2],\n",
       "        [4.6, 3.1, 1.5, 0.2],\n",
       "        [5. , 3.6, 1.4, 0.2],\n",
       "        [5.4, 3.9, 1.7, 0.4],\n",
       "        [4.6, 3.4, 1.4, 0.3],\n",
       "        [5. , 3.4, 1.5, 0.2],\n",
       "        [4.4, 2.9, 1.4, 0.2],\n",
       "        [4.9, 3.1, 1.5, 0.1],\n",
       "        [5.4, 3.7, 1.5, 0.2],\n",
       "        [4.8, 3.4, 1.6, 0.2],\n",
       "        [4.8, 3. , 1.4, 0.1],\n",
       "        [4.3, 3. , 1.1, 0.1],\n",
       "        [5.8, 4. , 1.2, 0.2],\n",
       "        [5.7, 4.4, 1.5, 0.4],\n",
       "        [5.4, 3.9, 1.3, 0.4],\n",
       "        [5.1, 3.5, 1.4, 0.3],\n",
       "        [5.7, 3.8, 1.7, 0.3],\n",
       "        [5.1, 3.8, 1.5, 0.3],\n",
       "        [5.4, 3.4, 1.7, 0.2],\n",
       "        [5.1, 3.7, 1.5, 0.4],\n",
       "        [4.6, 3.6, 1. , 0.2],\n",
       "        [5.1, 3.3, 1.7, 0.5],\n",
       "        [4.8, 3.4, 1.9, 0.2],\n",
       "        [5. , 3. , 1.6, 0.2],\n",
       "        [5. , 3.4, 1.6, 0.4],\n",
       "        [5.2, 3.5, 1.5, 0.2],\n",
       "        [5.2, 3.4, 1.4, 0.2],\n",
       "        [4.7, 3.2, 1.6, 0.2],\n",
       "        [4.8, 3.1, 1.6, 0.2],\n",
       "        [5.4, 3.4, 1.5, 0.4],\n",
       "        [5.2, 4.1, 1.5, 0.1],\n",
       "        [5.5, 4.2, 1.4, 0.2],\n",
       "        [4.9, 3.1, 1.5, 0.2],\n",
       "        [5. , 3.2, 1.2, 0.2],\n",
       "        [5.5, 3.5, 1.3, 0.2],\n",
       "        [4.9, 3.6, 1.4, 0.1],\n",
       "        [4.4, 3. , 1.3, 0.2],\n",
       "        [5.1, 3.4, 1.5, 0.2],\n",
       "        [5. , 3.5, 1.3, 0.3],\n",
       "        [4.5, 2.3, 1.3, 0.3],\n",
       "        [4.4, 3.2, 1.3, 0.2],\n",
       "        [5. , 3.5, 1.6, 0.6],\n",
       "        [5.1, 3.8, 1.9, 0.4],\n",
       "        [4.8, 3. , 1.4, 0.3],\n",
       "        [5.1, 3.8, 1.6, 0.2],\n",
       "        [4.6, 3.2, 1.4, 0.2],\n",
       "        [5.3, 3.7, 1.5, 0.2],\n",
       "        [5. , 3.3, 1.4, 0.2],\n",
       "        [7. , 3.2, 4.7, 1.4],\n",
       "        [6.4, 3.2, 4.5, 1.5],\n",
       "        [6.9, 3.1, 4.9, 1.5],\n",
       "        [5.5, 2.3, 4. , 1.3],\n",
       "        [6.5, 2.8, 4.6, 1.5],\n",
       "        [5.7, 2.8, 4.5, 1.3],\n",
       "        [6.3, 3.3, 4.7, 1.6],\n",
       "        [4.9, 2.4, 3.3, 1. ],\n",
       "        [6.6, 2.9, 4.6, 1.3],\n",
       "        [5.2, 2.7, 3.9, 1.4],\n",
       "        [5. , 2. , 3.5, 1. ],\n",
       "        [5.9, 3. , 4.2, 1.5],\n",
       "        [6. , 2.2, 4. , 1. ],\n",
       "        [6.1, 2.9, 4.7, 1.4],\n",
       "        [5.6, 2.9, 3.6, 1.3],\n",
       "        [6.7, 3.1, 4.4, 1.4],\n",
       "        [5.6, 3. , 4.5, 1.5],\n",
       "        [5.8, 2.7, 4.1, 1. ],\n",
       "        [6.2, 2.2, 4.5, 1.5],\n",
       "        [5.6, 2.5, 3.9, 1.1],\n",
       "        [5.9, 3.2, 4.8, 1.8],\n",
       "        [6.1, 2.8, 4. , 1.3],\n",
       "        [6.3, 2.5, 4.9, 1.5],\n",
       "        [6.1, 2.8, 4.7, 1.2],\n",
       "        [6.4, 2.9, 4.3, 1.3],\n",
       "        [6.6, 3. , 4.4, 1.4],\n",
       "        [6.8, 2.8, 4.8, 1.4],\n",
       "        [6.7, 3. , 5. , 1.7],\n",
       "        [6. , 2.9, 4.5, 1.5],\n",
       "        [5.7, 2.6, 3.5, 1. ],\n",
       "        [5.5, 2.4, 3.8, 1.1],\n",
       "        [5.5, 2.4, 3.7, 1. ],\n",
       "        [5.8, 2.7, 3.9, 1.2],\n",
       "        [6. , 2.7, 5.1, 1.6],\n",
       "        [5.4, 3. , 4.5, 1.5],\n",
       "        [6. , 3.4, 4.5, 1.6],\n",
       "        [6.7, 3.1, 4.7, 1.5],\n",
       "        [6.3, 2.3, 4.4, 1.3],\n",
       "        [5.6, 3. , 4.1, 1.3],\n",
       "        [5.5, 2.5, 4. , 1.3],\n",
       "        [5.5, 2.6, 4.4, 1.2],\n",
       "        [6.1, 3. , 4.6, 1.4],\n",
       "        [5.8, 2.6, 4. , 1.2],\n",
       "        [5. , 2.3, 3.3, 1. ],\n",
       "        [5.6, 2.7, 4.2, 1.3],\n",
       "        [5.7, 3. , 4.2, 1.2],\n",
       "        [5.7, 2.9, 4.2, 1.3],\n",
       "        [6.2, 2.9, 4.3, 1.3],\n",
       "        [5.1, 2.5, 3. , 1.1],\n",
       "        [5.7, 2.8, 4.1, 1.3],\n",
       "        [6.3, 3.3, 6. , 2.5],\n",
       "        [5.8, 2.7, 5.1, 1.9],\n",
       "        [7.1, 3. , 5.9, 2.1],\n",
       "        [6.3, 2.9, 5.6, 1.8],\n",
       "        [6.5, 3. , 5.8, 2.2],\n",
       "        [7.6, 3. , 6.6, 2.1],\n",
       "        [4.9, 2.5, 4.5, 1.7],\n",
       "        [7.3, 2.9, 6.3, 1.8],\n",
       "        [6.7, 2.5, 5.8, 1.8],\n",
       "        [7.2, 3.6, 6.1, 2.5],\n",
       "        [6.5, 3.2, 5.1, 2. ],\n",
       "        [6.4, 2.7, 5.3, 1.9],\n",
       "        [6.8, 3. , 5.5, 2.1],\n",
       "        [5.7, 2.5, 5. , 2. ],\n",
       "        [5.8, 2.8, 5.1, 2.4],\n",
       "        [6.4, 3.2, 5.3, 2.3],\n",
       "        [6.5, 3. , 5.5, 1.8],\n",
       "        [7.7, 3.8, 6.7, 2.2],\n",
       "        [7.7, 2.6, 6.9, 2.3],\n",
       "        [6. , 2.2, 5. , 1.5],\n",
       "        [6.9, 3.2, 5.7, 2.3],\n",
       "        [5.6, 2.8, 4.9, 2. ],\n",
       "        [7.7, 2.8, 6.7, 2. ],\n",
       "        [6.3, 2.7, 4.9, 1.8],\n",
       "        [6.7, 3.3, 5.7, 2.1],\n",
       "        [7.2, 3.2, 6. , 1.8],\n",
       "        [6.2, 2.8, 4.8, 1.8],\n",
       "        [6.1, 3. , 4.9, 1.8],\n",
       "        [6.4, 2.8, 5.6, 2.1],\n",
       "        [7.2, 3. , 5.8, 1.6],\n",
       "        [7.4, 2.8, 6.1, 1.9],\n",
       "        [7.9, 3.8, 6.4, 2. ],\n",
       "        [6.4, 2.8, 5.6, 2.2],\n",
       "        [6.3, 2.8, 5.1, 1.5],\n",
       "        [6.1, 2.6, 5.6, 1.4],\n",
       "        [7.7, 3. , 6.1, 2.3],\n",
       "        [6.3, 3.4, 5.6, 2.4],\n",
       "        [6.4, 3.1, 5.5, 1.8],\n",
       "        [6. , 3. , 4.8, 1.8],\n",
       "        [6.9, 3.1, 5.4, 2.1],\n",
       "        [6.7, 3.1, 5.6, 2.4],\n",
       "        [6.9, 3.1, 5.1, 2.3],\n",
       "        [5.8, 2.7, 5.1, 1.9],\n",
       "        [6.8, 3.2, 5.9, 2.3],\n",
       "        [6.7, 3.3, 5.7, 2.5],\n",
       "        [6.7, 3. , 5.2, 2.3],\n",
       "        [6.3, 2.5, 5. , 1.9],\n",
       "        [6.5, 3. , 5.2, 2. ],\n",
       "        [6.2, 3.4, 5.4, 2.3],\n",
       "        [5.9, 3. , 5.1, 1.8]]),\n",
       " 'target': array([0, 0, 0, 0, 0, 0, 0, 0, 0, 0, 0, 0, 0, 0, 0, 0, 0, 0, 0, 0, 0, 0,\n",
       "        0, 0, 0, 0, 0, 0, 0, 0, 0, 0, 0, 0, 0, 0, 0, 0, 0, 0, 0, 0, 0, 0,\n",
       "        0, 0, 0, 0, 0, 0, 1, 1, 1, 1, 1, 1, 1, 1, 1, 1, 1, 1, 1, 1, 1, 1,\n",
       "        1, 1, 1, 1, 1, 1, 1, 1, 1, 1, 1, 1, 1, 1, 1, 1, 1, 1, 1, 1, 1, 1,\n",
       "        1, 1, 1, 1, 1, 1, 1, 1, 1, 1, 1, 1, 2, 2, 2, 2, 2, 2, 2, 2, 2, 2,\n",
       "        2, 2, 2, 2, 2, 2, 2, 2, 2, 2, 2, 2, 2, 2, 2, 2, 2, 2, 2, 2, 2, 2,\n",
       "        2, 2, 2, 2, 2, 2, 2, 2, 2, 2, 2, 2, 2, 2, 2, 2, 2, 2]),\n",
       " 'target_names': array(['setosa', 'versicolor', 'virginica'], dtype='<U10'),\n",
       " 'DESCR': '.. _iris_dataset:\\n\\nIris plants dataset\\n--------------------\\n\\n**Data Set Characteristics:**\\n\\n    :Number of Instances: 150 (50 in each of three classes)\\n    :Number of Attributes: 4 numeric, predictive attributes and the class\\n    :Attribute Information:\\n        - sepal length in cm\\n        - sepal width in cm\\n        - petal length in cm\\n        - petal width in cm\\n        - class:\\n                - Iris-Setosa\\n                - Iris-Versicolour\\n                - Iris-Virginica\\n                \\n    :Summary Statistics:\\n\\n    ============== ==== ==== ======= ===== ====================\\n                    Min  Max   Mean    SD   Class Correlation\\n    ============== ==== ==== ======= ===== ====================\\n    sepal length:   4.3  7.9   5.84   0.83    0.7826\\n    sepal width:    2.0  4.4   3.05   0.43   -0.4194\\n    petal length:   1.0  6.9   3.76   1.76    0.9490  (high!)\\n    petal width:    0.1  2.5   1.20   0.76    0.9565  (high!)\\n    ============== ==== ==== ======= ===== ====================\\n\\n    :Missing Attribute Values: None\\n    :Class Distribution: 33.3% for each of 3 classes.\\n    :Creator: R.A. Fisher\\n    :Donor: Michael Marshall (MARSHALL%PLU@io.arc.nasa.gov)\\n    :Date: July, 1988\\n\\nThe famous Iris database, first used by Sir R.A. Fisher. The dataset is taken\\nfrom Fisher\\'s paper. Note that it\\'s the same as in R, but not as in the UCI\\nMachine Learning Repository, which has two wrong data points.\\n\\nThis is perhaps the best known database to be found in the\\npattern recognition literature.  Fisher\\'s paper is a classic in the field and\\nis referenced frequently to this day.  (See Duda & Hart, for example.)  The\\ndata set contains 3 classes of 50 instances each, where each class refers to a\\ntype of iris plant.  One class is linearly separable from the other 2; the\\nlatter are NOT linearly separable from each other.\\n\\n.. topic:: References\\n\\n   - Fisher, R.A. \"The use of multiple measurements in taxonomic problems\"\\n     Annual Eugenics, 7, Part II, 179-188 (1936); also in \"Contributions to\\n     Mathematical Statistics\" (John Wiley, NY, 1950).\\n   - Duda, R.O., & Hart, P.E. (1973) Pattern Classification and Scene Analysis.\\n     (Q327.D83) John Wiley & Sons.  ISBN 0-471-22361-1.  See page 218.\\n   - Dasarathy, B.V. (1980) \"Nosing Around the Neighborhood: A New System\\n     Structure and Classification Rule for Recognition in Partially Exposed\\n     Environments\".  IEEE Transactions on Pattern Analysis and Machine\\n     Intelligence, Vol. PAMI-2, No. 1, 67-71.\\n   - Gates, G.W. (1972) \"The Reduced Nearest Neighbor Rule\".  IEEE Transactions\\n     on Information Theory, May 1972, 431-433.\\n   - See also: 1988 MLC Proceedings, 54-64.  Cheeseman et al\"s AUTOCLASS II\\n     conceptual clustering system finds 3 classes in the data.\\n   - Many, many more ...',\n",
       " 'feature_names': ['sepal length (cm)',\n",
       "  'sepal width (cm)',\n",
       "  'petal length (cm)',\n",
       "  'petal width (cm)'],\n",
       " 'filename': 'C:\\\\ProgramData\\\\Anaconda3\\\\lib\\\\site-packages\\\\sklearn\\\\datasets\\\\data\\\\iris.csv'}"
      ]
     },
     "execution_count": 14,
     "metadata": {},
     "output_type": "execute_result"
    }
   ],
   "source": [
    "iris"
   ]
  },
  {
   "cell_type": "code",
   "execution_count": 15,
   "metadata": {},
   "outputs": [
    {
     "name": "stdout",
     "output_type": "stream",
     "text": [
      "(150, 4)\n",
      "['sepal length (cm)', 'sepal width (cm)', 'petal length (cm)', 'petal width (cm)']\n"
     ]
    }
   ],
   "source": [
    "print(iris.data.shape)\n",
    "print(iris.feature_names)"
   ]
  },
  {
   "cell_type": "code",
   "execution_count": 19,
   "metadata": {},
   "outputs": [
    {
     "name": "stdout",
     "output_type": "stream",
     "text": [
      "     0    1    2    3\n",
      "0  5.1  3.5  1.4  0.2\n",
      "1  4.9  3.0  1.4  0.2\n",
      "2  4.7  3.2  1.3  0.2\n",
      "3  4.6  3.1  1.5  0.2\n",
      "4  5.0  3.6  1.4  0.2\n"
     ]
    },
    {
     "data": {
      "text/plain": [
       "array([0, 0, 0, 0, 0, 0, 0, 0, 0, 0, 0, 0, 0, 0, 0, 0, 0, 0, 0, 0, 0, 0,\n",
       "       0, 0, 0, 0, 0, 0, 0, 0, 0, 0, 0, 0, 0, 0, 0, 0, 0, 0, 0, 0, 0, 0,\n",
       "       0, 0, 0, 0, 0, 1, 1, 1, 1, 1, 1, 1, 1, 1, 1, 1, 1, 1, 1, 1, 1, 1,\n",
       "       1, 1, 1, 1, 1, 1, 1, 1, 1, 1, 1, 1, 1, 1, 1, 1, 1, 1, 1, 1, 1, 1,\n",
       "       1, 1, 1, 1, 1, 1, 1, 1, 1, 1, 1, 2, 2, 2, 2, 2, 2, 2, 2, 2, 2, 2,\n",
       "       2, 2, 2, 2, 2, 2, 2, 2, 2, 2, 2, 2, 2, 2, 2, 2, 2, 2, 2, 2, 2, 2,\n",
       "       2, 2, 2, 2, 2, 2, 2, 2, 2, 2, 2, 2, 2, 2, 2, 2, 2])"
      ]
     },
     "execution_count": 19,
     "metadata": {},
     "output_type": "execute_result"
    }
   ],
   "source": [
    "# 데이터프레임으로 변환\n",
    "import pandas as pd\n",
    "data = pd.DataFrame(iris.data)\n",
    "print(data.head())\n",
    "\n",
    "clf.predict(data.iloc[1:150,:])"
   ]
  },
  {
   "cell_type": "code",
   "execution_count": 22,
   "metadata": {},
   "outputs": [],
   "source": [
    "from sklearn.pipeline import make_pipeline\n",
    "from sklearn.naive_bayes import MultinomialNB\n",
    "# 나이브 베이즈 : 베이즈값을 이용해서 음... 나중에하신다고.\n",
    "from sklearn.preprocessing import Binarizer\n",
    "# Binarizer : 경계값(threshold)을 기준으로 0,1로 나누어주는 것\n",
    "\n",
    "pipe = make_pipeline(Binarizer(), MultinomialNB()) # 파이프라인"
   ]
  },
  {
   "cell_type": "code",
   "execution_count": 24,
   "metadata": {},
   "outputs": [
    {
     "name": "stdout",
     "output_type": "stream",
     "text": [
      "('binarizer', Binarizer(copy=True, threshold=0.0))\n",
      "Binarizer(copy=True, threshold=0.0)\n"
     ]
    }
   ],
   "source": [
    "print(pipe.steps[0])\n",
    "print(pipe[0])\n",
    "# pipe['reduce_dim']"
   ]
  },
  {
   "cell_type": "code",
   "execution_count": 29,
   "metadata": {},
   "outputs": [
    {
     "data": {
      "text/plain": [
       "Pipeline(memory=None,\n",
       "         steps=[('reduce_dim',\n",
       "                 PCA(copy=True, iterated_power='auto', n_components=None,\n",
       "                     random_state=None, svd_solver='auto', tol=0.0,\n",
       "                     whiten=False)),\n",
       "                ('clf',\n",
       "                 SVC(C=1.0, cache_size=200, class_weight=None, coef0=0.0,\n",
       "                     decision_function_shape='ovr', degree=3,\n",
       "                     gamma='auto_deprecated', kernel='rbf', max_iter=-1,\n",
       "                     probability=False, random_state=None, shrinking=True,\n",
       "                     tol=0.001, verbose=False))],\n",
       "         verbose=False)"
      ]
     },
     "execution_count": 29,
     "metadata": {},
     "output_type": "execute_result"
    }
   ],
   "source": [
    "from sklearn.svm import SVC # support vector classfier\n",
    "from sklearn.decomposition import PCA # principle component analysis\n",
    "from sklearn.pipeline import Pipeline # 파이프라인\n",
    "\n",
    "estimators = [('reduce_dim', PCA()), ('clf', SVC())]\n",
    "# 파이프 바깥에서도 컨트롤이 가능하도록 이름을 주자\n",
    "# PCA로 차원축소 결과를 토대로 SVC 한다는 소리다\n",
    "\n",
    "pipe = Pipeline(estimators)\n",
    "pipe"
   ]
  },
  {
   "cell_type": "code",
   "execution_count": 30,
   "metadata": {},
   "outputs": [
    {
     "name": "stdout",
     "output_type": "stream",
     "text": [
      "('reduce_dim', PCA(copy=True, iterated_power='auto', n_components=None, random_state=None,\n",
      "    svd_solver='auto', tol=0.0, whiten=False))\n",
      "PCA(copy=True, iterated_power='auto', n_components=None, random_state=None,\n",
      "    svd_solver='auto', tol=0.0, whiten=False)\n"
     ]
    }
   ],
   "source": [
    "print(pipe.steps[0]) # PCA\n",
    "print(pipe[0])"
   ]
  },
  {
   "cell_type": "code",
   "execution_count": 31,
   "metadata": {},
   "outputs": [
    {
     "data": {
      "text/plain": [
       "Pipeline(memory=None,\n",
       "         steps=[('reduce_dim',\n",
       "                 PCA(copy=True, iterated_power='auto', n_components=None,\n",
       "                     random_state=None, svd_solver='auto', tol=0.0,\n",
       "                     whiten=False)),\n",
       "                ('clf',\n",
       "                 SVC(C=10, cache_size=200, class_weight=None, coef0=0.0,\n",
       "                     decision_function_shape='ovr', degree=3,\n",
       "                     gamma='auto_deprecated', kernel='rbf', max_iter=-1,\n",
       "                     probability=False, random_state=None, shrinking=True,\n",
       "                     tol=0.001, verbose=False))],\n",
       "         verbose=False)"
      ]
     },
     "execution_count": 31,
     "metadata": {},
     "output_type": "execute_result"
    }
   ],
   "source": [
    "# 상기 SVC와 같은 함수들에게 파라미터값을 전달하고 싶다면?\n",
    "\n",
    "pipe.set_params(clf__C=10)\n",
    "# C라는 파라미터를 변경하기 위해서는\n",
    "# set_params('함수명'__'파라미터명')의 형식으로 해줘야..\n",
    "# 이떄 __는 파이프라인을 타고 들어갈 때 필요한 instruction이다\n",
    "\n",
    "# 이름을 주면 이렇게 파라미터값을 줄 수도 있다.\n",
    "\n",
    "# https://scikit-learn.org/stable/modules/generated/sklearn.svm.SVC.html"
   ]
  },
  {
   "cell_type": "markdown",
   "metadata": {},
   "source": [
    "# GridSearchCV"
   ]
  },
  {
   "cell_type": "code",
   "execution_count": 45,
   "metadata": {},
   "outputs": [
    {
     "name": "stdout",
     "output_type": "stream",
     "text": [
      "<class 'numpy.ndarray'>\n"
     ]
    }
   ],
   "source": [
    "import numpy as np\n",
    "def make_data(N, err=1.0, rseed=1):\n",
    "    rng = np.random.RandomState(rseed)\n",
    "    X = rng.rand(N, 1) ** 2\n",
    "    y = 10 - 1. / (X.ravel() + 0.1)\n",
    "    if err > 0:\n",
    "        y += err * rng.randn(N)\n",
    "    return X,y\n",
    "\n",
    "X, y = make_data(40)\n",
    "print(type(X))"
   ]
  },
  {
   "cell_type": "code",
   "execution_count": 46,
   "metadata": {},
   "outputs": [],
   "source": [
    "from sklearn.model_selection import GridSearchCV # 파라미터 튜닝하는 것\n",
    "from sklearn.preprocessing import PolynomialFeatures # 다차원 특성을 축소\n",
    "from sklearn.linear_model import LinearRegression\n",
    "import numpy as np\n",
    "\n",
    "# 파이프라인을 리턴하는 함수\n",
    "# **kwargs : dict들어가는 변동매개변수\n",
    "def PolynomialRegression(degree = 2, **kwargs): \n",
    "    return make_pipeline(PolynomialFeatures(degree),\n",
    "                        LinearRegression(**kwargs))\n",
    "\n",
    "# 모델의 hyper parameter : PolynomialFeatures, LinearRegression 에 던져질 파라미터\n",
    "\n",
    "param_grid = {'polynomialfeatures__degree' : np.arange(21), #차수.. 0~20까지?\n",
    "             'linearregression__fit_intercept' : [True, False], #절편존재유무\n",
    "             'linearregression__normalize' : [True, False]} # 노말라이즈 할지의 여부"
   ]
  },
  {
   "cell_type": "code",
   "execution_count": 47,
   "metadata": {},
   "outputs": [],
   "source": [
    "# cross validation : \n",
    "grid = GridSearchCV(PolynomialRegression(), param_grid, cv=7)\n",
    "\n",
    "# 7개의 덩어리로 나누어 PR함수에다가 param_grid파라미터를 던져\n",
    "# "
   ]
  },
  {
   "cell_type": "code",
   "execution_count": 48,
   "metadata": {},
   "outputs": [
    {
     "name": "stderr",
     "output_type": "stream",
     "text": [
      "C:\\ProgramData\\Anaconda3\\lib\\site-packages\\sklearn\\model_selection\\_search.py:814: DeprecationWarning: The default of the `iid` parameter will change from True to False in version 0.22 and will be removed in 0.24. This will change numeric results when test-set sizes are unequal.\n",
      "  DeprecationWarning)\n"
     ]
    },
    {
     "data": {
      "text/plain": [
       "GridSearchCV(cv=7, error_score='raise-deprecating',\n",
       "             estimator=Pipeline(memory=None,\n",
       "                                steps=[('polynomialfeatures',\n",
       "                                        PolynomialFeatures(degree=2,\n",
       "                                                           include_bias=True,\n",
       "                                                           interaction_only=False,\n",
       "                                                           order='C')),\n",
       "                                       ('linearregression',\n",
       "                                        LinearRegression(copy_X=True,\n",
       "                                                         fit_intercept=True,\n",
       "                                                         n_jobs=None,\n",
       "                                                         normalize=False))],\n",
       "                                verbose=False),\n",
       "             iid='warn', n_jobs=None,\n",
       "             param_grid={'linearregression__fit_intercept': [True, False],\n",
       "                         'linearregression__normalize': [True, False],\n",
       "                         'polynomialfeatures__degree': array([ 0,  1,  2,  3,  4,  5,  6,  7,  8,  9, 10, 11, 12, 13, 14, 15, 16,\n",
       "       17, 18, 19, 20])},\n",
       "             pre_dispatch='2*n_jobs', refit=True, return_train_score=False,\n",
       "             scoring=None, verbose=0)"
      ]
     },
     "execution_count": 48,
     "metadata": {},
     "output_type": "execute_result"
    }
   ],
   "source": [
    "grid.fit(X,y)"
   ]
  },
  {
   "cell_type": "code",
   "execution_count": 49,
   "metadata": {},
   "outputs": [
    {
     "data": {
      "text/plain": [
       "{'linearregression__fit_intercept': False,\n",
       " 'linearregression__normalize': True,\n",
       " 'polynomialfeatures__degree': 4}"
      ]
     },
     "execution_count": 49,
     "metadata": {},
     "output_type": "execute_result"
    }
   ],
   "source": [
    "grid.best_params_ # 비선형회귀 4차일 경우 가장 좋은 결과가 나왔다는 말.."
   ]
  },
  {
   "cell_type": "code",
   "execution_count": 50,
   "metadata": {},
   "outputs": [
    {
     "data": {
      "text/plain": [
       "Pipeline(memory=None,\n",
       "         steps=[('polynomialfeatures',\n",
       "                 PolynomialFeatures(degree=4, include_bias=True,\n",
       "                                    interaction_only=False, order='C')),\n",
       "                ('linearregression',\n",
       "                 LinearRegression(copy_X=True, fit_intercept=False, n_jobs=None,\n",
       "                                  normalize=True))],\n",
       "         verbose=False)"
      ]
     },
     "execution_count": 50,
     "metadata": {},
     "output_type": "execute_result"
    }
   ],
   "source": [
    "grid.best_estimator_ # 어떤 모델을 쓰는 것이 좋은건가"
   ]
  },
  {
   "cell_type": "code",
   "execution_count": 51,
   "metadata": {},
   "outputs": [
    {
     "data": {
      "text/plain": [
       "0.8956938691106144"
      ]
     },
     "execution_count": 51,
     "metadata": {},
     "output_type": "execute_result"
    }
   ],
   "source": [
    "grid.best_score_ "
   ]
  },
  {
   "cell_type": "code",
   "execution_count": 66,
   "metadata": {},
   "outputs": [
    {
     "data": {
      "text/plain": [
       "(-0.05673314103942452,\n",
       " 0.994263633135634,\n",
       " -0.7459943120970807,\n",
       " 10.918045992764213)"
      ]
     },
     "execution_count": 66,
     "metadata": {},
     "output_type": "execute_result"
    },
    {
     "data": {
      "image/png": "[encoded data removed]",
      "text/plain": [
       "<Figure size 432x288 with 1 Axes>"
      ]
     },
     "metadata": {
      "needs_background": "light"
     },
     "output_type": "display_data"
    }
   ],
   "source": [
    "import matplotlib.pyplot as plt\n",
    "\n",
    "model = grid.best_estimator_\n",
    "X_test = np.linspace(-0.1, 10.1, 500)[:, None] # -0.1 ~ 10.1 까지 500개\n",
    "\n",
    "plt.scatter(X.ravel(), y) # ravel() : 다차원 데이터를 1차원화\n",
    "\n",
    "lim = plt.axis()\n",
    "y_test = model.fit(X,y).predict(X_test)\n",
    "\n",
    "plt.plot(X_test.ravel(), y_test)\n",
    "plt.axis(lim)"
   ]
  },
  {
   "cell_type": "code",
   "execution_count": 61,
   "metadata": {},
   "outputs": [
    {
     "data": {
      "text/plain": [
       "array([-1.00000000e-01, -7.95591182e-02, -5.91182365e-02, -3.86773547e-02,\n",
       "       -1.82364729e-02,  2.20440882e-03,  2.26452906e-02,  4.30861723e-02,\n",
       "        6.35270541e-02,  8.39679359e-02,  1.04408818e-01,  1.24849699e-01,\n",
       "        1.45290581e-01,  1.65731463e-01,  1.86172345e-01,  2.06613226e-01,\n",
       "        2.27054108e-01,  2.47494990e-01,  2.67935872e-01,  2.88376754e-01,\n",
       "        3.08817635e-01,  3.29258517e-01,  3.49699399e-01,  3.70140281e-01,\n",
       "        3.90581162e-01,  4.11022044e-01,  4.31462926e-01,  4.51903808e-01,\n",
       "        4.72344689e-01,  4.92785571e-01,  5.13226453e-01,  5.33667335e-01,\n",
       "        5.54108216e-01,  5.74549098e-01,  5.94989980e-01,  6.15430862e-01,\n",
       "        6.35871743e-01,  6.56312625e-01,  6.76753507e-01,  6.97194389e-01,\n",
       "        7.17635271e-01,  7.38076152e-01,  7.58517034e-01,  7.78957916e-01,\n",
       "        7.99398798e-01,  8.19839679e-01,  8.40280561e-01,  8.60721443e-01,\n",
       "        8.81162325e-01,  9.01603206e-01,  9.22044088e-01,  9.42484970e-01,\n",
       "        9.62925852e-01,  9.83366733e-01,  1.00380762e+00,  1.02424850e+00,\n",
       "        1.04468938e+00,  1.06513026e+00,  1.08557114e+00,  1.10601202e+00,\n",
       "        1.12645291e+00,  1.14689379e+00,  1.16733467e+00,  1.18777555e+00,\n",
       "        1.20821643e+00,  1.22865731e+00,  1.24909820e+00,  1.26953908e+00,\n",
       "        1.28997996e+00,  1.31042084e+00,  1.33086172e+00,  1.35130261e+00,\n",
       "        1.37174349e+00,  1.39218437e+00,  1.41262525e+00,  1.43306613e+00,\n",
       "        1.45350701e+00,  1.47394790e+00,  1.49438878e+00,  1.51482966e+00,\n",
       "        1.53527054e+00,  1.55571142e+00,  1.57615230e+00,  1.59659319e+00,\n",
       "        1.61703407e+00,  1.63747495e+00,  1.65791583e+00,  1.67835671e+00,\n",
       "        1.69879760e+00,  1.71923848e+00,  1.73967936e+00,  1.76012024e+00,\n",
       "        1.78056112e+00,  1.80100200e+00,  1.82144289e+00,  1.84188377e+00,\n",
       "        1.86232465e+00,  1.88276553e+00,  1.90320641e+00,  1.92364729e+00,\n",
       "        1.94408818e+00,  1.96452906e+00,  1.98496994e+00,  2.00541082e+00,\n",
       "        2.02585170e+00,  2.04629259e+00,  2.06673347e+00,  2.08717435e+00,\n",
       "        2.10761523e+00,  2.12805611e+00,  2.14849699e+00,  2.16893788e+00,\n",
       "        2.18937876e+00,  2.20981964e+00,  2.23026052e+00,  2.25070140e+00,\n",
       "        2.27114228e+00,  2.29158317e+00,  2.31202405e+00,  2.33246493e+00,\n",
       "        2.35290581e+00,  2.37334669e+00,  2.39378758e+00,  2.41422846e+00,\n",
       "        2.43466934e+00,  2.45511022e+00,  2.47555110e+00,  2.49599198e+00,\n",
       "        2.51643287e+00,  2.53687375e+00,  2.55731463e+00,  2.57775551e+00,\n",
       "        2.59819639e+00,  2.61863727e+00,  2.63907816e+00,  2.65951904e+00,\n",
       "        2.67995992e+00,  2.70040080e+00,  2.72084168e+00,  2.74128257e+00,\n",
       "        2.76172345e+00,  2.78216433e+00,  2.80260521e+00,  2.82304609e+00,\n",
       "        2.84348697e+00,  2.86392786e+00,  2.88436874e+00,  2.90480962e+00,\n",
       "        2.92525050e+00,  2.94569138e+00,  2.96613226e+00,  2.98657315e+00,\n",
       "        3.00701403e+00,  3.02745491e+00,  3.04789579e+00,  3.06833667e+00,\n",
       "        3.08877756e+00,  3.10921844e+00,  3.12965932e+00,  3.15010020e+00,\n",
       "        3.17054108e+00,  3.19098196e+00,  3.21142285e+00,  3.23186373e+00,\n",
       "        3.25230461e+00,  3.27274549e+00,  3.29318637e+00,  3.31362725e+00,\n",
       "        3.33406814e+00,  3.35450902e+00,  3.37494990e+00,  3.39539078e+00,\n",
       "        3.41583166e+00,  3.43627255e+00,  3.45671343e+00,  3.47715431e+00,\n",
       "        3.49759519e+00,  3.51803607e+00,  3.53847695e+00,  3.55891784e+00,\n",
       "        3.57935872e+00,  3.59979960e+00,  3.62024048e+00,  3.64068136e+00,\n",
       "        3.66112224e+00,  3.68156313e+00,  3.70200401e+00,  3.72244489e+00,\n",
       "        3.74288577e+00,  3.76332665e+00,  3.78376754e+00,  3.80420842e+00,\n",
       "        3.82464930e+00,  3.84509018e+00,  3.86553106e+00,  3.88597194e+00,\n",
       "        3.90641283e+00,  3.92685371e+00,  3.94729459e+00,  3.96773547e+00,\n",
       "        3.98817635e+00,  4.00861723e+00,  4.02905812e+00,  4.04949900e+00,\n",
       "        4.06993988e+00,  4.09038076e+00,  4.11082164e+00,  4.13126253e+00,\n",
       "        4.15170341e+00,  4.17214429e+00,  4.19258517e+00,  4.21302605e+00,\n",
       "        4.23346693e+00,  4.25390782e+00,  4.27434870e+00,  4.29478958e+00,\n",
       "        4.31523046e+00,  4.33567134e+00,  4.35611222e+00,  4.37655311e+00,\n",
       "        4.39699399e+00,  4.41743487e+00,  4.43787575e+00,  4.45831663e+00,\n",
       "        4.47875752e+00,  4.49919840e+00,  4.51963928e+00,  4.54008016e+00,\n",
       "        4.56052104e+00,  4.58096192e+00,  4.60140281e+00,  4.62184369e+00,\n",
       "        4.64228457e+00,  4.66272545e+00,  4.68316633e+00,  4.70360721e+00,\n",
       "        4.72404810e+00,  4.74448898e+00,  4.76492986e+00,  4.78537074e+00,\n",
       "        4.80581162e+00,  4.82625251e+00,  4.84669339e+00,  4.86713427e+00,\n",
       "        4.88757515e+00,  4.90801603e+00,  4.92845691e+00,  4.94889780e+00,\n",
       "        4.96933868e+00,  4.98977956e+00,  5.01022044e+00,  5.03066132e+00,\n",
       "        5.05110220e+00,  5.07154309e+00,  5.09198397e+00,  5.11242485e+00,\n",
       "        5.13286573e+00,  5.15330661e+00,  5.17374749e+00,  5.19418838e+00,\n",
       "        5.21462926e+00,  5.23507014e+00,  5.25551102e+00,  5.27595190e+00,\n",
       "        5.29639279e+00,  5.31683367e+00,  5.33727455e+00,  5.35771543e+00,\n",
       "        5.37815631e+00,  5.39859719e+00,  5.41903808e+00,  5.43947896e+00,\n",
       "        5.45991984e+00,  5.48036072e+00,  5.50080160e+00,  5.52124248e+00,\n",
       "        5.54168337e+00,  5.56212425e+00,  5.58256513e+00,  5.60300601e+00,\n",
       "        5.62344689e+00,  5.64388778e+00,  5.66432866e+00,  5.68476954e+00,\n",
       "        5.70521042e+00,  5.72565130e+00,  5.74609218e+00,  5.76653307e+00,\n",
       "        5.78697395e+00,  5.80741483e+00,  5.82785571e+00,  5.84829659e+00,\n",
       "        5.86873747e+00,  5.88917836e+00,  5.90961924e+00,  5.93006012e+00,\n",
       "        5.95050100e+00,  5.97094188e+00,  5.99138277e+00,  6.01182365e+00,\n",
       "        6.03226453e+00,  6.05270541e+00,  6.07314629e+00,  6.09358717e+00,\n",
       "        6.11402806e+00,  6.13446894e+00,  6.15490982e+00,  6.17535070e+00,\n",
       "        6.19579158e+00,  6.21623246e+00,  6.23667335e+00,  6.25711423e+00,\n",
       "        6.27755511e+00,  6.29799599e+00,  6.31843687e+00,  6.33887776e+00,\n",
       "        6.35931864e+00,  6.37975952e+00,  6.40020040e+00,  6.42064128e+00,\n",
       "        6.44108216e+00,  6.46152305e+00,  6.48196393e+00,  6.50240481e+00,\n",
       "        6.52284569e+00,  6.54328657e+00,  6.56372745e+00,  6.58416834e+00,\n",
       "        6.60460922e+00,  6.62505010e+00,  6.64549098e+00,  6.66593186e+00,\n",
       "        6.68637275e+00,  6.70681363e+00,  6.72725451e+00,  6.74769539e+00,\n",
       "        6.76813627e+00,  6.78857715e+00,  6.80901804e+00,  6.82945892e+00,\n",
       "        6.84989980e+00,  6.87034068e+00,  6.89078156e+00,  6.91122244e+00,\n",
       "        6.93166333e+00,  6.95210421e+00,  6.97254509e+00,  6.99298597e+00,\n",
       "        7.01342685e+00,  7.03386774e+00,  7.05430862e+00,  7.07474950e+00,\n",
       "        7.09519038e+00,  7.11563126e+00,  7.13607214e+00,  7.15651303e+00,\n",
       "        7.17695391e+00,  7.19739479e+00,  7.21783567e+00,  7.23827655e+00,\n",
       "        7.25871743e+00,  7.27915832e+00,  7.29959920e+00,  7.32004008e+00,\n",
       "        7.34048096e+00,  7.36092184e+00,  7.38136273e+00,  7.40180361e+00,\n",
       "        7.42224449e+00,  7.44268537e+00,  7.46312625e+00,  7.48356713e+00,\n",
       "        7.50400802e+00,  7.52444890e+00,  7.54488978e+00,  7.56533066e+00,\n",
       "        7.58577154e+00,  7.60621242e+00,  7.62665331e+00,  7.64709419e+00,\n",
       "        7.66753507e+00,  7.68797595e+00,  7.70841683e+00,  7.72885772e+00,\n",
       "        7.74929860e+00,  7.76973948e+00,  7.79018036e+00,  7.81062124e+00,\n",
       "        7.83106212e+00,  7.85150301e+00,  7.87194389e+00,  7.89238477e+00,\n",
       "        7.91282565e+00,  7.93326653e+00,  7.95370741e+00,  7.97414830e+00,\n",
       "        7.99458918e+00,  8.01503006e+00,  8.03547094e+00,  8.05591182e+00,\n",
       "        8.07635271e+00,  8.09679359e+00,  8.11723447e+00,  8.13767535e+00,\n",
       "        8.15811623e+00,  8.17855711e+00,  8.19899800e+00,  8.21943888e+00,\n",
       "        8.23987976e+00,  8.26032064e+00,  8.28076152e+00,  8.30120240e+00,\n",
       "        8.32164329e+00,  8.34208417e+00,  8.36252505e+00,  8.38296593e+00,\n",
       "        8.40340681e+00,  8.42384770e+00,  8.44428858e+00,  8.46472946e+00,\n",
       "        8.48517034e+00,  8.50561122e+00,  8.52605210e+00,  8.54649299e+00,\n",
       "        8.56693387e+00,  8.58737475e+00,  8.60781563e+00,  8.62825651e+00,\n",
       "        8.64869739e+00,  8.66913828e+00,  8.68957916e+00,  8.71002004e+00,\n",
       "        8.73046092e+00,  8.75090180e+00,  8.77134269e+00,  8.79178357e+00,\n",
       "        8.81222445e+00,  8.83266533e+00,  8.85310621e+00,  8.87354709e+00,\n",
       "        8.89398798e+00,  8.91442886e+00,  8.93486974e+00,  8.95531062e+00,\n",
       "        8.97575150e+00,  8.99619238e+00,  9.01663327e+00,  9.03707415e+00,\n",
       "        9.05751503e+00,  9.07795591e+00,  9.09839679e+00,  9.11883768e+00,\n",
       "        9.13927856e+00,  9.15971944e+00,  9.18016032e+00,  9.20060120e+00,\n",
       "        9.22104208e+00,  9.24148297e+00,  9.26192385e+00,  9.28236473e+00,\n",
       "        9.30280561e+00,  9.32324649e+00,  9.34368737e+00,  9.36412826e+00,\n",
       "        9.38456914e+00,  9.40501002e+00,  9.42545090e+00,  9.44589178e+00,\n",
       "        9.46633267e+00,  9.48677355e+00,  9.50721443e+00,  9.52765531e+00,\n",
       "        9.54809619e+00,  9.56853707e+00,  9.58897796e+00,  9.60941884e+00,\n",
       "        9.62985972e+00,  9.65030060e+00,  9.67074148e+00,  9.69118236e+00,\n",
       "        9.71162325e+00,  9.73206413e+00,  9.75250501e+00,  9.77294589e+00,\n",
       "        9.79338677e+00,  9.81382766e+00,  9.83426854e+00,  9.85470942e+00,\n",
       "        9.87515030e+00,  9.89559118e+00,  9.91603206e+00,  9.93647295e+00,\n",
       "        9.95691383e+00,  9.97735471e+00,  9.99779559e+00,  1.00182365e+01,\n",
       "        1.00386774e+01,  1.00591182e+01,  1.00795591e+01,  1.01000000e+01])"
      ]
     },
     "execution_count": 61,
     "metadata": {},
     "output_type": "execute_result"
    }
   ],
   "source": [
    "np.linspace(-0.1, 10.1, 500)"
   ]
  },
  {
   "cell_type": "code",
   "execution_count": null,
   "metadata": {},
   "outputs": [],
   "source": [
    "np.linspace(-0.1, 10.1, 500)[:,None] # [:,None]  행번찍고 열"
   ]
  },
  {
   "cell_type": "code",
   "execution_count": 68,
   "metadata": {},
   "outputs": [
    {
     "name": "stdout",
     "output_type": "stream",
     "text": [
      "[100]\n"
     ]
    }
   ],
   "source": [
    "import numpy as np\n",
    "import pandas as pd\n",
    "dataset= [10,12,12,13,12,11,14,13,15,10,10,10,100,12,14,13, 12,10, 10,11,12,15,12,13,12,11,14,13,15,10,15,12,10,14,13,15,10] \n",
    "outliers=[]\n",
    "\n",
    "\n",
    "def detect_outlier(data_1):\n",
    "    threshold = 3\n",
    "    mean_1 = np.mean(data_1) # 평균계산\n",
    "    std_1 = np.std(data_1)   # 표준편차\n",
    "    \n",
    "    for y in data_1:\n",
    "        z_score = (y-mean_1) / std_1 # z점수 : 평균과 차이가 표준편차의 몇 배수로 위치해있나 , 3배수 : 99%\n",
    "        \n",
    "        if np.abs(z_score) > threshold: # threshold : 경계값 , 3배수 : 99%\n",
    "            outliers.append(y)\n",
    "            \n",
    "    return outliers\n",
    "\n",
    "# 표준정규분포 상에서 3배수 이상의 값을 이상치로 규정하는 함수\n",
    "outlier_datapoints = detect_outlier(dataset)\n",
    "print(outlier_datapoints)"
   ]
  },
  {
   "cell_type": "code",
   "execution_count": 71,
   "metadata": {},
   "outputs": [
    {
     "name": "stdout",
     "output_type": "stream",
     "text": [
      "[-3. -2. -1.  0.  1.  2.  3.  4.  5.  6.]\n",
      "[[-3.]\n",
      " [-2.]\n",
      " [-1.]\n",
      " [ 0.]\n",
      " [ 1.]\n",
      " [ 2.]\n",
      " [ 3.]\n",
      " [ 4.]\n",
      " [ 5.]\n",
      " [ 6.]]\n"
     ]
    },
    {
     "data": {
      "text/plain": [
       "<matplotlib.axes._subplots.AxesSubplot at 0x21bb8f4b148>"
      ]
     },
     "execution_count": 71,
     "metadata": {},
     "output_type": "execute_result"
    },
    {
     "data": {
      "image/png": "[encoded data removed]",
      "text/plain": [
       "<Figure size 432x288 with 1 Axes>"
      ]
     },
     "metadata": {
      "needs_background": "light"
     },
     "output_type": "display_data"
    }
   ],
   "source": [
    "import pandas as pd\n",
    "import numpy as np\n",
    "from sklearn.preprocessing import scale, robust_scale, minmax_scale, maxabs_scale\n",
    "\n",
    "# scale : z점수 -∞ ~ +∞\n",
    "# robust_scale : 평균 : median 위치적 중위수 / IQR\n",
    "# minmax_scale :  0 ~ 1\n",
    "# maxabs_scale : -1 ~ 1\n",
    "\n",
    "print( np.arange(10, dtype=np.float) - 3 )\n",
    "\n",
    "x = ( np.arange(10, dtype=np.float) - 3 ).reshape(-1,1)\n",
    "print(x)\n",
    "\n",
    "df = pd.DataFrame( np.hstack([x, scale(x), robust_scale(x), minmax_scale(x), maxabs_scale(x)]),\n",
    "                 columns = [\"x\", \"scale(x)\", \"robust_scale(x)\", \"minmax_scale(x)\", \"maxabs_scale(x)\"])\n",
    "df.plot()"
   ]
  },
  {
   "cell_type": "code",
   "execution_count": 75,
   "metadata": {},
   "outputs": [
    {
     "name": "stdout",
     "output_type": "stream",
     "text": [
      "<class 'sklearn.utils.Bunch'>\n",
      "전처리전 mean\n",
      " [5.84333333 3.05733333 3.758      1.19933333] \n",
      "\n",
      "전처리전 std\n",
      " [0.82530129 0.43441097 1.75940407 0.75969263] \n",
      "\n",
      "전처리후 mean\n",
      " [-1.69031455e-15 -1.84297022e-15 -1.69864123e-15 -1.40924309e-15] \n",
      "\n",
      "전처리후 std\n",
      " [1. 1. 1. 1.] \n",
      "\n"
     ]
    },
    {
     "data": {
      "image/png": "[encoded data removed]",
      "text/plain": [
       "<Figure size 432x432 with 3 Axes>"
      ]
     },
     "metadata": {
      "needs_background": "light"
     },
     "output_type": "display_data"
    },
    {
     "data": {
      "image/png": "[encoded data removed]",
      "text/plain": [
       "<Figure size 432x432 with 3 Axes>"
      ]
     },
     "metadata": {
      "needs_background": "light"
     },
     "output_type": "display_data"
    }
   ],
   "source": [
    "# 분포는 동일하다\n",
    "# 그러면 정규화는 왜 하는가?   변수 기여도를 동일하게 하기 위해..\n",
    "\n",
    "import seaborn as sns\n",
    "from sklearn.datasets import load_iris\n",
    "\n",
    "iris = load_iris()\n",
    "print(type(iris))\n",
    "\n",
    "data1 = iris.data\n",
    "data2 = scale(iris.data)\n",
    "\n",
    "print(\"전처리전 mean\\n\", np.mean(data1, axis=0),'\\n')\n",
    "print(\"전처리전 std\\n\", np.std(data1, axis=0),'\\n')\n",
    "print(\"전처리후 mean\\n\", np.mean(data2, axis=0),'\\n')\n",
    "print(\"전처리후 std\\n\", np.std(data2, axis=0),'\\n')\n",
    "\n",
    "sns.jointplot(data1[:,0], data1[:,1])\n",
    "plt.show()\n",
    "\n",
    "sns.jointplot(data2[:,0], data2[:,1])\n",
    "plt.show()"
   ]
  },
  {
   "cell_type": "code",
   "execution_count": 76,
   "metadata": {},
   "outputs": [
    {
     "data": {
      "text/plain": [
       "(1.9738430577598278, 1.0)"
      ]
     },
     "execution_count": 76,
     "metadata": {},
     "output_type": "execute_result"
    }
   ],
   "source": [
    "# 상기 scale() 대신에 이걸 쓸 수도 있다.\n",
    "\n",
    "from sklearn.preprocessing import StandardScaler\n",
    "\n",
    "scaler = StandardScaler() # 인스턴스화\n",
    "scaler.fit(data1)\n",
    "\n",
    "data2 = scaler.transform(data1) # transformer(변환기), reg같은 건 estimator(추정기)라한다.\n",
    "data1.std(), data2.std()"
   ]
  },
  {
   "cell_type": "code",
   "execution_count": 77,
   "metadata": {},
   "outputs": [
    {
     "name": "stdout",
     "output_type": "stream",
     "text": [
      "[3] [0 3] [0 1 2]\n"
     ]
    },
    {
     "name": "stderr",
     "output_type": "stream",
     "text": [
      "C:\\ProgramData\\Anaconda3\\lib\\site-packages\\sklearn\\preprocessing\\_encoders.py:415: FutureWarning: The handling of integer data will change in version 0.22. Currently, the categories are determined based on the range [0, max(values)], while in the future they will be determined based on the unique values.\n",
      "If you want the future behaviour and silence this warning, you can specify \"categories='auto'\".\n",
      "In case you used a LabelEncoder before this OneHotEncoder to convert the categories to integers, then you can now use the OneHotEncoder directly.\n",
      "  warnings.warn(msg, FutureWarning)\n",
      "C:\\ProgramData\\Anaconda3\\lib\\site-packages\\sklearn\\utils\\deprecation.py:100: DeprecationWarning: The ``n_values_`` attribute was deprecated in version 0.20 and will be removed 0.22.\n",
      "  warnings.warn(msg, category=DeprecationWarning)\n",
      "C:\\ProgramData\\Anaconda3\\lib\\site-packages\\sklearn\\utils\\deprecation.py:100: DeprecationWarning: The ``feature_indices_`` attribute was deprecated in version 0.20 and will be removed 0.22.\n",
      "  warnings.warn(msg, category=DeprecationWarning)\n",
      "C:\\ProgramData\\Anaconda3\\lib\\site-packages\\sklearn\\utils\\deprecation.py:100: DeprecationWarning: The ``active_features_`` attribute was deprecated in version 0.20 and will be removed 0.22.\n",
      "  warnings.warn(msg, category=DeprecationWarning)\n"
     ]
    },
    {
     "data": {
      "text/plain": [
       "[array([0., 1., 2.])]"
      ]
     },
     "execution_count": 77,
     "metadata": {},
     "output_type": "execute_result"
    }
   ],
   "source": [
    "# scikits 내의 One Hot Encoder\n",
    "from sklearn.preprocessing import OneHotEncoder\n",
    "ohe = OneHotEncoder()\n",
    "X = np.array([[0], [1], [2]])\n",
    "X\n",
    "ohe.fit(X)\n",
    "print(ohe.n_values_, ohe.feature_indices_, ohe.active_features_)\n",
    "ohe.categories_"
   ]
  },
  {
   "cell_type": "code",
   "execution_count": 79,
   "metadata": {},
   "outputs": [
    {
     "name": "stdout",
     "output_type": "stream",
     "text": [
      "[[1. 0. 0.]\n",
      " [0. 1. 0.]\n",
      " [0. 0. 1.]]\n"
     ]
    }
   ],
   "source": [
    "print(ohe.transform(X).toarray())"
   ]
  },
  {
   "cell_type": "code",
   "execution_count": 86,
   "metadata": {},
   "outputs": [
    {
     "name": "stdout",
     "output_type": "stream",
     "text": [
      "[[1. 0. 1. 0. 0. 0. 0. 0. 0. 1.]\n",
      " [0. 1. 0. 1. 0. 1. 0. 0. 0. 0.]\n",
      " [1. 0. 0. 0. 1. 0. 1. 0. 0. 0.]\n",
      " [0. 1. 1. 0. 0. 0. 0. 1. 0. 0.]\n",
      " [0. 1. 0. 1. 0. 0. 0. 0. 1. 0.]]\n"
     ]
    },
    {
     "name": "stderr",
     "output_type": "stream",
     "text": [
      "C:\\ProgramData\\Anaconda3\\lib\\site-packages\\sklearn\\preprocessing\\_encoders.py:415: FutureWarning: The handling of integer data will change in version 0.22. Currently, the categories are determined based on the range [0, max(values)], while in the future they will be determined based on the unique values.\n",
      "If you want the future behaviour and silence this warning, you can specify \"categories='auto'\".\n",
      "In case you used a LabelEncoder before this OneHotEncoder to convert the categories to integers, then you can now use the OneHotEncoder directly.\n",
      "  warnings.warn(msg, FutureWarning)\n"
     ]
    }
   ],
   "source": [
    "# 원 핫 인코딩 해보기\n",
    "# X = np.array([[0,0,4], [1,1,0], [0,2,1], [1,0,2], [1,1,3]])\n",
    "\n",
    "ohe = OneHotEncoder()\n",
    "X = np.array([[0,0,4], [1,1,0], [0,2,1], [1,0,2], [1,1,3]])\n",
    "ohe.fit(X)\n",
    "print(ohe.transform(X).toarray())\n",
    "\n",
    "# 입력 3자리인데 10자리로 변경되었다.. 왜이런가?\n",
    "# 첫째자리 0,1 두가지\n",
    "# 둘쨰자리 0,1,2 세가지\n",
    "# 세째자리 0,1,2,3,4 네가지\n",
    "# "
   ]
  },
  {
   "cell_type": "code",
   "execution_count": 87,
   "metadata": {},
   "outputs": [
    {
     "data": {
      "text/plain": [
       "array([1, 2, 6])"
      ]
     },
     "execution_count": 87,
     "metadata": {},
     "output_type": "execute_result"
    }
   ],
   "source": [
    "# Label Encoder\n",
    "\n",
    "from sklearn.preprocessing import LabelEncoder\n",
    "\n",
    "le = LabelEncoder()\n",
    "le.fit([1,2,2,6])\n",
    "le.classes_"
   ]
  },
  {
   "cell_type": "code",
   "execution_count": 88,
   "metadata": {},
   "outputs": [
    {
     "data": {
      "text/plain": [
       "array([0, 0, 1, 2], dtype=int64)"
      ]
     },
     "execution_count": 88,
     "metadata": {},
     "output_type": "execute_result"
    }
   ],
   "source": [
    "le.transform([1,1,2,6]) # 라벨링"
   ]
  },
  {
   "cell_type": "code",
   "execution_count": 89,
   "metadata": {},
   "outputs": [
    {
     "data": {
      "text/plain": [
       "array([1, 1, 2, 6])"
      ]
     },
     "execution_count": 89,
     "metadata": {},
     "output_type": "execute_result"
    }
   ],
   "source": [
    "# 라벨링값으로 실제값 조회\n",
    "le.inverse_transform([0,0,1,2])"
   ]
  },
  {
   "cell_type": "code",
   "execution_count": 97,
   "metadata": {},
   "outputs": [
    {
     "data": {
      "text/plain": [
       "array(['대전', '부산', '서울'], dtype='<U2')"
      ]
     },
     "execution_count": 97,
     "metadata": {},
     "output_type": "execute_result"
    }
   ],
   "source": [
    "# 문제\n",
    "# \"서울\", \"서울\", \"대전\", \"부산\"\n",
    "\n",
    "le1 = LabelEncoder()\n",
    "le1.fit([\"서울\", \"서울\", \"대전\", \"부산\"])\n",
    "le1.classes_"
   ]
  },
  {
   "cell_type": "code",
   "execution_count": 95,
   "metadata": {},
   "outputs": [
    {
     "data": {
      "text/plain": [
       "array([2, 2, 0, 1, 0], dtype=int64)"
      ]
     },
     "execution_count": 95,
     "metadata": {},
     "output_type": "execute_result"
    }
   ],
   "source": [
    "le1.transform([\"서울\", \"서울\", \"대전\", \"부산\", \"대전\"])"
   ]
  },
  {
   "cell_type": "code",
   "execution_count": 98,
   "metadata": {},
   "outputs": [
    {
     "data": {
      "text/plain": [
       "['서울', '서울', '부산', '대전', '서울']"
      ]
     },
     "execution_count": 98,
     "metadata": {},
     "output_type": "execute_result"
    }
   ],
   "source": [
    "list(le1.inverse_transform([2,2,1,0,2]))"
   ]
  },
  {
   "cell_type": "code",
   "execution_count": 99,
   "metadata": {},
   "outputs": [
    {
     "data": {
      "text/plain": [
       "array([[2., 0., 1.],\n",
       "       [0., 1., 3.]])"
      ]
     },
     "execution_count": 99,
     "metadata": {},
     "output_type": "execute_result"
    }
   ],
   "source": [
    "# DictVectorier\n",
    "from sklearn.feature_extraction import DictVectorizer\n",
    "\n",
    "v = DictVectorizer(sparse = False)\n",
    "D = [{'foo' : 1, 'bar' : 2}, {'foo' : 3, 'baz' : 1}]\n",
    "X = v.fit_transform(D)\n",
    "X\n",
    "\n",
    "#        'bar' 'baz' 'foo'\n",
    "#첫번쨰    2     0     1\n",
    "#두번째    0     1     3"
   ]
  },
  {
   "cell_type": "code",
   "execution_count": 100,
   "metadata": {},
   "outputs": [
    {
     "data": {
      "text/plain": [
       "['bar', 'baz', 'foo']"
      ]
     },
     "execution_count": 100,
     "metadata": {},
     "output_type": "execute_result"
    }
   ],
   "source": [
    "v.feature_names_"
   ]
  },
  {
   "cell_type": "code",
   "execution_count": 101,
   "metadata": {},
   "outputs": [
    {
     "data": {
      "text/plain": [
       "[{'bar': 2.0, 'foo': 1.0}, {'baz': 1.0, 'foo': 3.0}]"
      ]
     },
     "execution_count": 101,
     "metadata": {},
     "output_type": "execute_result"
    }
   ],
   "source": [
    "v.inverse_transform(X)"
   ]
  },
  {
   "cell_type": "code",
   "execution_count": 107,
   "metadata": {},
   "outputs": [
    {
     "name": "stdout",
     "output_type": "stream",
     "text": [
      "[[ 4.  2.  3.]\n",
      " [ 4.  2.  6.]\n",
      " [10.  2.  9.]]\n"
     ]
    }
   ],
   "source": [
    "# 결측치 처리\n",
    "\n",
    "from sklearn.impute import SimpleImputer\n",
    "\n",
    "imp_mean = SimpleImputer(missing_values=np.nan, strategy='mean') # mean 평균, most_frequent최빈값\n",
    "imp_mean.fit([[7,2,3],[4,np.nan,6], [10,5,9]]) # 7+4+10/3 = 7 | 2+5/2 = 3.5 | 3+6+9/3 = 6\n",
    "\n",
    "X = [[np.nan, 2,3], [4, np.nan,6], [10,np.nan,9]]\n",
    "print(imp_mean.transform(X))"
   ]
  },
  {
   "cell_type": "code",
   "execution_count": 108,
   "metadata": {},
   "outputs": [
    {
     "data": {
      "text/plain": [
       "array([[0, 1],\n",
       "       [2, 3],\n",
       "       [4, 5]])"
      ]
     },
     "execution_count": 108,
     "metadata": {},
     "output_type": "execute_result"
    }
   ],
   "source": [
    "from sklearn.preprocessing import PolynomialFeatures\n",
    "X = np.arange(6).reshape(3,2)\n",
    "X"
   ]
  },
  {
   "cell_type": "code",
   "execution_count": 109,
   "metadata": {},
   "outputs": [
    {
     "data": {
      "text/plain": [
       "array([[ 1.,  0.,  1.,  0.,  0.,  1.],\n",
       "       [ 1.,  2.,  3.,  4.,  6.,  9.],\n",
       "       [ 1.,  4.,  5., 16., 20., 25.]])"
      ]
     },
     "execution_count": 109,
     "metadata": {},
     "output_type": "execute_result"
    }
   ],
   "source": [
    "poly = PolynomialFeatures(2)# 다항식 계산 결과값을 속성값으로 추가\n",
    "# [1, a, b, a^2, ab, b^2] => 비선형회귀\n",
    "\n",
    "poly.fit_transform(X)"
   ]
  },
  {
   "cell_type": "code",
   "execution_count": null,
   "metadata": {},
   "outputs": [],
   "source": [
    "# Ensemble 학습\n",
    "# RandomForest : DT를 여러개의 모델로 구축해서,\n",
    "#     - 연속형 : 결과값의 평균으로 예측\n",
    "#     - 이산형 : 결과값의 투표를 통해서 결정 "
   ]
  },
  {
   "cell_type": "code",
   "execution_count": 136,
   "metadata": {},
   "outputs": [
    {
     "data": {
      "text/plain": [
       "RandomForestClassifier(bootstrap=True, class_weight=None, criterion='gini',\n",
       "                       max_depth=None, max_features='auto', max_leaf_nodes=None,\n",
       "                       min_impurity_decrease=0.0, min_impurity_split=None,\n",
       "                       min_samples_leaf=1, min_samples_split=2,\n",
       "                       min_weight_fraction_leaf=0.0, n_estimators=30,\n",
       "                       n_jobs=None, oob_score=False, random_state=None,\n",
       "                       verbose=0, warm_start=False)"
      ]
     },
     "execution_count": 136,
     "metadata": {},
     "output_type": "execute_result"
    }
   ],
   "source": [
    "from sklearn.datasets import make_classification\n",
    "X, y = make_classification(1000)\n",
    "\n",
    "from sklearn.ensemble import RandomForestClassifier\n",
    "rf = RandomForestClassifier(n_estimators=30)\n",
    "rf.fit(X,y)\n",
    "\n",
    "# n_estimators가 10개.. = DT 10개 만들었다는 말"
   ]
  },
  {
   "cell_type": "code",
   "execution_count": 116,
   "metadata": {},
   "outputs": [
    {
     "name": "stdout",
     "output_type": "stream",
     "text": [
      "Accuracy : \t 1.0\n"
     ]
    }
   ],
   "source": [
    "print(\"Accuracy : \\t\", ( y == rf.predict(X) ).mean()) # 1000개에 대한 예측값들의 평균을 구하면?"
   ]
  },
  {
   "cell_type": "code",
   "execution_count": 118,
   "metadata": {},
   "outputs": [
    {
     "data": {
      "text/plain": [
       "Text(0.5, 1.0, 'feature')"
      ]
     },
     "execution_count": 118,
     "metadata": {},
     "output_type": "execute_result"
    },
    {
     "data": {
      "image/png": "[encoded data removed]",
      "text/plain": [
       "<Figure size 504x360 with 1 Axes>"
      ]
     },
     "metadata": {
      "needs_background": "light"
     },
     "output_type": "display_data"
    }
   ],
   "source": [
    "f, ax = plt.subplots(figsize = (7,5))\n",
    "\n",
    "ax.bar(range(0, len(rf.feature_importances_)),\n",
    "      rf.feature_importances_)\n",
    "ax.set_title(\"feature\") # 특성 중요도"
   ]
  },
  {
   "cell_type": "code",
   "execution_count": 119,
   "metadata": {},
   "outputs": [
    {
     "name": "stdout",
     "output_type": "stream",
     "text": [
      "특성수 20\n",
      "모델 [DecisionTreeClassifier(class_weight=None, criterion='gini', max_depth=None,\n",
      "                       max_features='auto', max_leaf_nodes=None,\n",
      "                       min_impurity_decrease=0.0, min_impurity_split=None,\n",
      "                       min_samples_leaf=1, min_samples_split=2,\n",
      "                       min_weight_fraction_leaf=0.0, presort=False,\n",
      "                       random_state=1028558976, splitter='best'), DecisionTreeClassifier(class_weight=None, criterion='gini', max_depth=None,\n",
      "                       max_features='auto', max_leaf_nodes=None,\n",
      "                       min_impurity_decrease=0.0, min_impurity_split=None,\n",
      "                       min_samples_leaf=1, min_samples_split=2,\n",
      "                       min_weight_fraction_leaf=0.0, presort=False,\n",
      "                       random_state=591379110, splitter='best'), DecisionTreeClassifier(class_weight=None, criterion='gini', max_depth=None,\n",
      "                       max_features='auto', max_leaf_nodes=None,\n",
      "                       min_impurity_decrease=0.0, min_impurity_split=None,\n",
      "                       min_samples_leaf=1, min_samples_split=2,\n",
      "                       min_weight_fraction_leaf=0.0, presort=False,\n",
      "                       random_state=839190240, splitter='best'), DecisionTreeClassifier(class_weight=None, criterion='gini', max_depth=None,\n",
      "                       max_features='auto', max_leaf_nodes=None,\n",
      "                       min_impurity_decrease=0.0, min_impurity_split=None,\n",
      "                       min_samples_leaf=1, min_samples_split=2,\n",
      "                       min_weight_fraction_leaf=0.0, presort=False,\n",
      "                       random_state=2111526633, splitter='best'), DecisionTreeClassifier(class_weight=None, criterion='gini', max_depth=None,\n",
      "                       max_features='auto', max_leaf_nodes=None,\n",
      "                       min_impurity_decrease=0.0, min_impurity_split=None,\n",
      "                       min_samples_leaf=1, min_samples_split=2,\n",
      "                       min_weight_fraction_leaf=0.0, presort=False,\n",
      "                       random_state=877525317, splitter='best'), DecisionTreeClassifier(class_weight=None, criterion='gini', max_depth=None,\n",
      "                       max_features='auto', max_leaf_nodes=None,\n",
      "                       min_impurity_decrease=0.0, min_impurity_split=None,\n",
      "                       min_samples_leaf=1, min_samples_split=2,\n",
      "                       min_weight_fraction_leaf=0.0, presort=False,\n",
      "                       random_state=279662598, splitter='best'), DecisionTreeClassifier(class_weight=None, criterion='gini', max_depth=None,\n",
      "                       max_features='auto', max_leaf_nodes=None,\n",
      "                       min_impurity_decrease=0.0, min_impurity_split=None,\n",
      "                       min_samples_leaf=1, min_samples_split=2,\n",
      "                       min_weight_fraction_leaf=0.0, presort=False,\n",
      "                       random_state=2012885494, splitter='best'), DecisionTreeClassifier(class_weight=None, criterion='gini', max_depth=None,\n",
      "                       max_features='auto', max_leaf_nodes=None,\n",
      "                       min_impurity_decrease=0.0, min_impurity_split=None,\n",
      "                       min_samples_leaf=1, min_samples_split=2,\n",
      "                       min_weight_fraction_leaf=0.0, presort=False,\n",
      "                       random_state=1055030635, splitter='best'), DecisionTreeClassifier(class_weight=None, criterion='gini', max_depth=None,\n",
      "                       max_features='auto', max_leaf_nodes=None,\n",
      "                       min_impurity_decrease=0.0, min_impurity_split=None,\n",
      "                       min_samples_leaf=1, min_samples_split=2,\n",
      "                       min_weight_fraction_leaf=0.0, presort=False,\n",
      "                       random_state=1639296480, splitter='best'), DecisionTreeClassifier(class_weight=None, criterion='gini', max_depth=None,\n",
      "                       max_features='auto', max_leaf_nodes=None,\n",
      "                       min_impurity_decrease=0.0, min_impurity_split=None,\n",
      "                       min_samples_leaf=1, min_samples_split=2,\n",
      "                       min_weight_fraction_leaf=0.0, presort=False,\n",
      "                       random_state=760397055, splitter='best'), DecisionTreeClassifier(class_weight=None, criterion='gini', max_depth=None,\n",
      "                       max_features='auto', max_leaf_nodes=None,\n",
      "                       min_impurity_decrease=0.0, min_impurity_split=None,\n",
      "                       min_samples_leaf=1, min_samples_split=2,\n",
      "                       min_weight_fraction_leaf=0.0, presort=False,\n",
      "                       random_state=1572366487, splitter='best'), DecisionTreeClassifier(class_weight=None, criterion='gini', max_depth=None,\n",
      "                       max_features='auto', max_leaf_nodes=None,\n",
      "                       min_impurity_decrease=0.0, min_impurity_split=None,\n",
      "                       min_samples_leaf=1, min_samples_split=2,\n",
      "                       min_weight_fraction_leaf=0.0, presort=False,\n",
      "                       random_state=864418162, splitter='best'), DecisionTreeClassifier(class_weight=None, criterion='gini', max_depth=None,\n",
      "                       max_features='auto', max_leaf_nodes=None,\n",
      "                       min_impurity_decrease=0.0, min_impurity_split=None,\n",
      "                       min_samples_leaf=1, min_samples_split=2,\n",
      "                       min_weight_fraction_leaf=0.0, presort=False,\n",
      "                       random_state=1656184553, splitter='best'), DecisionTreeClassifier(class_weight=None, criterion='gini', max_depth=None,\n",
      "                       max_features='auto', max_leaf_nodes=None,\n",
      "                       min_impurity_decrease=0.0, min_impurity_split=None,\n",
      "                       min_samples_leaf=1, min_samples_split=2,\n",
      "                       min_weight_fraction_leaf=0.0, presort=False,\n",
      "                       random_state=1720229930, splitter='best'), DecisionTreeClassifier(class_weight=None, criterion='gini', max_depth=None,\n",
      "                       max_features='auto', max_leaf_nodes=None,\n",
      "                       min_impurity_decrease=0.0, min_impurity_split=None,\n",
      "                       min_samples_leaf=1, min_samples_split=2,\n",
      "                       min_weight_fraction_leaf=0.0, presort=False,\n",
      "                       random_state=51531228, splitter='best'), DecisionTreeClassifier(class_weight=None, criterion='gini', max_depth=None,\n",
      "                       max_features='auto', max_leaf_nodes=None,\n",
      "                       min_impurity_decrease=0.0, min_impurity_split=None,\n",
      "                       min_samples_leaf=1, min_samples_split=2,\n",
      "                       min_weight_fraction_leaf=0.0, presort=False,\n",
      "                       random_state=624992499, splitter='best'), DecisionTreeClassifier(class_weight=None, criterion='gini', max_depth=None,\n",
      "                       max_features='auto', max_leaf_nodes=None,\n",
      "                       min_impurity_decrease=0.0, min_impurity_split=None,\n",
      "                       min_samples_leaf=1, min_samples_split=2,\n",
      "                       min_weight_fraction_leaf=0.0, presort=False,\n",
      "                       random_state=627633512, splitter='best'), DecisionTreeClassifier(class_weight=None, criterion='gini', max_depth=None,\n",
      "                       max_features='auto', max_leaf_nodes=None,\n",
      "                       min_impurity_decrease=0.0, min_impurity_split=None,\n",
      "                       min_samples_leaf=1, min_samples_split=2,\n",
      "                       min_weight_fraction_leaf=0.0, presort=False,\n",
      "                       random_state=2063537532, splitter='best'), DecisionTreeClassifier(class_weight=None, criterion='gini', max_depth=None,\n",
      "                       max_features='auto', max_leaf_nodes=None,\n",
      "                       min_impurity_decrease=0.0, min_impurity_split=None,\n",
      "                       min_samples_leaf=1, min_samples_split=2,\n",
      "                       min_weight_fraction_leaf=0.0, presort=False,\n",
      "                       random_state=2118648338, splitter='best'), DecisionTreeClassifier(class_weight=None, criterion='gini', max_depth=None,\n",
      "                       max_features='auto', max_leaf_nodes=None,\n",
      "                       min_impurity_decrease=0.0, min_impurity_split=None,\n",
      "                       min_samples_leaf=1, min_samples_split=2,\n",
      "                       min_weight_fraction_leaf=0.0, presort=False,\n",
      "                       random_state=1401689388, splitter='best'), DecisionTreeClassifier(class_weight=None, criterion='gini', max_depth=None,\n",
      "                       max_features='auto', max_leaf_nodes=None,\n",
      "                       min_impurity_decrease=0.0, min_impurity_split=None,\n",
      "                       min_samples_leaf=1, min_samples_split=2,\n",
      "                       min_weight_fraction_leaf=0.0, presort=False,\n",
      "                       random_state=1280793743, splitter='best'), DecisionTreeClassifier(class_weight=None, criterion='gini', max_depth=None,\n",
      "                       max_features='auto', max_leaf_nodes=None,\n",
      "                       min_impurity_decrease=0.0, min_impurity_split=None,\n",
      "                       min_samples_leaf=1, min_samples_split=2,\n",
      "                       min_weight_fraction_leaf=0.0, presort=False,\n",
      "                       random_state=1794840295, splitter='best'), DecisionTreeClassifier(class_weight=None, criterion='gini', max_depth=None,\n",
      "                       max_features='auto', max_leaf_nodes=None,\n",
      "                       min_impurity_decrease=0.0, min_impurity_split=None,\n",
      "                       min_samples_leaf=1, min_samples_split=2,\n",
      "                       min_weight_fraction_leaf=0.0, presort=False,\n",
      "                       random_state=32571741, splitter='best'), DecisionTreeClassifier(class_weight=None, criterion='gini', max_depth=None,\n",
      "                       max_features='auto', max_leaf_nodes=None,\n",
      "                       min_impurity_decrease=0.0, min_impurity_split=None,\n",
      "                       min_samples_leaf=1, min_samples_split=2,\n",
      "                       min_weight_fraction_leaf=0.0, presort=False,\n",
      "                       random_state=1682398622, splitter='best'), DecisionTreeClassifier(class_weight=None, criterion='gini', max_depth=None,\n",
      "                       max_features='auto', max_leaf_nodes=None,\n",
      "                       min_impurity_decrease=0.0, min_impurity_split=None,\n",
      "                       min_samples_leaf=1, min_samples_split=2,\n",
      "                       min_weight_fraction_leaf=0.0, presort=False,\n",
      "                       random_state=2056799534, splitter='best'), DecisionTreeClassifier(class_weight=None, criterion='gini', max_depth=None,\n",
      "                       max_features='auto', max_leaf_nodes=None,\n",
      "                       min_impurity_decrease=0.0, min_impurity_split=None,\n",
      "                       min_samples_leaf=1, min_samples_split=2,\n",
      "                       min_weight_fraction_leaf=0.0, presort=False,\n",
      "                       random_state=443063697, splitter='best'), DecisionTreeClassifier(class_weight=None, criterion='gini', max_depth=None,\n",
      "                       max_features='auto', max_leaf_nodes=None,\n",
      "                       min_impurity_decrease=0.0, min_impurity_split=None,\n",
      "                       min_samples_leaf=1, min_samples_split=2,\n",
      "                       min_weight_fraction_leaf=0.0, presort=False,\n",
      "                       random_state=1869530625, splitter='best'), DecisionTreeClassifier(class_weight=None, criterion='gini', max_depth=None,\n",
      "                       max_features='auto', max_leaf_nodes=None,\n",
      "                       min_impurity_decrease=0.0, min_impurity_split=None,\n",
      "                       min_samples_leaf=1, min_samples_split=2,\n",
      "                       min_weight_fraction_leaf=0.0, presort=False,\n",
      "                       random_state=1138859479, splitter='best'), DecisionTreeClassifier(class_weight=None, criterion='gini', max_depth=None,\n",
      "                       max_features='auto', max_leaf_nodes=None,\n",
      "                       min_impurity_decrease=0.0, min_impurity_split=None,\n",
      "                       min_samples_leaf=1, min_samples_split=2,\n",
      "                       min_weight_fraction_leaf=0.0, presort=False,\n",
      "                       random_state=1389266091, splitter='best'), DecisionTreeClassifier(class_weight=None, criterion='gini', max_depth=None,\n",
      "                       max_features='auto', max_leaf_nodes=None,\n",
      "                       min_impurity_decrease=0.0, min_impurity_split=None,\n",
      "                       min_samples_leaf=1, min_samples_split=2,\n",
      "                       min_weight_fraction_leaf=0.0, presort=False,\n",
      "                       random_state=2054733090, splitter='best')]\n"
     ]
    }
   ],
   "source": [
    "print(\"특성수\", rf.n_features_)\n",
    "print(\"모델\", rf.estimators_)"
   ]
  },
  {
   "cell_type": "code",
   "execution_count": 141,
   "metadata": {},
   "outputs": [
    {
     "name": "stderr",
     "output_type": "stream",
     "text": [
      "C:\\ProgramData\\Anaconda3\\lib\\site-packages\\sklearn\\ensemble\\forest.py:245: FutureWarning: The default value of n_estimators will change from 10 in version 0.20 to 100 in 0.22.\n",
      "  \"10 in version 0.20 to 100 in 0.22.\", FutureWarning)\n"
     ]
    },
    {
     "data": {
      "text/plain": [
       "RandomForestRegressor(bootstrap=True, criterion='mse', max_depth=None,\n",
       "                      max_features='auto', max_leaf_nodes=None,\n",
       "                      min_impurity_decrease=0.0, min_impurity_split=None,\n",
       "                      min_samples_leaf=1, min_samples_split=2,\n",
       "                      min_weight_fraction_leaf=0.0, n_estimators=10,\n",
       "                      n_jobs=None, oob_score=False, random_state=None,\n",
       "                      verbose=0, warm_start=False)"
      ]
     },
     "execution_count": 141,
     "metadata": {},
     "output_type": "execute_result"
    }
   ],
   "source": [
    "# 문제 : load_boston()을 이용해 데이터를 로딩하고 rf로 변수중요도를 출력해보시오\n",
    "\n",
    "from sklearn.datasets import load_boston\n",
    "from sklearn.ensemble import RandomForestRegressor\n",
    "\n",
    "\n",
    "boston = load_boston()\n",
    "X = boston[\"data\"]\n",
    "y = boston[\"target\"]\n",
    "names = boston[\"feature_names\"]\n",
    "\n",
    "rf = RandomForestRegressor()\n",
    "rf.fit(X, y)"
   ]
  },
  {
   "cell_type": "code",
   "execution_count": 144,
   "metadata": {},
   "outputs": [
    {
     "name": "stdout",
     "output_type": "stream",
     "text": [
      "[(0.41, 'RM'), (0.39, 'LSTAT'), (0.06, 'DIS'), (0.04, 'CRIM'), (0.03, 'NOX'), (0.02, 'PTRATIO'), (0.01, 'TAX'), (0.01, 'RAD'), (0.01, 'B'), (0.01, 'AGE'), (0.0, 'ZN'), (0.0, 'INDUS'), (0.0, 'CHAS')]\n"
     ]
    }
   ],
   "source": [
    "print( sorted( zip( map( lambda x : round(x, 2), rf.feature_importances_ ), names ), reverse=True )) # 내림차순"
   ]
  },
  {
   "cell_type": "code",
   "execution_count": 146,
   "metadata": {},
   "outputs": [
    {
     "name": "stdout",
     "output_type": "stream",
     "text": [
      "['CRIM' 'ZN' 'INDUS' 'CHAS' 'NOX' 'RM' 'AGE' 'DIS' 'RAD' 'TAX' 'PTRATIO'\n",
      " 'B' 'LSTAT']\n"
     ]
    },
    {
     "data": {
      "image/png": "[encoded data removed]",
      "text/plain": [
       "<Figure size 504x360 with 1 Axes>"
      ]
     },
     "metadata": {
      "needs_background": "light"
     },
     "output_type": "display_data"
    }
   ],
   "source": [
    "import matplotlib.pyplot as plt\n",
    "\n",
    "f, ax = plt.subplots(figsize = (7,5))\n",
    "ax.bar(range(0, len(rf.feature_importances_)),\n",
    "      rf.feature_importances_)\n",
    "ax.set_title('feature importance')\n",
    "print(names)"
   ]
  },
  {
   "cell_type": "markdown",
   "metadata": {},
   "source": [
    "# 평가 : 예측 - 상관계수 , mse() : mean square error\n",
    "\n",
    "추측값에 대한 정확성 측정 방법"
   ]
  },
  {
   "cell_type": "code",
   "execution_count": 147,
   "metadata": {},
   "outputs": [
    {
     "data": {
      "text/plain": [
       "2.3443707509881424"
      ]
     },
     "execution_count": 147,
     "metadata": {},
     "output_type": "execute_result"
    }
   ],
   "source": [
    "from sklearn.metrics import mean_squared_error, mean_absolute_error, r2_score\n",
    "\n",
    "mean_squared_error(y, rf.predict(X))\n",
    "# 평균 제곱 오차 : 오차의 제곱에 대해 평균을 취한 것\n",
    "# 작을 수록 원본과의 오차가 적은 것이므로\n",
    "# 추측한 값의 정확성이 높은 것"
   ]
  },
  {
   "cell_type": "code",
   "execution_count": 148,
   "metadata": {},
   "outputs": [
    {
     "data": {
      "text/plain": [
       "0.9460474308300393"
      ]
     },
     "execution_count": 148,
     "metadata": {},
     "output_type": "execute_result"
    }
   ],
   "source": [
    "mean_absolute_error(y, rf.predict(X))\n",
    "# 평균 절대 오차 : 모든 절대 오차의 평균..."
   ]
  },
  {
   "cell_type": "code",
   "execution_count": 152,
   "metadata": {},
   "outputs": [
    {
     "data": {
      "text/plain": [
       "0.9722295300078178"
      ]
     },
     "execution_count": 152,
     "metadata": {},
     "output_type": "execute_result"
    }
   ],
   "source": [
    "r2_score(y, rf.predict(X))\n",
    "# 결정계수"
   ]
  },
  {
   "cell_type": "code",
   "execution_count": 154,
   "metadata": {},
   "outputs": [
    {
     "data": {
      "text/plain": [
       "RandomForestClassifier(bootstrap=True, class_weight=None, criterion='gini',\n",
       "                       max_depth=None, max_features='auto', max_leaf_nodes=None,\n",
       "                       min_impurity_decrease=0.0, min_impurity_split=None,\n",
       "                       min_samples_leaf=1, min_samples_split=2,\n",
       "                       min_weight_fraction_leaf=0.0, n_estimators=100,\n",
       "                       n_jobs=None, oob_score=False, random_state=0, verbose=0,\n",
       "                       warm_start=False)"
      ]
     },
     "execution_count": 154,
     "metadata": {},
     "output_type": "execute_result"
    }
   ],
   "source": [
    "from sklearn.datasets import load_breast_cancer\n",
    "from sklearn.model_selection import train_test_split\n",
    "\n",
    "cancer = load_breast_cancer()\n",
    "X_train, X_test, y_train, y_test = train_test_split(cancer.data, cancer.target, random_state=0)\n",
    "forest = RandomForestClassifier(n_estimators = 100, random_state=0)\n",
    "forest.fit(X_train, y_train)"
   ]
  },
  {
   "cell_type": "code",
   "execution_count": 157,
   "metadata": {},
   "outputs": [
    {
     "name": "stdout",
     "output_type": "stream",
     "text": [
      "훈련테스트정확도 : 1.000\n",
      "테스트 세트 정확도 : 0.972\n"
     ]
    }
   ],
   "source": [
    "print(\"훈련테스트정확도 : {:.3f}\".format(forest.score(X_train, y_train)))\n",
    "print(\"테스트 세트 정확도 : {:.3f}\".format(forest.score(X_test, y_test)))"
   ]
  },
  {
   "cell_type": "code",
   "execution_count": 158,
   "metadata": {},
   "outputs": [],
   "source": [
    "from sklearn.tree import export_graphviz\n",
    "\n",
    "export_graphviz(forest.estimators_[0], out_file= \"tree.dot\", class_names=[\"악성\", \"양성\"],\n",
    "               feature_names=cancer.feature_names, impurity=False, filled=True)"
   ]
  },
  {
   "cell_type": "code",
   "execution_count": 159,
   "metadata": {},
   "outputs": [
    {
     "ename": "ModuleNotFoundError",
     "evalue": "No module named 'graphviz'",
     "output_type": "error",
     "traceback": [
      "\u001b[1;31m---------------------------------------------------------------------------\u001b[0m",
      "\u001b[1;31mModuleNotFoundError\u001b[0m                       Traceback (most recent call last)",
      "\u001b[1;32m<ipython-input-159-59457c12426e>\u001b[0m in \u001b[0;36m<module>\u001b[1;34m\u001b[0m\n\u001b[0;32m      1\u001b[0m \u001b[1;32mfrom\u001b[0m \u001b[0mIPython\u001b[0m\u001b[1;33m.\u001b[0m\u001b[0mdisplay\u001b[0m \u001b[1;32mimport\u001b[0m \u001b[0mdisplay\u001b[0m\u001b[1;33m\u001b[0m\u001b[1;33m\u001b[0m\u001b[0m\n\u001b[1;32m----> 2\u001b[1;33m \u001b[1;32mimport\u001b[0m \u001b[0mgraphviz\u001b[0m\u001b[1;33m\u001b[0m\u001b[1;33m\u001b[0m\u001b[0m\n\u001b[0m\u001b[0;32m      3\u001b[0m \u001b[1;32mwith\u001b[0m \u001b[0mopen\u001b[0m\u001b[1;33m(\u001b[0m\u001b[1;34m\"tree.dot\"\u001b[0m\u001b[1;33m,\u001b[0m \u001b[1;34m\"rt\"\u001b[0m\u001b[1;33m,\u001b[0m \u001b[0mencoding\u001b[0m \u001b[1;33m=\u001b[0m \u001b[1;34m\"UTF-8\"\u001b[0m\u001b[1;33m)\u001b[0m \u001b[1;32mas\u001b[0m \u001b[0mf\u001b[0m\u001b[1;33m:\u001b[0m\u001b[1;33m\u001b[0m\u001b[1;33m\u001b[0m\u001b[0m\n\u001b[0;32m      4\u001b[0m     \u001b[0mdot_graph\u001b[0m \u001b[1;33m=\u001b[0m \u001b[0mf\u001b[0m\u001b[1;33m.\u001b[0m\u001b[0mread\u001b[0m\u001b[1;33m(\u001b[0m\u001b[1;33m)\u001b[0m\u001b[1;33m\u001b[0m\u001b[1;33m\u001b[0m\u001b[0m\n\u001b[0;32m      5\u001b[0m \u001b[0mdisplay\u001b[0m\u001b[1;33m(\u001b[0m\u001b[0mgraphviz\u001b[0m\u001b[1;33m.\u001b[0m\u001b[0mSource\u001b[0m\u001b[1;33m(\u001b[0m\u001b[0mdot_graph\u001b[0m\u001b[1;33m)\u001b[0m\u001b[1;33m)\u001b[0m\u001b[1;33m\u001b[0m\u001b[1;33m\u001b[0m\u001b[0m\n",
      "\u001b[1;31mModuleNotFoundError\u001b[0m: No module named 'graphviz'"
     ]
    }
   ],
   "source": [
    "from IPython.display import display\n",
    "import graphviz\n",
    "with open(\"tree.dot\", \"rt\", encoding = \"UTF-8\") as f:\n",
    "    dot_graph = f.read()\n",
    "display(graphviz.Source(dot_graph))\n",
    "display.Image(graphviz.Source(dot_graph))"
   ]
  },
  {
   "cell_type": "code",
   "execution_count": null,
   "metadata": {},
   "outputs": [],
   "source": []
  },
  {
   "cell_type": "code",
   "execution_count": null,
   "metadata": {},
   "outputs": [],
   "source": []
  }
 ],
 "metadata": {
  "kernelspec": {
   "display_name": "Python 3",
   "language": "python",
   "name": "python3"
  },
  "language_info": {
   "codemirror_mode": {
    "name": "ipython",
    "version": 3
   },
   "file_extension": ".py",
   "mimetype": "text/x-python",
   "name": "python",
   "nbconvert_exporter": "python",
   "pygments_lexer": "ipython3",
   "version": "3.7.4"
  }
 },
 "nbformat": 4,
 "nbformat_minor": 2
}
