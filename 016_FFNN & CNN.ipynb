{
 "cells": [
  {
   "cell_type": "code",
   "execution_count": 4,
   "metadata": {},
   "outputs": [],
   "source": [
    "import warnings\n",
    "warnings.filterwarnings(action=\"ignore\")"
   ]
  },
  {
   "cell_type": "markdown",
   "metadata": {},
   "source": [
    "# FFNN\n",
    "- 이미지의 숫자 예측\n",
    "- 0~9까지의 숫자를 이미지화 인식 => 자동차 번호판"
   ]
  },
  {
   "cell_type": "code",
   "execution_count": 5,
   "metadata": {},
   "outputs": [
    {
     "name": "stdout",
     "output_type": "stream",
     "text": [
      "WARNING:tensorflow:From <ipython-input-5-c7897c8ea6d7>:4: read_data_sets (from tensorflow.contrib.learn.python.learn.datasets.mnist) is deprecated and will be removed in a future version.\n",
      "Instructions for updating:\n",
      "Please use alternatives such as official/mnist/dataset.py from tensorflow/models.\n",
      "WARNING:tensorflow:From C:\\Users\\jinxi\\Anaconda3\\envs\\tf-env\\lib\\site-packages\\tensorflow\\contrib\\learn\\python\\learn\\datasets\\mnist.py:260: maybe_download (from tensorflow.contrib.learn.python.learn.datasets.base) is deprecated and will be removed in a future version.\n",
      "Instructions for updating:\n",
      "Please write your own downloading logic.\n",
      "WARNING:tensorflow:From C:\\Users\\jinxi\\Anaconda3\\envs\\tf-env\\lib\\site-packages\\tensorflow\\contrib\\learn\\python\\learn\\datasets\\mnist.py:262: extract_images (from tensorflow.contrib.learn.python.learn.datasets.mnist) is deprecated and will be removed in a future version.\n",
      "Instructions for updating:\n",
      "Please use tf.data to implement this functionality.\n",
      "Extracting /tmp/data/train-images-idx3-ubyte.gz\n",
      "WARNING:tensorflow:From C:\\Users\\jinxi\\Anaconda3\\envs\\tf-env\\lib\\site-packages\\tensorflow\\contrib\\learn\\python\\learn\\datasets\\mnist.py:267: extract_labels (from tensorflow.contrib.learn.python.learn.datasets.mnist) is deprecated and will be removed in a future version.\n",
      "Instructions for updating:\n",
      "Please use tf.data to implement this functionality.\n",
      "Extracting /tmp/data/train-labels-idx1-ubyte.gz\n",
      "WARNING:tensorflow:From C:\\Users\\jinxi\\Anaconda3\\envs\\tf-env\\lib\\site-packages\\tensorflow\\contrib\\learn\\python\\learn\\datasets\\mnist.py:110: dense_to_one_hot (from tensorflow.contrib.learn.python.learn.datasets.mnist) is deprecated and will be removed in a future version.\n",
      "Instructions for updating:\n",
      "Please use tf.one_hot on tensors.\n",
      "Extracting /tmp/data/t10k-images-idx3-ubyte.gz\n",
      "Extracting /tmp/data/t10k-labels-idx1-ubyte.gz\n",
      "WARNING:tensorflow:From C:\\Users\\jinxi\\Anaconda3\\envs\\tf-env\\lib\\site-packages\\tensorflow\\contrib\\learn\\python\\learn\\datasets\\mnist.py:290: DataSet.__init__ (from tensorflow.contrib.learn.python.learn.datasets.mnist) is deprecated and will be removed in a future version.\n",
      "Instructions for updating:\n",
      "Please use alternatives such as official/mnist/dataset.py from tensorflow/models.\n"
     ]
    }
   ],
   "source": [
    "from tensorflow.examples.tutorials.mnist import input_data\n",
    "\n",
    "# target : 100000000\n",
    "mnist = input_data.read_data_sets(\"/tmp/data/\", one_hot=True)\n",
    "import tensorflow as tf"
   ]
  },
  {
   "cell_type": "code",
   "execution_count": 5,
   "metadata": {},
   "outputs": [
    {
     "name": "stdout",
     "output_type": "stream",
     "text": [
      "(128, 784)\n"
     ]
    }
   ],
   "source": [
    "# 128장의 이미지를 랜덤으로 가져와\n",
    "batch_x, batch_y = mnist.train.next_batch(128)\n",
    "print(batch_x.shape) # 128장 * 784 (가로 24 x 세로 24)    이미지가 플랫팅되었다는 의미 이미 된 상태로 나옴\n",
    "learning_rate = 0.1  # 하이퍼 파라미터\n",
    "num_steps = 500      #  epoch 세대   즉, 몇번 반복하냐\n",
    "batch_size = 128     # 미니배치 사이즈 :' 속도를 개선하고 지역해를 해결하기 위해!\n",
    "display_step = 100"
   ]
  },
  {
   "cell_type": "code",
   "execution_count": 6,
   "metadata": {},
   "outputs": [],
   "source": [
    "# 히든 레이어가 2개\n",
    "#                                히든1       히든2     10개인이유? 타겟이 10개니까\n",
    "# input 128 x 784 -> 가중치는? 784 x 256 -> 256 x 256 -> 256 x 10\n",
    "#(픽셀1개를변수로보고있)\n",
    "\n",
    "n_hidden_1 = 256; n_hidden_2 = 256\n",
    "num_input = 784; num_classes = 10 # target : 0~9\n",
    "# 미니배치 사이즈 = 128\n",
    "X = tf.placeholder(\"float\", [None, num_input]) # 128장 x 784픽셀\n",
    "Y = tf.placeholder(\"float\", [None, num_classes]) # 128장 x 10개"
   ]
  },
  {
   "cell_type": "code",
   "execution_count": 7,
   "metadata": {},
   "outputs": [],
   "source": [
    "# 가중치 : 설명력; 계수\n",
    "weights = { # 784x256, 256x256, 256x10\n",
    "    'h1' : tf.Variable(tf.random_normal([num_input, n_hidden_1])),\n",
    "    'h2' : tf.Variable(tf.random_normal([n_hidden_1, n_hidden_2])),\n",
    "    'out' : tf.Variable(tf.random_normal([n_hidden_2, num_classes]))\n",
    "}\n",
    "\n",
    "# 바이어스 : activation 결정\n",
    "bias = { # 가중치 한 덩어리 당 bias 가 반드시 존재\n",
    "    'b1' : tf.Variable(tf.random_normal([n_hidden_1])), # 가중치가 가진 갯수만큼 바이어스 존재\n",
    "    'b2' : tf.Variable(tf.random_normal([n_hidden_2])),\n",
    "    'out' : tf.Variable(tf.random_normal([num_classes]))\n",
    "}"
   ]
  },
  {
   "cell_type": "code",
   "execution_count": 8,
   "metadata": {},
   "outputs": [],
   "source": [
    "def neural_net(x): # 128x784\n",
    "    # 128 x 256 전달 데이터(tensor)\n",
    "    layer_1 = tf.add(tf.matmul(x, weights['h1']), bias['b1'])\n",
    "    # 128 x 256, 256 x 256 -> 128 x 256\n",
    "    layer_2 = tf.add(tf.matmul(layer_1, weights['h2']), bias['b2'])\n",
    "    # 128 x 256, 256 x 256 => 128 x 10\n",
    "    out_layer = tf.matmul(layer_2, weights['out']) + bias['out']\n",
    "    return out_layer"
   ]
  },
  {
   "cell_type": "code",
   "execution_count": 10,
   "metadata": {},
   "outputs": [],
   "source": [
    "logits = neural_net(X)# 128x 10\n",
    "\n",
    "# 경사하강법쓰는 전제 : 미분이 가능해야 -> 분류\n",
    "\n",
    "# 원핫인코드된 값 * log(확률값)\n",
    "# 행렬내적하는거.. \n",
    "loss_op = tf.reduce_mean(tf.nn.softmax_cross_entropy_with_logits_v2(logits=logits, labels=Y))\n",
    "# softmax : 확률값으로 계산\n",
    "\n",
    "# 최적화기 : 기울기, 학습율\n",
    "# adagrad : learning-rate 처음에는 크게 -> 점점 작게 (O까지 가는 경우가 있다..)\n",
    "# propgrad : adaptive 적응적으로.. 점점 줄여가되 현재 상태를 봐가면서 \n",
    "\n",
    "# momentum + propgrad\n",
    "optimizer = tf.train.AdamOptimizer(learning_rate = learning_rate)\n",
    "train_op = optimizer.minimize(loss_op)\n",
    "\n",
    "# 가장 큰 값의 인덱스를 구함(원핫인코딩되어있) -> 인덱스가 타겟\n",
    "correct_pred = tf.equal( tf.argmax(logits, 1), tf.argmax(Y,1) )\n",
    "accuracy = tf.reduce_mean(tf.cast(correct_pred, tf.float32))# cast : 데이터 형변환\n",
    "\n",
    "init = tf.global_variables_initializer()"
   ]
  },
  {
   "cell_type": "code",
   "execution_count": 11,
   "metadata": {},
   "outputs": [
    {
     "name": "stdout",
     "output_type": "stream",
     "text": [
      "Step 1, Minibatch Loss= 9622.2480, Training Accuracy= :.3f\n",
      "테스트 정확도: 0.2513\n",
      "테스트 정확도: 0.4263\n",
      "테스트 정확도: 0.3116\n",
      "테스트 정확도: 0.2516\n",
      "테스트 정확도: 0.4999\n",
      "테스트 정확도: 0.5356\n",
      "테스트 정확도: 0.6427\n",
      "테스트 정확도: 0.5544\n",
      "테스트 정확도: 0.5814\n",
      "테스트 정확도: 0.695\n",
      "테스트 정확도: 0.7124\n",
      "테스트 정확도: 0.7332\n",
      "테스트 정확도: 0.7836\n",
      "테스트 정확도: 0.7692\n",
      "테스트 정확도: 0.7451\n",
      "테스트 정확도: 0.7632\n",
      "테스트 정확도: 0.7943\n",
      "테스트 정확도: 0.8205\n",
      "테스트 정확도: 0.8146\n",
      "테스트 정확도: 0.7842\n",
      "테스트 정확도: 0.7859\n",
      "테스트 정확도: 0.7834\n",
      "테스트 정확도: 0.7821\n",
      "테스트 정확도: 0.8086\n",
      "테스트 정확도: 0.824\n",
      "테스트 정확도: 0.8426\n",
      "테스트 정확도: 0.8525\n",
      "테스트 정확도: 0.8424\n",
      "테스트 정확도: 0.8103\n",
      "테스트 정확도: 0.7999\n",
      "테스트 정확도: 0.8099\n",
      "테스트 정확도: 0.8056\n",
      "테스트 정확도: 0.804\n",
      "테스트 정확도: 0.8041\n",
      "테스트 정확도: 0.8063\n",
      "테스트 정확도: 0.8067\n",
      "테스트 정확도: 0.8121\n",
      "테스트 정확도: 0.8304\n",
      "테스트 정확도: 0.8227\n",
      "테스트 정확도: 0.8145\n",
      "테스트 정확도: 0.8145\n",
      "테스트 정확도: 0.8234\n",
      "테스트 정확도: 0.8224\n",
      "테스트 정확도: 0.8441\n",
      "테스트 정확도: 0.8472\n",
      "테스트 정확도: 0.8487\n",
      "테스트 정확도: 0.8598\n",
      "테스트 정확도: 0.8593\n",
      "테스트 정확도: 0.8458\n",
      "테스트 정확도: 0.8362\n",
      "테스트 정확도: 0.8383\n",
      "테스트 정확도: 0.841\n",
      "테스트 정확도: 0.845\n",
      "테스트 정확도: 0.8475\n",
      "테스트 정확도: 0.8425\n",
      "테스트 정확도: 0.8409\n",
      "테스트 정확도: 0.8269\n",
      "테스트 정확도: 0.8293\n",
      "테스트 정확도: 0.8268\n",
      "테스트 정확도: 0.8394\n",
      "테스트 정확도: 0.8482\n",
      "테스트 정확도: 0.8434\n",
      "테스트 정확도: 0.8293\n",
      "테스트 정확도: 0.8181\n",
      "테스트 정확도: 0.8195\n",
      "테스트 정확도: 0.8252\n",
      "테스트 정확도: 0.841\n",
      "테스트 정확도: 0.8569\n",
      "테스트 정확도: 0.8556\n",
      "테스트 정확도: 0.8479\n",
      "테스트 정확도: 0.8287\n",
      "테스트 정확도: 0.8179\n",
      "테스트 정확도: 0.818\n",
      "테스트 정확도: 0.8323\n",
      "테스트 정확도: 0.8506\n",
      "테스트 정확도: 0.852\n",
      "테스트 정확도: 0.8391\n",
      "테스트 정확도: 0.8259\n",
      "테스트 정확도: 0.822\n",
      "테스트 정확도: 0.8326\n",
      "테스트 정확도: 0.8316\n",
      "테스트 정확도: 0.825\n",
      "테스트 정확도: 0.8279\n",
      "테스트 정확도: 0.8437\n",
      "테스트 정확도: 0.8378\n",
      "테스트 정확도: 0.8265\n",
      "테스트 정확도: 0.8348\n",
      "테스트 정확도: 0.8407\n",
      "테스트 정확도: 0.8398\n",
      "테스트 정확도: 0.8326\n",
      "테스트 정확도: 0.8328\n",
      "테스트 정확도: 0.8434\n",
      "테스트 정확도: 0.8467\n",
      "테스트 정확도: 0.841\n",
      "테스트 정확도: 0.8412\n",
      "테스트 정확도: 0.8371\n",
      "테스트 정확도: 0.8399\n",
      "테스트 정확도: 0.8423\n",
      "테스트 정확도: 0.8475\n",
      "Step 100, Minibatch Loss= 129.1751, Training Accuracy= :.3f\n",
      "테스트 정확도: 0.8535\n",
      "테스트 정확도: 0.8604\n",
      "테스트 정확도: 0.8628\n",
      "테스트 정확도: 0.8637\n",
      "테스트 정확도: 0.864\n",
      "테스트 정확도: 0.8649\n",
      "테스트 정확도: 0.8616\n",
      "테스트 정확도: 0.859\n",
      "테스트 정확도: 0.8604\n",
      "테스트 정확도: 0.8598\n",
      "테스트 정확도: 0.859\n",
      "테스트 정확도: 0.8534\n",
      "테스트 정확도: 0.8493\n",
      "테스트 정확도: 0.8363\n",
      "테스트 정확도: 0.8269\n",
      "테스트 정확도: 0.8428\n",
      "테스트 정확도: 0.8569\n",
      "테스트 정확도: 0.8458\n",
      "테스트 정확도: 0.8364\n",
      "테스트 정확도: 0.8621\n",
      "테스트 정확도: 0.8785\n",
      "테스트 정확도: 0.8761\n",
      "테스트 정확도: 0.8626\n",
      "테스트 정확도: 0.86\n",
      "테스트 정확도: 0.8569\n",
      "테스트 정확도: 0.8462\n",
      "테스트 정확도: 0.8367\n",
      "테스트 정확도: 0.8512\n",
      "테스트 정확도: 0.8669\n",
      "테스트 정확도: 0.867\n",
      "테스트 정확도: 0.8637\n",
      "테스트 정확도: 0.8565\n",
      "테스트 정확도: 0.8469\n",
      "테스트 정확도: 0.8547\n",
      "테스트 정확도: 0.8566\n",
      "테스트 정확도: 0.857\n",
      "테스트 정확도: 0.8553\n",
      "테스트 정확도: 0.8568\n",
      "테스트 정확도: 0.8522\n",
      "테스트 정확도: 0.8495\n",
      "테스트 정확도: 0.8528\n",
      "테스트 정확도: 0.8542\n",
      "테스트 정확도: 0.8531\n",
      "테스트 정확도: 0.8586\n",
      "테스트 정확도: 0.8564\n",
      "테스트 정확도: 0.8593\n",
      "테스트 정확도: 0.8665\n",
      "테스트 정확도: 0.8659\n",
      "테스트 정확도: 0.8577\n",
      "테스트 정확도: 0.8544\n",
      "테스트 정확도: 0.8553\n",
      "테스트 정확도: 0.8415\n",
      "테스트 정확도: 0.825\n",
      "테스트 정확도: 0.8369\n",
      "테스트 정확도: 0.849\n",
      "테스트 정확도: 0.8556\n",
      "테스트 정확도: 0.8633\n",
      "테스트 정확도: 0.8683\n",
      "테스트 정확도: 0.8625\n",
      "테스트 정확도: 0.854\n",
      "테스트 정확도: 0.8514\n",
      "테스트 정확도: 0.8512\n",
      "테스트 정확도: 0.853\n",
      "테스트 정확도: 0.856\n",
      "테스트 정확도: 0.8574\n",
      "테스트 정확도: 0.8491\n",
      "테스트 정확도: 0.8449\n",
      "테스트 정확도: 0.8536\n",
      "테스트 정확도: 0.8618\n",
      "테스트 정확도: 0.8567\n",
      "테스트 정확도: 0.8596\n",
      "테스트 정확도: 0.8685\n",
      "테스트 정확도: 0.869\n",
      "테스트 정확도: 0.8572\n",
      "테스트 정확도: 0.8364\n",
      "테스트 정확도: 0.8397\n",
      "테스트 정확도: 0.8425\n",
      "테스트 정확도: 0.832\n",
      "테스트 정확도: 0.8266\n",
      "테스트 정확도: 0.8495\n",
      "테스트 정확도: 0.8542\n",
      "테스트 정확도: 0.8496\n",
      "테스트 정확도: 0.8647\n",
      "테스트 정확도: 0.8678\n",
      "테스트 정확도: 0.8661\n",
      "테스트 정확도: 0.8594\n",
      "테스트 정확도: 0.8598\n",
      "테스트 정확도: 0.8656\n",
      "테스트 정확도: 0.8675\n",
      "테스트 정확도: 0.8681\n",
      "테스트 정확도: 0.8637\n",
      "테스트 정확도: 0.86\n",
      "테스트 정확도: 0.8597\n",
      "테스트 정확도: 0.8655\n",
      "테스트 정확도: 0.8703\n",
      "테스트 정확도: 0.8693\n",
      "테스트 정확도: 0.866\n",
      "테스트 정확도: 0.8503\n",
      "테스트 정확도: 0.8437\n",
      "테스트 정확도: 0.8571\n",
      "Step 200, Minibatch Loss= 122.6336, Training Accuracy= :.3f\n",
      "테스트 정확도: 0.8655\n",
      "테스트 정확도: 0.8581\n",
      "테스트 정확도: 0.8478\n",
      "테스트 정확도: 0.8487\n",
      "테스트 정확도: 0.8403\n",
      "테스트 정확도: 0.8337\n",
      "테스트 정확도: 0.8351\n",
      "테스트 정확도: 0.8416\n",
      "테스트 정확도: 0.8532\n",
      "테스트 정확도: 0.8679\n",
      "테스트 정확도: 0.8756\n",
      "테스트 정확도: 0.8767\n",
      "테스트 정확도: 0.8804\n",
      "테스트 정확도: 0.8771\n",
      "테스트 정확도: 0.8681\n",
      "테스트 정확도: 0.8578\n",
      "테스트 정확도: 0.8539\n",
      "테스트 정확도: 0.8685\n",
      "테스트 정확도: 0.8747\n",
      "테스트 정확도: 0.8735\n",
      "테스트 정확도: 0.8741\n",
      "테스트 정확도: 0.8743\n",
      "테스트 정확도: 0.8771\n",
      "테스트 정확도: 0.8735\n",
      "테스트 정확도: 0.8658\n",
      "테스트 정확도: 0.8528\n",
      "테스트 정확도: 0.8446\n",
      "테스트 정확도: 0.838\n",
      "테스트 정확도: 0.8433\n",
      "테스트 정확도: 0.8458\n",
      "테스트 정확도: 0.852\n",
      "테스트 정확도: 0.8431\n",
      "테스트 정확도: 0.8462\n",
      "테스트 정확도: 0.8474\n",
      "테스트 정확도: 0.8542\n",
      "테스트 정확도: 0.8574\n",
      "테스트 정확도: 0.8605\n",
      "테스트 정확도: 0.8494\n",
      "테스트 정확도: 0.8244\n",
      "테스트 정확도: 0.8133\n",
      "테스트 정확도: 0.8215\n",
      "테스트 정확도: 0.838\n",
      "테스트 정확도: 0.8394\n",
      "테스트 정확도: 0.8516\n",
      "테스트 정확도: 0.8519\n",
      "테스트 정확도: 0.8497\n",
      "테스트 정확도: 0.8563\n",
      "테스트 정확도: 0.8624\n",
      "테스트 정확도: 0.8641\n",
      "테스트 정확도: 0.8532\n",
      "테스트 정확도: 0.8367\n",
      "테스트 정확도: 0.8226\n",
      "테스트 정확도: 0.823\n",
      "테스트 정확도: 0.8401\n",
      "테스트 정확도: 0.8372\n",
      "테스트 정확도: 0.8369\n",
      "테스트 정확도: 0.8396\n",
      "테스트 정확도: 0.8545\n",
      "테스트 정확도: 0.8515\n",
      "테스트 정확도: 0.8489\n",
      "테스트 정확도: 0.846\n",
      "테스트 정확도: 0.8558\n",
      "테스트 정확도: 0.8644\n",
      "테스트 정확도: 0.8569\n",
      "테스트 정확도: 0.8475\n",
      "테스트 정확도: 0.8433\n",
      "테스트 정확도: 0.848\n",
      "테스트 정확도: 0.8508\n",
      "테스트 정확도: 0.8497\n",
      "테스트 정확도: 0.8342\n",
      "테스트 정확도: 0.8194\n",
      "테스트 정확도: 0.8276\n",
      "테스트 정확도: 0.8465\n",
      "테스트 정확도: 0.8348\n",
      "테스트 정확도: 0.8298\n",
      "테스트 정확도: 0.8413\n",
      "테스트 정확도: 0.854\n",
      "테스트 정확도: 0.8681\n",
      "테스트 정확도: 0.8739\n",
      "테스트 정확도: 0.8618\n",
      "테스트 정확도: 0.85\n",
      "테스트 정확도: 0.8385\n",
      "테스트 정확도: 0.8299\n",
      "테스트 정확도: 0.8449\n",
      "테스트 정확도: 0.8533\n",
      "테스트 정확도: 0.8622\n",
      "테스트 정확도: 0.8618\n",
      "테스트 정확도: 0.8564\n",
      "테스트 정확도: 0.8536\n",
      "테스트 정확도: 0.857\n",
      "테스트 정확도: 0.8657\n",
      "테스트 정확도: 0.8714\n",
      "테스트 정확도: 0.8666\n",
      "테스트 정확도: 0.8548\n",
      "테스트 정확도: 0.8508\n",
      "테스트 정확도: 0.8641\n",
      "테스트 정확도: 0.8757\n",
      "테스트 정확도: 0.8711\n",
      "테스트 정확도: 0.862\n",
      "테스트 정확도: 0.8556\n",
      "Step 300, Minibatch Loss= 49.4484, Training Accuracy= :.3f\n",
      "테스트 정확도: 0.8476\n",
      "테스트 정확도: 0.845\n",
      "테스트 정확도: 0.8497\n",
      "테스트 정확도: 0.8602\n",
      "테스트 정확도: 0.8669\n",
      "테스트 정확도: 0.8679\n",
      "테스트 정확도: 0.8548\n",
      "테스트 정확도: 0.8298\n",
      "테스트 정확도: 0.8375\n",
      "테스트 정확도: 0.8497\n",
      "테스트 정확도: 0.8666\n",
      "테스트 정확도: 0.8709\n",
      "테스트 정확도: 0.8694\n",
      "테스트 정확도: 0.8588\n",
      "테스트 정확도: 0.852\n",
      "테스트 정확도: 0.8519\n",
      "테스트 정확도: 0.8585\n",
      "테스트 정확도: 0.8649\n",
      "테스트 정확도: 0.8644\n",
      "테스트 정확도: 0.8661\n",
      "테스트 정확도: 0.8659\n",
      "테스트 정확도: 0.8555\n",
      "테스트 정확도: 0.8411\n",
      "테스트 정확도: 0.8361\n",
      "테스트 정확도: 0.8379\n",
      "테스트 정확도: 0.8463\n",
      "테스트 정확도: 0.8433\n",
      "테스트 정확도: 0.8188\n",
      "테스트 정확도: 0.7974\n",
      "테스트 정확도: 0.8226\n",
      "테스트 정확도: 0.8409\n",
      "테스트 정확도: 0.8589\n",
      "테스트 정확도: 0.8529\n",
      "테스트 정확도: 0.8526\n",
      "테스트 정확도: 0.8596\n",
      "테스트 정확도: 0.8615\n",
      "테스트 정확도: 0.8612\n",
      "테스트 정확도: 0.8548\n",
      "테스트 정확도: 0.8582\n",
      "테스트 정확도: 0.8699\n",
      "테스트 정확도: 0.8655\n",
      "테스트 정확도: 0.8614\n",
      "테스트 정확도: 0.8594\n",
      "테스트 정확도: 0.8614\n",
      "테스트 정확도: 0.8682\n",
      "테스트 정확도: 0.865\n",
      "테스트 정확도: 0.8439\n",
      "테스트 정확도: 0.8349\n",
      "테스트 정확도: 0.8442\n",
      "테스트 정확도: 0.8629\n",
      "테스트 정확도: 0.8584\n",
      "테스트 정확도: 0.8536\n",
      "테스트 정확도: 0.8524\n",
      "테스트 정확도: 0.8651\n",
      "테스트 정확도: 0.8717\n",
      "테스트 정확도: 0.8696\n",
      "테스트 정확도: 0.871\n",
      "테스트 정확도: 0.867\n",
      "테스트 정확도: 0.8655\n",
      "테스트 정확도: 0.8692\n",
      "테스트 정확도: 0.869\n",
      "테스트 정확도: 0.8628\n",
      "테스트 정확도: 0.8748\n",
      "테스트 정확도: 0.8762\n",
      "테스트 정확도: 0.8627\n",
      "테스트 정확도: 0.8422\n",
      "테스트 정확도: 0.8506\n",
      "테스트 정확도: 0.8654\n",
      "테스트 정확도: 0.8585\n",
      "테스트 정확도: 0.8527\n",
      "테스트 정확도: 0.853\n",
      "테스트 정확도: 0.8525\n",
      "테스트 정확도: 0.8628\n",
      "테스트 정확도: 0.858\n",
      "테스트 정확도: 0.8408\n",
      "테스트 정확도: 0.8281\n",
      "테스트 정확도: 0.8256\n",
      "테스트 정확도: 0.8478\n",
      "테스트 정확도: 0.8685\n",
      "테스트 정확도: 0.8629\n",
      "테스트 정확도: 0.8442\n",
      "테스트 정확도: 0.8339\n",
      "테스트 정확도: 0.8263\n",
      "테스트 정확도: 0.8274\n",
      "테스트 정확도: 0.8511\n",
      "테스트 정확도: 0.8687\n",
      "테스트 정확도: 0.8558\n",
      "테스트 정확도: 0.8295\n",
      "테스트 정확도: 0.7984\n",
      "테스트 정확도: 0.8029\n",
      "테스트 정확도: 0.8351\n",
      "테스트 정확도: 0.8548\n",
      "테스트 정확도: 0.8495\n",
      "테스트 정확도: 0.8394\n",
      "테스트 정확도: 0.8335\n",
      "테스트 정확도: 0.8335\n",
      "테스트 정확도: 0.8303\n",
      "테스트 정확도: 0.8361\n",
      "테스트 정확도: 0.8442\n",
      "테스트 정확도: 0.8415\n",
      "Step 400, Minibatch Loss= 47.5917, Training Accuracy= :.3f\n",
      "테스트 정확도: 0.8423\n",
      "테스트 정확도: 0.845\n",
      "테스트 정확도: 0.8432\n",
      "테스트 정확도: 0.841\n",
      "테스트 정확도: 0.8489\n",
      "테스트 정확도: 0.8444\n",
      "테스트 정확도: 0.8339\n",
      "테스트 정확도: 0.8217\n",
      "테스트 정확도: 0.8359\n",
      "테스트 정확도: 0.8618\n",
      "테스트 정확도: 0.8663\n",
      "테스트 정확도: 0.8567\n",
      "테스트 정확도: 0.8475\n",
      "테스트 정확도: 0.8462\n",
      "테스트 정확도: 0.8469\n",
      "테스트 정확도: 0.8484\n",
      "테스트 정확도: 0.8501\n",
      "테스트 정확도: 0.8412\n",
      "테스트 정확도: 0.8352\n",
      "테스트 정확도: 0.8485\n",
      "테스트 정확도: 0.8671\n",
      "테스트 정확도: 0.8688\n",
      "테스트 정확도: 0.861\n",
      "테스트 정확도: 0.8636\n",
      "테스트 정확도: 0.8709\n",
      "테스트 정확도: 0.8513\n",
      "테스트 정확도: 0.8347\n",
      "테스트 정확도: 0.8207\n",
      "테스트 정확도: 0.8453\n",
      "테스트 정확도: 0.8552\n",
      "테스트 정확도: 0.8622\n",
      "테스트 정확도: 0.8584\n",
      "테스트 정확도: 0.8509\n",
      "테스트 정확도: 0.8448\n",
      "테스트 정확도: 0.8512\n",
      "테스트 정확도: 0.8667\n",
      "테스트 정확도: 0.882\n",
      "테스트 정확도: 0.8788\n",
      "테스트 정확도: 0.862\n",
      "테스트 정확도: 0.8539\n",
      "테스트 정확도: 0.8426\n",
      "테스트 정확도: 0.8368\n",
      "테스트 정확도: 0.8428\n",
      "테스트 정확도: 0.8462\n",
      "테스트 정확도: 0.8481\n",
      "테스트 정확도: 0.8544\n",
      "테스트 정확도: 0.8606\n",
      "테스트 정확도: 0.864\n",
      "테스트 정확도: 0.8657\n",
      "테스트 정확도: 0.8659\n",
      "테스트 정확도: 0.8667\n",
      "테스트 정확도: 0.8632\n",
      "테스트 정확도: 0.8591\n",
      "테스트 정확도: 0.8597\n",
      "테스트 정확도: 0.8509\n",
      "테스트 정확도: 0.8456\n",
      "테스트 정확도: 0.8593\n",
      "테스트 정확도: 0.8704\n",
      "테스트 정확도: 0.8602\n",
      "테스트 정확도: 0.8424\n",
      "테스트 정확도: 0.8406\n",
      "테스트 정확도: 0.8431\n",
      "테스트 정확도: 0.8561\n",
      "테스트 정확도: 0.8733\n",
      "테스트 정확도: 0.871\n",
      "테스트 정확도: 0.8655\n",
      "테스트 정확도: 0.8496\n",
      "테스트 정확도: 0.8428\n",
      "테스트 정확도: 0.8446\n",
      "테스트 정확도: 0.8562\n",
      "테스트 정확도: 0.863\n",
      "테스트 정확도: 0.854\n",
      "테스트 정확도: 0.8521\n",
      "테스트 정확도: 0.8362\n",
      "테스트 정확도: 0.8144\n",
      "테스트 정확도: 0.8225\n",
      "테스트 정확도: 0.8538\n",
      "테스트 정확도: 0.8617\n",
      "테스트 정확도: 0.849\n",
      "테스트 정확도: 0.8402\n",
      "테스트 정확도: 0.8237\n",
      "테스트 정확도: 0.8345\n",
      "테스트 정확도: 0.8488\n",
      "테스트 정확도: 0.8585\n",
      "테스트 정확도: 0.867\n",
      "테스트 정확도: 0.8713\n",
      "테스트 정확도: 0.8759\n",
      "테스트 정확도: 0.8727\n",
      "테스트 정확도: 0.8652\n",
      "테스트 정확도: 0.8684\n",
      "테스트 정확도: 0.8627\n",
      "테스트 정확도: 0.8552\n",
      "테스트 정확도: 0.8473\n",
      "테스트 정확도: 0.8537\n",
      "테스트 정확도: 0.8574\n",
      "테스트 정확도: 0.8673\n",
      "테스트 정확도: 0.8705\n",
      "테스트 정확도: 0.8609\n",
      "테스트 정확도: 0.8631\n"
     ]
    },
    {
     "name": "stdout",
     "output_type": "stream",
     "text": [
      "테스트 정확도: 0.8677\n",
      "Step 500, Minibatch Loss= 23.8734, Training Accuracy= :.3f\n",
      "테스트 정확도: 0.8591\n"
     ]
    }
   ],
   "source": [
    "with tf.Session() as sess: # GPU 네트워크 연결 - > 일반화\n",
    "    sess.run(init)\n",
    "    for step in range(1, num_steps + 1): # 에포크\n",
    "        batch_x, batch_y = mnist.train.next_batch(batch_size) # batch_x : 128 x 784 사이즈 , batch_y : 128x10 \n",
    "        sess.run(train_op, feed_dict = {X:batch_x, Y:batch_y}) # 옵티마이저가 알아서 역전파 진행. 우린 순전파만하면 됨\n",
    "        if step % display_step == 0 or step == 1:\n",
    "            loss, acc = sess.run([loss_op, accuracy],\n",
    "                                feed_dict={X:batch_x, Y:batch_y})\n",
    "            print(\"Step \" + str(step) + \", Minibatch Loss= \" + \"{:.4f}\".format(loss) + \", Training Accuracy= \"+ \":.3f\".format(acc))\n",
    "        print(\"테스트 정확도:\",   # 86% .. 정밀도가 떨어진다.\n",
    "              sess.run(accuracy, feed_dict={X: mnist.test.images, Y:mnist.test.labels}))"
   ]
  },
  {
   "cell_type": "code",
   "execution_count": null,
   "metadata": {},
   "outputs": [],
   "source": []
  },
  {
   "cell_type": "code",
   "execution_count": null,
   "metadata": {},
   "outputs": [],
   "source": []
  },
  {
   "cell_type": "code",
   "execution_count": 6,
   "metadata": {},
   "outputs": [
    {
     "data": {
      "text/html": [
       "<div>\n",
       "<style scoped>\n",
       "    .dataframe tbody tr th:only-of-type {\n",
       "        vertical-align: middle;\n",
       "    }\n",
       "\n",
       "    .dataframe tbody tr th {\n",
       "        vertical-align: top;\n",
       "    }\n",
       "\n",
       "    .dataframe thead th {\n",
       "        text-align: right;\n",
       "    }\n",
       "</style>\n",
       "<table border=\"1\" class=\"dataframe\">\n",
       "  <thead>\n",
       "    <tr style=\"text-align: right;\">\n",
       "      <th></th>\n",
       "      <th>CRIM</th>\n",
       "      <th>ZN</th>\n",
       "      <th>INDUS</th>\n",
       "      <th>CHAS</th>\n",
       "      <th>NOX</th>\n",
       "      <th>RM</th>\n",
       "      <th>AGE</th>\n",
       "      <th>DIS</th>\n",
       "      <th>RAD</th>\n",
       "      <th>TAX</th>\n",
       "      <th>PTRATIO</th>\n",
       "      <th>B</th>\n",
       "      <th>LSTAT</th>\n",
       "      <th>const</th>\n",
       "    </tr>\n",
       "  </thead>\n",
       "  <tbody>\n",
       "    <tr>\n",
       "      <th>501</th>\n",
       "      <td>0.06263</td>\n",
       "      <td>0.0</td>\n",
       "      <td>11.93</td>\n",
       "      <td>0.0</td>\n",
       "      <td>0.573</td>\n",
       "      <td>6.593</td>\n",
       "      <td>69.1</td>\n",
       "      <td>2.4786</td>\n",
       "      <td>1.0</td>\n",
       "      <td>273.0</td>\n",
       "      <td>21.0</td>\n",
       "      <td>391.99</td>\n",
       "      <td>9.67</td>\n",
       "      <td>1.0</td>\n",
       "    </tr>\n",
       "    <tr>\n",
       "      <th>502</th>\n",
       "      <td>0.04527</td>\n",
       "      <td>0.0</td>\n",
       "      <td>11.93</td>\n",
       "      <td>0.0</td>\n",
       "      <td>0.573</td>\n",
       "      <td>6.120</td>\n",
       "      <td>76.7</td>\n",
       "      <td>2.2875</td>\n",
       "      <td>1.0</td>\n",
       "      <td>273.0</td>\n",
       "      <td>21.0</td>\n",
       "      <td>396.90</td>\n",
       "      <td>9.08</td>\n",
       "      <td>1.0</td>\n",
       "    </tr>\n",
       "    <tr>\n",
       "      <th>503</th>\n",
       "      <td>0.06076</td>\n",
       "      <td>0.0</td>\n",
       "      <td>11.93</td>\n",
       "      <td>0.0</td>\n",
       "      <td>0.573</td>\n",
       "      <td>6.976</td>\n",
       "      <td>91.0</td>\n",
       "      <td>2.1675</td>\n",
       "      <td>1.0</td>\n",
       "      <td>273.0</td>\n",
       "      <td>21.0</td>\n",
       "      <td>396.90</td>\n",
       "      <td>5.64</td>\n",
       "      <td>1.0</td>\n",
       "    </tr>\n",
       "    <tr>\n",
       "      <th>504</th>\n",
       "      <td>0.10959</td>\n",
       "      <td>0.0</td>\n",
       "      <td>11.93</td>\n",
       "      <td>0.0</td>\n",
       "      <td>0.573</td>\n",
       "      <td>6.794</td>\n",
       "      <td>89.3</td>\n",
       "      <td>2.3889</td>\n",
       "      <td>1.0</td>\n",
       "      <td>273.0</td>\n",
       "      <td>21.0</td>\n",
       "      <td>393.45</td>\n",
       "      <td>6.48</td>\n",
       "      <td>1.0</td>\n",
       "    </tr>\n",
       "    <tr>\n",
       "      <th>505</th>\n",
       "      <td>0.04741</td>\n",
       "      <td>0.0</td>\n",
       "      <td>11.93</td>\n",
       "      <td>0.0</td>\n",
       "      <td>0.573</td>\n",
       "      <td>6.030</td>\n",
       "      <td>80.8</td>\n",
       "      <td>2.5050</td>\n",
       "      <td>1.0</td>\n",
       "      <td>273.0</td>\n",
       "      <td>21.0</td>\n",
       "      <td>396.90</td>\n",
       "      <td>7.88</td>\n",
       "      <td>1.0</td>\n",
       "    </tr>\n",
       "  </tbody>\n",
       "</table>\n",
       "</div>"
      ],
      "text/plain": [
       "        CRIM   ZN  INDUS  CHAS    NOX     RM   AGE     DIS  RAD    TAX  \\\n",
       "501  0.06263  0.0  11.93   0.0  0.573  6.593  69.1  2.4786  1.0  273.0   \n",
       "502  0.04527  0.0  11.93   0.0  0.573  6.120  76.7  2.2875  1.0  273.0   \n",
       "503  0.06076  0.0  11.93   0.0  0.573  6.976  91.0  2.1675  1.0  273.0   \n",
       "504  0.10959  0.0  11.93   0.0  0.573  6.794  89.3  2.3889  1.0  273.0   \n",
       "505  0.04741  0.0  11.93   0.0  0.573  6.030  80.8  2.5050  1.0  273.0   \n",
       "\n",
       "     PTRATIO       B  LSTAT  const  \n",
       "501     21.0  391.99   9.67    1.0  \n",
       "502     21.0  396.90   9.08    1.0  \n",
       "503     21.0  396.90   5.64    1.0  \n",
       "504     21.0  393.45   6.48    1.0  \n",
       "505     21.0  396.90   7.88    1.0  "
      ]
     },
     "execution_count": 6,
     "metadata": {},
     "output_type": "execute_result"
    }
   ],
   "source": [
    "from sklearn.datasets import load_boston\n",
    "import pandas as pd\n",
    "import numpy as np\n",
    "import tensorflow as tf\n",
    "\n",
    "boston = load_boston()\n",
    "df = pd.DataFrame(boston.data, columns=boston.feature_names)\n",
    "df['const'] = np.ones(df.shape[0])\n",
    "df.tail()"
   ]
  },
  {
   "cell_type": "code",
   "execution_count": 15,
   "metadata": {},
   "outputs": [
    {
     "name": "stdout",
     "output_type": "stream",
     "text": [
      "506 14\n"
     ]
    }
   ],
   "source": [
    "n, m = df.shape\n",
    "print(n,m) # datapoint(관측치) 506개, 변수 14개\n",
    "X = tf.placeholder(tf.float64, shape=(n,m))\n",
    "y = tf.placeholder(tf.float64, shape=(n,1))\n",
    "XT = tf.transpose(X) # 14 x 506"
   ]
  },
  {
   "cell_type": "code",
   "execution_count": 16,
   "metadata": {},
   "outputs": [
    {
     "name": "stdout",
     "output_type": "stream",
     "text": [
      "예측한 집값 :  [18.40613603] 실제 집값 :  18.2\n"
     ]
    }
   ],
   "source": [
    "# 가중치없.. 뭘로 구함? 행렬식으로 구함!\n",
    "# 거듭제곱하면 상관계수가 만들어져\n",
    "# 14 x 506, 506 x 14 => 14x14 상관행렬이 만들어진다.    tf.matmul(XT, X)\n",
    "# 역행렬 14x14    XT 14 x 506   => 14 x 506\n",
    "# 14 x 506 , 506 x 1 = 14x1\n",
    "\n",
    "\n",
    "# y = ax\n",
    "# a = y/x 상관계수 : 변수간의 관계     => 역행렬을 구해\n",
    "\n",
    "# 역행렬을 이용해서 가중치를 결정\n",
    "w = tf.matmul(tf.matmul(tf.matrix_inverse(tf.matmul(XT, X)), XT), y)\n",
    "y_pred = tf.matmul(X, w) # X : 506x14, 가중치 : 14x1  => 506 x1\n",
    "\n",
    "with tf.Session() as sess:\n",
    "    y_pred_ = sess.run(y_pred, feed_dict={X:df.values,\n",
    "                                          y:boston.target.reshape(-1,1)})\n",
    "print(\"예측한 집값 : \", y_pred_[19], \"실제 집값 : \", boston.target[19])"
   ]
  },
  {
   "cell_type": "code",
   "execution_count": null,
   "metadata": {},
   "outputs": [],
   "source": []
  },
  {
   "cell_type": "code",
   "execution_count": 17,
   "metadata": {},
   "outputs": [
    {
     "name": "stdout",
     "output_type": "stream",
     "text": [
      "홀일 때  [0 2 3 0 2 3 0 2 3 0 2 3 0 2 3]\n"
     ]
    }
   ],
   "source": [
    "import tensorflow as tf\n",
    "sess = tf.Session()\n",
    "\n",
    "val = [0,2,3]\n",
    "val = tf.tile(val, [5])\n",
    "print(\"홀일 때 \", sess.run(val))"
   ]
  },
  {
   "cell_type": "code",
   "execution_count": 18,
   "metadata": {},
   "outputs": [
    {
     "name": "stdout",
     "output_type": "stream",
     "text": [
      "2차원일때 [[1 1 1 1 1 1]\n",
      " [2 2 2 2 2 2]\n",
      " [3 3 3 3 3 3]\n",
      " [1 1 1 1 1 1]\n",
      " [2 2 2 2 2 2]\n",
      " [3 3 3 3 3 3]\n",
      " [1 1 1 1 1 1]\n",
      " [2 2 2 2 2 2]\n",
      " [3 3 3 3 3 3]\n",
      " [1 1 1 1 1 1]\n",
      " [2 2 2 2 2 2]\n",
      " [3 3 3 3 3 3]\n",
      " [1 1 1 1 1 1]\n",
      " [2 2 2 2 2 2]\n",
      " [3 3 3 3 3 3]]\n"
     ]
    }
   ],
   "source": [
    "# 타일은 차원을 확대하지는 않음\n",
    "# 차수만 들어남\n",
    "val = [[1,1,1,], [2,2,2], [3,3,3]] # 3x3\n",
    "val = tf.tile(val, [5,2]) # 15x6\n",
    "print(\"2차원일때\", sess.run(val))"
   ]
  },
  {
   "cell_type": "code",
   "execution_count": 19,
   "metadata": {},
   "outputs": [
    {
     "name": "stdout",
     "output_type": "stream",
     "text": [
      "[[ 1.  2.  1.  2.  1.  2.]\n",
      " [ 2.  1.  2.  1.  2.  1.]\n",
      " [-2. -1. -2. -1. -2. -1.]] \n",
      "\n",
      "[[ 1.  2.  1.  2.  1.  2.]\n",
      " [ 2.  1.  2.  1.  2.  1.]\n",
      " [-2. -1. -2. -1. -2. -1.]\n",
      " [ 1.  2.  1.  2.  1.  2.]\n",
      " [ 2.  1.  2.  1.  2.  1.]\n",
      " [-2. -1. -2. -1. -2. -1.]]\n"
     ]
    }
   ],
   "source": [
    "input_vecs = [[1., 2.], [2., 1.], [-2., -1.]]\n",
    "tiled_vecs = tf.tile(input_vecs, [1, 3])\n",
    "print(sess.run(tiled_vecs), '\\n')\n",
    "tiled_vecs = tf.tile(input_vecs, [2, 3])\n",
    "print(sess.run(tiled_vecs))"
   ]
  },
  {
   "cell_type": "code",
   "execution_count": null,
   "metadata": {},
   "outputs": [],
   "source": []
  },
  {
   "cell_type": "markdown",
   "metadata": {},
   "source": [
    "# k means : k가 결정 => 중심이 발생\n",
    "- 각 데이터의 중심값을 빼서 거리값을 계산"
   ]
  },
  {
   "cell_type": "code",
   "execution_count": 12,
   "metadata": {},
   "outputs": [],
   "source": [
    "import numpy as np\n",
    "import matplotlib.pyplot as plt\n",
    "import tensorflow as tf\n",
    "from sklearn import datasets\n",
    "from sklearn.preprocessing import scale\n",
    "from tensorflow.python.framework import ops\n",
    "\n",
    "ops.reset_default_graph() # 그래프 초기화\n",
    "sess = tf.Session()\n",
    "iris = datasets.load_iris() # 아이리스 데이터셋에는 4개의 변수와 타겟이 있다."
   ]
  },
  {
   "cell_type": "code",
   "execution_count": 21,
   "metadata": {},
   "outputs": [],
   "source": [
    "num_pts = len(iris.data) # rows 수\n",
    "num_feats = len(iris.data[0]) # columns 수\n",
    "k=3 # 군집 수\n",
    "generations = 25 # 에포크\n",
    "\n",
    "data_points = tf.Variable(iris.data)\n",
    "\n",
    "# 레이블 변수 : 행 수만큼 0 초기화 된 공간 마련\n",
    "cluster_labels = tf.Variable(tf.zeros([num_pts], dtype=tf.int64)) \n",
    "# 중심 데이터를 k개 만큼 랜덤으로 취함\n",
    "# 중심의 열변수 개수 -> 4개\n",
    "rand_starts = np.array([iris.data[np.random.choice( len(iris.data) )] for _ in range(k)])\n",
    "\n",
    "centroids = tf.Variable(rand_starts) # 중심을 저장하기 위한 변수\n",
    "\n",
    "centroid_matrix = tf.reshape(tf.tile(centroids, [num_pts, 1]), # 중심 3개를 150개로 복붙\n",
    "                             [num_pts, k, num_feats]) # 행수 , 군집수, 열수(150, 3, 4)\n",
    "\n",
    "point_matrix = tf.reshape(tf.tile(data_points, [1, k]), # 데이터셋을 k개만큼 옆으로 복붙\n",
    "                          [num_pts, k, num_feats]) # 상기 매트릭스와 모양일치화\n",
    "\n",
    "# 원래 데이터 - 중심 데이터 = 거리값 (150x3)\n",
    "distances = tf.reduce_sum(tf.square(point_matrix - centroid_matrix), axis=2) # axis=2 : 열\n",
    "\n",
    "centroid_group = tf.argmin(distances, 1)\n",
    "# argmin : 실제값을 대조하여 작은 값의 인덱스 리턴 \n",
    "# 중심거리 1, 중심거리 2, 중심거리 3 중에서 가장 작은 값의 그룹을 빼주겠지요?!"
   ]
  },
  {
   "cell_type": "code",
   "execution_count": 22,
   "metadata": {},
   "outputs": [],
   "source": [
    "# 그룹 별로 거리의 평균을 내는 함수\n",
    "def data_group_avg(group_ids, data):\n",
    "     # unsorted segment sum : 라벨번호 기준으로 값의 합계를 내는\n",
    "    # 라벨번호로 값의 합계 :라벨-값, 그룹이 3개\n",
    "    sum_total = tf.unsorted_segment_sum(data, group_ids, 3)\n",
    "    # 그룹의 전체 개수\n",
    "    # ones_like ? : 1로 되어진 놈을 만들어\n",
    "    num_total = tf.unsorted_segment_sum(tf.ones_like(data), group_ids, 3) \n",
    "    avg_by_group = sum_total / num_total\n",
    "    return (avg_by_group)\n",
    "\n",
    "means = data_group_avg(centroid_group, data_points)\n",
    "# 중심거리를 재계산해서 중심값을 재할당\n",
    "# 업데이트 node를 결정\n",
    "update = tf.group(centroids.assign(means), cluster_labels.assign(centroid_group))\n",
    "\n",
    "init = tf.global_variables_initializer()\n",
    "sess.run(init)"
   ]
  },
  {
   "cell_type": "code",
   "execution_count": 23,
   "metadata": {},
   "outputs": [
    {
     "name": "stdout",
     "output_type": "stream",
     "text": [
      "Calculating gen 0, out of 25.\n",
      "Group counts : [23, 34, 93]\n",
      "Calculating gen 1, out of 25.\n",
      "Group counts : [60, 32, 58]\n",
      "Calculating gen 2, out of 25.\n",
      "Group counts : [64, 35, 51]\n",
      "Calculating gen 3, out of 25.\n",
      "Group counts : [63, 37, 50]\n",
      "Calculating gen 4, out of 25.\n",
      "Group counts : [62, 38, 50]\n",
      "Calculating gen 5, out of 25.\n",
      "Group counts : [62, 38, 50]\n",
      "Calculating gen 6, out of 25.\n",
      "Group counts : [62, 38, 50]\n",
      "Calculating gen 7, out of 25.\n",
      "Group counts : [62, 38, 50]\n",
      "Calculating gen 8, out of 25.\n",
      "Group counts : [62, 38, 50]\n",
      "Calculating gen 9, out of 25.\n",
      "Group counts : [62, 38, 50]\n",
      "Calculating gen 10, out of 25.\n",
      "Group counts : [62, 38, 50]\n",
      "Calculating gen 11, out of 25.\n",
      "Group counts : [62, 38, 50]\n",
      "Calculating gen 12, out of 25.\n",
      "Group counts : [62, 38, 50]\n",
      "Calculating gen 13, out of 25.\n",
      "Group counts : [62, 38, 50]\n",
      "Calculating gen 14, out of 25.\n",
      "Group counts : [62, 38, 50]\n",
      "Calculating gen 15, out of 25.\n",
      "Group counts : [62, 38, 50]\n",
      "Calculating gen 16, out of 25.\n",
      "Group counts : [62, 38, 50]\n",
      "Calculating gen 17, out of 25.\n",
      "Group counts : [62, 38, 50]\n",
      "Calculating gen 18, out of 25.\n",
      "Group counts : [62, 38, 50]\n",
      "Calculating gen 19, out of 25.\n",
      "Group counts : [62, 38, 50]\n",
      "Calculating gen 20, out of 25.\n",
      "Group counts : [62, 38, 50]\n",
      "Calculating gen 21, out of 25.\n",
      "Group counts : [62, 38, 50]\n",
      "Calculating gen 22, out of 25.\n",
      "Group counts : [62, 38, 50]\n",
      "Calculating gen 23, out of 25.\n",
      "Group counts : [62, 38, 50]\n",
      "Calculating gen 24, out of 25.\n",
      "Group counts : [62, 38, 50]\n"
     ]
    }
   ],
   "source": [
    "# 참고 : 파이썬에서 _는 실행의 마지막 결과값\n",
    "\n",
    "for i in range(generations): # 에포크 25\n",
    "    print('Calculating gen {}, out of {}.'.format(i, generations))\n",
    "    \n",
    "    _, centroid_group_count = sess.run([update, centroid_group])\n",
    "    # centroid_group : 그룹번호가 결정\n",
    "    # updata : 군집의 중심값을 재계산하고 그룹을 변경\n",
    "    group_count = []\n",
    "    \n",
    "    for ix in range(k): # 군집별로 카운트. 뭐가 몇개 있는지.\n",
    "        group_count.append(np.sum(centroid_group_count == ix))\n",
    "        \n",
    "    print(\"Group counts : {}\".format(group_count))\n",
    "    \n",
    "# 결정된 중심값, 할당된 군집번호를 받아!\n",
    "[centers, assignments] = sess.run([centroids, cluster_labels])"
   ]
  },
  {
   "cell_type": "code",
   "execution_count": 24,
   "metadata": {},
   "outputs": [
    {
     "name": "stdout",
     "output_type": "stream",
     "text": [
      "Accuracy : 0.89\n"
     ]
    }
   ],
   "source": [
    "def most_common(my_list):\n",
    "    return(max(set(my_list), key=my_list.count)) # set : 키의 중복을 불허 # max 대표성을 띈 라벨을 결정\n",
    "\n",
    "\n",
    "label0 = most_common(list(assignments[0:50])) # 라벨링 : 종별로 라벨링 되어있.\n",
    "label1 = most_common(list(assignments[50:100]))\n",
    "label2 = most_common(list(assignments[100:150]))\n",
    "\n",
    "group0_count = np.sum(assignments[0:50]==label0)\n",
    "group1_count = np.sum(assignments[50:100]==label1)\n",
    "group2_count = np.sum(assignments[100:150]==label2)\n",
    "\n",
    "accuracy = ( group0_count + group1_count + group2_count ) / 150\n",
    "print('Accuracy : {:.2}'.format(accuracy)) # 89% keams로 군집화"
   ]
  },
  {
   "cell_type": "code",
   "execution_count": null,
   "metadata": {},
   "outputs": [],
   "source": []
  },
  {
   "cell_type": "markdown",
   "metadata": {},
   "source": [
    "# TicTacToe Game\n",
    "- turn around game.."
   ]
  },
  {
   "cell_type": "code",
   "execution_count": 103,
   "metadata": {},
   "outputs": [],
   "source": [
    "import csv\n",
    "import random\n",
    "import numpy as np\n",
    "from tensorflow.python.framework import ops\n",
    "\n",
    "ops.reset_default_graph()"
   ]
  },
  {
   "cell_type": "code",
   "execution_count": 104,
   "metadata": {},
   "outputs": [],
   "source": [
    "response = 6\n",
    "batch_size = 50\n",
    "symmetry = ['rotate180', 'rotate90', 'rotate270', 'flip_v', 'flip_h']"
   ]
  },
  {
   "cell_type": "code",
   "execution_count": 105,
   "metadata": {},
   "outputs": [],
   "source": [
    "# 말판\n",
    "def print_board(board):\n",
    "    symbols = ['O', ' ', 'X'] # 유저, 컴퓨터\n",
    "    board_plus1 = [ int(x) + 1 for x in board ]\n",
    "    print(' ' + symbols[board_plus1[0]] + ' | ' + symbols[board_plus1[1]] + ' | ' + symbols[board_plus1[2]])\n",
    "    print('_____________')\n",
    "    print(' ' + symbols[board_plus1[3]] + ' | ' + symbols[board_plus1[4]] + ' | ' + symbols[board_plus1[5]])\n",
    "    print('_____________')\n",
    "    print(' ' + symbols[board_plus1[6]] + ' | ' + symbols[board_plus1[7]] + ' | ' + symbols[board_plus1[8]])"
   ]
  },
  {
   "cell_type": "code",
   "execution_count": 106,
   "metadata": {},
   "outputs": [],
   "source": [
    "# 다양한 경우를 충족하기 위해 변화\n",
    "def get_symmetry(board, response, transformation):\n",
    "    if transformation == 'rotate180':\n",
    "        new_response = 8 - response\n",
    "        return(board[::-1], new_response)\n",
    "    \n",
    "    elif transformation == 'rotate90':\n",
    "        new_response = [6, 3, 0, 7, 4, 1, 8, 5, 2].index(response)\n",
    "        tuple_board = list(zip(*[board[6:9], board[3:6], board[0:3]]))\n",
    "        return ([value for item in tuple_board for value in item], new_response)\n",
    "    \n",
    "    elif transformation == 'rotate270':\n",
    "        new_response = [2, 5, 8, 1, 4, 7, 0, 3, 6].index(response)\n",
    "        tuple_board = list(zip(*[board[0:3], board[3:6], board[6:9]]))[::-1]\n",
    "        return ([value for item in tuple_board for value in item], new_response)\n",
    "    \n",
    "    elif transformation == 'flip_v':\n",
    "        new_response = [6,7,8,3,4,5,0,1,2].index(response)\n",
    "        return (board[6:9] + board[3:6] + board [0:3], new_response)\n",
    "    \n",
    "    elif transformation == 'flip_h':\n",
    "        new_response = [2,1,0, 5,4,3, 8,7,6].index(response)\n",
    "        new_board = board[::-1]\n",
    "        return (board[6:9] + board[3:6] + board[0:3], new_response)\n",
    "    \n",
    "    else:\n",
    "        raise ValueError('해당하는 경우가 없음')"
   ]
  },
  {
   "cell_type": "code",
   "execution_count": 107,
   "metadata": {},
   "outputs": [],
   "source": [
    "# 파이롤 부터 말 규칙 로딩\n",
    "def get_moves_from_csv(csv_file):\n",
    "    moves = []\n",
    "    with open(csv_file, 'rt') as csvfile:\n",
    "        reader = csv.reader(csvfile, delimiter = ',')\n",
    "        for row in reader:\n",
    "            moves.append(([int(x) for x in row[0:9]], int(row[9]))) # 말있는위치, 말놓을위치\n",
    "    return (moves)"
   ]
  },
  {
   "cell_type": "code",
   "execution_count": 108,
   "metadata": {},
   "outputs": [],
   "source": [
    "# 정해진 말 규칙을 다양하게 변화하게 훈련용 데이터 확장\n",
    "# csv에 있는 학습데이터를 보다 많이 활용하고자, 뒤집고 변형하는 등의 방식을 이용\n",
    "\n",
    "def get_rand_move(moves, n=1, rand_transforms=2):\n",
    "    (board, response) = random.choice(moves)\n",
    "    possible_transforms = ['rotate180', 'rotate90', 'rotate270', 'flip_v', 'flip_h']\n",
    "    \n",
    "    for i in range(rand_transforms):\n",
    "        random_transform = random.choice(possible_transforms)\n",
    "        (board, response) = get_symmetry(board, response, random_transform)\n",
    "        \n",
    "    return (board, response)"
   ]
  },
  {
   "cell_type": "code",
   "execution_count": 109,
   "metadata": {},
   "outputs": [],
   "source": [
    "moves = get_moves_from_csv('tictactoe_moves.csv')\n",
    "train_length = 500\n",
    "train_set = []\n",
    "for t in range(train_length):\n",
    "    train_set.append(get_rand_move(moves))"
   ]
  },
  {
   "cell_type": "code",
   "execution_count": 110,
   "metadata": {},
   "outputs": [],
   "source": [
    "def init_weights(shape):\n",
    "    return (tf.Variable(tf.random_normal(shape)))"
   ]
  },
  {
   "cell_type": "code",
   "execution_count": 111,
   "metadata": {},
   "outputs": [],
   "source": [
    "def model(X, A1, A2, bias1, bias2):\n",
    "    layer1 = tf.nn.sigmoid(tf.add(tf.matmul(X,A1), bias1))\n",
    "    layer2 = tf.add(tf.matmul(layer1, A2), bias2)\n",
    "    return (layer2)"
   ]
  },
  {
   "cell_type": "code",
   "execution_count": 112,
   "metadata": {},
   "outputs": [],
   "source": [
    "X = tf.placeholder(dtype=tf.float32, shape=[None, 9]) # 50x9 why? batchsize가 50이니까\n",
    "Y = tf.placeholder(dtype=tf.int32, shape=[None]) # 50x1\n",
    "A1 = init_weights([9,81]) # 들어오는 데이터 50, 나오는 데이터 81\n",
    "bias1 = init_weights([81])\n",
    "A2 = init_weights([81,9]) # 확률값 출력    # 50x9\n",
    "bias2 = init_weights([9])\n",
    "model_output = model(X, A1, A2, bias1, bias2)\n",
    "\n",
    "loss = tf.reduce_mean( # 븐류 : 1~0사이의 확률값(9개 합치면 1되는 거)\n",
    "    tf.nn.sparse_softmax_cross_entropy_with_logits( # 확률값으로 변화\n",
    "    logits = model_output, labels = Y)) # 예측값, 실제값\n",
    "\n",
    "# 학습률 0.025로\n",
    "train_step= tf.train.GradientDescentOptimizer(0.025).minimize(loss)\n",
    "# 가장 큰 값을 가진 인덱스를 리턴\n",
    "prediction = tf.argmax(model_output, 1)\n",
    "\n",
    "sess= tf.Session()\n",
    "init = tf.global_variables_initializer()\n",
    "sess.run(init)"
   ]
  },
  {
   "cell_type": "code",
   "execution_count": 113,
   "metadata": {},
   "outputs": [
    {
     "name": "stdout",
     "output_type": "stream",
     "text": [
      "iteration 0 Loss: 6.288127\n",
      "iteration 500 Loss: 2.1518044\n",
      "iteration 1000 Loss: 1.5697345\n",
      "iteration 1500 Loss: 1.6251618\n",
      "iteration 2000 Loss: 1.533291\n",
      "iteration 2500 Loss: 1.2673748\n",
      "iteration 3000 Loss: 1.3820944\n",
      "iteration 3500 Loss: 1.1191764\n",
      "iteration 4000 Loss: 1.3168311\n",
      "iteration 4500 Loss: 1.2799501\n",
      "iteration 5000 Loss: 1.2729343\n",
      "iteration 5500 Loss: 1.0996656\n",
      "iteration 6000 Loss: 1.3857849\n",
      "iteration 6500 Loss: 1.2124952\n",
      "iteration 7000 Loss: 1.0546172\n",
      "iteration 7500 Loss: 1.111606\n",
      "iteration 8000 Loss: 0.97456306\n",
      "iteration 8500 Loss: 1.041961\n",
      "iteration 9000 Loss: 0.96213204\n",
      "iteration 9500 Loss: 1.0998031\n"
     ]
    }
   ],
   "source": [
    "# 학습시키기\n",
    "loss_vec = []\n",
    "for i in range(10000):\n",
    "    # 50개를 임의적으로 선택\n",
    "    rand_indices = np.random.choice(range(len(train_set)), batch_size, replace=False )\n",
    "    # 선택한 인덱스의 데이터\n",
    "    batch_data = [train_set[i] for i in rand_indices]\n",
    "    \n",
    "    x_input = [x[0] for x in batch_data] # 말판 리스트\n",
    "    y_target = np.array( [y[1] for y in batch_data] ) # 어디놓는가\n",
    "\n",
    "    sess.run(train_step, feed_dict={X:x_input, Y:y_target})\n",
    "    temp_loss = sess.run(loss, feed_dict={X:x_input, Y:y_target})\n",
    "    loss_vec.append(temp_loss)\n",
    "    if i % 500 == 0 :\n",
    "        print('iteration ' + str(i) + ' Loss: ' + str(temp_loss))"
   ]
  },
  {
   "cell_type": "code",
   "execution_count": 114,
   "metadata": {},
   "outputs": [],
   "source": [
    "test_board = [-1, 0, 0, 1, -1, -1, 0, 0, 1]\n",
    "train_set = [x for x in train_set if x[0] != test_board]"
   ]
  },
  {
   "cell_type": "code",
   "execution_count": 115,
   "metadata": {},
   "outputs": [],
   "source": [
    "# 게임 승패 결정\n",
    "def check(board):\n",
    "    wins = [[0,1,2], [3,4,5], [6,7,8], [0,3,6], [1,4,7], [2,5,8], [0,4,8], [2,4,6]]\n",
    "    for i in range(len(wins)):\n",
    "        if board[wins[i][0]] == board[wins[i][1]] == board[wins[i][2]] == 1 :\n",
    "            return (1)\n",
    "        elif board[wins[i][0]] == board[wins[i][1]] == board[wins[i][2]] == -1:\n",
    "            return (-1)\n",
    "    return(0)"
   ]
  },
  {
   "cell_type": "code",
   "execution_count": 118,
   "metadata": {},
   "outputs": [
    {
     "name": "stdout",
     "output_type": "stream",
     "text": [
      "이동하고 싶은 인덱스를 입력하시오 (0-8) : 0\n",
      "모델이 이동하였습니다.\n",
      " X |   |  \n",
      "________________\n",
      "   |   |  \n",
      "________________\n",
      "   |   | O\n",
      "________________\n",
      "이동하고 싶은 인덱스를 입력하시오 (0-8) : 0\n",
      "모델이 이동하였습니다.\n",
      " X |   |  \n",
      "________________\n",
      "   | O |  \n",
      "________________\n",
      "   |   | O\n",
      "________________\n",
      "이동하고 싶은 인덱스를 입력하시오 (0-8) : 0\n",
      "모델이 이동하였습니다.\n",
      " X |   |  \n",
      "________________\n",
      "   | O |  \n",
      "________________\n",
      " O |   | O\n",
      "________________\n",
      "이동하고 싶은 인덱스를 입력하시오 (0-8) : 1\n",
      "모델이 이동하였습니다.\n",
      " X | X | O\n",
      "________________\n",
      "   | O |  \n",
      "________________\n",
      " O |   | O\n",
      "________________\n",
      "게임 종료 ! 게임에 지셨습니다!!\n"
     ]
    }
   ],
   "source": [
    "game_tracker = [0.,0.,0.,0.,0.,0.,0.,0.,0.]\n",
    "win_logical = False\n",
    "num_moves = 0\n",
    "\n",
    "# 게임은 무한루프로 돌아간다.\n",
    "while not win_logical:\n",
    "    player_index = input('이동하고 싶은 인덱스를 입력하시오 (0-8) : ')\n",
    "    num_moves += 1\n",
    "    \n",
    "    #사람의 선택 1\n",
    "    game_tracker[int(player_index)] = 1.\n",
    "    [potential_moves] = sess.run(model_output, feed_dict={X:[game_tracker]})\n",
    "    \n",
    "    # 말여부를 확인해서 가능한 값을 선택\n",
    "    allowed_moves = [ ix for ix, x in enumerate(game_tracker) if x==0.0 ] \n",
    "    # 말 놓기가 가능한 위치를 선택했는지 확인\n",
    "    # 큰 확률값이 있는 곳이 선택되어진다\n",
    "    model_move = np.argmax( [x if ix in allowed_moves else -999.0\n",
    "                             # 순번, 값\n",
    "                             for ix, x in enumerate(potential_moves)] )\n",
    "    # 컴퓨터의 선택 -1\n",
    "    game_tracker[int(model_move)] = -1.\n",
    "    print('모델이 이동하였습니다.')\n",
    "    print_board(game_tracker) # 이부분을 GUI방식으로 표현하면 그럴듯한 게임이 되..\n",
    "    \n",
    "    if check(game_tracker) == 1 or num_moves >= 20: # 20번이상진행되도 사람의 승리로\n",
    "        print('게임 종료! 승리하셨습니다.')\n",
    "        win_logical = True\n",
    "        \n",
    "    elif check(game_tracker) == -1:\n",
    "        print('게임 종료 ! 게임에 지셨습니다!!')\n",
    "        win_logical = True"
   ]
  },
  {
   "cell_type": "code",
   "execution_count": null,
   "metadata": {},
   "outputs": [],
   "source": []
  },
  {
   "cell_type": "code",
   "execution_count": 7,
   "metadata": {},
   "outputs": [],
   "source": [
    "import os\n",
    "\n",
    "def save_fig(fig_id, tight_layout=True):\n",
    "    path = os.path.join(\"./images/\", fig_id + \".png\")\n",
    "    print(\"Saving figure\", fig_id)\n",
    "    if tight_layout:\n",
    "        plt.tight_layout()\n",
    "    plt.savefig(path, format='png', dpi=300) # dpi : dot per inch"
   ]
  },
  {
   "cell_type": "code",
   "execution_count": 8,
   "metadata": {},
   "outputs": [],
   "source": [
    "def reset_graph(seed=42):\n",
    "    tf.reset_default_graph()\n",
    "    tf.set_random_seed(seed)\n",
    "    np.random.seed(seed)"
   ]
  },
  {
   "cell_type": "code",
   "execution_count": 9,
   "metadata": {},
   "outputs": [],
   "source": [
    "from sklearn.datasets import load_sample_image\n",
    "\n",
    "china = load_sample_image('china.jpg')\n",
    "# 150:220, 130:250\n",
    "# 70(height; 행), 120(width; 열)\n",
    "image = china[150:220, 130:250] # clipping 배열 중의 일부만 뽑아냄\n",
    "height, width, channels = image.shape\n",
    "\n",
    "# 0~255\n",
    "# rgb 3개값을 평균을 내는거니 흑백이 되는...\n",
    "image_grayscale = image.mean(axis=2).astype(np.float32) \n",
    "images = image_grayscale.reshape(1, height, width, 1) #확장!"
   ]
  },
  {
   "cell_type": "code",
   "execution_count": 23,
   "metadata": {},
   "outputs": [],
   "source": [
    "# 흑백\n",
    "def plot_image(image):\n",
    "    plt.imshow(image, cmap=\"gray\", interpolation = \"nearest\") # interpolation 보간법 nearest 없는자리는 가까운걸로 줘라\n",
    "    plt.axis(\"off\")# 이미지니까 축 생략\n",
    "\n",
    "# 컬러\n",
    "def plot_color_image(image):\n",
    "    plt.imshow(image.astype(np.uint8), interpolation = \"nearest\")\n",
    "    plt.axis(\"off\")"
   ]
  },
  {
   "cell_type": "code",
   "execution_count": 24,
   "metadata": {},
   "outputs": [
    {
     "data": {
      "image/png": "[encoded data removed]",
      "text/plain": [
       "<Figure size 432x288 with 1 Axes>"
      ]
     },
     "metadata": {
      "needs_background": "light"
     },
     "output_type": "display_data"
    }
   ],
   "source": [
    "plot_image(image_grayscale)"
   ]
  },
  {
   "cell_type": "code",
   "execution_count": 16,
   "metadata": {},
   "outputs": [
    {
     "data": {
      "image/png": "[encoded data removed]",
      "text/plain": [
       "<Figure size 432x288 with 1 Axes>"
      ]
     },
     "metadata": {
      "needs_background": "light"
     },
     "output_type": "display_data"
    }
   ],
   "source": [
    "plot_color_image(images)"
   ]
  },
  {
   "cell_type": "code",
   "execution_count": 25,
   "metadata": {},
   "outputs": [
    {
     "name": "stdout",
     "output_type": "stream",
     "text": [
      "[[0. 0. 0. 1. 0. 0. 0.]\n",
      " [0. 0. 0. 1. 0. 0. 0.]\n",
      " [0. 0. 0. 1. 0. 0. 0.]\n",
      " [0. 0. 0. 1. 0. 0. 0.]\n",
      " [0. 0. 0. 1. 0. 0. 0.]\n",
      " [0. 0. 0. 1. 0. 0. 0.]\n",
      " [0. 0. 0. 1. 0. 0. 0.]] \n",
      "\n",
      "[[0. 0. 0. 0. 0. 0. 0.]\n",
      " [0. 0. 0. 0. 0. 0. 0.]\n",
      " [0. 0. 0. 0. 0. 0. 0.]\n",
      " [1. 1. 1. 1. 1. 1. 1.]\n",
      " [0. 0. 0. 0. 0. 0. 0.]\n",
      " [0. 0. 0. 0. 0. 0. 0.]\n",
      " [0. 0. 0. 0. 0. 0. 0.]]\n"
     ]
    }
   ],
   "source": [
    "# 필터 (필터높이, 필터가로, 입력채널, 출력채널 순으로 데이터를 만들..)\n",
    "# 필터 2개\n",
    "\n",
    "# 필터 하나가 하나의 특징을 만들어내는 거\n",
    "\n",
    "import numpy as np\n",
    "fmap = np.zeros(shape=(7,7,1,2), dtype=np.float32)\n",
    "fmap[:, 3, 0, 0] = 1 # 01234567  3이 중앙 중앙을 1로 줘라    # 0은 검은색 1은 흰색\n",
    "fmap[3, :, 0, 1] = 1 # 행 중앙 1 줘라\n",
    "print(fmap[:, :, 0, 0],'\\n')\n",
    "print(fmap[:, :, 0, 1])"
   ]
  },
  {
   "cell_type": "code",
   "execution_count": 26,
   "metadata": {},
   "outputs": [
    {
     "data": {
      "image/png": "[encoded data removed]",
      "text/plain": [
       "<Figure size 432x288 with 1 Axes>"
      ]
     },
     "metadata": {
      "needs_background": "light"
     },
     "output_type": "display_data"
    },
    {
     "data": {
      "image/png": "[encoded data removed]",
      "text/plain": [
       "<Figure size 432x288 with 1 Axes>"
      ]
     },
     "metadata": {
      "needs_background": "light"
     },
     "output_type": "display_data"
    }
   ],
   "source": [
    "plot_image(fmap[:,:,0,0]) # 세로흰색\n",
    "plt.show()\n",
    "\n",
    "plot_image(fmap[:,:,0,1]) # 가로흰색\n",
    "plt.show()"
   ]
  },
  {
   "cell_type": "code",
   "execution_count": null,
   "metadata": {},
   "outputs": [],
   "source": []
  },
  {
   "cell_type": "code",
   "execution_count": 28,
   "metadata": {},
   "outputs": [],
   "source": [
    "reset_graph()\n",
    "X = tf.placeholder(tf.float32, shape=(None, height, width, 1)) # 몇장인가, 높이, 가로, 채널수\n",
    "feature_maps = tf.constant(fmap) # 필터를 상수로\n",
    "# convolution은 1d(텍스트), 2d(이미지), 3d가 있다. 3d(동영상)\n",
    "# 파라미터 : 데이터, 필터, 몇칸건너뛸지, 패딩\n",
    "# 150:220, 130:250\n",
    "# 70(height; 행) x 120(width; 열)  ->  70 x 120  same이니까\n",
    "# 64 x 114 (패딩 same이 아니면)\n",
    "\n",
    "# convo lution, filter, padding, strides\n",
    "convolution = tf.nn.conv2d(X, feature_maps, strides=[1,1,1,1], padding=\"SAME\", use_cudnn_on_gpu=False)\n",
    "\n",
    "# pooling은 별도로 진행"
   ]
  },
  {
   "cell_type": "code",
   "execution_count": 29,
   "metadata": {},
   "outputs": [],
   "source": [
    "with tf.Session() as sess:\n",
    "    output = convolution.eval(feed_dict={X:images})"
   ]
  },
  {
   "cell_type": "code",
   "execution_count": 30,
   "metadata": {},
   "outputs": [
    {
     "name": "stdout",
     "output_type": "stream",
     "text": [
      "Saving figure china_original\n"
     ]
    },
    {
     "data": {
      "image/png": "[encoded data removed]",
      "text/plain": [
       "<Figure size 432x288 with 1 Axes>"
      ]
     },
     "metadata": {
      "needs_background": "light"
     },
     "output_type": "display_data"
    }
   ],
   "source": [
    "plot_image(images[0, :, :, 0])\n",
    "save_fig(\"china_original\", tight_layout=False)\n",
    "plt.show()"
   ]
  },
  {
   "cell_type": "code",
   "execution_count": 31,
   "metadata": {},
   "outputs": [
    {
     "name": "stdout",
     "output_type": "stream",
     "text": [
      "Saving figure china_vertical\n"
     ]
    },
    {
     "data": {
      "image/png": "[encoded data removed]",
      "text/plain": [
       "<Figure size 432x288 with 1 Axes>"
      ]
     },
     "metadata": {
      "needs_background": "light"
     },
     "output_type": "display_data"
    }
   ],
   "source": [
    "# 2장의 이미지 : 필터가 다르면 특징도 다르게 잡힌다!\n",
    "\n",
    "plot_image(output[0, :, :, 0]) # 0번 필터 적용  세로줄.. 상하의 특징만 고려됨\n",
    "save_fig(\"china_vertical\", tight_layout=False)\n",
    "plt.show()"
   ]
  },
  {
   "cell_type": "code",
   "execution_count": 32,
   "metadata": {},
   "outputs": [
    {
     "name": "stdout",
     "output_type": "stream",
     "text": [
      "Saving figure china_horizontal\n"
     ]
    },
    {
     "data": {
      "image/png": "[encoded data removed]",
      "text/plain": [
       "<Figure size 432x288 with 1 Axes>"
      ]
     },
     "metadata": {
      "needs_background": "light"
     },
     "output_type": "display_data"
    }
   ],
   "source": [
    "plot_image(output[0, :, :, 1]) # 1번 필터 적용 가로줄.. 좌우의 특징만 고려됨\n",
    "save_fig(\"china_horizontal\", tight_layout=False)\n",
    "plt.show()\n",
    "\n",
    "# 실제로 할때는 랜덤으로 필터만들어서 학습을 통해 필터가 자리를 잡아가도록 한다."
   ]
  },
  {
   "cell_type": "code",
   "execution_count": null,
   "metadata": {},
   "outputs": [],
   "source": []
  },
  {
   "cell_type": "code",
   "execution_count": null,
   "metadata": {},
   "outputs": [],
   "source": []
  }
 ],
 "metadata": {
  "kernelspec": {
   "display_name": "Python 3",
   "language": "python",
   "name": "python3"
  },
  "language_info": {
   "codemirror_mode": {
    "name": "ipython",
    "version": 3
   },
   "file_extension": ".py",
   "mimetype": "text/x-python",
   "name": "python",
   "nbconvert_exporter": "python",
   "pygments_lexer": "ipython3",
   "version": "3.7.0"
  }
 },
 "nbformat": 4,
 "nbformat_minor": 4
}
