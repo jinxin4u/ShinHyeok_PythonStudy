{
 "cells": [
  {
   "cell_type": "code",
   "execution_count": 1,
   "metadata": {},
   "outputs": [
    {
     "ename": "NameError",
     "evalue": "name 'K' is not defined",
     "output_type": "error",
     "traceback": [
      "\u001b[1;31m---------------------------------------------------------------------------\u001b[0m",
      "\u001b[1;31mNameError\u001b[0m                                 Traceback (most recent call last)",
      "\u001b[1;32m<ipython-input-1-87b5e0bbc5e2>\u001b[0m in \u001b[0;36m<module>\u001b[1;34m\u001b[0m\n\u001b[0;32m      1\u001b[0m \u001b[1;31m# CNN\u001b[0m\u001b[1;33m\u001b[0m\u001b[1;33m\u001b[0m\u001b[1;33m\u001b[0m\u001b[0m\n\u001b[1;32m----> 2\u001b[1;33m \u001b[0mK\u001b[0m\u001b[1;33m.\u001b[0m\u001b[0mset_image_data_format\u001b[0m\u001b[1;33m(\u001b[0m\u001b[1;34m'channels_first'\u001b[0m\u001b[1;33m)\u001b[0m  \u001b[1;31m# channels_last\u001b[0m\u001b[1;33m\u001b[0m\u001b[1;33m\u001b[0m\u001b[0m\n\u001b[0m",
      "\u001b[1;31mNameError\u001b[0m: name 'K' is not defined"
     ]
    }
   ],
   "source": [
    "# CNN\n",
    "K.set_image_data_format('channels_first')  # channels_last\n"
   ]
  },
  {
   "cell_type": "code",
   "execution_count": 13,
   "metadata": {},
   "outputs": [
    {
     "name": "stdout",
     "output_type": "stream",
     "text": [
      "[name: \"/device:CPU:0\"\n",
      "device_type: \"CPU\"\n",
      "memory_limit: 268435456\n",
      "locality {\n",
      "}\n",
      "incarnation: 8876807253309446307\n",
      ", name: \"/device:GPU:0\"\n",
      "device_type: \"GPU\"\n",
      "memory_limit: 1406107238\n",
      "locality {\n",
      "  bus_id: 1\n",
      "  links {\n",
      "  }\n",
      "}\n",
      "incarnation: 7426477073260040230\n",
      "physical_device_desc: \"device: 0, name: GeForce GTX 1050, pci bus id: 0000:01:00.0, compute capability: 6.1\"\n",
      "]\n"
     ]
    }
   ],
   "source": [
    "from tensorflow.python.client import device_lib\n",
    "print(device_lib.list_local_devices())"
   ]
  },
  {
   "cell_type": "code",
   "execution_count": 1,
   "metadata": {},
   "outputs": [
    {
     "name": "stderr",
     "output_type": "stream",
     "text": [
      "Using TensorFlow backend.\n"
     ]
    },
    {
     "data": {
      "text/plain": [
       "'/device:GPU:0'"
      ]
     },
     "execution_count": 1,
     "metadata": {},
     "output_type": "execute_result"
    }
   ],
   "source": [
    "%matplotlib inline\n",
    "import matplotlib.pyplot as plt\n",
    "import keras\n",
    "from keras.datasets import mnist\n",
    "from keras.models import Sequential\n",
    "from keras.layers import Dense, Dropout, Flatten\n",
    "from keras.layers import Conv2D, MaxPooling2D\n",
    "from keras import backend as K\n",
    "import tensorflow as tf\n",
    "tf.test.gpu_device_name()"
   ]
  },
  {
   "cell_type": "code",
   "execution_count": 2,
   "metadata": {},
   "outputs": [],
   "source": [
    "batch_size = 128\n",
    "num_classes = 10\n",
    "epochs = 12\n",
    "img_rows, img_cols = 28, 28\n",
    "(x_train, y_train), (x_test, y_test) = mnist.load_data()"
   ]
  },
  {
   "cell_type": "code",
   "execution_count": 3,
   "metadata": {},
   "outputs": [
    {
     "data": {
      "text/plain": [
       "<matplotlib.image.AxesImage at 0x1fe5ad1ae48>"
      ]
     },
     "execution_count": 3,
     "metadata": {},
     "output_type": "execute_result"
    },
    {
     "data": {
      "image/png": "[encoded data removed]",
      "text/plain": [
       "<Figure size 432x288 with 1 Axes>"
      ]
     },
     "metadata": {
      "needs_background": "light"
     },
     "output_type": "display_data"
    }
   ],
   "source": [
    "first_image = x_train[0,:,:]\n",
    "plt.imshow(first_image, cmap = plt.cm.Greys)"
   ]
  },
  {
   "cell_type": "code",
   "execution_count": 4,
   "metadata": {},
   "outputs": [
    {
     "name": "stdout",
     "output_type": "stream",
     "text": [
      "(60000, 28, 28, 1)\n",
      "(10000, 28, 28, 1)\n"
     ]
    }
   ],
   "source": [
    "# channel_first , channel_last\n",
    "\n",
    "#x_train = x_train.reshape(x_train.shape[0],1,28,28)\n",
    "#x_test = x_test.reshape(x_test.shape[0],1,28,28)\n",
    "x_train = x_train.reshape(x_train.shape[0],28,28,1)\n",
    "x_test = x_test.reshape(x_test.shape[0],28,28,1)\n",
    "print(x_train.shape)\n",
    "print(x_test.shape)"
   ]
  },
  {
   "cell_type": "code",
   "execution_count": 5,
   "metadata": {},
   "outputs": [
    {
     "name": "stdout",
     "output_type": "stream",
     "text": [
      "x_train shape (60000, 28, 28, 1)\n",
      "60000  train sample\n",
      "10000  test sample\n"
     ]
    }
   ],
   "source": [
    "x_train = x_train.astype('float32')   # 타입 변경 ( 255로 나누기 위해서 )\n",
    "x_test = x_test.astype('float32')\n",
    "x_train /= 255\n",
    "x_test /= 255\n",
    "print('x_train shape', x_train.shape)\n",
    "print(x_train.shape[0] , ' train sample')\n",
    "print(x_test.shape[0], ' test sample')\n",
    "y_train = keras.utils.to_categorical(y_train, num_classes)\n",
    "y_test = keras.utils.to_categorical(y_test, num_classes)"
   ]
  },
  {
   "cell_type": "code",
   "execution_count": null,
   "metadata": {},
   "outputs": [],
   "source": []
  },
  {
   "cell_type": "code",
   "execution_count": 6,
   "metadata": {},
   "outputs": [
    {
     "name": "stdout",
     "output_type": "stream",
     "text": [
      "WARNING:tensorflow:From C:\\Users\\ICT01_02\\Anaconda3\\envs\\jeju\\lib\\site-packages\\keras\\backend\\tensorflow_backend.py:74: The name tf.get_default_graph is deprecated. Please use tf.compat.v1.get_default_graph instead.\n",
      "\n",
      "WARNING:tensorflow:From C:\\Users\\ICT01_02\\Anaconda3\\envs\\jeju\\lib\\site-packages\\keras\\backend\\tensorflow_backend.py:517: The name tf.placeholder is deprecated. Please use tf.compat.v1.placeholder instead.\n",
      "\n",
      "WARNING:tensorflow:From C:\\Users\\ICT01_02\\Anaconda3\\envs\\jeju\\lib\\site-packages\\keras\\backend\\tensorflow_backend.py:4138: The name tf.random_uniform is deprecated. Please use tf.random.uniform instead.\n",
      "\n",
      "WARNING:tensorflow:From C:\\Users\\ICT01_02\\Anaconda3\\envs\\jeju\\lib\\site-packages\\keras\\backend\\tensorflow_backend.py:3976: The name tf.nn.max_pool is deprecated. Please use tf.nn.max_pool2d instead.\n",
      "\n",
      "WARNING:tensorflow:From C:\\Users\\ICT01_02\\Anaconda3\\envs\\jeju\\lib\\site-packages\\keras\\backend\\tensorflow_backend.py:133: The name tf.placeholder_with_default is deprecated. Please use tf.compat.v1.placeholder_with_default instead.\n",
      "\n",
      "WARNING:tensorflow:From C:\\Users\\ICT01_02\\Anaconda3\\envs\\jeju\\lib\\site-packages\\keras\\backend\\tensorflow_backend.py:3445: calling dropout (from tensorflow.python.ops.nn_ops) with keep_prob is deprecated and will be removed in a future version.\n",
      "Instructions for updating:\n",
      "Please use `rate` instead of `keep_prob`. Rate should be set to `rate = 1 - keep_prob`.\n"
     ]
    },
    {
     "name": "stderr",
     "output_type": "stream",
     "text": [
      "C:\\Users\\ICT01_02\\Anaconda3\\envs\\jeju\\lib\\site-packages\\ipykernel_launcher.py:8: UserWarning: Update your `Conv2D` call to the Keras 2 API: `Conv2D(32, (3, 3), activation=\"relu\", input_shape=(28, 28, 1...)`\n",
      "  \n",
      "C:\\Users\\ICT01_02\\Anaconda3\\envs\\jeju\\lib\\site-packages\\ipykernel_launcher.py:10: UserWarning: Update your `Conv2D` call to the Keras 2 API: `Conv2D(64, (3, 3), activation=\"relu\")`\n",
      "  # Remove the CWD from sys.path while we load stuff.\n"
     ]
    }
   ],
   "source": [
    "model = Sequential()\n",
    "\n",
    "\n",
    "# 32 : filter 수  \n",
    "# 3x3 filter\n",
    "# 입력데이터 : 128x 28x 28x 1 => (128 x 26 x 26 x 32)\n",
    "# padding : valid(default)\n",
    "model.add(Conv2D(32, 3, 3 , activation='relu', input_shape=(28,28,1)))   # activation : relu : 음수 제거 \n",
    "# 아웃풋 :  128 x 24 x 24 x 64\n",
    "model.add(Conv2D(64,3,3, activation = 'relu'))\n",
    "# 128 x 12 x 12 x 64\n",
    "model.add(MaxPooling2D(pool_size=(2,2)))\n",
    "model.add(Dropout(0.25))\n",
    "# 12 x 12 x 64 가 1차원으로 됨( 9216 )\n",
    "model.add(Flatten())\n",
    "\n",
    "# FFNN망 (=FC망)\n",
    "# input : 128 x 9216\n",
    "# 가중치 : 9216 x 128\n",
    "# output : 128 x 128\n",
    "model.add(Dense(128, activation='relu'))\n",
    "\n",
    "model.add(Dropout(0.5))  # 계산회로만 생략\n",
    "\n",
    "# input : 128 x 128\n",
    "# 가중치 : 128 x 10\n",
    "# output : 128 x 10\n",
    "model.add(Dense(10, activation='softmax'))"
   ]
  },
  {
   "cell_type": "code",
   "execution_count": null,
   "metadata": {},
   "outputs": [
    {
     "name": "stdout",
     "output_type": "stream",
     "text": [
      "WARNING:tensorflow:From C:\\Users\\ICT01_02\\Anaconda3\\envs\\jeju\\lib\\site-packages\\tensorflow_core\\python\\ops\\math_grad.py:1424: where (from tensorflow.python.ops.array_ops) is deprecated and will be removed in a future version.\n",
      "Instructions for updating:\n",
      "Use tf.where in 2.0, which has the same broadcast rule as np.where\n",
      "WARNING:tensorflow:From C:\\Users\\ICT01_02\\Anaconda3\\envs\\jeju\\lib\\site-packages\\keras\\backend\\tensorflow_backend.py:986: The name tf.assign_add is deprecated. Please use tf.compat.v1.assign_add instead.\n",
      "\n",
      "WARNING:tensorflow:From C:\\Users\\ICT01_02\\Anaconda3\\envs\\jeju\\lib\\site-packages\\keras\\backend\\tensorflow_backend.py:973: The name tf.assign is deprecated. Please use tf.compat.v1.assign instead.\n",
      "\n",
      "Train on 60000 samples, validate on 10000 samples\n",
      "Epoch 1/12\n",
      "60000/60000 [==============================] - 10s 172us/step - loss: 0.2681 - acc: 0.9171 - val_loss: 0.0621 - val_acc: 0.9802\n",
      "Epoch 2/12\n",
      "51584/60000 [========================>.....] - ETA: 1s - loss: 0.0903 - acc: 0.9741"
     ]
    }
   ],
   "source": [
    "model.compile(loss=keras.losses.categorical_crossentropy,\n",
    "             optimizer = keras.optimizers.Adadelta(),\n",
    "             metrics = ['accuracy'])\n",
    "\n",
    "# train,validation //// test\n",
    "class AccuracyHistory(keras.callbacks.Callback):\n",
    "    # 오버라이딩 ( 재정의 )\n",
    "    def on_train_begin(self, logs={}):  # 훈련 시작 시 이벤트 발생\n",
    "        self.acc =[]\n",
    "    def on_epoch_end(self, batch, logs={}):\n",
    "        self.acc.append(logs.get('acc'))\n",
    "history = AccuracyHistory()\n",
    "\n",
    "\n",
    "model.fit(x_train, y_train,\n",
    "         batch_size = batch_size, epochs = epochs, verbose =1,\n",
    "         validation_data = (x_test, y_test),\n",
    "         callbacks = [history])\n",
    "score = model.evaluate(x_test, y_test, verbose=0)\n",
    "score[0] # loss값\n",
    "score[1] # accuracy 값\n"
   ]
  },
  {
   "cell_type": "code",
   "execution_count": 9,
   "metadata": {},
   "outputs": [
    {
     "data": {
      "image/png": "[encoded data removed]",
      "text/plain": [
       "<Figure size 432x288 with 1 Axes>"
      ]
     },
     "metadata": {
      "needs_background": "light"
     },
     "output_type": "display_data"
    }
   ],
   "source": [
    "plt.plot(range(1, 13), history.acc)\n",
    "plt.xlabel('Epochs')\n",
    "plt.ylabel('Accuracy')\n",
    "plt.show()"
   ]
  },
  {
   "cell_type": "code",
   "execution_count": 10,
   "metadata": {},
   "outputs": [
    {
     "data": {
      "text/plain": [
       "0.9911"
      ]
     },
     "execution_count": 10,
     "metadata": {},
     "output_type": "execute_result"
    }
   ],
   "source": [
    "score[1]"
   ]
  },
  {
   "cell_type": "code",
   "execution_count": null,
   "metadata": {},
   "outputs": [],
   "source": [
    "# CNN\n",
    "K.set_image_data_format('channels_first')  # channels_last\n"
   ]
  },
  {
   "cell_type": "code",
   "execution_count": 7,
   "metadata": {},
   "outputs": [
    {
     "name": "stdout",
     "output_type": "stream",
     "text": [
      "WARNING:tensorflow:From C:\\Users\\ICT01_02\\Anaconda3\\envs\\jeju\\lib\\site-packages\\keras\\backend\\tensorflow_backend.py:174: The name tf.get_default_session is deprecated. Please use tf.compat.v1.get_default_session instead.\n",
      "\n",
      "WARNING:tensorflow:From C:\\Users\\ICT01_02\\Anaconda3\\envs\\jeju\\lib\\site-packages\\keras\\backend\\tensorflow_backend.py:181: The name tf.ConfigProto is deprecated. Please use tf.compat.v1.ConfigProto instead.\n",
      "\n",
      "WARNING:tensorflow:From C:\\Users\\ICT01_02\\Anaconda3\\envs\\jeju\\lib\\site-packages\\keras\\backend\\tensorflow_backend.py:186: The name tf.Session is deprecated. Please use tf.compat.v1.Session instead.\n",
      "\n",
      "WARNING:tensorflow:From C:\\Users\\ICT01_02\\Anaconda3\\envs\\jeju\\lib\\site-packages\\keras\\backend\\tensorflow_backend.py:190: The name tf.global_variables is deprecated. Please use tf.compat.v1.global_variables instead.\n",
      "\n",
      "WARNING:tensorflow:From C:\\Users\\ICT01_02\\Anaconda3\\envs\\jeju\\lib\\site-packages\\keras\\backend\\tensorflow_backend.py:199: The name tf.is_variable_initialized is deprecated. Please use tf.compat.v1.is_variable_initialized instead.\n",
      "\n",
      "WARNING:tensorflow:From C:\\Users\\ICT01_02\\Anaconda3\\envs\\jeju\\lib\\site-packages\\keras\\backend\\tensorflow_backend.py:206: The name tf.variables_initializer is deprecated. Please use tf.compat.v1.variables_initializer instead.\n",
      "\n",
      "모델이 저장되었습니다. \n",
      "모델이 로딩되었습니다.\n",
      "_________________________________________________________________\n",
      "Layer (type)                 Output Shape              Param #   \n",
      "=================================================================\n",
      "conv2d_1 (Conv2D)            (None, 26, 26, 32)        320       \n",
      "_________________________________________________________________\n",
      "conv2d_2 (Conv2D)            (None, 24, 24, 64)        18496     \n",
      "_________________________________________________________________\n",
      "max_pooling2d_1 (MaxPooling2 (None, 12, 12, 64)        0         \n",
      "_________________________________________________________________\n",
      "dropout_1 (Dropout)          (None, 12, 12, 64)        0         \n",
      "_________________________________________________________________\n",
      "flatten_1 (Flatten)          (None, 9216)              0         \n",
      "_________________________________________________________________\n",
      "dense_1 (Dense)              (None, 128)               1179776   \n",
      "_________________________________________________________________\n",
      "dropout_2 (Dropout)          (None, 128)               0         \n",
      "_________________________________________________________________\n",
      "dense_2 (Dense)              (None, 10)                1290      \n",
      "=================================================================\n",
      "Total params: 1,199,882\n",
      "Trainable params: 1,199,882\n",
      "Non-trainable params: 0\n",
      "_________________________________________________________________\n"
     ]
    },
    {
     "name": "stderr",
     "output_type": "stream",
     "text": [
      "C:\\Users\\ICT01_02\\Anaconda3\\envs\\jeju\\lib\\site-packages\\keras\\engine\\saving.py:292: UserWarning: No training configuration found in save file: the model was *not* compiled. Compile it manually.\n",
      "  warnings.warn('No training configuration found in save file: '\n"
     ]
    }
   ],
   "source": [
    "# HDFS( hadoop file system ) : model 구조 전체 저장\n",
    "# 가중치, 구조, optimization statge 등이 저장\n",
    "# json으로 저장 가능\n",
    "#  - 구조와 가중치 별로도 저장 # web에서 tensorflow 사용 가능\n",
    "model.save(\"model_mnist.h5\")\n",
    "print(\"모델이 저장되었습니다. \")\n",
    "from keras.models import load_model\n",
    "\n",
    "model = load_model('model_mnist.h5')\n",
    "print(\"모델이 로딩되었습니다.\")\n",
    "\n",
    "model.summary()"
   ]
  },
  {
   "cell_type": "code",
   "execution_count": 12,
   "metadata": {},
   "outputs": [
    {
     "name": "stdout",
     "output_type": "stream",
     "text": [
      "conv2d_1\n",
      "(None, 28, 28, 1)\n",
      "<function relu at 0x0000024D3C2D0798>\n",
      "(None, 26, 26, 32)\n"
     ]
    }
   ],
   "source": [
    "l1 = model.layers[0]\n",
    "l2 = model.layers[1]\n",
    "print(l1.name)\n",
    "print(l1.input_shape)\n",
    "print(l1.activation)\n",
    "print(l1.output_shape)"
   ]
  },
  {
   "cell_type": "code",
   "execution_count": null,
   "metadata": {},
   "outputs": [],
   "source": []
  },
  {
   "cell_type": "code",
   "execution_count": null,
   "metadata": {},
   "outputs": [],
   "source": []
  },
  {
   "cell_type": "code",
   "execution_count": 8,
   "metadata": {},
   "outputs": [
    {
     "name": "stderr",
     "output_type": "stream",
     "text": [
      "C:\\Users\\ICT01_02\\Anaconda3\\envs\\jeju\\lib\\site-packages\\keras_preprocessing\\image\\image_data_generator.py:336: UserWarning: This ImageDataGenerator specifies `zca_whitening`, which overrides setting of `featurewise_center`.\n",
      "  warnings.warn('This ImageDataGenerator specifies '\n"
     ]
    },
    {
     "data": {
      "image/png": "[encoded data removed]",
      "text/plain": [
       "<Figure size 432x288 with 9 Axes>"
      ]
     },
     "metadata": {
      "needs_background": "light"
     },
     "output_type": "display_data"
    }
   ],
   "source": [
    "# imageData Generator\n",
    "\n",
    "from keras.datasets import mnist\n",
    "from keras.preprocessing.image import ImageDataGenerator\n",
    "from matplotlib import pyplot\n",
    "from keras import backend as K\n",
    "(X_train, y_train) ,(X_test, y_test) = mnist.load_data()\n",
    "X_train = X_train.reshape(X_train.shape[0], 28, 28 ,1)\n",
    "X_test = X_test.reshape(X_test.shape[0], 28, 28 ,1)\n",
    "X_train = X_train.astype('float32')\n",
    "X_test = X_test.astype('float32')\n",
    "#datagen = ImageDataGenerator(horizontal_flip = True, vertical_flip = True)\n",
    "#datagen = ImageDataGenerator(rotation_range= 90)\n",
    "#datagen = ImageDataGenerator(width_shift_range =0.2, height_shift_range=0.2) # 좌우, 상하로 이동\n",
    "datagen = ImageDataGenerator(zca_whitening = True) # 이미지 백색화( noise 제거 -> 변수간 상관도를 없앰 ) == PCA\n",
    "datagen.fit(X_train)\n",
    "for X_batch, y_batch in datagen.flow(X_train, y_train, batch_size = 9\n",
    "                                     ,save_to_dir='images', save_prefix='aug', save_format='png') :\n",
    "    for i in range(0,9) :\n",
    "        pyplot.subplot(330 + 1 + i)\n",
    "        pyplot.imshow(X_batch[i].reshape(28,28),\n",
    "                     cmap = pyplot.get_cmap('gray'))\n",
    "    pyplot.show()\n",
    "    break\n"
   ]
  },
  {
   "cell_type": "code",
   "execution_count": null,
   "metadata": {},
   "outputs": [],
   "source": []
  },
  {
   "cell_type": "code",
   "execution_count": null,
   "metadata": {},
   "outputs": [],
   "source": []
  },
  {
   "cell_type": "code",
   "execution_count": null,
   "metadata": {},
   "outputs": [],
   "source": []
  },
  {
   "cell_type": "code",
   "execution_count": 11,
   "metadata": {},
   "outputs": [
    {
     "name": "stdout",
     "output_type": "stream",
     "text": [
      "X_train shape :  (50000, 32, 32, 3)\n",
      "50000 Train samples\n",
      "10000 Test samples\n"
     ]
    },
    {
     "data": {
      "image/png": "[encoded data removed]",
      "text/plain": [
       "<Figure size 432x288 with 1 Axes>"
      ]
     },
     "metadata": {
      "needs_background": "light"
     },
     "output_type": "display_data"
    },
    {
     "data": {
      "image/png": "[encoded data removed]",
      "text/plain": [
       "<Figure size 432x288 with 1 Axes>"
      ]
     },
     "metadata": {
      "needs_background": "light"
     },
     "output_type": "display_data"
    }
   ],
   "source": [
    "# airplane, automobile, bird ,cat , deer, dog,\n",
    "# frod, horse, ship, truck 10개로 분류\n",
    "from keras.datasets import cifar10\n",
    "from keras.optimizers import SGD, Adam, RMSprop\n",
    "from keras.utils import np_utils\n",
    "from keras.layers import Activation\n",
    "\n",
    "\n",
    "(X_train, y_train) , (X_test, y_test) = cifar10.load_data()\n",
    "print(\"X_train shape : \", X_train.shape)\n",
    "print(X_train.shape[0], 'Train samples')\n",
    "print(X_test.shape[0], 'Test samples')\n",
    "NB_CLASSES = 10\n",
    "y_train = np_utils.to_categorical(y_train, nb_classes)\n",
    "y_test = np_utils.to_categorical(y_test, nb_classes)\n",
    "\n",
    "X_train = X_train.astype('float32')\n",
    "X_test = X_test.astype('float32')\n",
    "X_train /= 255\n",
    "X_test /= 255\n",
    "\n",
    "plt.imshow(X_train[5])\n",
    "plt.grid(False)\n",
    "plt.show()\n",
    "plt.imshow(X_train[6])\n",
    "plt.grid(False)\n",
    "plt.show()"
   ]
  },
  {
   "cell_type": "code",
   "execution_count": 10,
   "metadata": {},
   "outputs": [],
   "source": [
    "IMG_CHANNELS = 3\n",
    "IMG_ROWS = 32\n",
    "IMG_COLS = 32\n",
    "batch_size = 128\n",
    "nb_epoch = 40 # 40\n",
    "nb_classes = 10\n",
    "verbose = 1\n",
    "validation_split = 0.2\n",
    "optimizer = RMSprop()"
   ]
  },
  {
   "cell_type": "code",
   "execution_count": 12,
   "metadata": {},
   "outputs": [
    {
     "name": "stdout",
     "output_type": "stream",
     "text": [
      "_________________________________________________________________\n",
      "Layer (type)                 Output Shape              Param #   \n",
      "=================================================================\n",
      "conv2d_3 (Conv2D)            (None, 32, 32, 32)        896       \n",
      "_________________________________________________________________\n",
      "activation_1 (Activation)    (None, 32, 32, 32)        0         \n",
      "_________________________________________________________________\n",
      "conv2d_4 (Conv2D)            (None, 32, 32, 32)        9248      \n",
      "_________________________________________________________________\n",
      "activation_2 (Activation)    (None, 32, 32, 32)        0         \n",
      "_________________________________________________________________\n",
      "max_pooling2d_2 (MaxPooling2 (None, 16, 16, 32)        0         \n",
      "_________________________________________________________________\n",
      "dropout_3 (Dropout)          (None, 16, 16, 32)        0         \n",
      "_________________________________________________________________\n",
      "conv2d_5 (Conv2D)            (None, 16, 16, 64)        18496     \n",
      "_________________________________________________________________\n",
      "activation_3 (Activation)    (None, 16, 16, 64)        0         \n",
      "_________________________________________________________________\n",
      "conv2d_6 (Conv2D)            (None, 14, 14, 64)        36928     \n",
      "_________________________________________________________________\n",
      "activation_4 (Activation)    (None, 14, 14, 64)        0         \n",
      "_________________________________________________________________\n",
      "max_pooling2d_3 (MaxPooling2 (None, 7, 7, 64)          0         \n",
      "_________________________________________________________________\n",
      "dropout_4 (Dropout)          (None, 7, 7, 64)          0         \n",
      "_________________________________________________________________\n",
      "flatten_2 (Flatten)          (None, 3136)              0         \n",
      "_________________________________________________________________\n",
      "dense_3 (Dense)              (None, 512)               1606144   \n",
      "_________________________________________________________________\n",
      "activation_5 (Activation)    (None, 512)               0         \n",
      "_________________________________________________________________\n",
      "dropout_5 (Dropout)          (None, 512)               0         \n",
      "_________________________________________________________________\n",
      "dense_4 (Dense)              (None, 10)                5130      \n",
      "_________________________________________________________________\n",
      "activation_6 (Activation)    (None, 10)                0         \n",
      "=================================================================\n",
      "Total params: 1,676,842\n",
      "Trainable params: 1,676,842\n",
      "Non-trainable params: 0\n",
      "_________________________________________________________________\n",
      "WARNING:tensorflow:From C:\\Users\\ICT01_02\\Anaconda3\\envs\\jeju\\lib\\site-packages\\keras\\optimizers.py:790: The name tf.train.Optimizer is deprecated. Please use tf.compat.v1.train.Optimizer instead.\n",
      "\n",
      "WARNING:tensorflow:From C:\\Users\\ICT01_02\\Anaconda3\\envs\\jeju\\lib\\site-packages\\keras\\backend\\tensorflow_backend.py:3295: The name tf.log is deprecated. Please use tf.math.log instead.\n",
      "\n"
     ]
    },
    {
     "name": "stderr",
     "output_type": "stream",
     "text": [
      "C:\\Users\\ICT01_02\\Anaconda3\\envs\\jeju\\lib\\site-packages\\ipykernel_launcher.py:14: UserWarning: Update your `Conv2D` call to the Keras 2 API: `Conv2D(64, (3, 3))`\n",
      "  \n"
     ]
    }
   ],
   "source": [
    "model = Sequential()\n",
    "# residual 망의 영향 ( 연속2번 망을 구성- pooling)\n",
    "# 입력 : 32 x 32 x 3 => 32 x 32 x 32\n",
    "model.add(Conv2D(32, kernel_size=3, padding='SAME',\n",
    "                input_shape = (IMG_ROWS, IMG_COLS, IMG_CHANNELS)))\n",
    "model.add(Activation('relu'))\n",
    "model.add(Conv2D(32 , kernel_size=3, padding='same'))\n",
    "model.add(Activation('relu'))\n",
    "model.add(MaxPooling2D(pool_size=(2,2)))\n",
    "model.add(Dropout(0.25))\n",
    "\n",
    "model.add(Conv2D(64, kernel_size=3, padding='same'))\n",
    "model.add(Activation('relu'))\n",
    "model.add(Conv2D(64,3,3))\n",
    "model.add(Activation('relu'))\n",
    "model.add(MaxPooling2D(pool_size=(2,2)))\n",
    "model.add(Dropout(0.25))\n",
    "\n",
    "model.add(Flatten())\n",
    "model.add(Dense(512))\n",
    "model.add(Activation('relu'))\n",
    "model.add(Dropout(0.5))\n",
    "model.add(Dense(nb_classes))\n",
    "model.add(Activation('softmax'))\n",
    "model.summary()\n",
    "model.compile(loss='categorical_crossentropy', optimizer=optimizer,\n",
    "             metrics = ['accuracy'])"
   ]
  },
  {
   "cell_type": "code",
   "execution_count": null,
   "metadata": {},
   "outputs": [
    {
     "name": "stdout",
     "output_type": "stream",
     "text": [
      "Train on 40000 samples, validate on 10000 samples\n",
      "Epoch 1/12\n",
      "40000/40000 [==============================] - 67s 2ms/step - loss: 1.8133 - acc: 0.3460 - val_loss: 1.3905 - val_acc: 0.4991\n",
      "Epoch 2/12\n",
      "40000/40000 [==============================] - 67s 2ms/step - loss: 1.3413 - acc: 0.5247 - val_loss: 1.1224 - val_acc: 0.5974\n",
      "Epoch 3/12\n",
      "40000/40000 [==============================] - 66s 2ms/step - loss: 1.1236 - acc: 0.6024 - val_loss: 1.0387 - val_acc: 0.6341\n",
      "Epoch 4/12\n",
      "40000/40000 [==============================] - 66s 2ms/step - loss: 0.9877 - acc: 0.6536 - val_loss: 0.9603 - val_acc: 0.6662\n",
      "Epoch 5/12\n",
      "40000/40000 [==============================] - 66s 2ms/step - loss: 0.8860 - acc: 0.6921 - val_loss: 0.9293 - val_acc: 0.6870\n",
      "Epoch 6/12\n",
      "40000/40000 [==============================] - 66s 2ms/step - loss: 0.8097 - acc: 0.7195 - val_loss: 0.8062 - val_acc: 0.7229\n",
      "Epoch 7/12\n",
      "36352/40000 [==========================>...] - ETA: 5s - loss: 0.7504 - acc: 0.7397"
     ]
    }
   ],
   "source": [
    "history = model.fit(X_train,y_train, batch_size = batch_size,\n",
    "                   epochs = epochs, validation_split = validation_split,\n",
    "                   verbose = verbose)"
   ]
  },
  {
   "cell_type": "code",
   "execution_count": 21,
   "metadata": {},
   "outputs": [],
   "source": [
    "datagem = ImageDataGenerator(\n",
    "    featurewise_center= False,\n",
    "    samplewise_center = False,\n",
    "    featurewise_std_normalization = False,\n",
    "    samplewise_std_normalization = False,\n",
    "    zca_whitening = False,\n",
    "    rotation_range=0,\n",
    "    width_shift_range=0.1,\n",
    "    height_shift_range=0.1,\n",
    "    horizontal_flip = True,\n",
    "    vertical_flip = False)\n",
    "datagen.fit(X_train)"
   ]
  },
  {
   "cell_type": "code",
   "execution_count": null,
   "metadata": {},
   "outputs": [
    {
     "name": "stdout",
     "output_type": "stream",
     "text": [
      "WARNING:tensorflow:From C:\\Users\\ICT01_02\\Anaconda3\\envs\\jeju\\lib\\site-packages\\tensorflow_core\\python\\ops\\math_grad.py:1424: where (from tensorflow.python.ops.array_ops) is deprecated and will be removed in a future version.\n",
      "Instructions for updating:\n",
      "Use tf.where in 2.0, which has the same broadcast rule as np.where\n"
     ]
    },
    {
     "name": "stderr",
     "output_type": "stream",
     "text": [
      "C:\\Users\\ICT01_02\\Anaconda3\\envs\\jeju\\lib\\site-packages\\ipykernel_launcher.py:4: UserWarning: The semantics of the Keras 2 argument `steps_per_epoch` is not the same as the Keras 1 argument `samples_per_epoch`. `steps_per_epoch` is the number of batches to draw from the generator at each epoch. Basically steps_per_epoch = samples_per_epoch/batch_size. Similarly `nb_val_samples`->`validation_steps` and `val_samples`->`steps` arguments have changed. Update your method calls accordingly.\n",
      "  after removing the cwd from sys.path.\n",
      "C:\\Users\\ICT01_02\\Anaconda3\\envs\\jeju\\lib\\site-packages\\ipykernel_launcher.py:4: UserWarning: Update your `fit_generator` call to the Keras 2 API: `fit_generator(<keras_pre..., verbose=1, steps_per_epoch=390, epochs=40)`\n",
      "  after removing the cwd from sys.path.\n"
     ]
    },
    {
     "name": "stdout",
     "output_type": "stream",
     "text": [
      "WARNING:tensorflow:From C:\\Users\\ICT01_02\\Anaconda3\\envs\\jeju\\lib\\site-packages\\keras\\backend\\tensorflow_backend.py:986: The name tf.assign_add is deprecated. Please use tf.compat.v1.assign_add instead.\n",
      "\n",
      "WARNING:tensorflow:From C:\\Users\\ICT01_02\\Anaconda3\\envs\\jeju\\lib\\site-packages\\keras\\backend\\tensorflow_backend.py:973: The name tf.assign is deprecated. Please use tf.compat.v1.assign instead.\n",
      "\n",
      "Epoch 1/40\n",
      "390/390 [==============================] - 72s 185ms/step - loss: 1.6828 - acc: 0.40043s - loss: 1.7 - ETA: 0s - loss: 1.6838 - acc: 0.399\n",
      "Epoch 2/40\n",
      "390/390 [==============================] - 72s 184ms/step - loss: 1.1129 - acc: 0.6190\n",
      "Epoch 3/40\n",
      "390/390 [==============================] - 70s 179ms/step - loss: 0.9252 - acc: 0.6803\n",
      "Epoch 4/40\n",
      "390/390 [==============================] - 71s 183ms/step - loss: 0.8099 - acc: 0.7194\n",
      "Epoch 5/40\n",
      "295/390 [=====================>........] - ETA: 17s - loss: 0.7392 - acc: 0.7445"
     ]
    }
   ],
   "source": [
    "model.fit_generator(datagen.flow(X_train, y_train, batch_size=batch_size),\n",
    "                   samples_per_epoch = X_train.shape[0],\n",
    "                   nb_epoch = nb_epoch,\n",
    "                   verbose = verbose)"
   ]
  },
  {
   "cell_type": "code",
   "execution_count": 11,
   "metadata": {},
   "outputs": [
    {
     "name": "stdout",
     "output_type": "stream",
     "text": [
      "10000/10000 [==============================] - 5s 506us/step\n",
      "\n",
      "Test score :  3.781816278076172\n",
      "\n",
      "Test accuracy :  0.118\n"
     ]
    }
   ],
   "source": [
    "score = model.evaluate(X_test, y_test,\n",
    "                      batch_size = batch_size, verbose= verbose)\n",
    "print(\"\\nTest score : \", score[0])\n",
    "print(\"\\nTest accuracy : \", score[1])"
   ]
  },
  {
   "cell_type": "code",
   "execution_count": 11,
   "metadata": {},
   "outputs": [
    {
     "name": "stdout",
     "output_type": "stream",
     "text": [
      "WARNING:tensorflow:From C:\\Users\\ICT01_02\\Anaconda3\\envs\\jeju\\lib\\site-packages\\keras\\backend\\tensorflow_backend.py:174: The name tf.get_default_session is deprecated. Please use tf.compat.v1.get_default_session instead.\n",
      "\n",
      "WARNING:tensorflow:From C:\\Users\\ICT01_02\\Anaconda3\\envs\\jeju\\lib\\site-packages\\keras\\backend\\tensorflow_backend.py:181: The name tf.ConfigProto is deprecated. Please use tf.compat.v1.ConfigProto instead.\n",
      "\n",
      "WARNING:tensorflow:From C:\\Users\\ICT01_02\\Anaconda3\\envs\\jeju\\lib\\site-packages\\keras\\backend\\tensorflow_backend.py:186: The name tf.Session is deprecated. Please use tf.compat.v1.Session instead.\n",
      "\n",
      "WARNING:tensorflow:From C:\\Users\\ICT01_02\\Anaconda3\\envs\\jeju\\lib\\site-packages\\keras\\backend\\tensorflow_backend.py:190: The name tf.global_variables is deprecated. Please use tf.compat.v1.global_variables instead.\n",
      "\n",
      "WARNING:tensorflow:From C:\\Users\\ICT01_02\\Anaconda3\\envs\\jeju\\lib\\site-packages\\keras\\backend\\tensorflow_backend.py:199: The name tf.is_variable_initialized is deprecated. Please use tf.compat.v1.is_variable_initialized instead.\n",
      "\n",
      "WARNING:tensorflow:From C:\\Users\\ICT01_02\\Anaconda3\\envs\\jeju\\lib\\site-packages\\keras\\backend\\tensorflow_backend.py:206: The name tf.variables_initializer is deprecated. Please use tf.compat.v1.variables_initializer instead.\n",
      "\n"
     ]
    }
   ],
   "source": [
    "#json으로 저장\n",
    "model_json = model.to_json()\n",
    "open('cifar10_architecture.json', 'w').write(model_json)\n",
    "model.save_weights('cifar10_weights.h5', overwrite = True)"
   ]
  },
  {
   "cell_type": "code",
   "execution_count": 20,
   "metadata": {},
   "outputs": [
    {
     "name": "stdout",
     "output_type": "stream",
     "text": [
      "None\n",
      "Loaded model from disk\n"
     ]
    }
   ],
   "source": [
    "# json으로 load\n",
    "from keras.models import model_from_json\n",
    "json_file = open('cifar10_architecture.json','r')\n",
    "loaded_model_json = json_file.read()\n",
    "json_file.close()\n",
    "loaded_model = model_from_json(loaded_model_json)\n",
    "loaded_model.load_weights('cifar10_weights.h5')\n",
    "print(\"Loaded model from disk\")"
   ]
  },
  {
   "cell_type": "code",
   "execution_count": 31,
   "metadata": {},
   "outputs": [
    {
     "name": "stdout",
     "output_type": "stream",
     "text": [
      "10000/10000 [==============================] - 1s 120us/step\n"
     ]
    }
   ],
   "source": [
    "loaded_model.compile(loss=\"categorical_crossentropy\", optimizer=\"RMSprop\", metrics=['accuracy'])\n",
    "score = loaded_model.evaluate(X_test, y_test, verbose = 1)\n"
   ]
  },
  {
   "cell_type": "code",
   "execution_count": 33,
   "metadata": {},
   "outputs": [
    {
     "data": {
      "text/plain": [
       "0.7015"
      ]
     },
     "execution_count": 33,
     "metadata": {},
     "output_type": "execute_result"
    }
   ],
   "source": [
    "print(score[0])\n",
    "print(score[1])"
   ]
  },
  {
   "cell_type": "code",
   "execution_count": 34,
   "metadata": {},
   "outputs": [
    {
     "ename": "NameError",
     "evalue": "name 'history' is not defined",
     "output_type": "error",
     "traceback": [
      "\u001b[1;31m---------------------------------------------------------------------------\u001b[0m",
      "\u001b[1;31mNameError\u001b[0m                                 Traceback (most recent call last)",
      "\u001b[1;32m<ipython-input-34-d026b1a45060>\u001b[0m in \u001b[0;36m<module>\u001b[1;34m\u001b[0m\n\u001b[0;32m      2\u001b[0m \u001b[1;31m# 2. 이미지 cat, dog를 다운로드한 다음 위의 모델로 예측\u001b[0m\u001b[1;33m\u001b[0m\u001b[1;33m\u001b[0m\u001b[1;33m\u001b[0m\u001b[0m\n\u001b[0;32m      3\u001b[0m \u001b[1;33m\u001b[0m\u001b[0m\n\u001b[1;32m----> 4\u001b[1;33m \u001b[0mplt\u001b[0m\u001b[1;33m.\u001b[0m\u001b[0mplot\u001b[0m\u001b[1;33m(\u001b[0m\u001b[0mhistory\u001b[0m\u001b[1;33m.\u001b[0m\u001b[0mhistory\u001b[0m\u001b[1;33m[\u001b[0m\u001b[1;34m'acc'\u001b[0m\u001b[1;33m]\u001b[0m\u001b[1;33m)\u001b[0m\u001b[1;33m\u001b[0m\u001b[1;33m\u001b[0m\u001b[0m\n\u001b[0m\u001b[0;32m      5\u001b[0m \u001b[0mplt\u001b[0m\u001b[1;33m.\u001b[0m\u001b[0mplot\u001b[0m\u001b[1;33m(\u001b[0m\u001b[0mhistory\u001b[0m\u001b[1;33m.\u001b[0m\u001b[0mhistory\u001b[0m\u001b[1;33m[\u001b[0m\u001b[1;34m'val_acc'\u001b[0m\u001b[1;33m]\u001b[0m\u001b[1;33m)\u001b[0m\u001b[1;33m\u001b[0m\u001b[1;33m\u001b[0m\u001b[0m\n\u001b[0;32m      6\u001b[0m \u001b[0mplt\u001b[0m\u001b[1;33m.\u001b[0m\u001b[0mtitle\u001b[0m\u001b[1;33m(\u001b[0m\u001b[1;34m'model accuracy'\u001b[0m\u001b[1;33m)\u001b[0m\u001b[1;33m\u001b[0m\u001b[1;33m\u001b[0m\u001b[0m\n",
      "\u001b[1;31mNameError\u001b[0m: name 'history' is not defined"
     ]
    }
   ],
   "source": [
    "\n",
    "# 1. accuracy graph를 출력\n",
    "# 2. 이미지 cat, dog를 다운로드한 다음 위의 모델로 예측\n",
    "\n",
    "plt.plot(history.history['acc'])\n",
    "plt.plot(history.history['val_acc'])\n",
    "plt.title('model accuracy')\n",
    "plt.legend(['train', 'test'], loc = 'upper left')\n",
    "plt.show()"
   ]
  },
  {
   "cell_type": "code",
   "execution_count": 37,
   "metadata": {},
   "outputs": [
    {
     "name": "stdout",
     "output_type": "stream",
     "text": [
      "[7 7]\n"
     ]
    }
   ],
   "source": [
    "import numpy as np\n",
    "from imageio import imread\n",
    "from skimage.transform import resize\n",
    "from keras.models import model_from_json\n",
    "img_names = ['cat.jpg', 'dog.jpg']\n",
    "imgs = [resize(imread(img_name), (32, 32)).astype('float32') for img_name in img_names]\n",
    "imgs = np.array(imgs)/ 255\n",
    "predictions = model.predict_classes(imgs)\n",
    "print(predictions)"
   ]
  },
  {
   "cell_type": "code",
   "execution_count": null,
   "metadata": {},
   "outputs": [],
   "source": [
    "# 전이 (transfer learning) 학습 Application\n",
    "# - 반지도학습( 일부데이터의 레이블이 없음 ) - KNN, Trenductive SVM\n",
    "# - 가중치 활용 : 그대로 적용\n",
    "# - 가중치 중 일부만 활용\n",
    "# - FFNN 부분만 학습해서 사용"
   ]
  },
  {
   "cell_type": "code",
   "execution_count": null,
   "metadata": {},
   "outputs": [],
   "source": [
    "# pre-trained , fine-tuning ( FFNN 부분만 Domin Knowledge) => 가중치는 그대로\n",
    "# "
   ]
  },
  {
   "cell_type": "code",
   "execution_count": 43,
   "metadata": {},
   "outputs": [
    {
     "name": "stdout",
     "output_type": "stream",
     "text": [
      "PIL image size :  (224, 224)\n"
     ]
    },
    {
     "data": {
      "image/png": "[encoded data removed]",
      "text/plain": [
       "<Figure size 432x288 with 1 Axes>"
      ]
     },
     "metadata": {
      "needs_background": "light"
     },
     "output_type": "display_data"
    },
    {
     "name": "stdout",
     "output_type": "stream",
     "text": [
      "numpy array size :  (224, 224, 3)\n",
      "image batch size :  (1, 224, 224, 3)\n",
      "[[('n07753592', 'banana', 0.9996687), ('n03825788', 'nipple', 4.872293e-05), ('n03532672', 'hook', 3.439889e-05)]]\n"
     ]
    },
    {
     "data": {
      "image/png": "[encoded data removed]",
      "text/plain": [
       "<Figure size 432x288 with 1 Axes>"
      ]
     },
     "metadata": {
      "needs_background": "light"
     },
     "output_type": "display_data"
    }
   ],
   "source": [
    "import PIL\n",
    "from keras.preprocessing.image import load_img\n",
    "from keras.preprocessing.image import img_to_array\n",
    "from keras.applications.imagenet_utils import decode_predictions\n",
    "import numpy as np\n",
    "from keras.applications.resnet50 import ResNet50\n",
    "from keras.applications import resnet50\n",
    "\n",
    "filename = 'banana.jpg'\n",
    "original = load_img(filename, target_size = (224,224))\n",
    "print(\"PIL image size : \", original.size)\n",
    "plt.imshow(original)\n",
    "plt.show()\n",
    "\n",
    "numpy_image = img_to_array(original)\n",
    "plt.imshow(np.uint8(numpy_image))\n",
    "print(\"numpy array size : \", numpy_image.shape)\n",
    "# expand_dim 차원확대 : 이미지 여러 장 처리가 전재조건 - banana.jpg 한장이므로 3차원을 4차원으로 확장하기 위함\n",
    "image_batch = np.expand_dims(numpy_image , axis = 0)\n",
    "print(\"image batch size : \", image_batch.shape)\n",
    "#prepare the image for the resnet50 model\n",
    "processed_image = resnet50.preprocess_input(image_batch.copy())\n",
    "# 기존 : dense를 이용해서 모델을 생성\n",
    "# 이미 만들어진 망을 사용할 수 있음\n",
    "resnet_model = resnet50.ResNet50(weights = 'imagenet')  # weight ( imagenet을 만들때 사용하던 데이터 중 바나나가 있음 )\n",
    "# predict : softmax로 확률값으로 나옴 \n",
    "predictions = resnet_model.predict(processed_image)\n",
    "label = decode_predictions(predictions, top=3)  # labelling\n",
    "print(label)"
   ]
  },
  {
   "cell_type": "code",
   "execution_count": null,
   "metadata": {},
   "outputs": [],
   "source": []
  },
  {
   "cell_type": "code",
   "execution_count": 61,
   "metadata": {},
   "outputs": [
    {
     "name": "stdout",
     "output_type": "stream",
     "text": [
      "C:\\Workpython\\전달\\flowers\\flower_photos\n"
     ]
    }
   ],
   "source": [
    "from numpy.random import randn\n",
    "import pathlib\n",
    "import random\n",
    "import matplotlib.pyplot as plt\n",
    "import tensorflow as tf\n",
    "import numpy as np\n",
    "from matplotlib.image import imread\n",
    "from keras.preprocessing import image\n",
    "#tf.enable_eager_execution()\n",
    "autotune = tf.data.experimental.AUTOTUNE\n",
    "data_dir = 'C:/Workpython/전달/flowers/flower_photos'\n",
    "data_dir = pathlib.Path(data_dir)\n",
    "print(data_dir)\n",
    "label_names = {'daisy' : 0, 'dandelion' : 1, 'roses':2,\n",
    "              'sunflowers':3, 'tulips':4}\n",
    "label_key = ['daisy','dandelion','roses','sunflowers','tulips']\n"
   ]
  },
  {
   "cell_type": "code",
   "execution_count": 62,
   "metadata": {},
   "outputs": [],
   "source": [
    "all_images = list(data_dir.glob('*/*'))  # 파일명 로딩\n",
    "all_images = [str(path) for path in all_images] \n",
    "random.shuffle(all_images)\n",
    "all_labels = [label_names[pathlib.Path(path).parent.name] for path in all_images]\n",
    "data_size = len(all_images)\n",
    "train_test_split = (int)(data_size*0.2)\n",
    "x_train = all_images[train_test_split:]\n",
    "x_test = all_images[:train_test_split]\n",
    "y_train = all_labels[train_test_split:]\n",
    "y_test = all_labels[:train_test_split]\n",
    "img_size = 160\n",
    "batch_size = 32"
   ]
  },
  {
   "cell_type": "code",
   "execution_count": 63,
   "metadata": {},
   "outputs": [],
   "source": [
    "def _parse_data(x,y):\n",
    "    image = tf.read_file(x)  # 파일에는 헤더파일 ( 압축 방법 )\n",
    "    image = tf.image.decode_jpeg(image, channels=3) # 컬러\n",
    "    image = tf.cast(image, tf.float32)\n",
    "    image = (image/127.5) -1 # 0~2  -1  ==> -1 ~ 1\n",
    "    \n",
    "    # 이미지 사이즈를 통일 \n",
    "    image = tf.image.resize(image, (img_size, img_size))\n",
    "    return image, y\n",
    "\n",
    "def _input_fn(x,y) :\n",
    "    \n",
    "    # tensor_slice : 데이터를 기본 단위 요소로 분해\n",
    "    ds = tf.data.Dataset.from_tensor_slices((x,y)) # dataset을 생성\n",
    "    \n",
    "    ds = ds.map(_parse_data) # 함수를 적용 \n",
    "    \n",
    "    # buffer : 거쳐가는 기억공간\n",
    "    ds = ds.shuffle(buffer_size = data_size) # 층븐힌 공간확보\n",
    "    ds = ds.repeat() # 데이터가 부족하면 처음부터 다시 실행\n",
    "    ds = ds.batch(batch_size) # minibatch_size\n",
    "    \n",
    "    # 자동으로 몇개의 데이터를 읽을지 결정\n",
    "    # 학습은 batch_size로 하는데, 메모리에 얼마나 남겨놓을지 결정\n",
    "    ds = ds.prefetch(buffer_size = autotune)\n",
    "    return ds\n",
    "\n",
    "train_ds = _input_fn(x_train, y_train)\n",
    "validation_ds = _input_fn(x_test, y_test)"
   ]
  },
  {
   "cell_type": "code",
   "execution_count": 64,
   "metadata": {},
   "outputs": [],
   "source": [
    "img_shape = (img_size , img_size, 3)\n",
    "# include_top = False인 경우 input_shape = img_size 지정 필요\n",
    "# conv에 대한 가중치 학습이 없음\n",
    "VGG16_MODEL = tf.keras.applications.VGG16(input_shape = img_shape,\n",
    "                                         include_top = False,\n",
    "                                         weights = 'imagenet')\n",
    "\n"
   ]
  },
  {
   "cell_type": "code",
   "execution_count": 65,
   "metadata": {},
   "outputs": [],
   "source": [
    "VGG16_MODEL.trainable=False\n",
    "# flatten이 없음 ( globalaveragepooling으로 대체 )\n",
    "#  ==> 가중치가 필요없음\n",
    "global_average_layer = tf.keras.layers.GlobalAveragePooling2D()\n",
    "\n",
    "# FFNN의 가중치는 학습됨\n",
    "prediction_layer = tf.keras.layers.Dense(len(label_names),\n",
    "                                         activation ='softmax' )\n",
    "\n",
    "model = tf.keras.Sequential([\n",
    "    VGG16_MODEL,\n",
    "    global_average_layer,\n",
    "    prediction_layer\n",
    "])\n",
    "# model : vgg16이 갖고있는 가중치 + FFNN 가중치로 학습"
   ]
  },
  {
   "cell_type": "code",
   "execution_count": 66,
   "metadata": {},
   "outputs": [],
   "source": [
    "#sparse : 희소 \n",
    "# 분류가 아주 많을 때 사용( ex)마트에서 물품 1개 )\n",
    "model.compile(optimizer = tf.train.AdamOptimizer(),\n",
    "             loss = tf.keras.losses.sparse_categorical_crossentropy,\n",
    "             metrics=['accuracy'])"
   ]
  },
  {
   "cell_type": "code",
   "execution_count": 67,
   "metadata": {
    "collapsed": true,
    "jupyter": {
     "outputs_hidden": true
    }
   },
   "outputs": [
    {
     "name": "stdout",
     "output_type": "stream",
     "text": [
      "Epoch 1/100\n",
      "WARNING:tensorflow:From C:\\Users\\ICT01_02\\Anaconda3\\envs\\jeju\\lib\\site-packages\\tensorflow_core\\python\\ops\\math_grad.py:1424: where (from tensorflow.python.ops.array_ops) is deprecated and will be removed in a future version.\n",
      "Instructions for updating:\n",
      "Use tf.where in 2.0, which has the same broadcast rule as np.where\n",
      "2/2 [==============================] - 12s 6s/step - loss: 1.7645 - acc: 0.1875\n",
      "Epoch 2/100\n",
      "2/2 [==============================] - 0s 192ms/step - loss: 1.6845 - acc: 0.1719\n",
      "Epoch 3/100\n",
      "2/2 [==============================] - 0s 184ms/step - loss: 1.5813 - acc: 0.2031\n",
      "Epoch 4/100\n",
      "2/2 [==============================] - 0s 189ms/step - loss: 1.5900 - acc: 0.2031\n",
      "Epoch 5/100\n",
      "2/2 [==============================] - 0s 181ms/step - loss: 1.5216 - acc: 0.2812\n",
      "Epoch 6/100\n",
      "2/2 [==============================] - 0s 192ms/step - loss: 1.5497 - acc: 0.2656\n",
      "Epoch 7/100\n",
      "2/2 [==============================] - 0s 181ms/step - loss: 1.5589 - acc: 0.2656\n",
      "Epoch 8/100\n",
      "2/2 [==============================] - 0s 185ms/step - loss: 1.5309 - acc: 0.2969\n",
      "Epoch 9/100\n",
      "2/2 [==============================] - 0s 184ms/step - loss: 1.4807 - acc: 0.3594\n",
      "Epoch 10/100\n",
      "2/2 [==============================] - 0s 191ms/step - loss: 1.5312 - acc: 0.3281\n",
      "Epoch 11/100\n",
      "2/2 [==============================] - 0s 182ms/step - loss: 1.4469 - acc: 0.4219\n",
      "Epoch 12/100\n",
      "2/2 [==============================] - 0s 184ms/step - loss: 1.4779 - acc: 0.3594\n",
      "Epoch 13/100\n",
      "2/2 [==============================] - 0s 183ms/step - loss: 1.4404 - acc: 0.5156\n",
      "Epoch 14/100\n",
      "2/2 [==============================] - 0s 186ms/step - loss: 1.4823 - acc: 0.4219\n",
      "Epoch 15/100\n",
      "2/2 [==============================] - 0s 183ms/step - loss: 1.3718 - acc: 0.4531\n",
      "Epoch 16/100\n",
      "2/2 [==============================] - 0s 187ms/step - loss: 1.3736 - acc: 0.5156\n",
      "Epoch 17/100\n",
      "2/2 [==============================] - 0s 187ms/step - loss: 1.3443 - acc: 0.5469\n",
      "Epoch 18/100\n",
      "2/2 [==============================] - 0s 184ms/step - loss: 1.4382 - acc: 0.4844\n",
      "Epoch 19/100\n",
      "2/2 [==============================] - 0s 192ms/step - loss: 1.3721 - acc: 0.5312\n",
      "Epoch 20/100\n",
      "2/2 [==============================] - 0s 190ms/step - loss: 1.3788 - acc: 0.5000\n",
      "Epoch 21/100\n",
      "2/2 [==============================] - 0s 184ms/step - loss: 1.4946 - acc: 0.4219\n",
      "Epoch 22/100\n",
      "2/2 [==============================] - 0s 180ms/step - loss: 1.3724 - acc: 0.4531\n",
      "Epoch 23/100\n",
      "2/2 [==============================] - 0s 192ms/step - loss: 1.4580 - acc: 0.4531\n",
      "Epoch 24/100\n",
      "2/2 [==============================] - 0s 184ms/step - loss: 1.3273 - acc: 0.5469\n",
      "Epoch 25/100\n",
      "2/2 [==============================] - 0s 186ms/step - loss: 1.3598 - acc: 0.4844\n",
      "Epoch 26/100\n",
      "2/2 [==============================] - 0s 184ms/step - loss: 1.2754 - acc: 0.5781\n",
      "Epoch 27/100\n",
      "2/2 [==============================] - 0s 179ms/step - loss: 1.3771 - acc: 0.4688\n",
      "Epoch 28/100\n",
      "2/2 [==============================] - 0s 193ms/step - loss: 1.3849 - acc: 0.4062\n",
      "Epoch 29/100\n",
      "2/2 [==============================] - 0s 190ms/step - loss: 1.3927 - acc: 0.4844\n",
      "Epoch 30/100\n",
      "2/2 [==============================] - 0s 183ms/step - loss: 1.2978 - acc: 0.5938\n",
      "Epoch 31/100\n",
      "2/2 [==============================] - 0s 191ms/step - loss: 1.1588 - acc: 0.7344\n",
      "Epoch 32/100\n",
      "2/2 [==============================] - 0s 181ms/step - loss: 1.2936 - acc: 0.6094\n",
      "Epoch 33/100\n",
      "2/2 [==============================] - 0s 191ms/step - loss: 1.2029 - acc: 0.7500\n",
      "Epoch 34/100\n",
      "2/2 [==============================] - 0s 188ms/step - loss: 1.2013 - acc: 0.7344\n",
      "Epoch 35/100\n",
      "2/2 [==============================] - 0s 187ms/step - loss: 1.2631 - acc: 0.5312\n",
      "Epoch 36/100\n",
      "2/2 [==============================] - 0s 184ms/step - loss: 1.1713 - acc: 0.6562\n",
      "Epoch 37/100\n",
      "2/2 [==============================] - 0s 179ms/step - loss: 1.1449 - acc: 0.7188\n",
      "Epoch 38/100\n",
      "2/2 [==============================] - 0s 186ms/step - loss: 1.1886 - acc: 0.6094\n",
      "Epoch 39/100\n",
      "2/2 [==============================] - 0s 185ms/step - loss: 1.2859 - acc: 0.5625\n",
      "Epoch 40/100\n",
      "2/2 [==============================] - 0s 186ms/step - loss: 1.2535 - acc: 0.5312\n",
      "Epoch 41/100\n",
      "2/2 [==============================] - 0s 181ms/step - loss: 1.2504 - acc: 0.5781\n",
      "Epoch 42/100\n",
      "2/2 [==============================] - 0s 186ms/step - loss: 1.1545 - acc: 0.6250\n",
      "Epoch 43/100\n",
      "2/2 [==============================] - 0s 187ms/step - loss: 1.3179 - acc: 0.5469\n",
      "Epoch 44/100\n",
      "2/2 [==============================] - 0s 179ms/step - loss: 1.1326 - acc: 0.6250\n",
      "Epoch 45/100\n",
      "2/2 [==============================] - 0s 186ms/step - loss: 1.1812 - acc: 0.5625\n",
      "Epoch 46/100\n",
      "2/2 [==============================] - 0s 187ms/step - loss: 1.1588 - acc: 0.7031\n",
      "Epoch 47/100\n",
      "2/2 [==============================] - 0s 188ms/step - loss: 1.1352 - acc: 0.6719\n",
      "Epoch 48/100\n",
      "2/2 [==============================] - 0s 185ms/step - loss: 1.1183 - acc: 0.6094\n",
      "Epoch 49/100\n",
      "2/2 [==============================] - 0s 181ms/step - loss: 1.1377 - acc: 0.6562\n",
      "Epoch 50/100\n",
      "2/2 [==============================] - 0s 186ms/step - loss: 1.0304 - acc: 0.7344\n",
      "Epoch 51/100\n",
      "2/2 [==============================] - 0s 192ms/step - loss: 1.1227 - acc: 0.6406\n",
      "Epoch 52/100\n",
      "2/2 [==============================] - 0s 182ms/step - loss: 1.1510 - acc: 0.6406\n",
      "Epoch 53/100\n",
      "2/2 [==============================] - 0s 191ms/step - loss: 1.1478 - acc: 0.5625\n",
      "Epoch 54/100\n",
      "2/2 [==============================] - 0s 192ms/step - loss: 1.0878 - acc: 0.7344\n",
      "Epoch 55/100\n",
      "2/2 [==============================] - 0s 184ms/step - loss: 1.0140 - acc: 0.7031\n",
      "Epoch 56/100\n",
      "2/2 [==============================] - 0s 179ms/step - loss: 1.0892 - acc: 0.7344\n",
      "Epoch 57/100\n",
      "2/2 [==============================] - 0s 191ms/step - loss: 1.1200 - acc: 0.6719\n",
      "Epoch 58/100\n",
      "2/2 [==============================] - 0s 180ms/step - loss: 1.0667 - acc: 0.7500\n",
      "Epoch 59/100\n",
      "2/2 [==============================] - 0s 186ms/step - loss: 1.1603 - acc: 0.6250\n",
      "Epoch 60/100\n",
      "2/2 [==============================] - 0s 186ms/step - loss: 0.9853 - acc: 0.7500\n",
      "Epoch 61/100\n",
      "2/2 [==============================] - 0s 180ms/step - loss: 1.1316 - acc: 0.5938\n",
      "Epoch 62/100\n",
      "2/2 [==============================] - 0s 195ms/step - loss: 1.0265 - acc: 0.7031\n",
      "Epoch 63/100\n",
      "2/2 [==============================] - 0s 185ms/step - loss: 1.0139 - acc: 0.6719\n",
      "Epoch 64/100\n",
      "2/2 [==============================] - 0s 186ms/step - loss: 1.0840 - acc: 0.6406\n",
      "Epoch 65/100\n",
      "2/2 [==============================] - 0s 187ms/step - loss: 1.1310 - acc: 0.6094\n",
      "Epoch 66/100\n",
      "2/2 [==============================] - 0s 186ms/step - loss: 1.0922 - acc: 0.6250\n",
      "Epoch 67/100\n",
      "2/2 [==============================] - 0s 179ms/step - loss: 1.0631 - acc: 0.6719\n",
      "Epoch 68/100\n",
      "2/2 [==============================] - 0s 188ms/step - loss: 1.0702 - acc: 0.6562\n",
      "Epoch 69/100\n",
      "2/2 [==============================] - 0s 191ms/step - loss: 0.9501 - acc: 0.7812\n",
      "Epoch 70/100\n",
      "2/2 [==============================] - 0s 188ms/step - loss: 1.0886 - acc: 0.5625\n",
      "Epoch 71/100\n",
      "2/2 [==============================] - 0s 179ms/step - loss: 1.0424 - acc: 0.6406\n",
      "Epoch 72/100\n",
      "2/2 [==============================] - 0s 194ms/step - loss: 1.1118 - acc: 0.6562\n",
      "Epoch 73/100\n",
      "2/2 [==============================] - 0s 189ms/step - loss: 1.0701 - acc: 0.6562\n",
      "Epoch 74/100\n",
      "2/2 [==============================] - 0s 190ms/step - loss: 1.0361 - acc: 0.7344\n",
      "Epoch 75/100\n",
      "2/2 [==============================] - 0s 190ms/step - loss: 0.9389 - acc: 0.7656\n",
      "Epoch 76/100\n",
      "2/2 [==============================] - 0s 190ms/step - loss: 1.0459 - acc: 0.6250\n",
      "Epoch 77/100\n",
      "2/2 [==============================] - 0s 189ms/step - loss: 0.8624 - acc: 0.8281\n",
      "Epoch 78/100\n",
      "2/2 [==============================] - 0s 184ms/step - loss: 1.0316 - acc: 0.6250\n",
      "Epoch 79/100\n",
      "2/2 [==============================] - 0s 187ms/step - loss: 1.0287 - acc: 0.6406\n",
      "Epoch 80/100\n",
      "2/2 [==============================] - 0s 190ms/step - loss: 0.9625 - acc: 0.7500\n",
      "Epoch 81/100\n",
      "2/2 [==============================] - 0s 182ms/step - loss: 0.9932 - acc: 0.7188\n",
      "Epoch 82/100\n",
      "2/2 [==============================] - 0s 184ms/step - loss: 1.0031 - acc: 0.6875\n",
      "Epoch 83/100\n",
      "2/2 [==============================] - 0s 191ms/step - loss: 0.9847 - acc: 0.6562\n",
      "Epoch 84/100\n",
      "2/2 [==============================] - 0s 185ms/step - loss: 0.9175 - acc: 0.7344\n",
      "Epoch 85/100\n",
      "2/2 [==============================] - 0s 184ms/step - loss: 0.9347 - acc: 0.6719\n",
      "Epoch 86/100\n",
      "2/2 [==============================] - 0s 180ms/step - loss: 0.8769 - acc: 0.7344\n",
      "Epoch 87/100\n",
      "2/2 [==============================] - 0s 181ms/step - loss: 0.9275 - acc: 0.6875\n",
      "Epoch 88/100\n",
      "2/2 [==============================] - 0s 183ms/step - loss: 1.0336 - acc: 0.6406\n",
      "Epoch 89/100\n",
      "2/2 [==============================] - 0s 185ms/step - loss: 0.9840 - acc: 0.6562\n",
      "Epoch 90/100\n",
      "2/2 [==============================] - 0s 193ms/step - loss: 1.0780 - acc: 0.6250\n",
      "Epoch 91/100\n",
      "2/2 [==============================] - 0s 192ms/step - loss: 0.9356 - acc: 0.7188\n",
      "Epoch 92/100\n",
      "2/2 [==============================] - 0s 182ms/step - loss: 0.9641 - acc: 0.7344\n",
      "Epoch 93/100\n",
      "2/2 [==============================] - 0s 183ms/step - loss: 0.9679 - acc: 0.7344\n",
      "Epoch 94/100\n",
      "2/2 [==============================] - 0s 183ms/step - loss: 0.8209 - acc: 0.8438\n",
      "Epoch 95/100\n",
      "2/2 [==============================] - 0s 192ms/step - loss: 0.8633 - acc: 0.8125\n",
      "Epoch 96/100\n",
      "2/2 [==============================] - 0s 186ms/step - loss: 0.8260 - acc: 0.8438\n",
      "Epoch 97/100\n",
      "2/2 [==============================] - 0s 191ms/step - loss: 0.8096 - acc: 0.9062\n",
      "Epoch 98/100\n",
      "2/2 [==============================] - 0s 192ms/step - loss: 0.8659 - acc: 0.8438\n",
      "Epoch 99/100\n",
      "2/2 [==============================] - 0s 190ms/step - loss: 0.8965 - acc: 0.8125\n",
      "Epoch 100/100\n",
      "2/2 [==============================] - 0s 190ms/step - loss: 0.9819 - acc: 0.6875\n"
     ]
    }
   ],
   "source": [
    "history = model.fit(train_ds, epochs=100, steps_per_epoch=2,\n",
    "                   validation_steps=2)"
   ]
  },
  {
   "cell_type": "code",
   "execution_count": 68,
   "metadata": {},
   "outputs": [
    {
     "ename": "KeyError",
     "evalue": "'val_acc'",
     "output_type": "error",
     "traceback": [
      "\u001b[1;31m---------------------------------------------------------------------------\u001b[0m",
      "\u001b[1;31mKeyError\u001b[0m                                  Traceback (most recent call last)",
      "\u001b[1;32m<ipython-input-68-92e55ff2b71d>\u001b[0m in \u001b[0;36m<module>\u001b[1;34m\u001b[0m\n\u001b[0;32m      1\u001b[0m \u001b[0mplt\u001b[0m\u001b[1;33m.\u001b[0m\u001b[0mplot\u001b[0m\u001b[1;33m(\u001b[0m\u001b[0mhistory\u001b[0m\u001b[1;33m.\u001b[0m\u001b[0mhistory\u001b[0m\u001b[1;33m[\u001b[0m\u001b[1;34m'acc'\u001b[0m\u001b[1;33m]\u001b[0m\u001b[1;33m)\u001b[0m\u001b[1;33m\u001b[0m\u001b[1;33m\u001b[0m\u001b[0m\n\u001b[1;32m----> 2\u001b[1;33m \u001b[0mplt\u001b[0m\u001b[1;33m.\u001b[0m\u001b[0mplot\u001b[0m\u001b[1;33m(\u001b[0m\u001b[0mhistory\u001b[0m\u001b[1;33m.\u001b[0m\u001b[0mhistory\u001b[0m\u001b[1;33m[\u001b[0m\u001b[1;34m'val_acc'\u001b[0m\u001b[1;33m]\u001b[0m\u001b[1;33m)\u001b[0m\u001b[1;33m\u001b[0m\u001b[1;33m\u001b[0m\u001b[0m\n\u001b[0m\u001b[0;32m      3\u001b[0m \u001b[0mplt\u001b[0m\u001b[1;33m.\u001b[0m\u001b[0mtitle\u001b[0m\u001b[1;33m(\u001b[0m\u001b[1;34m'model accuracy'\u001b[0m\u001b[1;33m)\u001b[0m\u001b[1;33m\u001b[0m\u001b[1;33m\u001b[0m\u001b[0m\n\u001b[0;32m      4\u001b[0m \u001b[0mplt\u001b[0m\u001b[1;33m.\u001b[0m\u001b[0mylabel\u001b[0m\u001b[1;33m(\u001b[0m\u001b[1;34m'accuracy'\u001b[0m\u001b[1;33m)\u001b[0m\u001b[1;33m\u001b[0m\u001b[1;33m\u001b[0m\u001b[0m\n\u001b[0;32m      5\u001b[0m \u001b[0mplt\u001b[0m\u001b[1;33m.\u001b[0m\u001b[0mxlabel\u001b[0m\u001b[1;33m(\u001b[0m\u001b[1;34m'epoch'\u001b[0m\u001b[1;33m)\u001b[0m\u001b[1;33m\u001b[0m\u001b[1;33m\u001b[0m\u001b[0m\n",
      "\u001b[1;31mKeyError\u001b[0m: 'val_acc'"
     ]
    },
    {
     "data": {
      "image/png": "[encoded data removed]",
      "text/plain": [
       "<Figure size 432x288 with 1 Axes>"
      ]
     },
     "metadata": {
      "needs_background": "light"
     },
     "output_type": "display_data"
    }
   ],
   "source": [
    "plt.plot(history.history['acc'])\n",
    "plt.plot(history.history['val_acc'])\n",
    "plt.title('model accuracy')\n",
    "plt.ylabel('accuracy')\n",
    "plt.xlabel('epoch')\n",
    "plt.legend(['train','test'], loc = 'upper left')\n",
    "plt.show()"
   ]
  },
  {
   "cell_type": "code",
   "execution_count": null,
   "metadata": {},
   "outputs": [],
   "source": []
  }
 ],
 "metadata": {
  "kernelspec": {
   "display_name": "Python 3",
   "language": "python",
   "name": "python3"
  },
  "language_info": {
   "codemirror_mode": {
    "name": "ipython",
    "version": 3
   },
   "file_extension": ".py",
   "mimetype": "text/x-python",
   "name": "python",
   "nbconvert_exporter": "python",
   "pygments_lexer": "ipython3",
   "version": "3.7.5"
  }
 },
 "nbformat": 4,
 "nbformat_minor": 4
}
