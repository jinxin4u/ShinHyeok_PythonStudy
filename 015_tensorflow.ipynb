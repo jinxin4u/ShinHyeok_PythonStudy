{
 "cells": [
  {
   "cell_type": "code",
   "execution_count": 2,
   "metadata": {},
   "outputs": [
    {
     "name": "stdout",
     "output_type": "stream",
     "text": [
      "1.14.0\n"
     ]
    }
   ],
   "source": [
    "import tensorflow as tf\n",
    "print(tf.__version__)"
   ]
  },
  {
   "cell_type": "code",
   "execution_count": 1,
   "metadata": {},
   "outputs": [
    {
     "name": "stdout",
     "output_type": "stream",
     "text": [
      "Tensor(\"Const:0\", shape=(), dtype=string)\n",
      "b'Hello, TensorFlow!'\n"
     ]
    }
   ],
   "source": [
    "# 데이터 타입\n",
    "import tensorflow as tf\n",
    "hello = tf.constant(\"Hello, TensorFlow!\")\n",
    "\n",
    "# 텐서플로\n",
    "# constant, variables, placeholder\n",
    "\n",
    "sess = tf.Session()\n",
    "print(hello) # 텐서플로의 데이터는 직접 확인이 불가\n",
    "print(sess.run(hello)) # numpy 데이터로 변경하여 출력\n"
   ]
  },
  {
   "cell_type": "code",
   "execution_count": 3,
   "metadata": {},
   "outputs": [
    {
     "name": "stdout",
     "output_type": "stream",
     "text": [
      "<tf.Variable 'y:0' shape=() dtype=int32_ref>\n"
     ]
    }
   ],
   "source": [
    "# variables\n",
    "x = tf.constant(35, name='x') # 변수에 이름을 따로 또 주는 이유는???\n",
    "                                # - 모델의 그래프 구조 확인을 위해\n",
    "                                # - 모델을 그대로 저장(가중치)할 때 메모리 위치를 확인하기 위해\n",
    "                                # 메모리에 저장된 가중치 위치를 알 수 없기 때문 운영체제가 계속 지맘대로 바꾸니까\n",
    "y = tf.Variable(x + 5, name='y') # 변수가 있는 경우 : 반드시 초기화 해줘야한다.\n",
    "print(y)"
   ]
  },
  {
   "cell_type": "code",
   "execution_count": 4,
   "metadata": {},
   "outputs": [
    {
     "name": "stdout",
     "output_type": "stream",
     "text": [
      "40\n"
     ]
    }
   ],
   "source": [
    "# variables 초기화 하는 법\n",
    "model = tf.global_variables_initializer() # 변수 초기화\n",
    "\n",
    "with tf.Session() as session:\n",
    "    session.run(model)\n",
    "    print(session.run(y))"
   ]
  },
  {
   "cell_type": "code",
   "execution_count": 5,
   "metadata": {},
   "outputs": [
    {
     "name": "stdout",
     "output_type": "stream",
     "text": [
      "[5 7 9]\n"
     ]
    }
   ],
   "source": [
    "# 판다스에서 데이터 초기화를 리스트, 딕셔너리에 했.\n",
    "a = tf.constant([1,2,3], name='a') # GPU공간에 만든다.\n",
    "b = tf.constant([4,5,6], name='b')\n",
    "add_op = a + b\n",
    "\n",
    "with tf.Session() as session: # 요소끼리 계산(배열연산)\n",
    "    print(session.run(add_op))"
   ]
  },
  {
   "cell_type": "code",
   "execution_count": 6,
   "metadata": {},
   "outputs": [],
   "source": [
    "# 주입변수\n",
    "# 자료구조가 그래프로 구성되어진다\n",
    "# add, mul이 계산되어야 total이 계산될 수 있다.\n",
    "a = tf.placeholder(tf.int16)\n",
    "b = tf.placeholder(tf.int16)\n",
    "add = tf.add(a,b)\n",
    "mul = tf.multiply(a,b)\n",
    "total = tf.multiply(add, mul)"
   ]
  },
  {
   "cell_type": "code",
   "execution_count": 7,
   "metadata": {},
   "outputs": [
    {
     "name": "stdout",
     "output_type": "stream",
     "text": [
      "feed 변수합 : 5\n",
      "feed 변수곱 : 6\n",
      "fedd 변수곱 : 30\n"
     ]
    }
   ],
   "source": [
    "with tf.Session() as sess: # with구문 내부의 명령어가 끝나면 자동으로 세션이 종료됨.\n",
    "    print(\"feed 변수합 : %i\" % sess.run(add, feed_dict={a:2,b:3} ) )# 데이터 주입 호출\n",
    "    print(\"feed 변수곱 : %i\" % sess.run(mul, feed_dict={a:2,b:3} ) )\n",
    "    print(\"fedd 변수곱 : %i\" % sess.run(total, feed_dict={a:2, b:3} ) )"
   ]
  },
  {
   "cell_type": "code",
   "execution_count": null,
   "metadata": {},
   "outputs": [],
   "source": []
  },
  {
   "cell_type": "code",
   "execution_count": 8,
   "metadata": {},
   "outputs": [
    {
     "name": "stdout",
     "output_type": "stream",
     "text": [
      "[[12.]]\n"
     ]
    }
   ],
   "source": [
    "matrix1 = tf.constant([[3., 3.]])\n",
    "matrix2 = tf.constant([[2.], [2.]])\n",
    "product = tf.matmul(matrix1, matrix2) # matrix multiply\n",
    "# 세션 런 하기 전까진 명시적이다.\n",
    "\n",
    "with tf.Session() as sess: # 실행부..\n",
    "    result = sess.run(product)\n",
    "    print(result)"
   ]
  },
  {
   "cell_type": "code",
   "execution_count": 10,
   "metadata": {},
   "outputs": [],
   "source": [
    "zeros = tf.zeros([2,2]) # 0\n",
    "ones = tf.ones([6])     # 1\n",
    "\n",
    "#균등분포\n",
    "uniform = tf.random_uniform([3,3,3], minval=0.0, maxval=10) \n",
    "# 정규분포\n",
    "normal = tf.random_normal([3,3,3], mean=0.0, stddev=2.0)\n",
    "# truncated normal : 표준편차 2배수 내의 것으로 초기화\n",
    "trunc = tf.truncated_normal([2,2], mean=5.0, stddev=1.0)\n",
    "random_var = tf.Variable( tf.truncated_normal([2,2]) )"
   ]
  },
  {
   "cell_type": "code",
   "execution_count": 11,
   "metadata": {},
   "outputs": [
    {
     "name": "stdout",
     "output_type": "stream",
     "text": [
      "[[4.8155484 3.898717 ]\n",
      " [5.0819535 6.4521933]]\n",
      "변수초기화\n",
      " [[ 0.46732077  0.13234292]\n",
      " [ 0.31908488 -0.05499331]]\n"
     ]
    }
   ],
   "source": [
    "init = tf.global_variables_initializer()\n",
    "sess = tf.Session()\n",
    "sess.run(init)\n",
    "print(sess.run(trunc))\n",
    "print(\"변수초기화\\n\", sess.run(random_var))"
   ]
  },
  {
   "cell_type": "code",
   "execution_count": 12,
   "metadata": {},
   "outputs": [
    {
     "name": "stdout",
     "output_type": "stream",
     "text": [
      "<class 'tensorflow.python.framework.tensor_shape.TensorShape'>\n",
      "(6, 2)\n",
      "(2, 6)\n"
     ]
    }
   ],
   "source": [
    "import tensorflow as tf\n",
    "my_tensor = tf.constant(0, shape=[6,2]) # 6x2행렬\n",
    "my_static_shape = my_tensor.get_shape()\n",
    "print(type(my_static_shape))\n",
    "print(my_static_shape)\n",
    "# 내용은 run으로, 차수는 get_shape 함수로 확인\n",
    "\n",
    "# 전치해보자\n",
    "my_tensor_transposed = tf.transpose(my_tensor)\n",
    "print(my_tensor_transposed.get_shape())"
   ]
  },
  {
   "cell_type": "code",
   "execution_count": 13,
   "metadata": {},
   "outputs": [
    {
     "name": "stdout",
     "output_type": "stream",
     "text": [
      "[0. 0.]\n"
     ]
    }
   ],
   "source": [
    "# 대화형 세션 : \n",
    "import tensorflow as tf\n",
    "tf.InteractiveSession() # 대화형 세션\n",
    "tf.zeros(2)\n",
    "a = tf.zeros(2)\n",
    "print(a.eval()) # 대화형 세션인 경우 run하지 않아도 볼수"
   ]
  },
  {
   "cell_type": "code",
   "execution_count": null,
   "metadata": {},
   "outputs": [],
   "source": []
  },
  {
   "cell_type": "code",
   "execution_count": 16,
   "metadata": {},
   "outputs": [],
   "source": [
    "\n",
    "def showvalue(t):\n",
    "    sess = tf.InteractiveSession()\n",
    "    tf.global_variables_initializer().run() # chaining\n",
    "    print(t.eval(),'\\n')\n",
    "    sess.close()"
   ]
  },
  {
   "cell_type": "code",
   "execution_count": 17,
   "metadata": {},
   "outputs": [
    {
     "name": "stdout",
     "output_type": "stream",
     "text": [
      "[ 3.5 10.1] \n",
      "\n",
      "[-8  5 17] \n",
      "\n"
     ]
    }
   ],
   "source": [
    "c2, c3 = tf.constant([1.2, 5.6]), tf.constant([-4, -1, 7])\n",
    "v2, v3 = tf.Variable([2.3, 4.5]), tf.Variable([-2, 3, 5])\n",
    "showvalue(tf.add_n([c2, v2]))\n",
    "showvalue(tf.add_n([c3, v3, v3])) # add_n ?: 여러개의 합이 가능 "
   ]
  },
  {
   "cell_type": "code",
   "execution_count": null,
   "metadata": {},
   "outputs": [],
   "source": [
    "# 2x +  y +  z  = 1\n",
    "# 4x + 3y + 4z  = 2\n",
    "# -4x+ 2y + 2z  = -6\n",
    "\n",
    "#  A dot x = [1 , 2, -6 ]\n",
    "#        y\n",
    "#        z\n",
    "\n",
    "# 3x3  3x1  =>  3x1\n",
    "\n",
    "# x   구하려면?   A의 역행렬을 곱해야\n",
    "# y\n",
    "# z\n",
    "\n",
    "# y = ax\n",
    "# y x^t = x\n",
    "# 3x3 3x1 = 3x1"
   ]
  },
  {
   "cell_type": "code",
   "execution_count": 18,
   "metadata": {},
   "outputs": [
    {
     "name": "stdout",
     "output_type": "stream",
     "text": [
      "[[ 2.  1.  1.]\n",
      " [ 4.  3.  4.]\n",
      " [-4.  2.  2.]] \n",
      "\n",
      "[[ 1.]\n",
      " [ 2.]\n",
      " [-6.]]\n"
     ]
    }
   ],
   "source": [
    "sess=tf.Session()\n",
    "x = tf.constant([2.0, 1.0, 1.0,\n",
    "                 4, 3, 4,\n",
    "                 -4, 2, 2], shape=[3, 3])\n",
    "print(sess.run(x),'\\n')\n",
    "\n",
    "y = tf.constant([1.0, 2, -6], shape=[3, 1])\n",
    "print(sess.run(y))"
   ]
  },
  {
   "cell_type": "code",
   "execution_count": 19,
   "metadata": {},
   "outputs": [
    {
     "name": "stdout",
     "output_type": "stream",
     "text": [
      "계수 :  [[ 1.0000001]\n",
      " [-2.0000002]\n",
      " [ 1.0000001]] \n",
      "\n",
      "[[ 1.0000001]\n",
      " [-2.0000002]\n",
      " [ 1.0000001]]\n"
     ]
    }
   ],
   "source": [
    "z = tf.matrix_solve(x,y) # param1의 역행렬과 param2를 곱한 값; 다차방정식의 해\n",
    "result = sess.run(z)\n",
    "print(\"계수 : \", result,\"\\n\")\n",
    "print(sess.run(z))"
   ]
  },
  {
   "cell_type": "code",
   "execution_count": 20,
   "metadata": {},
   "outputs": [
    {
     "name": "stdout",
     "output_type": "stream",
     "text": [
      "[1.0000001] \n",
      "\n",
      "[[ 1.0000001]\n",
      " [ 2.       ]\n",
      " [-6.000001 ]]\n"
     ]
    }
   ],
   "source": [
    "# 첫번째 방정식에 대한 계산\n",
    "print(2.0*result[0] + 1.0*result[1] + 1.0*result[2],'\\n')\n",
    "print(sess.run(tf.matmul(x, z)))\n",
    "# 2x +  y +  z  = 1\n",
    "# 4x + 3y + 4z  = 2\n",
    "# -4x+ 2y + 2z  = -6\n",
    "\n",
    "#  A dot x = [1 , 2, -6 ]\n",
    "#        y\n",
    "#        z"
   ]
  },
  {
   "cell_type": "code",
   "execution_count": 21,
   "metadata": {},
   "outputs": [
    {
     "name": "stdout",
     "output_type": "stream",
     "text": [
      "해\n",
      " [[ 1.0000002]\n",
      " [-2.0000005]\n",
      " [ 1.0000002]]\n"
     ]
    }
   ],
   "source": [
    "x_1 = tf.matrix_inverse(x)\n",
    "z = tf.matmul(x_1, y)\n",
    "print(\"해\\n\", sess.run(z))"
   ]
  },
  {
   "cell_type": "code",
   "execution_count": null,
   "metadata": {},
   "outputs": [],
   "source": []
  },
  {
   "cell_type": "code",
   "execution_count": 22,
   "metadata": {},
   "outputs": [
    {
     "name": "stdout",
     "output_type": "stream",
     "text": [
      "WARNING:tensorflow:From <ipython-input-22-963ce6f254e8>:7: to_float (from tensorflow.python.ops.math_ops) is deprecated and will be removed in a future version.\n",
      "Instructions for updating:\n",
      "Use `tf.cast` instead.\n",
      "[9.508034   0.77286935] \n",
      "\n",
      "[[-0.38631773 -0.92236584]\n",
      " [-0.92236584  0.38631773]] \n",
      "\n",
      "[[-0.42866713  0.8059641 ]\n",
      " [-0.56630695  0.1123824 ]\n",
      " [-0.70394677 -0.58119917]] \n",
      "\n"
     ]
    }
   ],
   "source": [
    "# 특이행렬분해 (singular value decomposition) : 행렬이 다를 때 활용\n",
    "\n",
    "# PCA 할 때 : 고유값 분해 eigen value + eigen vector : 정방행렬인 경우에만 고유값 분해 가능.\n",
    "# 근데 하기 는 정방행렬이 아님\n",
    "# 정방행렬이 아닌 경우에는 특이행렬분해로\n",
    "a = tf.constant([1,2,3,4,5,6], shape=[2,3])\n",
    "a = tf.to_float(a) # a = tf.cast(a, type=float32)\n",
    "u, s, v = tf.svd(a)\n",
    "# 행과 열의 특징을 별도로 뽑음\n",
    "\n",
    "print(sess.run(u),\"\\n\") # left singular value 1x2\n",
    "print(sess.run(s),\"\\n\") # singular value 2x2\n",
    "print(sess.run(v),\"\\n\") # right singular value 3x2"
   ]
  },
  {
   "cell_type": "code",
   "execution_count": 23,
   "metadata": {},
   "outputs": [
    {
     "name": "stdout",
     "output_type": "stream",
     "text": [
      "[[1 0 0 0]\n",
      " [0 2 0 0]\n",
      " [0 0 3 0]\n",
      " [0 0 0 4]]\n"
     ]
    }
   ],
   "source": [
    "# 대각행렬\n",
    "diagonal = [1,2,3,4]\n",
    "dia = tf.diag(diagonal) # 대각행렬은 one hot encoding할때 많이 사용됨\n",
    "print(sess.run(dia))"
   ]
  },
  {
   "cell_type": "code",
   "execution_count": 24,
   "metadata": {},
   "outputs": [
    {
     "name": "stdout",
     "output_type": "stream",
     "text": [
      "[1 2 3 4]\n",
      "10\n"
     ]
    }
   ],
   "source": [
    "print(sess.run(tf.diag_part(dia)))\n",
    "print(sess.run(tf.trace(dia))) # 대각선 요소를 다 더해줌"
   ]
  },
  {
   "cell_type": "code",
   "execution_count": 26,
   "metadata": {},
   "outputs": [
    {
     "data": {
      "text/plain": [
       "array([[ 58,  64],\n",
       "       [139, 154]])"
      ]
     },
     "execution_count": 26,
     "metadata": {},
     "output_type": "execute_result"
    }
   ],
   "source": [
    "# 행렬곱\n",
    "\n",
    "import numpy as np\n",
    "a = tf.constant([1,2,3,4,5,6], shape=[2,3])\n",
    "b = tf.constant([7,8,9,10,11,12], shape=[3,2])\n",
    "c = tf.matmul(a, b)\n",
    "sess.run(c)"
   ]
  },
  {
   "cell_type": "code",
   "execution_count": 29,
   "metadata": {},
   "outputs": [
    {
     "name": "stdout",
     "output_type": "stream",
     "text": [
      "[[[ 1  2  3]\n",
      "  [ 4  5  6]]\n",
      "\n",
      " [[ 7  8  9]\n",
      "  [10 11 12]]] \n",
      "\n",
      "\n",
      "[[[13 14]\n",
      "  [15 16]\n",
      "  [17 18]]\n",
      "\n",
      " [[19 20]\n",
      "  [21 22]\n",
      "  [23 24]]] \n",
      "\n",
      "\n"
     ]
    },
    {
     "data": {
      "text/plain": [
       "array([[[ 94, 100],\n",
       "        [229, 244]],\n",
       "\n",
       "       [[508, 532],\n",
       "        [697, 730]]])"
      ]
     },
     "execution_count": 29,
     "metadata": {},
     "output_type": "execute_result"
    }
   ],
   "source": [
    "# 행렬 : 맨 뒤의 행과 열을 확인하고\n",
    "# 앞의 개수는 어떻게 층을 이루고 있는지에 대한 것\n",
    "\n",
    "a = tf.constant(np.arange(1,13,dtype=np.int32), shape=[2,2,3]) # 행렬을 중심으로 데이터 표현\n",
    "# 1~12까지 들어간 2x2x3의 형태의 행렬\n",
    "print(sess.run(a),'\\n\\n')\n",
    "\n",
    "b= tf.constant(np.arange(13,25,dtype=np.int32), shape=[2,3,2])\n",
    "# 13~24까지 들어간 2x3x2 형태의 행렬\n",
    "print(sess.run(b),'\\n\\n')\n",
    "\n",
    "c = tf.matmul(a,b)\n",
    "sess.run(c)\n",
    "\n",
    "# a 행렬의 2x3\n",
    "# b 행렬의 3x2 에 따라 행렬곱 진행 => 2x2x2"
   ]
  },
  {
   "cell_type": "code",
   "execution_count": 30,
   "metadata": {},
   "outputs": [
    {
     "name": "stdout",
     "output_type": "stream",
     "text": [
      "[[[[ 1  2  3]\n",
      "   [ 4  5  6]]\n",
      "\n",
      "  [[ 7  8  9]\n",
      "   [10 11 12]]]\n",
      "\n",
      "\n",
      " [[[13 14 15]\n",
      "   [16 17 18]]\n",
      "\n",
      "  [[19 20 21]\n",
      "   [22 23 24]]]]\n",
      "[[[[25 26]\n",
      "   [27 28]\n",
      "   [29 30]]\n",
      "\n",
      "  [[31 32]\n",
      "   [33 34]\n",
      "   [35 36]]]\n",
      "\n",
      "\n",
      " [[[37 38]\n",
      "   [39 40]\n",
      "   [41 42]]\n",
      "\n",
      "  [[43 44]\n",
      "   [45 46]\n",
      "   [47 48]]]]\n"
     ]
    },
    {
     "data": {
      "text/plain": [
       "array([[[[ 166,  172],\n",
       "         [ 409,  424]],\n",
       "\n",
       "        [[ 796,  820],\n",
       "         [1093, 1126]]],\n",
       "\n",
       "\n",
       "       [[[1642, 1684],\n",
       "         [1993, 2044]],\n",
       "\n",
       "        [[2704, 2764],\n",
       "         [3109, 3178]]]])"
      ]
     },
     "execution_count": 30,
     "metadata": {},
     "output_type": "execute_result"
    }
   ],
   "source": [
    "# 행렬 : 맨 뒤의 행과 열을 확인하고\n",
    "# 앞의 개수는 어떻게 층을 이루고 있는지에 대한 것\n",
    "\n",
    "a = tf.constant(np.arange(1,25,dtype=np.int32), shape=[2, 2, 2, 3]) # 행렬을 중심으로 데이터 표현\n",
    "print(sess.run(a))\n",
    "\n",
    "b= tf.constant(np.arange(25,49,dtype=np.int32), shape=[2, 2, 3, 2])\n",
    "print(sess.run(b))\n",
    "\n",
    "c = tf.matmul(a,b)\n",
    "sess.run(c)"
   ]
  },
  {
   "cell_type": "code",
   "execution_count": 37,
   "metadata": {},
   "outputs": [
    {
     "name": "stdout",
     "output_type": "stream",
     "text": [
      "[[[[ 1  4]\n",
      "   [ 2  5]\n",
      "   [ 3  6]]\n",
      "\n",
      "  [[ 7 10]\n",
      "   [ 8 11]\n",
      "   [ 9 12]]]\n",
      "\n",
      "\n",
      " [[[13 16]\n",
      "   [14 17]\n",
      "   [15 18]]\n",
      "\n",
      "  [[19 22]\n",
      "   [20 23]\n",
      "   [21 24]]]] \n",
      "\n",
      "\n",
      "[[[[  14   32]\n",
      "   [  32   77]]\n",
      "\n",
      "  [[ 194  266]\n",
      "   [ 266  365]]]\n",
      "\n",
      "\n",
      " [[[ 590  716]\n",
      "   [ 716  869]]\n",
      "\n",
      "  [[1202 1382]\n",
      "   [1382 1589]]]] \n",
      "\n",
      "\n"
     ]
    },
    {
     "data": {
      "text/plain": [
       "<tf.Tensor 'MatMul_20:0' shape=(2, 2, 2, 2) dtype=int32>"
      ]
     },
     "execution_count": 37,
     "metadata": {},
     "output_type": "execute_result"
    }
   ],
   "source": [
    "# a를 제곱한다면? 자기자신을 제곱하려면 전치해야\n",
    "# 다차행렬의 전치도 맨 뒤의 행렬만 신경써주면 됨. 맨뒤에 행렮만 전환하면 됨\n",
    "why = tf.transpose(a, perm=[0,1,3,2])  # transpose 전치할거야, perm이렇게 할거야\n",
    "print(sess.run(why),'\\n\\n')\n",
    "\n",
    "d = tf.matmul(a, tf.transpose(a, perm=[0, 1, 3, 2]))\n",
    "# a·a^t\n",
    "# a\n",
    "# [[[[ 1  2  3]\n",
    "#    [ 4  5  6]]\n",
    "\n",
    "#   [[ 7  8  9]\n",
    "#    [10 11 12]]]\n",
    "\n",
    "\n",
    "#  [[[13 14 15]\n",
    "#    [16 17 18]]\n",
    "\n",
    "#   [[19 20 21]\n",
    "#    [22 23 24]]]]\n",
    "\n",
    "# 2x2x2x3   2x2x3x2  => 2x2x2x2\n",
    "\n",
    "# 1x1 + 2x2 + 3x3 = 14\n",
    "# 4x4 + 5x5 + 6x6 = 32\n",
    "# ...\n",
    "\n",
    "print(sess.run(d),'\\n\\n')\n",
    "tf.matmul(a,a,transpose_b=True)#전치해서 자기 제곱"
   ]
  },
  {
   "cell_type": "code",
   "execution_count": 39,
   "metadata": {},
   "outputs": [
    {
     "name": "stdout",
     "output_type": "stream",
     "text": [
      "[2 2 3]\n"
     ]
    },
    {
     "data": {
      "text/plain": [
       "array([[[ 1,  7],\n",
       "        [ 2,  8],\n",
       "        [ 3,  9]],\n",
       "\n",
       "       [[ 4, 10],\n",
       "        [ 5, 11],\n",
       "        [ 6, 12]]])"
      ]
     },
     "execution_count": 39,
     "metadata": {},
     "output_type": "execute_result"
    }
   ],
   "source": [
    "                            # 0   1   2\n",
    "x = tf.constant([[[1, 2, 3],# 2 x 2 x 3    =>  제곱이 되려면 2x3x2로 바꿔줘야 한다 (0, 2, 1) 순서대로!\n",
    "                 [4, 5, 6]],\n",
    "                [[7, 8, 9],\n",
    "                 [10, 11, 12]]])\n",
    "print(sess.run(tf.shape(x)))\n",
    "sess.run(tf.transpose(x)) # 3 x 2 x 2    # 근데 디폴트는 2 1 0 이따위다\n",
    "\n",
    "# 그래서 perm을 아래와 같이 명세해줘야한다..\n",
    "y = tf.transpose(x, perm=[0,2,1])\n",
    "sess.run(tf.transpose(y))"
   ]
  },
  {
   "cell_type": "code",
   "execution_count": 40,
   "metadata": {},
   "outputs": [
    {
     "data": {
      "text/plain": [
       "array([[[ 14,  32],\n",
       "        [ 32,  77]],\n",
       "\n",
       "       [[194, 266],\n",
       "        [266, 365]]])"
      ]
     },
     "execution_count": 40,
     "metadata": {},
     "output_type": "execute_result"
    }
   ],
   "source": [
    "sess.run(tf.matmul(x, tf.transpose(x, perm=[0,2,1])))"
   ]
  },
  {
   "cell_type": "code",
   "execution_count": 41,
   "metadata": {},
   "outputs": [
    {
     "data": {
      "text/plain": [
       "array([[[[[[1]],\n",
       "\n",
       "          [[2]],\n",
       "\n",
       "          [[3]]]],\n",
       "\n",
       "\n",
       "\n",
       "        [[[[4]],\n",
       "\n",
       "          [[5]],\n",
       "\n",
       "          [[6]]]]]])"
      ]
     },
     "execution_count": 41,
     "metadata": {},
     "output_type": "execute_result"
    }
   ],
   "source": [
    "# 주어진 리스트로 6차원행렬을 만들어보자\n",
    "t = [1,2,3,4,5,6]\n",
    "\n",
    "t = tf.reshape(t, [1,2,1,3,1,1])\n",
    "sess.run(t)"
   ]
  },
  {
   "cell_type": "code",
   "execution_count": 42,
   "metadata": {},
   "outputs": [
    {
     "name": "stdout",
     "output_type": "stream",
     "text": [
      "t의 차원은  [1 2 1 3 1 1]\n"
     ]
    }
   ],
   "source": [
    "print(\"t의 차원은 \", sess.run(tf.shape(t)))"
   ]
  },
  {
   "cell_type": "code",
   "execution_count": 43,
   "metadata": {},
   "outputs": [
    {
     "name": "stdout",
     "output_type": "stream",
     "text": [
      "차원의 수를 축소할 때  [2 3]\n"
     ]
    }
   ],
   "source": [
    "print(\"차원의 수를 축소할 때 \", sess.run(tf.shape(tf.squeeze(t))))\n",
    "# squeeze : 요소가 하나로 이루어진 차원을 다 없애"
   ]
  },
  {
   "cell_type": "code",
   "execution_count": 45,
   "metadata": {},
   "outputs": [
    {
     "name": "stdout",
     "output_type": "stream",
     "text": [
      "[[ 1  2  3  4  5  6]\n",
      " [ 7  8  9 10 11 12]]\n",
      "[[[ 1  2  3]\n",
      "  [ 4  5  6]]\n",
      "\n",
      " [[ 7  8  9]\n",
      "  [10 11 12]]]\n"
     ]
    }
   ],
   "source": [
    "tensor = [1,2,3,4,5,6,7,8,9,10,11,12]\n",
    "\n",
    "# -1 : 맞는 사이즈를 알아서 계산해 채워라\n",
    "print( sess.run( tf.reshape( tensor, [2,-1]) ) )\n",
    "tf.reshape(tensor, [-1, 6])\n",
    "print( sess.run( tf.reshape( tensor, [2, -1, 3]) ) )"
   ]
  },
  {
   "cell_type": "code",
   "execution_count": 46,
   "metadata": {},
   "outputs": [
    {
     "name": "stdout",
     "output_type": "stream",
     "text": [
      "Tensor(\"ExpandDims:0\", shape=(1, 1, 2, 1, 3, 1, 1), dtype=int32)\n"
     ]
    }
   ],
   "source": [
    "# 차원 확대\n",
    "print( tf.expand_dims(t, 0) )\n",
    "\n",
    "# 차원 확대 축소 하는 이유 : 행렬곱연산때문"
   ]
  },
  {
   "cell_type": "code",
   "execution_count": 47,
   "metadata": {},
   "outputs": [
    {
     "name": "stdout",
     "output_type": "stream",
     "text": [
      "[[0 0 0 0 0 0 0]\n",
      " [0 0 1 2 3 0 0]\n",
      " [0 0 4 5 6 0 0]\n",
      " [0 0 0 0 0 0 0]]\n"
     ]
    }
   ],
   "source": [
    "# 패딩\n",
    "t = [[1,2,3], [4,5,6]] # 2x3 => 4x7\n",
    "paddings = [[1,1], [2,2]] # 상 하 좌 우\n",
    "print(sess.run(tf.pad(t, paddings , \"CONSTANT\"))) # CONSTANT 특정 상수값 채워"
   ]
  },
  {
   "cell_type": "code",
   "execution_count": 48,
   "metadata": {},
   "outputs": [
    {
     "name": "stdout",
     "output_type": "stream",
     "text": [
      "[[5 4 5 6 5]\n",
      " [2 1 2 3 2]\n",
      " [5 4 5 6 5]\n",
      " [2 1 2 3 2]]\n"
     ]
    }
   ],
   "source": [
    "paddings = [[1,1], [1,1]] # 4x5\n",
    "print(sess.run(tf.pad(t, paddings, \"REFLECT\") )) # REFLECT 응 반사"
   ]
  },
  {
   "cell_type": "code",
   "execution_count": 49,
   "metadata": {},
   "outputs": [
    {
     "name": "stdout",
     "output_type": "stream",
     "text": [
      "[[1 1 2 3 3]\n",
      " [1 1 2 3 3]\n",
      " [4 4 5 6 6]\n",
      " [4 4 5 6 6]]\n"
     ]
    }
   ],
   "source": [
    "print(sess.run(tf.pad(t, paddings, \"SYMMETRIC\"))) # SYMMETRIC 가까운 것과 대칭하여"
   ]
  },
  {
   "cell_type": "code",
   "execution_count": null,
   "metadata": {},
   "outputs": [],
   "source": []
  },
  {
   "cell_type": "markdown",
   "metadata": {},
   "source": [
    "# 다차 방정식의 해 구하는 법\n",
    "- 무작위 대입법\n",
    "- 역행렬을 구함\n",
    "\n",
    "- 입출력데이터만 있 : 계수를 결정해야(가중치 학습을 통해서 학습시켜)"
   ]
  },
  {
   "cell_type": "code",
   "execution_count": 53,
   "metadata": {},
   "outputs": [
    {
     "data": {
      "text/plain": [
       "100"
      ]
     },
     "execution_count": 53,
     "metadata": {},
     "output_type": "execute_result"
    }
   ],
   "source": [
    "# 데이터로부터 규칙을 찾 -> 예측과 분류를 하기 위해\n",
    "\n",
    "import numpy as np\n",
    "import tensorflow as tf\n",
    "\n",
    "# 데이터 생성  => minibatch로 만들어 feeding 해줘야. feeding은 반복문으로\n",
    "\n",
    "x_data = np.random.rand(100).astype(np.float32)\n",
    "y_data = x_data * 0.1 + 0.3 # 뒷 계산은 없다고 생각하고 봐\n",
    "len(y_data)"
   ]
  },
  {
   "cell_type": "code",
   "execution_count": 55,
   "metadata": {},
   "outputs": [],
   "source": [
    "# 가중치와 바이어스로 수식 만들기\n",
    "# 가중치 : 설명력\n",
    "# 바이어스는 activation(활성계수)\n",
    "# 가중치에는 반드시 바이어스가 하나씩 결합\n",
    "\n",
    "# W = tf.Variable(tf.random_uniform([1], -1.0, 1.0)) # 균등분포로 초기화\n",
    "# b = tf.Variable(tf.zeros([1])) # 바이어스 초기화\n",
    "# sess = tf.Session() # 세션 인스턴스\n",
    "# y = W * x_data + b # 예측\n",
    "\n",
    "##################################\n",
    "# 데이터 바로 쓰지말고, 주입변수로 써보자\n",
    "x = tf.placeholder(tf.float32, name='x')\n",
    "y = tf.placeholder(tf.float32)\n",
    "\n",
    "W = tf.Variable(tf.random_uniform([1], -1.0, 1.0)) # 균등분포로 초기화\n",
    "b = tf.Variable(tf.zeros([1])) # 바이어스 초기화\n",
    "sess = tf.Session()\n",
    "\n",
    "y_model = W * x + b\n",
    "###############################"
   ]
  },
  {
   "cell_type": "code",
   "execution_count": 56,
   "metadata": {},
   "outputs": [],
   "source": [
    "# loss function : mse : 2차원인 경우 포물선을 이루고 최적점은 한개\n",
    "# (예측치 - 실제값)^2  하나의 값으로 만들어 평균\n",
    "# loss = tf.reduce_mean(tf.square(y - y_data))\n",
    "loss = tf.reduce_mean(tf.square(y_model - y))\n",
    "\n",
    "\n",
    "# 경사하강법\n",
    "# 기울기 : 미분을 이용해서 -면 가중치에 차를더해주고\n",
    "#                           +면 가중치에 감산해주고\n",
    "optimizer = tf.train.GradientDescentOptimizer(0.5) # 학습율\n",
    "train = optimizer.minimize(loss) # "
   ]
  },
  {
   "cell_type": "code",
   "execution_count": 57,
   "metadata": {},
   "outputs": [],
   "source": [
    "init = tf.global_variables_initializer() # 세션 run하기 전에만 초기화하면 됨.\n",
    "sess.run(init)"
   ]
  },
  {
   "cell_type": "code",
   "execution_count": 58,
   "metadata": {},
   "outputs": [
    {
     "name": "stdout",
     "output_type": "stream",
     "text": [
      "0 [-0.02554578] [0.50137365]\n",
      "20 [0.0514807] [0.32566753]\n",
      "40 [0.0870174] [0.30686802]\n",
      "60 [0.09652618] [0.30183774]\n",
      "80 [0.09907047] [0.30049175]\n",
      "100 [0.09975129] [0.3001316]\n",
      "120 [0.09993345] [0.3000352]\n",
      "140 [0.09998219] [0.30000943]\n",
      "160 [0.09999526] [0.30000252]\n",
      "180 [0.09999873] [0.3000007]\n",
      "200 [0.09999964] [0.3000002]\n"
     ]
    }
   ],
   "source": [
    "# for step in range(201):\n",
    "#     sess.run(train)\n",
    "#     if step % 20 == 0:\n",
    "#         print(step, sess.run(W), sess.run(b)) # 0.1과 0.3으로 수렴\n",
    "\n",
    "        \n",
    "for step in range(201):\n",
    "    sess.run(train, {x : x_data, y : y_data} )\n",
    "    if step % 20 == 0:\n",
    "        print(step, sess.run(W), sess.run(b)) # 아까 위에 우리가 넣어줬던 숫자인 0.1과 0.3으로 수렴 \n",
    "\n",
    "\n",
    "# data\n",
    "# predict\n",
    "# loss func\n",
    "# optimizer 순으로.."
   ]
  },
  {
   "cell_type": "code",
   "execution_count": 59,
   "metadata": {},
   "outputs": [],
   "source": [
    "predicted = sess.run( y_model, {x:[i for i in range(100)]})"
   ]
  },
  {
   "cell_type": "code",
   "execution_count": 61,
   "metadata": {},
   "outputs": [
    {
     "data": {
      "image/png": "[encoded data removed]",
      "text/plain": [
       "<Figure size 432x288 with 1 Axes>"
      ]
     },
     "metadata": {
      "needs_background": "light"
     },
     "output_type": "display_data"
    }
   ],
   "source": [
    "%matplotlib inline\n",
    "import matplotlib.pyplot as plt\n",
    "plt.plot(x_data, y_data, 'o', markersize=2)\n",
    "plt.plot(predicted, 'r')\n",
    "plt.show()"
   ]
  },
  {
   "cell_type": "code",
   "execution_count": null,
   "metadata": {},
   "outputs": [],
   "source": []
  },
  {
   "cell_type": "code",
   "execution_count": 62,
   "metadata": {},
   "outputs": [],
   "source": [
    "from tensorflow.python.framework import ops\n",
    "import os\n",
    "ops.reset_default_graph()"
   ]
  },
  {
   "cell_type": "code",
   "execution_count": 65,
   "metadata": {},
   "outputs": [
    {
     "name": "stdout",
     "output_type": "stream",
     "text": [
      "[1. 3. 5. 7. 9.]\n",
      "[ 3.  9. 15. 21. 27.]\n",
      "[ 5. 15. 25. 35. 45.]\n",
      "[ 7. 21. 35. 49. 63.]\n",
      "[ 9. 27. 45. 63. 81.]\n"
     ]
    }
   ],
   "source": [
    "sess = tf.Session()\n",
    "x_vals = np.array([1., 3., 5., 7., 9.])\n",
    "y_vals = np.array([1., 3., 5., 7., 9.])\n",
    "x_data = tf.placeholder(tf.float32)\n",
    "y_data = tf.placeholder(tf.float32)\n",
    "m = tf.constant(3.)\n",
    "\n",
    "prod = tf.multiply(x_data, y_data)\n",
    "\n",
    "for x_val in x_vals :\n",
    "    print(sess.run(prod, feed_dict={x_data : x_val,\n",
    "                                   y_data : y_vals}))"
   ]
  },
  {
   "cell_type": "code",
   "execution_count": 66,
   "metadata": {},
   "outputs": [],
   "source": [
    "merged = tf.summary.merge_all() # 개별 변수 기록용 데이터를 하나로 합침.\n",
    "if not os.path.exists('C://tmp/tensorboard_logs/'): # 폴더 없냐?\n",
    "    os.makedirs('C://tmp/tensorboard_logs/') # 폴더 만들어\n",
    "\n",
    "my_writer = tf.summary.FileWriter('C://tmp/tensorboard_logs/', sess.graph) # 기록용 객체 생성"
   ]
  },
  {
   "cell_type": "code",
   "execution_count": null,
   "metadata": {},
   "outputs": [],
   "source": [
    "# 그래프 확인법\n",
    "# $ tensorboard --logdir=\"파일 이름\"\n",
    "# 이거 치면 포트 6006 열림\n",
    "# 로컬호스트:6006 들어가서 확인해봐"
   ]
  },
  {
   "cell_type": "code",
   "execution_count": null,
   "metadata": {},
   "outputs": [],
   "source": []
  },
  {
   "cell_type": "code",
   "execution_count": null,
   "metadata": {},
   "outputs": [],
   "source": []
  },
  {
   "cell_type": "code",
   "execution_count": 67,
   "metadata": {},
   "outputs": [],
   "source": [
    "# 문제 ?\n",
    "import numpy\n",
    "rng = numpy.random\n",
    "\n",
    "# 상수화하면 좋은 점? 고쳐쓰려고 할때 여기만 고쳐쓰면 됨\n",
    "learning_rate = 0.01\n",
    "training_epochs = 4000\n",
    "display_step = 50\n",
    "\n",
    "train_X = numpy.asarray([3.3,4.4,5.5,6.71,6.93,4.168,9.779,6.182,7.59,2.167,7.042,10.791,5.313,7.997,5.654,9.27,3.1])\n",
    "train_Y = numpy.asarray([1.7,2.76,2.09,3.19,1.694,1.573,3.366,2.596,2.53,1.221,2.827,3.465,1.65,2.904,2.42,2.94,1.3]) "
   ]
  },
  {
   "cell_type": "code",
   "execution_count": 68,
   "metadata": {},
   "outputs": [
    {
     "name": "stdout",
     "output_type": "stream",
     "text": [
      "WARNING:tensorflow:From C:\\Users\\jinxi\\Anaconda3\\envs\\tf-env\\lib\\site-packages\\tensorflow\\python\\ops\\math_grad.py:1205: add_dispatch_support.<locals>.wrapper (from tensorflow.python.ops.array_ops) is deprecated and will be removed in a future version.\n",
      "Instructions for updating:\n",
      "Use tf.where in 2.0, which has the same broadcast rule as np.where\n",
      "WARNING:tensorflow:From C:\\Users\\jinxi\\Anaconda3\\envs\\tf-env\\lib\\site-packages\\tensorflow\\python\\util\\tf_should_use.py:193: initialize_all_variables (from tensorflow.python.ops.variables) is deprecated and will be removed after 2017-03-02.\n",
      "Instructions for updating:\n",
      "Use `tf.global_variables_initializer` instead.\n"
     ]
    }
   ],
   "source": [
    "# data point : 관측치\n",
    "\n",
    "# 0 행, 샘플수 결정   |   1 변수개수 결정\n",
    "\n",
    "n_samples = train_X.shape[0] # 차수 : 0 <- 행  인덱스 접근 샘플 수 몇개인지 결정\n",
    "X = tf.placeholder(\"float\")\n",
    "Y = tf.placeholder(\"float\")\n",
    "W = tf.Variable(rng.randn(), name=\"weight\")# 설명\n",
    "b = tf.Variable(rng.randn(), name=\"bias\")# activation 활성화\n",
    "activation = tf.add(tf.multiply(X, W), b) # y = ax + b를 이렇게도 쓸 수 있다.\n",
    "\n",
    "# minibatch 사이즈를 고려했기때문에 2를 나눠준거임\n",
    "cost = tf.reduce_sum(tf.pow(activation-Y, 2)) / (2*n_samples) # activation 예측치 | Y 실제값\n",
    "# 역전파 : optimizer도 hyper parameter\n",
    "optimizer = tf.train.GradientDescentOptimizer( # momentum : 고려\n",
    "    learning_rate).minimize(cost) # hyper parameter \n",
    "init = tf.initialize_all_variables()"
   ]
  },
  {
   "cell_type": "code",
   "execution_count": 69,
   "metadata": {},
   "outputs": [
    {
     "name": "stdout",
     "output_type": "stream",
     "text": [
      "Epoch: 0001 cost= 38.643306732 W= -1.071819 b= 0.82485247\n",
      "Epoch: 0051 cost= 0.079393514 W= 0.22245099 b= 0.9967282\n",
      "Epoch: 0101 cost= 0.079118446 W= 0.22406541 b= 0.9851142\n",
      "Epoch: 0151 cost= 0.078874998 W= 0.22558384 b= 0.97419083\n",
      "Epoch: 0201 cost= 0.078659527 W= 0.22701192 b= 0.96391755\n",
      "Epoch: 0251 cost= 0.078468800 W= 0.228355 b= 0.9542553\n",
      "Epoch: 0301 cost= 0.078300029 W= 0.22961788 b= 0.9451704\n",
      "Epoch: 0351 cost= 0.078150600 W= 0.23080574 b= 0.9366248\n",
      "Epoch: 0401 cost= 0.078018345 W= 0.231923 b= 0.9285877\n",
      "Epoch: 0451 cost= 0.077901214 W= 0.23297386 b= 0.9210276\n",
      "Epoch: 0501 cost= 0.077797562 W= 0.23396213 b= 0.913918\n",
      "Epoch: 0551 cost= 0.077705741 W= 0.23489173 b= 0.90723085\n",
      "Epoch: 0601 cost= 0.077624485 W= 0.23576601 b= 0.9009411\n",
      "Epoch: 0651 cost= 0.077552512 W= 0.23658831 b= 0.8950255\n",
      "Epoch: 0701 cost= 0.077488743 W= 0.23736177 b= 0.8894615\n",
      "Epoch: 0751 cost= 0.077432312 W= 0.23808919 b= 0.88422835\n",
      "Epoch: 0801 cost= 0.077382319 W= 0.23877332 b= 0.87930685\n",
      "Epoch: 0851 cost= 0.077338032 W= 0.23941678 b= 0.87467784\n",
      "Epoch: 0901 cost= 0.077298813 W= 0.24002206 b= 0.8703233\n",
      "Epoch: 0951 cost= 0.077264056 W= 0.24059126 b= 0.86622846\n",
      "Epoch: 1001 cost= 0.077233262 W= 0.24112664 b= 0.86237687\n",
      "Epoch: 1051 cost= 0.077205986 W= 0.24163012 b= 0.8587549\n",
      "Epoch: 1101 cost= 0.077181809 W= 0.24210383 b= 0.8553474\n",
      "Epoch: 1151 cost= 0.077160403 W= 0.24254927 b= 0.85214275\n",
      "Epoch: 1201 cost= 0.077141404 W= 0.24296829 b= 0.84912866\n",
      "Epoch: 1251 cost= 0.077124566 W= 0.24336232 b= 0.84629375\n",
      "Epoch: 1301 cost= 0.077109642 W= 0.24373306 b= 0.84362686\n",
      "Epoch: 1351 cost= 0.077096403 W= 0.24408157 b= 0.8411195\n",
      "Epoch: 1401 cost= 0.077084683 W= 0.24440949 b= 0.83876044\n",
      "Epoch: 1451 cost= 0.077074267 W= 0.24471791 b= 0.836542\n",
      "Epoch: 1501 cost= 0.077065036 W= 0.24500786 b= 0.8344559\n",
      "Epoch: 1551 cost= 0.077056848 W= 0.24528064 b= 0.8324933\n",
      "Epoch: 1601 cost= 0.077049576 W= 0.24553737 b= 0.8306467\n",
      "Epoch: 1651 cost= 0.077043124 W= 0.24577852 b= 0.82891184\n",
      "Epoch: 1701 cost= 0.077037416 W= 0.24600542 b= 0.82727927\n",
      "Epoch: 1751 cost= 0.077032313 W= 0.24621902 b= 0.82574296\n",
      "Epoch: 1801 cost= 0.077027798 W= 0.24641995 b= 0.8242974\n",
      "Epoch: 1851 cost= 0.077023782 W= 0.24660866 b= 0.8229401\n",
      "Epoch: 1901 cost= 0.077020228 W= 0.24678624 b= 0.8216625\n",
      "Epoch: 1951 cost= 0.077017061 W= 0.24695322 b= 0.82046103\n",
      "Epoch: 2001 cost= 0.077014253 W= 0.24711047 b= 0.8193299\n",
      "Epoch: 2051 cost= 0.077011749 W= 0.24725835 b= 0.8182659\n",
      "Epoch: 2101 cost= 0.077009514 W= 0.24739732 b= 0.81726635\n",
      "Epoch: 2151 cost= 0.077007532 W= 0.24752797 b= 0.81632656\n",
      "Epoch: 2201 cost= 0.077005766 W= 0.24765088 b= 0.81544214\n",
      "Epoch: 2251 cost= 0.077004194 W= 0.2477664 b= 0.8146109\n",
      "Epoch: 2301 cost= 0.077002816 W= 0.24787529 b= 0.8138278\n",
      "Epoch: 2351 cost= 0.077001557 W= 0.24797758 b= 0.8130918\n",
      "Epoch: 2401 cost= 0.077000454 W= 0.24807385 b= 0.8123986\n",
      "Epoch: 2451 cost= 0.076999441 W= 0.24816464 b= 0.8117461\n",
      "Epoch: 2501 cost= 0.076998554 W= 0.24824975 b= 0.8111335\n",
      "Epoch: 2551 cost= 0.076997787 W= 0.24832965 b= 0.81055886\n",
      "Epoch: 2601 cost= 0.076997072 W= 0.24840474 b= 0.81001896\n",
      "Epoch: 2651 cost= 0.076996438 W= 0.24847555 b= 0.8095091\n",
      "Epoch: 2701 cost= 0.076995872 W= 0.24854226 b= 0.80902976\n",
      "Epoch: 2751 cost= 0.076995380 W= 0.2486045 b= 0.8085819\n",
      "Epoch: 2801 cost= 0.076994933 W= 0.2486636 b= 0.80815667\n",
      "Epoch: 2851 cost= 0.076994523 W= 0.24871902 b= 0.80775815\n",
      "Epoch: 2901 cost= 0.076994166 W= 0.24877131 b= 0.807382\n",
      "Epoch: 2951 cost= 0.076993838 W= 0.24882045 b= 0.80702823\n",
      "Epoch: 3001 cost= 0.076993547 W= 0.24886668 b= 0.8066964\n",
      "Epoch: 3051 cost= 0.076993294 W= 0.2489099 b= 0.80638474\n",
      "Epoch: 3101 cost= 0.076993056 W= 0.24895068 b= 0.806091\n",
      "Epoch: 3151 cost= 0.076992854 W= 0.248989 b= 0.80581534\n",
      "Epoch: 3201 cost= 0.076992653 W= 0.2490256 b= 0.80555207\n",
      "Epoch: 3251 cost= 0.076992482 W= 0.24905983 b= 0.8053064\n",
      "Epoch: 3301 cost= 0.076992325 W= 0.24909191 b= 0.80507505\n",
      "Epoch: 3351 cost= 0.076992184 W= 0.24912183 b= 0.8048599\n",
      "Epoch: 3401 cost= 0.076992065 W= 0.24914993 b= 0.80465806\n",
      "Epoch: 3451 cost= 0.076991953 W= 0.24917607 b= 0.80446994\n",
      "Epoch: 3501 cost= 0.076991864 W= 0.24920067 b= 0.80429304\n",
      "Epoch: 3551 cost= 0.076991752 W= 0.24922416 b= 0.80412406\n",
      "Epoch: 3601 cost= 0.076991692 W= 0.24924621 b= 0.80396557\n",
      "Epoch: 3651 cost= 0.076991603 W= 0.2492671 b= 0.8038149\n",
      "Epoch: 3701 cost= 0.076991528 W= 0.24928683 b= 0.80367297\n",
      "Epoch: 3751 cost= 0.076991461 W= 0.24930453 b= 0.8035458\n",
      "Epoch: 3801 cost= 0.076991402 W= 0.2493218 b= 0.80342144\n",
      "Epoch: 3851 cost= 0.076991372 W= 0.24933787 b= 0.8033056\n",
      "Epoch: 3901 cost= 0.076991290 W= 0.24935322 b= 0.8031962\n",
      "Epoch: 3951 cost= 0.076991268 W= 0.24936768 b= 0.8030921\n",
      "최적화 종료\n",
      "cost= 0.07699122 W= 0.24938141 b= 0.8029929\n"
     ]
    },
    {
     "data": {
      "image/png": "[encoded data removed]",
      "text/plain": [
       "<Figure size 432x288 with 1 Axes>"
      ]
     },
     "metadata": {
      "needs_background": "light"
     },
     "output_type": "display_data"
    }
   ],
   "source": [
    "# 그래프 정의\n",
    "#  node : 연산  |  edge(데이터 전달 : tensor(배열+행렬))\n",
    "# 전제조건 : GPU가 존재한다 전제가 있어야. -> 네트웤으로 연결 \n",
    "\n",
    "with tf.Session() as sess: # 실행부\n",
    "    sess.run(init)\n",
    "    \n",
    "    for epoch in range(training_epochs): # 세대[반복]\n",
    "        for (x, y) in zip(train_X, train_Y): #데이터를 1개씩 feeding\n",
    "            sess.run(optimizer, feed_dict={X:x, Y:y})\n",
    "        if epoch % display_step == 0: # 비용함수는 감소해야.. 우하향 # accurency는 증가해야 # acurrency는 미분하면 0으로 가능 경우가 많아서 비용함수로..\n",
    "            print(\"Epoch:\",\"%04d\"%(epoch+1), \"cost=\", \"{:.9f}\".format(sess.run(cost, feed_dict={X : train_X, Y:train_Y})),\n",
    "            \"W=\", sess.run(W), \"b=\",sess.run(b)) # 수렴값\n",
    "\n",
    "    print(\"최적화 종료\")\n",
    "    print(\"cost=\", sess.run(cost, feed_dict={X:train_X, Y:train_Y}),\n",
    "         \"W=\",sess.run(W), \"b=\", sess.run(b))\n",
    "    plt.plot(train_X, train_Y, 'ro', label='Original data')\n",
    "    # predict한 결과값 출력\n",
    "    plt.plot(train_X, sess.run(W) * train_X + sess.run(b),\n",
    "            label='Fitted line')\n",
    "    plt.legend()\n",
    "    plt.show()"
   ]
  },
  {
   "cell_type": "code",
   "execution_count": null,
   "metadata": {},
   "outputs": [],
   "source": []
  },
  {
   "cell_type": "code",
   "execution_count": 104,
   "metadata": {},
   "outputs": [],
   "source": [
    "# \n",
    "W = 0.24768482\n",
    "b = 0.80373293"
   ]
  },
  {
   "cell_type": "code",
   "execution_count": 70,
   "metadata": {},
   "outputs": [],
   "source": [
    "# 텐서는 직접 데이터를 불러올 수 없다.\n",
    "# 직접 시각화하는 것도 불가능 -> numpy포맷으로 변경해야\n",
    "\n",
    "import tensorflow as tf\n",
    "def run_variable(variable):\n",
    "    tf.global_variables_initializer()\n",
    "    with tf.Session() as sess:\n",
    "        return sess.run(variable)"
   ]
  },
  {
   "cell_type": "code",
   "execution_count": 71,
   "metadata": {},
   "outputs": [],
   "source": [
    "my_distribution = tf.random_uniform((600,400), seed=42)\n",
    "uniform = run_variable(my_distribution)"
   ]
  },
  {
   "cell_type": "code",
   "execution_count": 72,
   "metadata": {},
   "outputs": [
    {
     "data": {
      "image/png": "[encoded data removed]",
      "text/plain": [
       "<Figure size 432x288 with 1 Axes>"
      ]
     },
     "metadata": {
      "needs_background": "light"
     },
     "output_type": "display_data"
    }
   ],
   "source": [
    "from matplotlib import pyplot as plt\n",
    "plt.hist(uniform.flatten()) # flatten : 차수는 무시하고 1차원으로.. 데이터 메모리 저장 : 1차원으로 저장..\n",
    "plt.show()\n",
    "\n",
    "# 데이터 갯수가 적으면 균등분포가 되지않는다."
   ]
  },
  {
   "cell_type": "code",
   "execution_count": null,
   "metadata": {},
   "outputs": [],
   "source": [
    "# activation 함수의 역할? : 회귀인가 분류인가를 결정\n",
    "#  - 비선형 매핑(선형대수문제를 비선형문제으로 변경)\n",
    "#  - 그래서 가중치를 깊게하고, 활성화함수매핑으로 xor문제를 해결 \n",
    "\n",
    "# 신경망은 한번쓴 변수는 다시쓸수없다. 리셋해줘야한다. 리셋하지 않으면 문제 발생."
   ]
  },
  {
   "cell_type": "code",
   "execution_count": 74,
   "metadata": {},
   "outputs": [
    {
     "name": "stdout",
     "output_type": "stream",
     "text": [
      "[-10.          -9.7979798   -9.5959596   -9.39393939  -9.19191919\n",
      "  -8.98989899  -8.78787879  -8.58585859  -8.38383838  -8.18181818\n",
      "  -7.97979798  -7.77777778  -7.57575758  -7.37373737  -7.17171717\n",
      "  -6.96969697  -6.76767677  -6.56565657  -6.36363636  -6.16161616\n",
      "  -5.95959596  -5.75757576  -5.55555556  -5.35353535  -5.15151515\n",
      "  -4.94949495  -4.74747475  -4.54545455  -4.34343434  -4.14141414\n",
      "  -3.93939394  -3.73737374  -3.53535354  -3.33333333  -3.13131313\n",
      "  -2.92929293  -2.72727273  -2.52525253  -2.32323232  -2.12121212\n",
      "  -1.91919192  -1.71717172  -1.51515152  -1.31313131  -1.11111111\n",
      "  -0.90909091  -0.70707071  -0.50505051  -0.3030303   -0.1010101\n",
      "   0.1010101    0.3030303    0.50505051   0.70707071   0.90909091\n",
      "   1.11111111   1.31313131   1.51515152   1.71717172   1.91919192\n",
      "   2.12121212   2.32323232   2.52525253   2.72727273   2.92929293\n",
      "   3.13131313   3.33333333   3.53535354   3.73737374   3.93939394\n",
      "   4.14141414   4.34343434   4.54545455   4.74747475   4.94949495\n",
      "   5.15151515   5.35353535   5.55555556   5.75757576   5.95959596\n",
      "   6.16161616   6.36363636   6.56565657   6.76767677   6.96969697\n",
      "   7.17171717   7.37373737   7.57575758   7.77777778   7.97979798\n",
      "   8.18181818   8.38383838   8.58585859   8.78787879   8.98989899\n",
      "   9.19191919   9.39393939   9.5959596    9.7979798   10.        ]\n"
     ]
    }
   ],
   "source": [
    "import tensorflow as tf\n",
    "import numpy as np\n",
    "import matplotlib.pyplot as plt\n",
    "from tensorflow.python.framework import ops\n",
    "\n",
    "ops.reset_default_graph() #그래프 초기화\n",
    "sess = tf.Session()\n",
    "\n",
    "x_vals = np.linspace(start = -10., stop = 10., num=100)\n",
    "print(x_vals)"
   ]
  },
  {
   "cell_type": "code",
   "execution_count": 75,
   "metadata": {},
   "outputs": [
    {
     "name": "stdout",
     "output_type": "stream",
     "text": [
      "[-0.  3. 10.]\n",
      "[0.26894143 0.5        0.7310586 ]\n",
      "[-0.7615942  0.         0.7615942]\n",
      "[-0.63212055  0.          1.        ]\n",
      "[0.31326166 0.6931472  1.3132616 ]\n",
      "[4.53988992e-05 5.55621925e-05 6.80006294e-05 8.32234827e-05\n",
      " 1.01854002e-04 1.24654915e-04 1.52559623e-04 1.86710374e-04\n",
      " 2.28504961e-04 2.79653838e-04 3.42249995e-04 4.18854392e-04\n",
      " 5.12600439e-04 6.27321712e-04 7.67708042e-04 9.39496227e-04\n",
      " 1.14970295e-03 1.40690911e-03 1.72160671e-03 2.10662180e-03\n",
      " 2.57762963e-03 3.15378152e-03 3.85846667e-03 4.72023638e-03\n",
      " 5.77392318e-03 7.06199264e-03 8.63617122e-03 1.05593993e-02\n",
      " 1.29081631e-02 1.57752639e-02 1.92730804e-02 2.35373794e-02\n",
      " 2.87317129e-02 3.50524161e-02 4.27341757e-02 5.20560700e-02\n",
      " 6.33478781e-02 7.69963170e-02 9.34506760e-02 1.13227094e-01\n",
      " 1.36910472e-01 1.65152775e-01 1.98666320e-01 2.38210660e-01\n",
      " 2.84571982e-01 3.38534624e-01 4.00845440e-01 4.72173209e-01\n",
      " 5.53066799e-01 6.43916968e-01 7.44927069e-01 8.56097102e-01\n",
      " 9.77223714e-01 1.10791615e+00 1.24762553e+00 1.39568309e+00\n",
      " 1.55134197e+00 1.71381783e+00 1.88232449e+00 2.05610239e+00\n",
      " 2.23443922e+00 2.41668300e+00 2.60224884e+00 2.79062061e+00\n",
      " 2.98134900e+00 3.17404731e+00 3.36838575e+00 3.56408525e+00\n",
      " 3.76091112e+00 3.95866702e+00 4.15718941e+00 4.35634251e+00\n",
      " 4.55601394e+00 4.75611092e+00 4.95655694e+00 5.15728907e+00\n",
      " 5.35825559e+00 5.55941402e+00 5.76072954e+00 5.96217359e+00\n",
      " 6.16372278e+00 6.36535797e+00 6.56706347e+00 6.76882647e+00\n",
      " 6.97063647e+00 7.17248488e+00 7.37436470e+00 7.57627018e+00\n",
      " 7.77819663e+00 7.98014023e+00 8.18209784e+00 8.38406689e+00\n",
      " 8.58604530e+00 8.78803135e+00 8.99002364e+00 9.19202105e+00\n",
      " 9.39402262e+00 9.59602760e+00 9.79803536e+00 1.00000454e+01]\n",
      "[-0.9999546  -0.99994444 -0.999932   -0.99991677 -0.99989814 -0.99987534\n",
      " -0.99984743 -0.99981327 -0.99977147 -0.99972031 -0.99965769 -0.99958106\n",
      " -0.99948727 -0.99937248 -0.999232   -0.99906006 -0.99884964 -0.9985921\n",
      " -0.99827691 -0.99789116 -0.99741905 -0.99684124 -0.99613408 -0.99526861\n",
      " -0.99420938 -0.99291301 -0.99132643 -0.98938465 -0.98700817 -0.98409965\n",
      " -0.98053999 -0.97618343 -0.97085155 -0.96432601 -0.95633957 -0.94656519\n",
      " -0.9346026  -0.9199619  -0.90204355 -0.88011378 -0.85327452 -0.82042669\n",
      " -0.78022512 -0.73102351 -0.67080701 -0.59710968 -0.50691352 -0.3965249\n",
      " -0.26142329 -0.0960761   0.1010101   0.3030303   0.50505051  0.70707071\n",
      "  0.90909091  1.11111111  1.31313131  1.51515152  1.71717172  1.91919192\n",
      "  2.12121212  2.32323232  2.52525253  2.72727273  2.92929293  3.13131313\n",
      "  3.33333333  3.53535354  3.73737374  3.93939394  4.14141414  4.34343434\n",
      "  4.54545455  4.74747475  4.94949495  5.15151515  5.35353535  5.55555556\n",
      "  5.75757576  5.95959596  6.16161616  6.36363636  6.56565657  6.76767677\n",
      "  6.96969697  7.17171717  7.37373737  7.57575758  7.77777778  7.97979798\n",
      "  8.18181818  8.38383838  8.58585859  8.78787879  8.98989899  9.19191919\n",
      "  9.39393939  9.5959596   9.7979798  10.        ]\n"
     ]
    },
    {
     "data": {
      "image/png": "[encoded data removed]",
      "text/plain": [
       "<Figure size 432x288 with 1 Axes>"
      ]
     },
     "metadata": {
      "needs_background": "light"
     },
     "output_type": "display_data"
    },
    {
     "data": {
      "image/png": "[encoded data removed]",
      "text/plain": [
       "<Figure size 432x288 with 1 Axes>"
      ]
     },
     "metadata": {
      "needs_background": "light"
     },
     "output_type": "display_data"
    }
   ],
   "source": [
    "# relu가 가장많이 쓰임. elu는 relu를 조금 수정한것\n",
    "print( sess.run( tf.nn.relu([-3., 3., 10.]) )) # 0~∞\n",
    "y_relu = sess.run(tf.nn.relu(x_vals))\n",
    "\n",
    "print(sess.run(tf.nn.sigmoid([-1., 0., 1.]))) #0~1\n",
    "y_sigmoid = sess.run(tf.nn.sigmoid(x_vals))\n",
    "\n",
    "print(sess.run(tf.nn.tanh([-1., 0., 1.])))# -1~1\n",
    "y_tanh = sess.run(tf.nn.tanh(x_vals))\n",
    "\n",
    "print(sess.run(tf.nn.elu([-1., 0., 1.])))# -1~∞\n",
    "y_elu = sess.run(tf.nn.elu(x_vals))\n",
    "\n",
    "print(sess.run(tf.nn.softplus([-1., 0., 1.]))) # 엘루의 각진 단점을 보완한 것이 소프트 플러스\n",
    "y_softplus = sess.run(tf.nn.softplus(x_vals))\n",
    "print(y_softplus)\n",
    "print(y_elu)\n",
    "\n",
    "plt.plot(x_vals, y_relu, 'b:', label='ReLU', linewidth=2)\n",
    "plt.plot(x_vals, y_elu, 'k-', label='ExpLU', linewidth=0.5)\n",
    "plt.ylim([-1.5,7])\n",
    "plt.legend(loc='upper left')\n",
    "plt.show()\n",
    "\n",
    "plt.plot(x_vals, y_sigmoid, 'r--', label=\"Sigmoid\", linewidth=2)\n",
    "plt.plot(x_vals, y_tanh, 'b:', label=\"Tanh\", linewidth=2)\n",
    "plt.ylim([-2,2])\n",
    "plt.legend(loc='upper left')\n",
    "plt.show()"
   ]
  },
  {
   "cell_type": "code",
   "execution_count": 76,
   "metadata": {},
   "outputs": [],
   "source": [
    "import tensorflow as tf\n",
    "\n",
    "ops.reset_default_graph() # 그래프 초기화\n",
    "sess=tf.Session()\n",
    "tf.set_random_seed(5) # 시드 초기값\n",
    "np.random.seed(42)\n",
    "batch_size = 50\n",
    "\n",
    "a1 = tf.Variable(tf.random_normal(shape=[1,1])) # 가중치\n",
    "b1 = tf.Variable(tf.random_uniform(shape=[1,1])) # bias\n",
    "a2 = tf.Variable(tf.random_normal(shape=[1,1]))\n",
    "b2 = tf.Variable(tf.random_uniform(shape=[1,1]))\n",
    "\n",
    "x = np.random.normal(2, 0.1, 500) # 500개의 데이터를 랜덤으로 생성\n",
    "\n",
    "# None\n",
    "# 사이즈 fix하지 않고 입력 데이터로부터 계산\n",
    "# 행 데이터로 생성\n",
    "# ex) [2,3,2,12,2,1,23,21,3]\n",
    "x_data = tf.placeholder(shape = [None, 1], dtype=tf.float32)"
   ]
  },
  {
   "cell_type": "code",
   "execution_count": 77,
   "metadata": {},
   "outputs": [
    {
     "name": "stdout",
     "output_type": "stream",
     "text": [
      "\n",
      " sigmoid and Relu 함수의 최적화 0.75\n"
     ]
    }
   ],
   "source": [
    "# y = ax + b 꼴을 취해 주되 sigmoid를 달아줘서 값을 0 ~ 1 사이값으로 매핑\n",
    "sigmoid_activation = tf.sigmoid(tf.add(tf.matmul(x_data, a1), b1))\n",
    "# relu를 달아줘서 값을 0 ~ ∞ 값으로 매핑\n",
    "relu_activation = tf.nn.relu(tf.add(tf.matmul(x_data, a2), b2))\n",
    "\n",
    "# 0.75로 수렴과정\n",
    "# MSE 식\n",
    "loss1 = tf.reduce_mean(tf.square(tf.subtract(sigmoid_activation, 0.75)))\n",
    "loss2 = tf.reduce_mean(tf.square(tf.subtract(relu_activation, 0.75)))\n",
    "\n",
    "init = tf.global_variables_initializer()\n",
    "sess.run(init)\n",
    "\n",
    "my_opt = tf.train.GradientDescentOptimizer(0.01)# 학습률 0.01로 주고\n",
    "train_step_sigmoid = my_opt.minimize(loss1)\n",
    "train_step_relu = my_opt.minimize(loss2)\n",
    "print(\"\\n sigmoid and Relu 함수의 최적화 0.75\")"
   ]
  },
  {
   "cell_type": "code",
   "execution_count": 78,
   "metadata": {},
   "outputs": [],
   "source": [
    "loss_vec_sigmoid = [] #로스값을 저장하기 위한 공간\n",
    "loss_vec_relu = []"
   ]
  },
  {
   "cell_type": "code",
   "execution_count": 79,
   "metadata": {},
   "outputs": [
    {
     "name": "stdout",
     "output_type": "stream",
     "text": [
      "sigmoid = 0.12655206 relu2.0227606\n",
      "sigmoid = 0.17863758 relu0.7530296\n",
      "sigmoid = 0.24769813 relu0.7492897\n",
      "sigmoid = 0.3446748 relu0.7499546\n",
      "sigmoid = 0.4400661 relu0.7539999\n",
      "sigmoid = 0.5236898 relu0.754772\n",
      "sigmoid = 0.58373857 relu0.7508698\n",
      "sigmoid = 0.62733483 relu0.7470234\n",
      "sigmoid = 0.6549499 relu0.75180537\n",
      "sigmoid = 0.67452586 relu0.75470716\n"
     ]
    }
   ],
   "source": [
    "for i in range(500):\n",
    "    # 500개 중 50개 초이스\n",
    "    rand_indices = np.random.choice(len(x), size=batch_size) # batch_size = 50\n",
    "    x_vals = np.transpose([x[rand_indices]]) # 모양맞추기 위해 조정\n",
    "    \n",
    "    sess.run(train_step_sigmoid, feed_dict={x_data : x_vals})\n",
    "    sess.run(train_step_relu, feed_dict={x_data : x_vals})\n",
    "    \n",
    "    loss_vec_sigmoid.append(sess.run(loss1, feed_dict={x_data : x_vals}))\n",
    "    loss_vec_relu.append(sess.run(loss2, feed_dict={x_data : x_vals}))\n",
    "    \n",
    "    sigmoid_output = np.mean(sess.run(sigmoid_activation, feed_dict={x_data : x_vals}))\n",
    "    relu_output = np.mean(sess.run(relu_activation, feed_dict={x_data : x_vals}))\n",
    "    \n",
    "    if i % 50 == 0:\n",
    "        print('sigmoid = ' + str(np.mean(sigmoid_output)) + ' relu' + str(np.mean(relu_output)))\n",
    "        \n",
    "# 0.75 수렴하는 과정"
   ]
  },
  {
   "cell_type": "code",
   "execution_count": 80,
   "metadata": {},
   "outputs": [
    {
     "data": {
      "image/png": "[encoded data removed]",
      "text/plain": [
       "<Figure size 432x288 with 1 Axes>"
      ]
     },
     "metadata": {
      "needs_background": "light"
     },
     "output_type": "display_data"
    }
   ],
   "source": [
    "# 비용함수 값 그래프\n",
    "# 렐루는 속도도 빠르고 빨리 근사치로 간다.\n",
    "# 그래서 지금은 시그모이드 잘 안씀\n",
    "plt.plot(loss_vec_sigmoid, 'k-', label='Sigmoid Activation')\n",
    "plt.plot(loss_vec_relu, 'r--', label='Relu Activation')\n",
    "plt.ylim([0, 1.0])\n",
    "plt.title(' loss per Generation')\n",
    "plt.xlabel('Generation')\n",
    "plt.ylabel('Loss')\n",
    "plt.legend(loc='upper right')\n",
    "plt.show() "
   ]
  },
  {
   "cell_type": "code",
   "execution_count": null,
   "metadata": {},
   "outputs": [],
   "source": []
  },
  {
   "cell_type": "code",
   "execution_count": null,
   "metadata": {},
   "outputs": [],
   "source": []
  },
  {
   "cell_type": "code",
   "execution_count": null,
   "metadata": {},
   "outputs": [],
   "source": []
  }
 ],
 "metadata": {
  "kernelspec": {
   "display_name": "Python 3",
   "language": "python",
   "name": "python3"
  },
  "language_info": {
   "codemirror_mode": {
    "name": "ipython",
    "version": 3
   },
   "file_extension": ".py",
   "mimetype": "text/x-python",
   "name": "python",
   "nbconvert_exporter": "python",
   "pygments_lexer": "ipython3",
   "version": "3.7.0"
  }
 },
 "nbformat": 4,
 "nbformat_minor": 4
}
