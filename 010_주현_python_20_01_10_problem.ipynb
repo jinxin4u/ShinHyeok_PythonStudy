{
 "cells": [
  {
   "cell_type": "code",
   "execution_count": null,
   "metadata": {},
   "outputs": [],
   "source": [
    "\n",
    "문제1) 첫번째 컬럼의 이름을 ID-area로 지정하시오.\n",
    "문제2) regions의 값들을 중복하지 않고 이상한 숫자를 제거하시오.   # 확인 방법은?\n",
    "문제3) 처음 컬럼(ID_area_)에 들어온 이상한 숫자를 제거하시오.\n",
    "\n",
    "문제4) 산성관련 성분인 'palmitic', 'palmitoleic', 'stearic', 'oleic', 'linolenic',\n",
    "        'linolenic', 'arachidic', 'eicosenoic'의 컬럼만 추려서\n",
    "        별도의 sub 데이터 프레임(변수이름= dfsub)을 생성하시오.\n",
    "    \n",
    "문제5) dfsub의 데이터를 모두 100으로 나누어 소수점으로 나타내시오.\n",
    "문제6) palmitic산과 linolenic산의 분포도를 시각화하시오.\n",
    "문제7) groupby를 활용하여 region을 기준으로 묶어서 region_groupby 객체로 생성\n",
    "문제8) region_groupby에 describe() 메소드 적용하여 출력하시오.\n"
   ]
  },
  {
   "cell_type": "code",
   "execution_count": null,
   "metadata": {},
   "outputs": [],
   "source": []
  },
  {
   "cell_type": "code",
   "execution_count": null,
   "metadata": {},
   "outputs": [],
   "source": []
  },
  {
   "cell_type": "code",
   "execution_count": null,
   "metadata": {},
   "outputs": [],
   "source": []
  },
  {
   "cell_type": "code",
   "execution_count": null,
   "metadata": {},
   "outputs": [],
   "source": [
    "path= \"./olive.csv\"\n",
    "df= pd.read_csv(path)\n",
    "print(df.head(5))\n",
    "print(df.dtypes)\n",
    "df.describe()"
   ]
  },
  {
   "cell_type": "code",
   "execution_count": null,
   "metadata": {},
   "outputs": [],
   "source": [
    "#1)\n",
    "df. rename(columns={df.columns[0]: 'ID_area'}, inplace=True)\n",
    "df.columns # 컬럼만 확인\n",
    "df.head()"
   ]
  },
  {
   "cell_type": "code",
   "execution_count": null,
   "metadata": {},
   "outputs": [],
   "source": [
    "#2)\n",
    "df.region.unique()\n",
    "df.area.unique()\n",
    "\n"
   ]
  },
  {
   "cell_type": "code",
   "execution_count": null,
   "metadata": {},
   "outputs": [],
   "source": [
    "# 참고 : crosstab: 교차분석표\n",
    "pd.crosstab(df.area, df.region)"
   ]
  },
  {
   "cell_type": "code",
   "execution_count": null,
   "metadata": {},
   "outputs": [],
   "source": [
    "df.head()"
   ]
  },
  {
   "cell_type": "code",
   "execution_count": null,
   "metadata": {},
   "outputs": [],
   "source": [
    "#3)  문자열 처리  또는 \".\"\n",
    "\n",
    "df[\"ID_area\"]= df[\"ID_area\"].apply(lambda x: x.split('.')[1]) # 람다 함수를 통해 하나만 처리\n"
   ]
  },
  {
   "cell_type": "code",
   "execution_count": null,
   "metadata": {},
   "outputs": [],
   "source": [
    "df.head()"
   ]
  },
  {
   "cell_type": "code",
   "execution_count": null,
   "metadata": {},
   "outputs": [],
   "source": [
    "#4)\n",
    "\n",
    "acidlist=['palmitic', 'palmitoleic', 'stearic', 'oleic', 'linolenic',\n",
    "        'linolenic', 'arachidic', 'eicosenoic']\n",
    "dfsub= df[acidlist]\n",
    "dfsub.head()"
   ]
  },
  {
   "cell_type": "code",
   "execution_count": null,
   "metadata": {},
   "outputs": [],
   "source": [
    "#5)\n",
    "\n",
    "dfsub=df[acidlist].apply(lambda x: x/100.0)\n",
    "\n",
    "df[acidlist]=dfsub  # 원본데이터에 다시 집어넣음"
   ]
  },
  {
   "cell_type": "code",
   "execution_count": null,
   "metadata": {},
   "outputs": [],
   "source": [
    "df.head()"
   ]
  },
  {
   "cell_type": "code",
   "execution_count": null,
   "metadata": {},
   "outputs": [],
   "source": [
    "#6)\n",
    "\n",
    "fig=plt.figure()\n",
    "plt.scatter(df[\"palmitic\"], df[\"linolenic\"])\n",
    "axis= fig.gca()\n",
    "axis.set_title('linolenic vs palmitic')\n",
    "axis.set_xlabel('palmitic')\n",
    "axis.set_ylabel('linolenic')"
   ]
  },
  {
   "cell_type": "code",
   "execution_count": null,
   "metadata": {},
   "outputs": [],
   "source": [
    "#7)\n",
    "\n",
    "region_groupby= df.groupby(['region'])\n",
    "# 객체라서 따로 내용을 봐야함.(요약함수, 집계함수 써야함.)\n",
    "\n",
    "region_groupby.apply(np.mean)   # 시리즈는 np 밑에 있다.  포인터(주소값)\n",
    "\n",
    "# 여러개 적용은 aggFunc\n",
    "\n",
    "\n"
   ]
  },
  {
   "cell_type": "code",
   "execution_count": null,
   "metadata": {},
   "outputs": [],
   "source": [
    "# region_groupby.apply(np.mean) => 람다로 활용하면?\n",
    "\n",
    "region_groupby.apply(lambda x: x.mean() )  \n",
    "# 시리즈 이기 때문에 mean 하면 됌. (함수 안에서 함수정의)\n",
    "\n",
    "\n",
    "# def clac(x):\n",
    "#     x.mean()"
   ]
  },
  {
   "cell_type": "code",
   "execution_count": null,
   "metadata": {},
   "outputs": [],
   "source": [
    "\n",
    "#8)\n",
    "\n",
    "region_groupby.describe()"
   ]
  },
  {
   "cell_type": "code",
   "execution_count": null,
   "metadata": {},
   "outputs": [],
   "source": []
  },
  {
   "cell_type": "code",
   "execution_count": null,
   "metadata": {},
   "outputs": [],
   "source": [
    "##### 비연속적인 인덱스(index)\n",
    "\n",
    "\n",
    "def cut(array, bins, labels, closed='right'):\n",
    "    _bins = pd.IntervalIndex.from_tuples(bins, closed=closed)\n",
    "\n",
    "    x = pd.cut(array, _bins)\n",
    "    x.categories = labels\n",
    "    return x\n",
    "\n",
    " \n",
    "\n",
    "array = [3.5, 1, 0.5, 3]\n",
    "bins = [(0,1), (1,2), (3,4)]\n",
    "labels = ['first', 'second', 'third']\n",
    "\n",
    "df = pd.DataFrame({\n",
    "    'value': array,\n",
    "    'category': cut(array, bins, labels, closed='right')\n",
    "})\n",
    "df "
   ]
  },
  {
   "cell_type": "code",
   "execution_count": null,
   "metadata": {},
   "outputs": [],
   "source": []
  },
  {
   "cell_type": "code",
   "execution_count": null,
   "metadata": {},
   "outputs": [],
   "source": []
  },
  {
   "cell_type": "code",
   "execution_count": null,
   "metadata": {},
   "outputs": [],
   "source": []
  },
  {
   "cell_type": "code",
   "execution_count": null,
   "metadata": {},
   "outputs": [],
   "source": []
  },
  {
   "cell_type": "code",
   "execution_count": null,
   "metadata": {},
   "outputs": [],
   "source": []
  },
  {
   "cell_type": "code",
   "execution_count": null,
   "metadata": {},
   "outputs": [],
   "source": []
  },
  {
   "cell_type": "code",
   "execution_count": null,
   "metadata": {},
   "outputs": [],
   "source": []
  },
  {
   "cell_type": "code",
   "execution_count": null,
   "metadata": {},
   "outputs": [],
   "source": []
  },
  {
   "cell_type": "code",
   "execution_count": null,
   "metadata": {},
   "outputs": [],
   "source": []
  },
  {
   "cell_type": "code",
   "execution_count": null,
   "metadata": {},
   "outputs": [],
   "source": []
  },
  {
   "cell_type": "code",
   "execution_count": null,
   "metadata": {},
   "outputs": [],
   "source": []
  },
  {
   "cell_type": "code",
   "execution_count": null,
   "metadata": {},
   "outputs": [],
   "source": []
  },
  {
   "cell_type": "code",
   "execution_count": null,
   "metadata": {},
   "outputs": [],
   "source": []
  }
 ],
 "metadata": {
  "kernelspec": {
   "display_name": "Python 3",
   "language": "python",
   "name": "python3"
  },
  "language_info": {
   "codemirror_mode": {
    "name": "ipython",
    "version": 3
   },
   "file_extension": ".py",
   "mimetype": "text/x-python",
   "name": "python",
   "nbconvert_exporter": "python",
   "pygments_lexer": "ipython3",
   "version": "3.7.4"
  }
 },
 "nbformat": 4,
 "nbformat_minor": 2
}
