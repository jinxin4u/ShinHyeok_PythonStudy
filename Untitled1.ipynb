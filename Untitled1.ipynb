{
 "cells": [
  {
   "cell_type": "code",
   "execution_count": 10,
   "metadata": {},
   "outputs": [
    {
     "name": "stdout",
     "output_type": "stream",
     "text": [
      "None\n"
     ]
    },
    {
     "data": {
      "text/plain": [
       "<bound method Connection.close of <pymysql.connections.Connection object at 0x000001CEC09C3108>>"
      ]
     },
     "execution_count": 10,
     "metadata": {},
     "output_type": "execute_result"
    }
   ],
   "source": [
    "import pymysql\n",
    "\n",
    "# 네트워크 접속은 os가 관리한다.\n",
    "\n",
    "conn = pymysql.connect(host = '192.168.1.213',\n",
    "                      user = 'root', port=3306, password = 'acorn1234Q!', db='acornschool',\n",
    "                      charset = 'utf8mb4', use_unicode=True,\n",
    "                      cursorclass = pymysql.cursors.DictCursor)\n",
    "\n",
    "cur = conn.cursor()\n",
    "\n",
    "cur.execute(\"\"\"CREATE TABLE pett (id INT NOT NULL AUTO_INCREMENT,\n",
    "name VARCHAR(20),\n",
    "owner VARCHAR(20),\n",
    "species VARCHAR(20),\n",
    "sex CHAR(1),\n",
    "birth DATE, death DATE,\n",
    "PRIMARY KEY (id)) ENGINE=InnoDB AUTO_INCREMENT=1\"\"\")\n",
    "\n",
    "print(cur.description)\n",
    "conn.close\n"
   ]
  },
  {
   "cell_type": "code",
   "execution_count": 11,
   "metadata": {},
   "outputs": [
    {
     "name": "stdout",
     "output_type": "stream",
     "text": [
      "5\n"
     ]
    },
    {
     "data": {
      "text/plain": [
       "<bound method Connection.close of <pymysql.connections.Connection object at 0x000001CEC09D7CC8>>"
      ]
     },
     "execution_count": 11,
     "metadata": {},
     "output_type": "execute_result"
    }
   ],
   "source": [
    "conn = pymysql.connect(host = '192.168.1.213',\n",
    "                      user = 'root', port=3306, password = 'acorn1234Q!', db='acornschool',\n",
    "                      charset = 'utf8mb4', use_unicode=True,\n",
    "                      cursorclass = pymysql.cursors.DictCursor)\n",
    "\n",
    "cur = conn.cursor()\n",
    "\n",
    "sql = \"\"\"INSERT INTO pett(name, owner, species, sex, birth, death)\n",
    " VALUES (%s, %s, %s, %s, %s, %s)\"\"\"\n",
    "\n",
    "cur.execute(sql, ('유리','acorn','고양이','f','2014-1-1','2016-2-1'))\n",
    "cur.execute(sql, ('귀염','acorn','강아지','f','2014-3-1','2016-9-1'))\n",
    "cur.execute(sql, ('돌이','acorn','곰','f','2014-8-1','2018-2-1'))\n",
    "\n",
    "conn.commit()\n",
    "\n",
    "cur.executemany(\n",
    "\"\"\"INSERT INTO pett(name, owner, species, sex, birth, death)\n",
    "    VALUES (%s, %s, %s, %s, %s, %s)\"\"\",\n",
    "[('대한','민주','cat','f','2001-02-04',None),\n",
    "('민국','자유','cat','f','2010-03-17', None),\n",
    "('만세','민주','cat','f','2010-05-13',None),\n",
    "('하자','민주','cat','m','2015-08-27',None),\n",
    "('성공','자유','cat','m','2017-08-31','2018-04-29')] )\n",
    "    \n",
    "conn.commit()\n",
    "\n",
    "print(cur.rowcount) # 영향받는 행의 갯수 출력\n",
    "conn.close"
   ]
  },
  {
   "cell_type": "code",
   "execution_count": 15,
   "metadata": {},
   "outputs": [
    {
     "name": "stdout",
     "output_type": "stream",
     "text": [
      "8\n",
      "{'id': 4, 'name': '대한', 'owner': '민주', 'species': 'cat', 'sex': 'f', 'birth': datetime.date(2001, 2, 4), 'death': None}\n",
      "{'id': 5, 'name': '민국', 'owner': '자유', 'species': 'cat', 'sex': 'f', 'birth': datetime.date(2010, 3, 17), 'death': None}\n",
      "{'id': 6, 'name': '만세', 'owner': '민주', 'species': 'cat', 'sex': 'f', 'birth': datetime.date(2010, 5, 13), 'death': None}\n",
      "{'id': 7, 'name': '하자', 'owner': '민주', 'species': 'cat', 'sex': 'm', 'birth': datetime.date(2015, 8, 27), 'death': None}\n",
      "{'id': 8, 'name': '성공', 'owner': '자유', 'species': 'cat', 'sex': 'm', 'birth': datetime.date(2017, 8, 31), 'death': datetime.date(2018, 4, 29)}\n"
     ]
    }
   ],
   "source": [
    "conn = pymysql.connect(host = '192.168.1.213',\n",
    "                      user = 'root', port=3306, password = 'acorn1234Q!', db='acornschool',\n",
    "                      charset = 'utf8mb4', use_unicode=True,\n",
    "                      cursorclass = pymysql.cursors.DictCursor)\n",
    "\n",
    "cur = conn.cursor()\n",
    "\n",
    "cur.execute('select * from pett') # 레코드셋 생성 \n",
    "print(cur.rowcount)\n",
    "cur.description # \n",
    "################################\n",
    "cur.fetchone()\n",
    "cur.fetchone()\n",
    "cur.fetchone()\n",
    "\n",
    "recs = cur.fetchmany(2)\n",
    "for rec in recs:\n",
    "    print(rec)\n",
    "################################    \n",
    "recs = cur.fetchall()\n",
    "for rec in recs:\n",
    "    print(rec)\n",
    "\n",
    "cur.close()\n",
    "conn.close()"
   ]
  },
  {
   "cell_type": "code",
   "execution_count": 20,
   "metadata": {},
   "outputs": [
    {
     "name": "stdout",
     "output_type": "stream",
     "text": [
      "ID = 7, Name = 하자, Owner = 민주\n",
      "ID = 8, Name = 성공, Owner = 자유\n"
     ]
    }
   ],
   "source": [
    "# 문제 : 생일이 2015-01-01 이후인 pet을 출력하시오\n",
    "\n",
    "conn = pymysql.connect(host = '192.168.1.213',\n",
    "                      user = 'root', port=3306, password = 'acorn1234Q!', db='acornschool',\n",
    "                      charset = 'utf8mb4', use_unicode=True,\n",
    "                      cursorclass = pymysql.cursors.DictCursor)\n",
    "\n",
    "cur = conn.cursor()\n",
    "\n",
    "cur.execute(\"SELECT * FROM pett WHERE birth > '2015-01-01';\")\n",
    "\n",
    "row = cur.fetchall()\n",
    "\n",
    "for pet in row:\n",
    "    pet_val = list(pet.values())\n",
    "    print(\"ID = %d, Name = %s, Owner = %s\" % (pet_val[0], pet_val[1], pet_val[2]))\n",
    "    \n",
    "cur.close()\n",
    "conn.close()"
   ]
  },
  {
   "cell_type": "code",
   "execution_count": 23,
   "metadata": {},
   "outputs": [
    {
     "name": "stdout",
     "output_type": "stream",
     "text": [
      "1\n"
     ]
    }
   ],
   "source": [
    "# 문제 : 초심을 유리로 update 하시오\n",
    "conn = pymysql.connect(host = '192.168.1.213',\n",
    "                      user = 'root', port=3306, password = 'acorn1234Q!', db='acornschool',\n",
    "                      charset = 'utf8mb4', use_unicode=True,\n",
    "                      cursorclass = pymysql.cursors.DictCursor)\n",
    "\n",
    "cur = conn.cursor()\n",
    "\n",
    "sql = 'update pett set name=%s where name = %s'\n",
    "cur.execute(sql, ('초심','유리') )\n",
    "conn.commit()\n",
    "print(cur.rowcount)\n",
    "\n",
    "cur.close()\n",
    "conn.close()"
   ]
  },
  {
   "cell_type": "code",
   "execution_count": 24,
   "metadata": {},
   "outputs": [
    {
     "name": "stdout",
     "output_type": "stream",
     "text": [
      "1\n"
     ]
    }
   ],
   "source": [
    "# 문제 : 유리를 삭제하시오(쿼리를 일반화)\n",
    "\n",
    "conn = pymysql.connect(host = '192.168.1.213',\n",
    "                      user = 'root', port=3306, password = 'acorn1234Q!', db='acornschool',\n",
    "                      charset = 'utf8mb4', use_unicode=True,\n",
    "                      cursorclass = pymysql.cursors.DictCursor)\n",
    "\n",
    "cur = conn.cursor()\n",
    "\n",
    "sql = 'delete from pett where name = %s'\n",
    "cur.execute(sql, '초심')\n",
    "conn.commit()\n",
    "print(cur.rowcount)\n",
    "\n",
    "cur.close()\n",
    "conn.close()"
   ]
  },
  {
   "cell_type": "code",
   "execution_count": 26,
   "metadata": {},
   "outputs": [
    {
     "name": "stdout",
     "output_type": "stream",
     "text": [
      "[{'id': 2, 'name': '귀염', 'owner': 'acorn', 'species': '강아지', 'sex': 'f', 'birth': datetime.date(2014, 3, 1), 'death': datetime.date(2016, 9, 1)}, {'id': 3, 'name': '돌이', 'owner': 'acorn', 'species': '곰', 'sex': 'f', 'birth': datetime.date(2014, 8, 1), 'death': datetime.date(2018, 2, 1)}, {'id': 4, 'name': '대한', 'owner': '민주', 'species': 'cat', 'sex': 'f', 'birth': datetime.date(2001, 2, 4), 'death': None}, {'id': 5, 'name': '민국', 'owner': '자유', 'species': 'cat', 'sex': 'f', 'birth': datetime.date(2010, 3, 17), 'death': None}, {'id': 6, 'name': '만세', 'owner': '민주', 'species': 'cat', 'sex': 'f', 'birth': datetime.date(2010, 5, 13), 'death': None}, {'id': 7, 'name': '하자', 'owner': '민주', 'species': 'cat', 'sex': 'm', 'birth': datetime.date(2015, 8, 27), 'death': None}, {'id': 8, 'name': '성공', 'owner': '자유', 'species': 'cat', 'sex': 'm', 'birth': datetime.date(2017, 8, 31), 'death': datetime.date(2018, 4, 29)}]\n"
     ]
    }
   ],
   "source": [
    "conn = pymysql.connect(host = '192.168.1.213',\n",
    "                      user = 'root', port=3306, password = 'acorn1234Q!', db='acornschool',\n",
    "                      charset = 'utf8mb4', use_unicode=True,\n",
    "                      cursorclass = pymysql.cursors.DictCursor)\n",
    "cur = conn.cursor()\n",
    "\n",
    "################\n",
    "\n",
    "cur.callproc('pet_select')\n",
    "if(cur.rowcount):\n",
    "    print(cur.fetchall())\n",
    "\n",
    "################\n",
    "\n",
    "cur.close()\n",
    "conn.close()"
   ]
  },
  {
   "cell_type": "code",
   "execution_count": 32,
   "metadata": {},
   "outputs": [],
   "source": [
    "# 문제 : insert를 하는 프로시져를 생성한 다음\n",
    "# {\"마음이\", \"acorn\", \"백구\", \"f\", \"2018-01-02\", \"2018-11-04\"}\n",
    "# 데이터를 입력하시오\n",
    "\n",
    "conn = pymysql.connect(host = '192.168.1.213',\n",
    "                      user = 'root', port=3306, password = 'acorn1234Q!', db='acornschool',\n",
    "                      charset = 'utf8mb4', use_unicode=True,\n",
    "                      cursorclass = pymysql.cursors.DictCursor)\n",
    "cur = conn.cursor()\n",
    "\n",
    "################\n",
    "\n",
    "data = ('마음이', 'acorn', '백구', 'f', '2018-01-02', '2018-11-04')\n",
    "cur.callproc('pet_insert',data)\n",
    "conn.commit()\n",
    "\n",
    "################\n",
    "\n",
    "cur.close()\n",
    "conn.close()"
   ]
  },
  {
   "cell_type": "code",
   "execution_count": 36,
   "metadata": {},
   "outputs": [
    {
     "name": "stdout",
     "output_type": "stream",
     "text": [
      "0\n",
      "성공적으로 수정되었습니다.\n"
     ]
    }
   ],
   "source": [
    "# 문제 : 이름을 update하는 프로시져를 작성하고 '마음이'를 '마음'으로 수정하시오\n",
    "\n",
    "conn = pymysql.connect(host = '192.168.1.213',\n",
    "                      user = 'root', port=3306, password = 'acorn1234Q!', db='acornschool',\n",
    "                      charset = 'utf8mb4', use_unicode=True,\n",
    "                      cursorclass = pymysql.cursors.DictCursor)\n",
    "cur = conn.cursor()\n",
    "\n",
    "################\n",
    "\n",
    "data = ('마음이','마음',0)\n",
    "cur.callproc('pet_update',data)\n",
    "cur.execute('select @_pet_update_2')# 이름을 결정\n",
    "\n",
    "result = cur.fetchone()\n",
    "print(result['@_pet_update_2']) # KEY 데이터 형식\n",
    "\n",
    "if result['@_pet_update_2'] == 2:\n",
    "    print(\"수정할 이름이 없습니다\")\n",
    "else:\n",
    "    print(\"성공적으로 수정되었습니다.\")\n",
    "    conn.commit()\n",
    "\n",
    "################\n",
    "\n",
    "cur.close()\n",
    "conn.close()"
   ]
  },
  {
   "cell_type": "code",
   "execution_count": 38,
   "metadata": {},
   "outputs": [
    {
     "name": "stdout",
     "output_type": "stream",
     "text": [
      "0\n",
      "성공적으로 삭제하였습니다.\n"
     ]
    }
   ],
   "source": [
    "conn = pymysql.connect(host = '192.168.1.213',\n",
    "                      user = 'root', port=3306, password = 'acorn1234Q!', db='acornschool',\n",
    "                      charset = 'utf8mb4', use_unicode=True,\n",
    "                      cursorclass = pymysql.cursors.DictCursor)\n",
    "cur = conn.cursor()\n",
    "\n",
    "################\n",
    "\n",
    "data = (\"귀염\",0)\n",
    "cur.callproc('pet_delete', data)\n",
    "cur.execute('SELECT @_pet_delete_1')\n",
    "\n",
    "result = cur.fetchone()\n",
    "print(result['@_pet_delete_1'])\n",
    "\n",
    "if result['@_pet_delete_1'] == 2:\n",
    "    print(\"삭제할 이름이 없습니다.\")\n",
    "else :\n",
    "    print(\"성공적으로 삭제하였습니다.\")\n",
    "    conn.commit()\n",
    "    \n",
    "################\n",
    "\n",
    "cur.close()\n",
    "conn.close()"
   ]
  },
  {
   "cell_type": "code",
   "execution_count": 39,
   "metadata": {},
   "outputs": [],
   "source": [
    "conn = pymysql.connect(host = '192.168.1.213',\n",
    "                      user = 'root', port=3306, password = 'acorn1234Q!', db='acornschool',\n",
    "                      charset = 'utf8mb4', use_unicode=True,\n",
    "                      cursorclass = pymysql.cursors.DictCursor)\n",
    "cur = conn.cursor()\n",
    "\n",
    "################\n",
    "\n",
    "try: # 예외처리 구문\n",
    "    data=(\"귀염\",0)\n",
    "    cur.callproc('pet_delete', data)\n",
    "    conn.commit()\n",
    "    cur.excute('SELECT @_pet_delete_1')\n",
    "    result = cur.fetchone()\n",
    "    print(result['@_pet_delete_1'])\n",
    "    if result['@_pet_delete_1'] == 2:\n",
    "        print(\"삭제할 이름이 없습니다\")\n",
    "    else:\n",
    "        print(\"성공적으로 삭제하였습니다\")\n",
    "except:\n",
    "    conn.rollback()\n",
    "\n",
    "################\n",
    "\n",
    "cur.close()\n",
    "conn.close()"
   ]
  },
  {
   "cell_type": "markdown",
   "metadata": {},
   "source": [
    "# 새로운 클래스 생성해서 해보자"
   ]
  },
  {
   "cell_type": "code",
   "execution_count": 15,
   "metadata": {},
   "outputs": [],
   "source": [
    "import pymysql\n",
    "\n",
    "class Student:\n",
    "    def __init__(self):\n",
    "        self.bunho=0\n",
    "        self.name=''\n",
    "        self.kor=0\n",
    "        self.eng=0\n",
    "        self.mat=0\n",
    "        self.total=0\n",
    "        self.average=0\n",
    "        self.grade=''\n",
    "        \n",
    "    def inputData(self):\n",
    "        self.name= input(\"이름을 입력하시오\")\n",
    "        self.kor = eval(input(\"국어점수 : \"))\n",
    "        self.eng = eval(input(\"영어점수 : \"))\n",
    "        self.mat = eval(input(\"수학점수 : \"))\n",
    "\n",
    "    def calc_total_average(self):\n",
    "        self.total = self.kor + self.eng + self.mat\n",
    "        self.average = round(self.total / 3 , 2)\n",
    "        self.grade = self.calcSemGrade()\n",
    "        \n",
    "    def calcSemGrade(self):\n",
    "        if self.average >= 90:\n",
    "            return 'A'\n",
    "        elif self.average >= 80:\n",
    "            return 'B'\n",
    "        elif self.average >= 70:\n",
    "            return 'C'\n",
    "        elif self.average >= 60:\n",
    "            return 'D'\n",
    "        else :\n",
    "            return 'F'\n",
    "        \n",
    "    def __str__(self):\n",
    "        return '%6s %6s %6s %6s %6s %6s %6s %6s' % (self.bunho, self.name, self.kor, self.eng, self.mat, self.total, self.average, self.grade)\n",
    "    \n",
    "    def __cmp__(self,other):\n",
    "        return self.name == other.name\n",
    "    \n",
    "    def __call__(self,ohter): # 클래스를 함수처럼 사용하고자 할때 오버라이딩\n",
    "        st = []\n",
    "        for student in other:\n",
    "            stp = Student()\n",
    "            stp.name = student[0]\n",
    "            stp.kor = student[1]\n",
    "            stp.eng = student[2]\n",
    "            stp.mat = student[3]\n",
    "            st.append(stp)\n",
    "        return st"
   ]
  },
  {
   "cell_type": "code",
   "execution_count": 16,
   "metadata": {},
   "outputs": [],
   "source": [
    "class maria:\n",
    "    schoolname = \"에이콘 아카데미\"\n",
    "    def __init__(self):\n",
    "        self.conn = pymysql.connect(host='192.168.1.213', port=3306, user='root',\n",
    "                           password='acorn1234Q!',db='acornschool', charset='utf8mb4',\n",
    "                                    autocommit=True)\n",
    "        cor = self.conn.cursor()\n",
    "        cor.execute(\"SHOW TABLES\")\n",
    "        tables = cor.fetchall()\n",
    "        c = []\n",
    "        \n",
    "        for i in tables:\n",
    "            if  i == ('sungjuk',):\n",
    "                c.append(i)\n",
    "                \n",
    "        if len(c) != 0:\n",
    "            sungjuk_table = \"SELECT * FROM sungjuk\"\n",
    "            cor.execute(sungjuk_table)\n",
    "            print('테이블이 있습니다. ')\n",
    "        else:\n",
    "            cor.execute(\"CREATE TABLE sungjuk (name VARCHAR(20), kor INTEGER(20),  mat INTEGER(20),eng INTEGER(20))\")\n",
    "            print('sungjuk 테이블을 생성하였습니다. ')\n",
    "            \n",
    "    def __del__(self):\n",
    "        self.conn.close()\n",
    "\n",
    "    def selectdb(self ):\n",
    "        cur = self.conn.cursor()\n",
    "        cur.callproc(\"sungjuk_select\")\n",
    "        if (cur.rowcount):\n",
    "            stu = list(cur.fetchall())\n",
    "        else :\n",
    "            stu = 0;\n",
    "        cur.close()\n",
    "        return stu\n",
    "   \n",
    "    def insertdb(self, name, kor, mat, eng):\n",
    "        cur = self.conn.cursor()\n",
    "        args = (name, kor, mat, eng)\n",
    "        cur.callproc(\"sungjuk_insert\",args)\n",
    "        cur.close()\n",
    "       \n",
    "    def updatedb(self, in_name, up_name):\n",
    "        cur = self.conn.cursor()\n",
    "        args = (in_name, up_name, 0)\n",
    "        cur.callproc(\"sungjuk_update\", args)\n",
    "        cur.execute('SELECT @_sungjuk_update_2')\n",
    "        result = cur.fetchone()\n",
    "        if result==2 :\n",
    "            print(\"수정할 이름이 없습니다.\")\n",
    "        else :\n",
    "            print(\"성공적으로 수정하였습니다. \")\n",
    "        cur.close()\n",
    "        return result \n",
    "   \n",
    "    def deletedb(self,in_name):\n",
    "        cur = self.conn.cursor()\n",
    "        args = (in_name, 0)\n",
    "        cur.callproc(\"sungjuk_delete\", args)\n",
    "        cur.execute('SELECT @_sungjuk_delete_1')\n",
    "        result = cur.fetchone()\n",
    "        if result==2 :\n",
    "            print(\"삭제할 이름이 없습니다.\")\n",
    "        else :\n",
    "            print(\"성공적으로 삭제하였습니다. \")\n",
    "        cur.close()\n",
    "        return result"
   ]
  },
  {
   "cell_type": "code",
   "execution_count": 17,
   "metadata": {},
   "outputs": [],
   "source": [
    "from math import  *\n",
    "from statistics import *\n",
    "\n",
    "class Management:\n",
    "    \n",
    "    def __init__(self):\n",
    "        self.maria = maria()\n",
    "        \n",
    "    def M_select(self):\n",
    "        data = self.maria.selectdb()\n",
    "        st = []\n",
    "        if (data):\n",
    "            for student in data:\n",
    "                stp = Student()\n",
    "                stp.name = student[0]\n",
    "                stp.kor = student[1]\n",
    "                stp.eng = student[2]\n",
    "                stp.mat = student[3]\n",
    "                st.append(stp)                    \n",
    "            # studdata=Student((data))\n",
    "            print(maria.schoolname + \"  성적 계산표 \")\n",
    "            print('%6s %6s %6s %6s %6s %6s %6s %6s' % ('번호', '이름', '국어',\n",
    "                    '수학', '영어', '총점', '평균', '학점' ))      \n",
    "            for stud in st:\n",
    "                print(stud)                     \n",
    "        else :\n",
    "            print(\"데이터가 없습니다. . \")\n",
    "           \n",
    "    def M_insert(self):\n",
    "        stu = Student()\n",
    "        stu.inputData()\n",
    "        self.maria.insertdb(stu.name, stu.kor, stu.mat, stu.eng)\n",
    "        \n",
    "    def M_update(self):\n",
    "        name = input(\"검색할 이름을 입력하시요\")\n",
    "        replace_name = input(\"수정할 이름을 입력하시요\")\n",
    "        result=self.maria.updatedb(name, replace_name)\n",
    "        \n",
    "    def M_delete(self):       \n",
    "        name = input(\"검색할 이름을 입력하시요\")\n",
    "        self.maria.deletedb(name)     "
   ]
  },
  {
   "cell_type": "code",
   "execution_count": 18,
   "metadata": {},
   "outputs": [
    {
     "name": "stdout",
     "output_type": "stream",
     "text": [
      "테이블이 있습니다. \n",
      "테이블이 있습니다. \n",
      "['전체검색(1), 입력(2), 수정(3), 삭제(4), 종료(9)']1\n",
      "에이콘 아카데미  성적 계산표 \n",
      "    번호     이름     국어     수학     영어     총점     평균     학점\n",
      "     0      6      r     12      3      0      0       \n",
      "     0      8   sadf    213     42      0      0       \n",
      "     0     10     df    123      4      0      0       \n",
      "['전체검색(1), 입력(2), 수정(3), 삭제(4), 종료(9)']9\n"
     ]
    },
    {
     "ename": "SystemExit",
     "evalue": "",
     "output_type": "error",
     "traceback": [
      "An exception has occurred, use %tb to see the full traceback.\n",
      "\u001b[1;31mSystemExit\u001b[0m\n"
     ]
    }
   ],
   "source": [
    "import sys\n",
    "class Menu():\n",
    "    \n",
    "    def __init__(self):\n",
    "        self.manage = Management()\n",
    "       \n",
    "    def work(self):\n",
    "        menu = [ \"전체검색(1), 입력(2), 수정(3), 삭제(4), 종료(9)\"]\n",
    "        manage = Management()\n",
    "        while 1:\n",
    "            sel = input(menu)\n",
    "            if  sel == \"1\":\n",
    "                manage.M_select()\n",
    "                continue\n",
    "            elif sel == \"2\":\n",
    "                manage.M_insert()\n",
    "                continue       \n",
    "            elif sel ==\"3\":\n",
    "                manage.M_update()\n",
    "                continue\n",
    "            elif sel ==\"4\":\n",
    "                manage.M_delete()\n",
    "            elif sel ==\"9\":\n",
    "                del(manage)\n",
    "                sys.exit()\n",
    "            else :\n",
    "                print(\"잘못된 입력입니다. 다시입력 하시요\")\n",
    "                continue\n",
    "           \n",
    "menu = Menu()\n",
    "menu.work() "
   ]
  },
  {
   "cell_type": "code",
   "execution_count": null,
   "metadata": {},
   "outputs": [],
   "source": []
  },
  {
   "cell_type": "code",
   "execution_count": null,
   "metadata": {},
   "outputs": [],
   "source": []
  },
  {
   "cell_type": "code",
   "execution_count": null,
   "metadata": {},
   "outputs": [],
   "source": []
  },
  {
   "cell_type": "code",
   "execution_count": null,
   "metadata": {},
   "outputs": [],
   "source": []
  },
  {
   "cell_type": "code",
   "execution_count": null,
   "metadata": {},
   "outputs": [],
   "source": []
  },
  {
   "cell_type": "code",
   "execution_count": null,
   "metadata": {},
   "outputs": [],
   "source": []
  },
  {
   "cell_type": "code",
   "execution_count": null,
   "metadata": {},
   "outputs": [],
   "source": []
  },
  {
   "cell_type": "code",
   "execution_count": null,
   "metadata": {},
   "outputs": [],
   "source": []
  },
  {
   "cell_type": "code",
   "execution_count": null,
   "metadata": {},
   "outputs": [],
   "source": []
  },
  {
   "cell_type": "code",
   "execution_count": null,
   "metadata": {},
   "outputs": [],
   "source": []
  },
  {
   "cell_type": "code",
   "execution_count": null,
   "metadata": {},
   "outputs": [],
   "source": []
  },
  {
   "cell_type": "code",
   "execution_count": null,
   "metadata": {},
   "outputs": [],
   "source": []
  },
  {
   "cell_type": "code",
   "execution_count": null,
   "metadata": {},
   "outputs": [],
   "source": []
  },
  {
   "cell_type": "code",
   "execution_count": null,
   "metadata": {},
   "outputs": [],
   "source": []
  },
  {
   "cell_type": "code",
   "execution_count": null,
   "metadata": {},
   "outputs": [],
   "source": [
    "conn = pymysql.connect(host = '192.168.1.213',\n",
    "                      user = 'root', port=3306, password = 'acorn1234Q!', db='acornschool',\n",
    "                      charset = 'utf8mb4', use_unicode=True,\n",
    "                      cursorclass = pymysql.cursors.DictCursor)\n",
    "cur = conn.cursor()\n",
    "\n",
    "################\n",
    "\n",
    "\n",
    "################\n",
    "\n",
    "cur.close()\n",
    "conn.close()"
   ]
  }
 ],
 "metadata": {
  "kernelspec": {
   "display_name": "Python 3",
   "language": "python",
   "name": "python3"
  },
  "language_info": {
   "codemirror_mode": {
    "name": "ipython",
    "version": 3
   },
   "file_extension": ".py",
   "mimetype": "text/x-python",
   "name": "python",
   "nbconvert_exporter": "python",
   "pygments_lexer": "ipython3",
   "version": "3.7.4"
  }
 },
 "nbformat": 4,
 "nbformat_minor": 2
}
