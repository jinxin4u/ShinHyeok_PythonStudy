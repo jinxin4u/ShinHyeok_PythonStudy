{
 "cells": [
  {
   "cell_type": "code",
   "execution_count": null,
   "metadata": {},
   "outputs": [],
   "source": [
    "* ImageDataGenerator => Image Auganention?? [이미지 증강]\n",
    "                        - flip, scale 등의 방법으로 이미지를 여러개로 늘리는 법\n",
    "    \n",
    "model -> compile -> fit -> predict\n",
    "\n",
    "모델 만드는 법 3가지\n",
    "- Sequential\n",
    "- functional\n",
    "- \n",
    "\n",
    "static mode \n",
    "graph mode\n",
    "dynamic mode\n",
    "eager mode\n",
    "\n",
    "\n",
    "Transper learning\n",
    "\n",
    "TL ResNet Residal 등.. 최근에 나온건 AfficientNet\n",
    "        이미지 학습에 영향주는 요소 : 필터사이즈,레이어깊이,레졸루션\n",
    "        \n",
    "최근 추세는 강화학습에서 Transper learning으로 바뀌어가고 있다.\n",
    "특정 목적에 의해 학습된 모델(프리 트레이닝된 모델)을 이용하여..\n",
    "\n",
    "- fine-tuning : 프리 트레이닝된 모델 뒤의 ffnn망을 수정\n",
    "    \n",
    "- GAP(global averege pooling) : conv연산 후 flatten하게 되는데 어쨌다고?? 찾아보자 ㅠㅠ"
   ]
  },
  {
   "cell_type": "code",
   "execution_count": null,
   "metadata": {},
   "outputs": [],
   "source": []
  },
  {
   "cell_type": "code",
   "execution_count": null,
   "metadata": {},
   "outputs": [],
   "source": [
    "# CNN\n",
    "K.set_iamge_data_format('channels_first')"
   ]
  },
  {
   "cell_type": "code",
   "execution_count": 3,
   "metadata": {},
   "outputs": [],
   "source": [
    "%matplotlib inline\n",
    "import matplotlib.pyplot as plt\n",
    "\n",
    "import keras\n",
    "from keras.datasets import mnist\n",
    "from keras.models import Sequential\n",
    "from keras.layers import Dense, Dropout, Flatten # Flatten : cnn결과를 1차원으로..\n",
    "from keras.layers import Conv2D, MaxPooling2D\n",
    "from keras import backend as K\n",
    "\n",
    "batch_size = 128\n",
    "num_classes = 10 # 클래스수가 많으니 멀티카테고리..\n",
    "epochs = 12\n",
    "img_rows, img_cols = 28, 28\n",
    "(x_train, y_train), (x_test, y_test) = mnist.load_data()"
   ]
  },
  {
   "cell_type": "code",
   "execution_count": 10,
   "metadata": {},
   "outputs": [
    {
     "data": {
      "text/plain": [
       "<matplotlib.image.AxesImage at 0x2bc98724eb8>"
      ]
     },
     "execution_count": 10,
     "metadata": {},
     "output_type": "execute_result"
    },
    {
     "data": {
      "image/png": "[encoded data removed]",
      "text/plain": [
       "<Figure size 432x288 with 1 Axes>"
      ]
     },
     "metadata": {
      "needs_background": "light"
     },
     "output_type": "display_data"
    }
   ],
   "source": [
    "first_image = x_train[0, :, :]\n",
    "plt.imshow(first_image, cmap=plt.cm.Greys)"
   ]
  },
  {
   "cell_type": "code",
   "execution_count": 7,
   "metadata": {},
   "outputs": [],
   "source": [
    "# channel_first\n",
    "x_train = x_train.reshape(x_train.shape[0], 1, 28, 28)\n",
    "x_test = x_test.reshape(x_test.shape[0], 1, 28, 28)"
   ]
  },
  {
   "cell_type": "code",
   "execution_count": 11,
   "metadata": {},
   "outputs": [],
   "source": [
    "# channel_last\n",
    "x_train = x_train.reshape(x_train.shape[0], 28, 28, 1)\n",
    "x_test = x_test.reshape(x_test.shape[0], 28, 28, 1)"
   ]
  },
  {
   "cell_type": "code",
   "execution_count": 12,
   "metadata": {},
   "outputs": [
    {
     "name": "stdout",
     "output_type": "stream",
     "text": [
      "x_train shape :  (60000, 28, 28, 1) \n",
      "\n",
      "60000 train samples\n",
      "\n",
      "10000 test samples\n",
      "\n"
     ]
    }
   ],
   "source": [
    "x_train = x_train.astype('float32')\n",
    "x_test = x_test.astype('float32')\n",
    "x_train /= 255\n",
    "x_test /= 255\n",
    "\n",
    "print('x_train shape : ', x_train.shape, '\\n')\n",
    "print(x_train.shape[0], 'train samples\\n')\n",
    "print(x_test.shape[0], 'test samples\\n')\n",
    "\n",
    "#\n",
    "y_train = keras.utils.to_categorical(y_train, num_classes)\n",
    "y_test = keras.utils.to_categorical(y_test, num_classes)"
   ]
  },
  {
   "cell_type": "code",
   "execution_count": 13,
   "metadata": {},
   "outputs": [
    {
     "name": "stdout",
     "output_type": "stream",
     "text": [
      "WARNING:tensorflow:From C:\\Users\\ICT01_11\\.conda\\envs\\tf_gpu\\lib\\site-packages\\keras\\backend\\tensorflow_backend.py:74: The name tf.get_default_graph is deprecated. Please use tf.compat.v1.get_default_graph instead.\n",
      "\n",
      "WARNING:tensorflow:From C:\\Users\\ICT01_11\\.conda\\envs\\tf_gpu\\lib\\site-packages\\keras\\backend\\tensorflow_backend.py:517: The name tf.placeholder is deprecated. Please use tf.compat.v1.placeholder instead.\n",
      "\n",
      "WARNING:tensorflow:From C:\\Users\\ICT01_11\\.conda\\envs\\tf_gpu\\lib\\site-packages\\keras\\backend\\tensorflow_backend.py:4138: The name tf.random_uniform is deprecated. Please use tf.random.uniform instead.\n",
      "\n",
      "WARNING:tensorflow:From C:\\Users\\ICT01_11\\.conda\\envs\\tf_gpu\\lib\\site-packages\\keras\\backend\\tensorflow_backend.py:3976: The name tf.nn.max_pool is deprecated. Please use tf.nn.max_pool2d instead.\n",
      "\n",
      "WARNING:tensorflow:From C:\\Users\\ICT01_11\\.conda\\envs\\tf_gpu\\lib\\site-packages\\keras\\backend\\tensorflow_backend.py:133: The name tf.placeholder_with_default is deprecated. Please use tf.compat.v1.placeholder_with_default instead.\n",
      "\n",
      "WARNING:tensorflow:From C:\\Users\\ICT01_11\\.conda\\envs\\tf_gpu\\lib\\site-packages\\keras\\backend\\tensorflow_backend.py:3445: calling dropout (from tensorflow.python.ops.nn_ops) with keep_prob is deprecated and will be removed in a future version.\n",
      "Instructions for updating:\n",
      "Please use `rate` instead of `keep_prob`. Rate should be set to `rate = 1 - keep_prob`.\n"
     ]
    },
    {
     "name": "stderr",
     "output_type": "stream",
     "text": [
      "C:\\Users\\ICT01_11\\.conda\\envs\\tf_gpu\\lib\\site-packages\\ipykernel_launcher.py:5: UserWarning: Update your `Conv2D` call to the Keras 2 API: `Conv2D(32, (3, 3), activation=\"relu\", input_shape=(28, 28, 1...)`\n",
      "  \"\"\"\n",
      "C:\\Users\\ICT01_11\\.conda\\envs\\tf_gpu\\lib\\site-packages\\ipykernel_launcher.py:7: UserWarning: Update your `Conv2D` call to the Keras 2 API: `Conv2D(64, (3, 3), activation=\"relu\")`\n",
      "  import sys\n"
     ]
    }
   ],
   "source": [
    "model = Sequential()\n",
    "\n",
    "# 아웃풋 필터 32, 필터사이즈 3x3\n",
    "# 28x28 => (128, 26, 26, 32)    #having : valid 모서리 특징 중요치 않으면, same(28,28): 모서리 특징도 중요하다면\n",
    "model.add( Conv2D( 32, 3, 3, activation='relu', input_shape=( 28,28,1 ) ) ) # 채널 퍼스트 라스트에 따라 맞춰줘\n",
    "# 128, 24, 24, 64\n",
    "model.add( Conv2D( 64, 3, 3, activation='relu' ) )\n",
    "# 128 12 12 64\n",
    "model.add( MaxPooling2D( pool_size=(2, 2) ) )\n",
    "model.add( Dropout( 0.25 ) )\n",
    "model.add( Flatten() ) # 12 12 64 => 1차원으로 9216\n",
    "\n",
    "# FFNN, FC(fully-connected)\n",
    "\n",
    "model.add( Dense( 128, activation='relu' ) ) # 9216 x 128\n",
    "# 128 x 128\n",
    "model.add( Dropout( 0.5 ) ) # 계산회로만 생략\n",
    "model.add( Dense( 10, activation='softmax' ) )# 128 x10\n",
    "# 128 x 10"
   ]
  },
  {
   "cell_type": "code",
   "execution_count": null,
   "metadata": {},
   "outputs": [],
   "source": [
    "model.compile( loss=keras.losses.categorical_crossentropy,\n",
    "              optimizer=keras.optimizers.Adadelta(),\n",
    "              metrics=['accuracy'] )\n",
    "\n",
    "# 예전에는 train, test로 나눠서 했다. 그러나 test에 과적합되는 경우도..\n",
    "# 그래서 train, test, validation 으로 나눠서 하게 되었.\n",
    "\n",
    "class AccuracyHistory(keras.callbacks.Callback):\n",
    "    # 오버라이딩(재정의)\n",
    "    def on_train_begin(self, logs={}): # 훈련시작시 이벤트\n",
    "        self.acc = []\n",
    "    def on_epoch_end(self, batch, logs={}):\n",
    "        self.acc.append( logs.get('acc') )\n",
    "        \n",
    "history = AccuracyHistory()\n",
    "model.fit( x_train, y_train,\n",
    "          batch_size = batch_size, epochs = epochs, verbose = 1,\n",
    "          validation_data = (x_test, y_test),\n",
    "          callbacks = [history])\n",
    "score = model.evaluate(x_test, y_test, verbose=0)\n",
    "\n",
    "print(score[0], '\\n')\n",
    "print(score[1])\n",
    "\n"
   ]
  },
  {
   "cell_type": "code",
   "execution_count": 15,
   "metadata": {},
   "outputs": [
    {
     "data": {
      "image/png": "[encoded data removed]",
      "text/plain": [
       "<Figure size 432x288 with 1 Axes>"
      ]
     },
     "metadata": {
      "needs_background": "light"
     },
     "output_type": "display_data"
    }
   ],
   "source": [
    "plt.plot( range(1, 13), history.acc )\n",
    "plt.xlabel('Epochs')\n",
    "plt.ylabel('Accuracy')\n",
    "plt.show()"
   ]
  },
  {
   "cell_type": "code",
   "execution_count": null,
   "metadata": {},
   "outputs": [],
   "source": []
  },
  {
   "cell_type": "code",
   "execution_count": null,
   "metadata": {},
   "outputs": [],
   "source": []
  },
  {
   "cell_type": "code",
   "execution_count": null,
   "metadata": {},
   "outputs": [],
   "source": [
    "# 모델 저장 / 로딩"
   ]
  },
  {
   "cell_type": "code",
   "execution_count": 16,
   "metadata": {},
   "outputs": [
    {
     "name": "stdout",
     "output_type": "stream",
     "text": [
      "모델이 저장되었습니다.\n",
      "모델이 로딩되었습니다.\n",
      "_________________________________________________________________\n",
      "Layer (type)                 Output Shape              Param #   \n",
      "=================================================================\n",
      "conv2d_1 (Conv2D)            (None, 26, 26, 32)        320       \n",
      "_________________________________________________________________\n",
      "conv2d_2 (Conv2D)            (None, 24, 24, 64)        18496     \n",
      "_________________________________________________________________\n",
      "max_pooling2d_1 (MaxPooling2 (None, 12, 12, 64)        0         \n",
      "_________________________________________________________________\n",
      "dropout_1 (Dropout)          (None, 12, 12, 64)        0         \n",
      "_________________________________________________________________\n",
      "flatten_1 (Flatten)          (None, 9216)              0         \n",
      "_________________________________________________________________\n",
      "dense_1 (Dense)              (None, 128)               1179776   \n",
      "_________________________________________________________________\n",
      "dropout_2 (Dropout)          (None, 128)               0         \n",
      "_________________________________________________________________\n",
      "dense_2 (Dense)              (None, 10)                1290      \n",
      "=================================================================\n",
      "Total params: 1,199,882\n",
      "Trainable params: 1,199,882\n",
      "Non-trainable params: 0\n",
      "_________________________________________________________________\n"
     ]
    }
   ],
   "source": [
    "# HDFS(Hadoop file system) : model 구조 전체저장\n",
    "# 가중치, 구조, optimiziation statge 등이 저장\n",
    "# json으로 저장, 구조, 가중치를 별도로 저장 => 즉, web에서도 tensorflow를 지원한다.\n",
    "# tensorflow.js 를 import할 수\n",
    "\n",
    "model.save(\"model_mnist.h5\")\n",
    "print(\"모델이 저장되었습니다.\")\n",
    "from keras.models import load_model\n",
    "\n",
    "model = load_model(\"model_mnist.h5\")\n",
    "print(\"모델이 로딩되었습니다.\")\n",
    "model.summary()"
   ]
  },
  {
   "cell_type": "code",
   "execution_count": 17,
   "metadata": {},
   "outputs": [
    {
     "name": "stdout",
     "output_type": "stream",
     "text": [
      "conv2d_1\n",
      "(None, 28, 28, 1)\n",
      "<function relu at 0x000002BC98630E18>\n",
      "(None, 26, 26, 32)\n"
     ]
    }
   ],
   "source": [
    "# 레이어 정보 확인\n",
    "l1 = model.layers[0]\n",
    "l2 = model.layers[1]\n",
    "\n",
    "print(l1.name)\n",
    "print(l1.input_shape)\n",
    "print(l1.activation)\n",
    "print(l1.output_shape)"
   ]
  },
  {
   "cell_type": "code",
   "execution_count": null,
   "metadata": {},
   "outputs": [],
   "source": []
  },
  {
   "cell_type": "code",
   "execution_count": null,
   "metadata": {},
   "outputs": [],
   "source": [
    "# ImageDataGenerator"
   ]
  },
  {
   "cell_type": "code",
   "execution_count": 1,
   "metadata": {},
   "outputs": [
    {
     "name": "stderr",
     "output_type": "stream",
     "text": [
      "Using TensorFlow backend.\n",
      "C:\\Users\\ICT01_11\\.conda\\envs\\tf_gpu\\lib\\site-packages\\keras_preprocessing\\image\\image_data_generator.py:336: UserWarning: This ImageDataGenerator specifies `zca_whitening`, which overrides setting of `featurewise_center`.\n",
      "  warnings.warn('This ImageDataGenerator specifies '\n"
     ]
    },
    {
     "data": {
      "image/png": "[encoded data removed]",
      "text/plain": [
       "<Figure size 432x288 with 9 Axes>"
      ]
     },
     "metadata": {
      "needs_background": "light"
     },
     "output_type": "display_data"
    }
   ],
   "source": [
    "from keras.datasets import mnist\n",
    "from keras.preprocessing.image import ImageDataGenerator\n",
    "from matplotlib import pyplot\n",
    "from keras import backend as K\n",
    "\n",
    "( X_train, y_train ), ( X_test, y_test ) = mnist.load_data()\n",
    "\n",
    "X_train = X_train.reshape(X_train.shape[0], 28, 28, 1)\n",
    "X_test = X_test.reshape(X_test.shape[0], 28, 28, 1)\n",
    "\n",
    "X_train = X_train.astype('float32')\n",
    "X_test = X_test.astype('float32')\n",
    "\n",
    "datagen = ImageDataGenerator(horizontal_flip=True, vertical_flip=True)\n",
    "dataget = ImageDataGenerator(width_shift_range=0.2, height_shift_range=0.2)\n",
    "# 이미지 백색화 => noise제거(변수간 상관도를 없앰 : PCA같이)\n",
    "datagen = ImageDataGenerator(zca_whitening=True,rotation_range=90)\n",
    "\n",
    "datagen.fit(X_train)\n",
    "\n",
    "for X_batch, y_batch in datagen.flow(X_train, y_train, batch_size=9,\n",
    "                save_to_dir='images', save_prefix='aug', save_format='png'):\n",
    "                # 저장할 폴더, 이미지 증강, 이미지 포맷\n",
    "        \n",
    "    for i in range(0, 9):\n",
    "        pyplot.subplot(330 + 1 + i)\n",
    "        pyplot.imshow(X_batch[i].reshape(28, 28), cmap=pyplot.get_cmap('gray'))\n",
    "    pyplot.show()\n",
    "    break"
   ]
  },
  {
   "cell_type": "code",
   "execution_count": null,
   "metadata": {},
   "outputs": [],
   "source": []
  },
  {
   "cell_type": "code",
   "execution_count": 4,
   "metadata": {},
   "outputs": [
    {
     "name": "stdout",
     "output_type": "stream",
     "text": [
      "X_train shape :  (50000, 32, 32, 3) \n",
      "\n",
      "50000 train samples\n",
      "\n",
      "10000 test samples\n",
      "\n"
     ]
    },
    {
     "data": {
      "image/png": "[encoded data removed]",
      "text/plain": [
       "<Figure size 432x288 with 1 Axes>"
      ]
     },
     "metadata": {
      "needs_background": "light"
     },
     "output_type": "display_data"
    },
    {
     "data": {
      "image/png": "[encoded data removed]",
      "text/plain": [
       "<Figure size 432x288 with 1 Axes>"
      ]
     },
     "metadata": {
      "needs_background": "light"
     },
     "output_type": "display_data"
    }
   ],
   "source": [
    "from keras.datasets import cifar10 # 10개의 이미지 종류로 구성\n",
    "# airplane, automobile, bird, cat, deer, dog, frog, horse, ship, truck 분류문제\n",
    "\n",
    "from keras.optimizers import SGD, Adam, RMSprop\n",
    "from keras.utils import np_utils\n",
    "from keras.layers import Activation\n",
    "\n",
    "(X_train, Y_train), (X_test, Y_test) = cifar10.load_data()\n",
    "\n",
    "print('X_train shape : ', X_train.shape, '\\n')\n",
    "print(X_train.shape[0], 'train samples\\n')\n",
    "print(X_test.shape[0], 'test samples\\n')\n",
    "\n",
    "NB_CLASSES = 10\n",
    "\n",
    "Y_train = np_utils.to_categorical(Y_train, NB_CLASSES)\n",
    "Y_test = np_utils.to_categorical(Y_test, NB_CLASSES)\n",
    "\n",
    "X_train = X_train.astype('float32')\n",
    "X_test = X_test.astype('float32')\n",
    "\n",
    "X_train /= 255\n",
    "X_test /= 255\n",
    "\n",
    "plt.imshow(X_train[5])\n",
    "plt.grid(False)\n",
    "plt.show()\n",
    "plt.imshow(X_train[6])\n",
    "plt.grid(False)\n",
    "plt.show()"
   ]
  },
  {
   "cell_type": "code",
   "execution_count": 5,
   "metadata": {},
   "outputs": [],
   "source": [
    "IMG_CHANNELS = 3\n",
    "IMG_ROWS = 32\n",
    "IMG_COLS = 32\n",
    "BATCH_SIZE = 128\n",
    "NB_EPOCH = 40\n",
    "VERBOSE = 1\n",
    "VALIDATION_SPLIT = 0.2\n",
    "OPTIM = RMSprop()"
   ]
  },
  {
   "cell_type": "code",
   "execution_count": 6,
   "metadata": {},
   "outputs": [
    {
     "name": "stdout",
     "output_type": "stream",
     "text": [
      "WARNING:tensorflow:From C:\\Users\\ICT01_11\\.conda\\envs\\tf_gpu\\lib\\site-packages\\keras\\backend\\tensorflow_backend.py:74: The name tf.get_default_graph is deprecated. Please use tf.compat.v1.get_default_graph instead.\n",
      "\n",
      "WARNING:tensorflow:From C:\\Users\\ICT01_11\\.conda\\envs\\tf_gpu\\lib\\site-packages\\keras\\backend\\tensorflow_backend.py:517: The name tf.placeholder is deprecated. Please use tf.compat.v1.placeholder instead.\n",
      "\n",
      "WARNING:tensorflow:From C:\\Users\\ICT01_11\\.conda\\envs\\tf_gpu\\lib\\site-packages\\keras\\backend\\tensorflow_backend.py:4138: The name tf.random_uniform is deprecated. Please use tf.random.uniform instead.\n",
      "\n",
      "WARNING:tensorflow:From C:\\Users\\ICT01_11\\.conda\\envs\\tf_gpu\\lib\\site-packages\\keras\\backend\\tensorflow_backend.py:3976: The name tf.nn.max_pool is deprecated. Please use tf.nn.max_pool2d instead.\n",
      "\n",
      "WARNING:tensorflow:From C:\\Users\\ICT01_11\\.conda\\envs\\tf_gpu\\lib\\site-packages\\keras\\backend\\tensorflow_backend.py:133: The name tf.placeholder_with_default is deprecated. Please use tf.compat.v1.placeholder_with_default instead.\n",
      "\n",
      "WARNING:tensorflow:From C:\\Users\\ICT01_11\\.conda\\envs\\tf_gpu\\lib\\site-packages\\keras\\backend\\tensorflow_backend.py:3445: calling dropout (from tensorflow.python.ops.nn_ops) with keep_prob is deprecated and will be removed in a future version.\n",
      "Instructions for updating:\n",
      "Please use `rate` instead of `keep_prob`. Rate should be set to `rate = 1 - keep_prob`.\n"
     ]
    }
   ],
   "source": [
    "model = Sequential()\n",
    "# residual 망의 구조를 따라해봄\n",
    "# - conv2d relu 2번해주고 풀링해줌\n",
    "\n",
    "# 32 x 32 x 3 => 32 x 32 x 32\n",
    "model.add( Conv2D( 32, kernel_size=3, padding='same', input_shape=(IMG_ROWS, IMG_COLS, IMG_CHANNELS ) ) )\n",
    "model.add( Activation('relu') )\n",
    "model.add( Conv2D( 32, kernel_size=3, padding='same') )\n",
    "model.add( Activation('relu') )\n",
    "model.add( MaxPooling2D(pool_size=(2, 2) ) )\n",
    "model.add( Dropout(0.25) )"
   ]
  },
  {
   "cell_type": "code",
   "execution_count": 7,
   "metadata": {},
   "outputs": [
    {
     "name": "stderr",
     "output_type": "stream",
     "text": [
      "C:\\Users\\ICT01_11\\.conda\\envs\\tf_gpu\\lib\\site-packages\\ipykernel_launcher.py:3: UserWarning: Update your `Conv2D` call to the Keras 2 API: `Conv2D(64, (3, 3))`\n",
      "  This is separate from the ipykernel package so we can avoid doing imports until\n"
     ]
    }
   ],
   "source": [
    "model.add( Conv2D( 64, kernel_size=3, padding='same'))\n",
    "model.add( Activation('relu') )\n",
    "model.add( Conv2D( 64, 3, 3 ))\n",
    "model.add( Activation('relu') )\n",
    "model.add( MaxPooling2D(pool_size=(2, 2) ) )\n",
    "model.add( Dropout(0.25) )"
   ]
  },
  {
   "cell_type": "code",
   "execution_count": 8,
   "metadata": {},
   "outputs": [
    {
     "name": "stdout",
     "output_type": "stream",
     "text": [
      "_________________________________________________________________\n",
      "Layer (type)                 Output Shape              Param #   \n",
      "=================================================================\n",
      "conv2d_1 (Conv2D)            (None, 32, 32, 32)        896       \n",
      "_________________________________________________________________\n",
      "activation_1 (Activation)    (None, 32, 32, 32)        0         \n",
      "_________________________________________________________________\n",
      "conv2d_2 (Conv2D)            (None, 32, 32, 32)        9248      \n",
      "_________________________________________________________________\n",
      "activation_2 (Activation)    (None, 32, 32, 32)        0         \n",
      "_________________________________________________________________\n",
      "max_pooling2d_1 (MaxPooling2 (None, 16, 16, 32)        0         \n",
      "_________________________________________________________________\n",
      "dropout_1 (Dropout)          (None, 16, 16, 32)        0         \n",
      "_________________________________________________________________\n",
      "conv2d_3 (Conv2D)            (None, 16, 16, 64)        18496     \n",
      "_________________________________________________________________\n",
      "activation_3 (Activation)    (None, 16, 16, 64)        0         \n",
      "_________________________________________________________________\n",
      "conv2d_4 (Conv2D)            (None, 14, 14, 64)        36928     \n",
      "_________________________________________________________________\n",
      "activation_4 (Activation)    (None, 14, 14, 64)        0         \n",
      "_________________________________________________________________\n",
      "max_pooling2d_2 (MaxPooling2 (None, 7, 7, 64)          0         \n",
      "_________________________________________________________________\n",
      "dropout_2 (Dropout)          (None, 7, 7, 64)          0         \n",
      "_________________________________________________________________\n",
      "flatten_1 (Flatten)          (None, 3136)              0         \n",
      "_________________________________________________________________\n",
      "dense_1 (Dense)              (None, 512)               1606144   \n",
      "_________________________________________________________________\n",
      "activation_5 (Activation)    (None, 512)               0         \n",
      "_________________________________________________________________\n",
      "dropout_3 (Dropout)          (None, 512)               0         \n",
      "_________________________________________________________________\n",
      "dense_2 (Dense)              (None, 10)                5130      \n",
      "_________________________________________________________________\n",
      "activation_6 (Activation)    (None, 10)                0         \n",
      "=================================================================\n",
      "Total params: 1,676,842\n",
      "Trainable params: 1,676,842\n",
      "Non-trainable params: 0\n",
      "_________________________________________________________________\n",
      "WARNING:tensorflow:From C:\\Users\\ICT01_11\\.conda\\envs\\tf_gpu\\lib\\site-packages\\keras\\optimizers.py:790: The name tf.train.Optimizer is deprecated. Please use tf.compat.v1.train.Optimizer instead.\n",
      "\n",
      "WARNING:tensorflow:From C:\\Users\\ICT01_11\\.conda\\envs\\tf_gpu\\lib\\site-packages\\keras\\backend\\tensorflow_backend.py:3295: The name tf.log is deprecated. Please use tf.math.log instead.\n",
      "\n"
     ]
    }
   ],
   "source": [
    "model.add( Flatten() )\n",
    "model.add( Dense(512) )\n",
    "model.add( Activation('relu') )\n",
    "model.add( Dropout(0.5) )\n",
    "model.add( Dense(NB_CLASSES) )\n",
    "model.add( Activation('softmax') )\n",
    "model.summary()\n",
    "model.compile( loss='categorical_crossentropy', optimizer=OPTIM, metrics=['accuracy'] )"
   ]
  },
  {
   "cell_type": "code",
   "execution_count": 43,
   "metadata": {},
   "outputs": [
    {
     "name": "stdout",
     "output_type": "stream",
     "text": [
      "Train on 40000 samples, validate on 10000 samples\n",
      "Epoch 1/40\n",
      "40000/40000 [==============================] - 10s 255us/step - loss: 0.9727 - acc: 0.6918 - val_loss: 0.7848 - val_acc: 0.7531\n",
      "Epoch 2/40\n",
      "40000/40000 [==============================] - 10s 252us/step - loss: 0.9628 - acc: 0.6908 - val_loss: 0.7386 - val_acc: 0.7555\n",
      "Epoch 3/40\n",
      "40000/40000 [==============================] - 10s 252us/step - loss: 0.9714 - acc: 0.6933 - val_loss: 1.0655 - val_acc: 0.7432\n",
      "Epoch 4/40\n",
      "40000/40000 [==============================] - 10s 251us/step - loss: 0.9656 - acc: 0.6928 - val_loss: 0.9543 - val_acc: 0.7163\n",
      "Epoch 5/40\n",
      "40000/40000 [==============================] - 10s 251us/step - loss: 0.9545 - acc: 0.6966 - val_loss: 0.7152 - val_acc: 0.7674\n",
      "Epoch 6/40\n",
      "40000/40000 [==============================] - 10s 251us/step - loss: 0.9526 - acc: 0.6984 - val_loss: 0.7636 - val_acc: 0.7506\n",
      "Epoch 7/40\n",
      "40000/40000 [==============================] - 10s 249us/step - loss: 0.9453 - acc: 0.6967 - val_loss: 0.8743 - val_acc: 0.7269\n",
      "Epoch 8/40\n",
      "40000/40000 [==============================] - 10s 252us/step - loss: 0.9351 - acc: 0.6988 - val_loss: 1.0242 - val_acc: 0.6630\n",
      "Epoch 9/40\n",
      "40000/40000 [==============================] - 10s 251us/step - loss: 0.9501 - acc: 0.6962 - val_loss: 1.1935 - val_acc: 0.6497\n",
      "Epoch 10/40\n",
      "40000/40000 [==============================] - 10s 253us/step - loss: 0.9436 - acc: 0.7010 - val_loss: 0.8031 - val_acc: 0.7449\n",
      "Epoch 11/40\n",
      "40000/40000 [==============================] - 10s 253us/step - loss: 0.9398 - acc: 0.7019 - val_loss: 0.9797 - val_acc: 0.6889\n",
      "Epoch 12/40\n",
      "40000/40000 [==============================] - 10s 249us/step - loss: 0.9428 - acc: 0.7046 - val_loss: 1.0257 - val_acc: 0.6601\n",
      "Epoch 13/40\n",
      "40000/40000 [==============================] - 10s 250us/step - loss: 0.9254 - acc: 0.7052 - val_loss: 0.8730 - val_acc: 0.7201\n",
      "Epoch 14/40\n",
      "40000/40000 [==============================] - 10s 250us/step - loss: 0.9292 - acc: 0.7022 - val_loss: 0.7201 - val_acc: 0.7687\n",
      "Epoch 15/40\n",
      "40000/40000 [==============================] - 10s 250us/step - loss: 0.9403 - acc: 0.7012 - val_loss: 0.9448 - val_acc: 0.7015\n",
      "Epoch 16/40\n",
      "40000/40000 [==============================] - 10s 251us/step - loss: 0.9414 - acc: 0.7036 - val_loss: 1.0593 - val_acc: 0.6621\n",
      "Epoch 17/40\n",
      "40000/40000 [==============================] - 10s 251us/step - loss: 0.9307 - acc: 0.7027 - val_loss: 0.8617 - val_acc: 0.7087\n",
      "Epoch 18/40\n",
      "40000/40000 [==============================] - 10s 253us/step - loss: 0.9268 - acc: 0.7065 - val_loss: 0.8161 - val_acc: 0.7394\n",
      "Epoch 19/40\n",
      "40000/40000 [==============================] - 10s 253us/step - loss: 0.9357 - acc: 0.7022 - val_loss: 0.7467 - val_acc: 0.7494\n",
      "Epoch 20/40\n",
      "40000/40000 [==============================] - 10s 248us/step - loss: 0.9354 - acc: 0.7008 - val_loss: 0.9199 - val_acc: 0.7005\n",
      "Epoch 21/40\n",
      "40000/40000 [==============================] - 10s 253us/step - loss: 0.9358 - acc: 0.7023 - val_loss: 0.8416 - val_acc: 0.7507\n",
      "Epoch 22/40\n",
      "40000/40000 [==============================] - 10s 250us/step - loss: 0.9483 - acc: 0.7008 - val_loss: 1.0518 - val_acc: 0.7164\n",
      "Epoch 23/40\n",
      "40000/40000 [==============================] - 10s 249us/step - loss: 0.9300 - acc: 0.7028 - val_loss: 0.7842 - val_acc: 0.7427\n",
      "Epoch 24/40\n",
      "40000/40000 [==============================] - 10s 252us/step - loss: 0.9462 - acc: 0.7033 - val_loss: 0.8491 - val_acc: 0.7189\n",
      "Epoch 25/40\n",
      "40000/40000 [==============================] - 10s 257us/step - loss: 0.9233 - acc: 0.7060 - val_loss: 0.7819 - val_acc: 0.7393\n",
      "Epoch 26/40\n",
      "40000/40000 [==============================] - 10s 254us/step - loss: 0.9275 - acc: 0.7059 - val_loss: 0.9122 - val_acc: 0.7173\n",
      "Epoch 27/40\n",
      "40000/40000 [==============================] - 10s 252us/step - loss: 0.9268 - acc: 0.7059 - val_loss: 0.7939 - val_acc: 0.7594\n",
      "Epoch 28/40\n",
      "40000/40000 [==============================] - 10s 252us/step - loss: 0.9289 - acc: 0.7038 - val_loss: 0.9034 - val_acc: 0.7155\n",
      "Epoch 29/40\n",
      "40000/40000 [==============================] - 10s 251us/step - loss: 0.9493 - acc: 0.6986 - val_loss: 1.0291 - val_acc: 0.6419\n",
      "Epoch 30/40\n",
      "40000/40000 [==============================] - 10s 250us/step - loss: 0.9433 - acc: 0.7019 - val_loss: 0.7644 - val_acc: 0.7706\n",
      "Epoch 31/40\n",
      "40000/40000 [==============================] - 10s 251us/step - loss: 0.9310 - acc: 0.7048 - val_loss: 0.8163 - val_acc: 0.7302\n",
      "Epoch 32/40\n",
      "40000/40000 [==============================] - 10s 243us/step - loss: 0.9309 - acc: 0.7029 - val_loss: 0.8320 - val_acc: 0.7167\n",
      "Epoch 33/40\n",
      "40000/40000 [==============================] - 10s 247us/step - loss: 0.9282 - acc: 0.7072 - val_loss: 1.2415 - val_acc: 0.6212\n",
      "Epoch 34/40\n",
      "40000/40000 [==============================] - 10s 248us/step - loss: 0.9353 - acc: 0.7014 - val_loss: 1.0560 - val_acc: 0.6382\n",
      "Epoch 35/40\n",
      "40000/40000 [==============================] - 10s 246us/step - loss: 0.9358 - acc: 0.7044 - val_loss: 0.7684 - val_acc: 0.7369\n",
      "Epoch 36/40\n",
      "40000/40000 [==============================] - 10s 250us/step - loss: 0.9426 - acc: 0.7018 - val_loss: 0.7696 - val_acc: 0.7550\n",
      "Epoch 37/40\n",
      "40000/40000 [==============================] - 10s 250us/step - loss: 0.9187 - acc: 0.7101 - val_loss: 0.7757 - val_acc: 0.7463\n",
      "Epoch 38/40\n",
      "40000/40000 [==============================] - 10s 252us/step - loss: 0.9379 - acc: 0.7036 - val_loss: 0.9438 - val_acc: 0.7115\n",
      "Epoch 39/40\n",
      "40000/40000 [==============================] - 10s 253us/step - loss: 0.9442 - acc: 0.7042 - val_loss: 0.8445 - val_acc: 0.7145\n",
      "Epoch 40/40\n",
      "40000/40000 [==============================] - 10s 250us/step - loss: 0.9285 - acc: 0.7025 - val_loss: 0.9852 - val_acc: 0.6757\n"
     ]
    }
   ],
   "source": [
    "# callback 으로 한 예\n",
    "history = model.fit(X_train, Y_train, batch_size=BATCH_SIZE, epochs=NB_EPOCH,\n",
    "                    validation_split=VALIDATION_SPLIT, verbose=VERBOSE)"
   ]
  },
  {
   "cell_type": "code",
   "execution_count": 46,
   "metadata": {},
   "outputs": [],
   "source": [
    "# 지금까지는 똑같은 데이터였다 랜덤했지만 순서만 했지 모양을 랜덤으로 하진 않았다.\n",
    "# 하지만 이미지 데이터 제너레이터를 이용하면 다양한 모양으로 생성을..\n",
    "datagen = ImageDataGenerator( featurewise_center=False,\n",
    "                              samplewise_center=False,\n",
    "                              featurewise_std_normalization=False,\n",
    "                              samplewise_std_normalization=False,\n",
    "                              zca_whitening=False, # 이미지 PCA와 같다! 이미지 노이즈 제거\n",
    "                              rotation_range=0,\n",
    "                              width_shift_range=0.1,\n",
    "                              height_shift_range=0.1,\n",
    "                              horizontal_flip=True,\n",
    "                              vertical_flip=False)\n",
    "datagen.fit(X_train)"
   ]
  },
  {
   "cell_type": "code",
   "execution_count": 47,
   "metadata": {},
   "outputs": [
    {
     "name": "stdout",
     "output_type": "stream",
     "text": [
      "Epoch 1/40\n",
      "  3/390 [..............................] - ETA: 20s - loss: 1.3898 - acc: 0.5573"
     ]
    },
    {
     "name": "stderr",
     "output_type": "stream",
     "text": [
      "C:\\Users\\ICT01_11\\.conda\\envs\\tf_gpu\\lib\\site-packages\\ipykernel_launcher.py:5: UserWarning: The semantics of the Keras 2 argument `steps_per_epoch` is not the same as the Keras 1 argument `samples_per_epoch`. `steps_per_epoch` is the number of batches to draw from the generator at each epoch. Basically steps_per_epoch = samples_per_epoch/batch_size. Similarly `nb_val_samples`->`validation_steps` and `val_samples`->`steps` arguments have changed. Update your method calls accordingly.\n",
      "  \"\"\"\n",
      "C:\\Users\\ICT01_11\\.conda\\envs\\tf_gpu\\lib\\site-packages\\ipykernel_launcher.py:5: UserWarning: Update your `fit_generator` call to the Keras 2 API: `fit_generator(<keras_pre..., verbose=1, steps_per_epoch=390, epochs=40)`\n",
      "  \"\"\"\n"
     ]
    },
    {
     "name": "stdout",
     "output_type": "stream",
     "text": [
      "390/390 [==============================] - 18s 45ms/step - loss: 1.1825 - acc: 0.6224\n",
      "Epoch 2/40\n",
      "390/390 [==============================] - 18s 45ms/step - loss: 1.1781 - acc: 0.6229\n",
      "Epoch 3/40\n",
      "390/390 [==============================] - 18s 45ms/step - loss: 1.1632 - acc: 0.6269\n",
      "Epoch 4/40\n",
      "390/390 [==============================] - 18s 45ms/step - loss: 1.1547 - acc: 0.6288\n",
      "Epoch 5/40\n",
      "390/390 [==============================] - 17s 45ms/step - loss: 1.1518 - acc: 0.6261\n",
      "Epoch 6/40\n",
      "390/390 [==============================] - 17s 44ms/step - loss: 1.1547 - acc: 0.6305\n",
      "Epoch 7/40\n",
      "390/390 [==============================] - 17s 45ms/step - loss: 1.1557 - acc: 0.6271\n",
      "Epoch 8/40\n",
      "390/390 [==============================] - 17s 44ms/step - loss: 1.1462 - acc: 0.6320 0s - loss: 1.1483 - acc: 0\n",
      "Epoch 9/40\n",
      "390/390 [==============================] - 18s 45ms/step - loss: 1.1591 - acc: 0.6248\n",
      "Epoch 10/40\n",
      "390/390 [==============================] - 18s 46ms/step - loss: 1.1536 - acc: 0.6305\n",
      "Epoch 11/40\n",
      "390/390 [==============================] - 17s 44ms/step - loss: 1.1460 - acc: 0.6314 1s - loss: \n",
      "Epoch 12/40\n",
      "390/390 [==============================] - 17s 45ms/step - loss: 1.1557 - acc: 0.6303\n",
      "Epoch 13/40\n",
      "390/390 [==============================] - 17s 45ms/step - loss: 1.1479 - acc: 0.6268\n",
      "Epoch 14/40\n",
      "390/390 [==============================] - 17s 44ms/step - loss: 1.1493 - acc: 0.6287\n",
      "Epoch 15/40\n",
      "390/390 [==============================] - 18s 47ms/step - loss: 1.1565 - acc: 0.6270\n",
      "Epoch 16/40\n",
      "390/390 [==============================] - 18s 46ms/step - loss: 1.1542 - acc: 0.6300\n",
      "Epoch 17/40\n",
      "390/390 [==============================] - 17s 44ms/step - loss: 1.1670 - acc: 0.6291\n",
      "Epoch 18/40\n",
      "390/390 [==============================] - 18s 45ms/step - loss: 1.1572 - acc: 0.6309\n",
      "Epoch 19/40\n",
      "390/390 [==============================] - 17s 45ms/step - loss: 1.1632 - acc: 0.6274\n",
      "Epoch 20/40\n",
      "390/390 [==============================] - 17s 44ms/step - loss: 1.1438 - acc: 0.6302\n",
      "Epoch 21/40\n",
      "390/390 [==============================] - 17s 44ms/step - loss: 1.1682 - acc: 0.6254\n",
      "Epoch 22/40\n",
      "390/390 [==============================] - 17s 45ms/step - loss: 1.1567 - acc: 0.6269\n",
      "Epoch 23/40\n",
      "390/390 [==============================] - 18s 45ms/step - loss: 1.1524 - acc: 0.6299\n",
      "Epoch 24/40\n",
      "390/390 [==============================] - 18s 46ms/step - loss: 1.1620 - acc: 0.6262\n",
      "Epoch 25/40\n",
      "390/390 [==============================] - 18s 46ms/step - loss: 1.1661 - acc: 0.6278\n",
      "Epoch 26/40\n",
      "390/390 [==============================] - 18s 45ms/step - loss: 1.1625 - acc: 0.6283 0s - loss: 1.1646 - acc: 0.6\n",
      "Epoch 27/40\n",
      "390/390 [==============================] - 18s 45ms/step - loss: 1.1623 - acc: 0.6282\n",
      "Epoch 28/40\n",
      "390/390 [==============================] - 18s 45ms/step - loss: 1.1528 - acc: 0.6306\n",
      "Epoch 29/40\n",
      "390/390 [==============================] - 18s 46ms/step - loss: 1.1560 - acc: 0.6306\n",
      "Epoch 30/40\n",
      "390/390 [==============================] - 18s 46ms/step - loss: 1.1682 - acc: 0.6229\n",
      "Epoch 31/40\n",
      "390/390 [==============================] - 18s 46ms/step - loss: 1.1650 - acc: 0.6260\n",
      "Epoch 32/40\n",
      "390/390 [==============================] - 18s 46ms/step - loss: 1.1862 - acc: 0.6226\n",
      "Epoch 33/40\n",
      "390/390 [==============================] - 18s 46ms/step - loss: 1.1613 - acc: 0.6258 1s - loss: 1.1610 -  - ETA: 0s - loss: 1.1608 - acc: 0.6\n",
      "Epoch 34/40\n",
      "390/390 [==============================] - 18s 46ms/step - loss: 1.1733 - acc: 0.6239\n",
      "Epoch 35/40\n",
      "390/390 [==============================] - 18s 45ms/step - loss: 1.1753 - acc: 0.6218\n",
      "Epoch 36/40\n",
      "390/390 [==============================] - 18s 45ms/step - loss: 1.1592 - acc: 0.6281\n",
      "Epoch 37/40\n",
      "390/390 [==============================] - 17s 45ms/step - loss: 1.1630 - acc: 0.6244\n",
      "Epoch 38/40\n",
      "390/390 [==============================] - 17s 44ms/step - loss: 1.1730 - acc: 0.6251\n",
      "Epoch 39/40\n",
      "390/390 [==============================] - 18s 45ms/step - loss: 1.1589 - acc: 0.6268\n",
      "Epoch 40/40\n",
      "390/390 [==============================] - 18s 45ms/step - loss: 1.1628 - acc: 0.6265\n"
     ]
    },
    {
     "data": {
      "text/plain": [
       "<keras.callbacks.History at 0x17fefcb3f60>"
      ]
     },
     "execution_count": 47,
     "metadata": {},
     "output_type": "execute_result"
    }
   ],
   "source": [
    "model.fit_generator( datagen.flow( X_train, Y_train,\n",
    "                                   batch_size=BATCH_SIZE),\n",
    "                     samples_per_epoch = X_train.shape[0],\n",
    "                     nb_epoch=NB_EPOCH,\n",
    "                     verbose=VERBOSE )"
   ]
  },
  {
   "cell_type": "code",
   "execution_count": 48,
   "metadata": {},
   "outputs": [
    {
     "name": "stdout",
     "output_type": "stream",
     "text": [
      "10000/10000 [==============================] - 1s 88us/step\n",
      "\n",
      "Test score :  0.8897139163970947\n",
      "\n",
      "Test accuracy :  0.7048\n"
     ]
    }
   ],
   "source": [
    "# 평가\n",
    "score = model.evaluate(X_test, Y_test, batch_size=BATCH_SIZE, verbose=VERBOSE)\n",
    "print(\"\\nTest score : \", score[0])\n",
    "print(\"\\nTest accuracy : \", score[1])"
   ]
  },
  {
   "cell_type": "code",
   "execution_count": 49,
   "metadata": {},
   "outputs": [],
   "source": [
    "# 모델을 json으로 저장해보자\n",
    "model_json = model.to_json()\n",
    "open('cifar10_architecture.json', 'w').write(model_json)\n",
    "model.save_weights('cifar10_weights.h5', overwrite=True)"
   ]
  },
  {
   "cell_type": "code",
   "execution_count": 50,
   "metadata": {},
   "outputs": [
    {
     "name": "stdout",
     "output_type": "stream",
     "text": [
      "Loaded model from disk\n"
     ]
    }
   ],
   "source": [
    "# json으로부터 model 만들기 & 가중치 부여\n",
    "from keras.models import model_from_json\n",
    "json_file = open('cifar10_architecture.json', 'r')\n",
    "loaded_model_json = json_file.read()\n",
    "json_file.close()\n",
    "\n",
    "loaded_model = model_from_json( loaded_model_json )\n",
    "loaded_model.load_weights('cifar10_weights.h5')\n",
    "print(\"Loaded model from disk\")"
   ]
  },
  {
   "cell_type": "code",
   "execution_count": null,
   "metadata": {},
   "outputs": [],
   "source": []
  },
  {
   "cell_type": "code",
   "execution_count": null,
   "metadata": {},
   "outputs": [],
   "source": []
  },
  {
   "cell_type": "code",
   "execution_count": null,
   "metadata": {},
   "outputs": [],
   "source": []
  },
  {
   "cell_type": "markdown",
   "metadata": {},
   "source": [
    "- 문제1 : accuracy graph 출력해보세요\n",
    "- 문제2 : 이미지 cat과 dog를 다운로드한 다음 위의 모델로 예측해보시오"
   ]
  },
  {
   "cell_type": "code",
   "execution_count": 51,
   "metadata": {},
   "outputs": [
    {
     "data": {
      "image/png": "[encoded data removed]",
      "text/plain": [
       "<Figure size 432x288 with 1 Axes>"
      ]
     },
     "metadata": {
      "needs_background": "light"
     },
     "output_type": "display_data"
    }
   ],
   "source": [
    "plt.plot(history.history['acc'])\n",
    "plt.plot(history.history['val_acc'])\n",
    "\n",
    "plt.title('model accuracy')\n",
    "plt.ylabel('accuracy')\n",
    "plt.xlabel('epoch')\n",
    "plt.legend( ['train', 'test'], loc='upper left')\n",
    "\n",
    "plt.show()"
   ]
  },
  {
   "cell_type": "code",
   "execution_count": 39,
   "metadata": {},
   "outputs": [
    {
     "name": "stdout",
     "output_type": "stream",
     "text": [
      "[0 0]\n"
     ]
    }
   ],
   "source": [
    "import numpy as np # 이미지 사이즈 일치\n",
    "from imageio import imread\n",
    "#import cv2\n",
    "from skimage.transform import resize\n",
    "from keras.models import model_from_json\n",
    "\n",
    "img_names = ['cat.jpg', 'dog.jpg']\n",
    "imgs = [ resize( imread( img_name ), (32, 32)).astype('float32') for img_name in img_names]\n",
    "imgs = np.array(imgs) / 255\n",
    "\n",
    "predictions = model.predict_classes(imgs)\n",
    "print(predictions)"
   ]
  },
  {
   "cell_type": "code",
   "execution_count": null,
   "metadata": {},
   "outputs": [],
   "source": []
  },
  {
   "cell_type": "code",
   "execution_count": null,
   "metadata": {},
   "outputs": [],
   "source": []
  },
  {
   "cell_type": "markdown",
   "metadata": {},
   "source": [
    "# 전이(transfer learning) 학습 Application\n",
    "- 가중치 활용 : 그대로 적용, 일부만 활용, FFNN부분만 학습해서 사용 등..\n",
    "- 반지도학습 : 일부데이터의 라벨이 없음. 예) KNN, Trenductive SVM"
   ]
  },
  {
   "cell_type": "code",
   "execution_count": null,
   "metadata": {},
   "outputs": [],
   "source": [
    "# pre-trained : 이미 훈련된 넘을 쓰는 것\n",
    "# fine-tuning : FFNN부분만 Domain knowledge에 맞춰 특화시키는..[가중치는 놔두고 데이터만 주고 학습]"
   ]
  },
  {
   "cell_type": "code",
   "execution_count": 26,
   "metadata": {},
   "outputs": [
    {
     "name": "stdout",
     "output_type": "stream",
     "text": [
      "PIL image size :  (224, 224) \n",
      "\n"
     ]
    },
    {
     "data": {
      "image/png": "[encoded data removed]",
      "text/plain": [
       "<Figure size 432x288 with 1 Axes>"
      ]
     },
     "metadata": {
      "needs_background": "light"
     },
     "output_type": "display_data"
    },
    {
     "name": "stdout",
     "output_type": "stream",
     "text": [
      "numpy array size :  (224, 224, 3) \n",
      "\n",
      "image batch size :  (1, 224, 224, 3) \n",
      "\n"
     ]
    },
    {
     "data": {
      "image/png": "[encoded data removed]",
      "text/plain": [
       "<Figure size 432x288 with 1 Axes>"
      ]
     },
     "metadata": {
      "needs_background": "light"
     },
     "output_type": "display_data"
    }
   ],
   "source": [
    "import PIL\n",
    "from keras.preprocessing.image import load_img\n",
    "from keras.preprocessing.image import img_to_array\n",
    "from keras.applications.imagenet_utils import decode_predictions\n",
    "import numpy as np\n",
    "from keras.applications.resnet50 import ResNet50\n",
    "from keras.applications import resnet50\n",
    "\n",
    "filename = 'banana.jpg'\n",
    "original = load_img(filename, target_size=(224,224))\n",
    "print('PIL image size : ',original.size,'\\n')\n",
    "plt.imshow(original)\n",
    "plt.show()\n",
    "\n",
    "numpy_image = img_to_array(original)\n",
    "plt.imshow( np.uint8( numpy_image ) )\n",
    "print('numpy array size : ', numpy_image.shape,'\\n')\n",
    "\n",
    "image_batch = np.expand_dims( numpy_image, axis=0 )\n",
    "# 차원확대 하는 이유?? 이미지 여러장 처리한다는 전제조건..\n",
    "# 하지만 1장밖에 없으니 3차원->4차원으로 확장\n",
    "print('image batch size : ', image_batch.shape,'\\n')\n",
    "\n",
    "processed_image = resnet50.preprocess_input(image_batch.copy())\n",
    "# 그동안은 dense를 이용하여 모델을 생성했다..\n",
    "# 라벨 => 확률로 나옴\n",
    "resnet_model = resnet50.ResNet50(weights = 'imagenet') # 가중치 초기화\n",
    "\n",
    "# softmax 확률( 상위 3개로 예측 )\n",
    "predictions = resnet_model.predict(processed_image)"
   ]
  },
  {
   "cell_type": "code",
   "execution_count": 27,
   "metadata": {},
   "outputs": [
    {
     "name": "stdout",
     "output_type": "stream",
     "text": [
      "[[('n07753592', 'banana', 0.9999579), ('n03532672', 'hook', 2.4703648e-05), ('n07716906', 'spaghetti_squash', 5.4609304e-06)]]\n"
     ]
    }
   ],
   "source": [
    "label = decode_predictions(predictions, top=3) # 라벨링해주는 코드\n",
    "print(label)"
   ]
  },
  {
   "cell_type": "code",
   "execution_count": null,
   "metadata": {},
   "outputs": [],
   "source": []
  },
  {
   "cell_type": "code",
   "execution_count": null,
   "metadata": {},
   "outputs": [],
   "source": [
    "# VGG NET 동영상처리시 많이 쓰임"
   ]
  },
  {
   "cell_type": "code",
   "execution_count": 14,
   "metadata": {},
   "outputs": [],
   "source": [
    "# tf.keras\n",
    "# fine-tuning : ffnn 부분만 학습\n",
    "\n",
    "# imagedatagenerator 와 비슷한 역할을 하는 from_tensor_slices 객체 # dataset을 생성\n",
    "\n",
    "from numpy.random import randn\n",
    "import pathlib\n",
    "import random\n",
    "import matplotlib.pyplot as plt\n",
    "import tensorflow as tf\n",
    "import numpy as np\n",
    "from matplotlib.image import imread\n",
    "from keras.preprocessing import image\n",
    "\n",
    "#tf.enable_eager_execution()\n",
    "\n",
    "AUTOTUNE = tf.data.experimental.AUTOTUNE\n",
    "data_dir = 'C:/Users/ICT01_11/Downloads/전달/flowers/flower_photos'\n",
    "data_dir = pathlib.Path(data_dir)\n",
    "label_names ={'daisy':0,'dandelion':1,'roses':2,'sunflowers':3,'tulips':4}\n",
    "label_key=['daisy','dandelion','roses','sunflowers','tulips']"
   ]
  },
  {
   "cell_type": "code",
   "execution_count": 15,
   "metadata": {},
   "outputs": [],
   "source": [
    "all_images = list(data_dir.glob('*/*')) # 파일명 로딩\n",
    "all_images = [str(path) for path in all_images]\n",
    "random.shuffle(all_images)\n",
    "\n",
    "# 라벨을 할당\n",
    "# 디렉터리의 경로를 관리하는 라이브러리\n",
    "all_labels=[label_names[pathlib.Path(path).parent.name] for path in all_images]\n",
    "data_size = len(all_images)\n",
    "train_test_split=(int)(data_size*0.2) # 80% : 20%\n",
    "\n",
    "x_train = all_images[train_test_split:]\n",
    "x_test = all_images[:train_test_split]\n",
    "y_train = all_labels[train_test_split:]\n",
    "y_test = all_labels[:train_test_split]\n",
    "\n",
    "img_size = 160\n",
    "batch_size = 32"
   ]
  },
  {
   "cell_type": "code",
   "execution_count": 16,
   "metadata": {
    "scrolled": true
   },
   "outputs": [],
   "source": [
    "def _parse_data(x,y):\n",
    "    image = tf.read_file(x) # 파일에는 헤더파일(압축방법 등이 기록되어있음)\n",
    "    image = tf.image.decode_jpeg(image, channels= 3) # color\n",
    "    image = tf.cast(image, tf.float32)\n",
    "    image = (image/127.5) - 1 # 이미지를 -1~1 사이의 값으로 만들기 위해 0~2로 만들어 -1해줌 \n",
    "    # 이미지 사이즈를 통일 160 x 160\n",
    "    image = tf.image.resize(image, (img_size, img_size))\n",
    "    return image,y \n",
    "\n",
    "def _input_fn(x,y):\n",
    "    # 기본단위 요소로 분해\n",
    "    ds = tf.data.Dataset.from_tensor_slices((x,y)) # dataset을 생성\n",
    "    ds = ds.map(_parse_data) # 데이터마다 함수를 적용할 때 사용\n",
    "    # buffer 거쳐가는 기억공간\n",
    "    ds = ds.shuffle(buffer_size=data_size) # 충분한 공간확보 \n",
    "    ds = ds.repeat() # 데이터가 부족하면 처음부터 다시 시작\n",
    "    ds = ds.batch(batch_size) # 미니배치사이즈\n",
    "    ds = ds.prefetch(buffer_size=AUTOTUNE)  # 32 x 3 or 32x5 등.. 뭘 할지 오토로 알아서 하라고 지정\n",
    "    return ds\n",
    "\n",
    "train_ds = _input_fn(x_train,y_train)\n",
    "validation_ds = _input_fn(x_test, y_test)"
   ]
  },
  {
   "cell_type": "code",
   "execution_count": 17,
   "metadata": {},
   "outputs": [],
   "source": [
    "IMG_SHAPE = ( img_size, img_size, 3 )\n",
    "VGG16_MODEL = tf.keras.applications.VGG16( input_shape=IMG_SHAPE, include_top=False, weights='imagenet' )\n",
    "# 모델 생성하는 부분 없는 건 요거 때문\n",
    "# include_top이 False인 경우는 input_shape=IMG_SHAPE를 지정\n",
    "# convolution에 대한 가중치 학습이 없음"
   ]
  },
  {
   "cell_type": "code",
   "execution_count": 18,
   "metadata": {},
   "outputs": [],
   "source": [
    "VGG16_MODEL.trainable = False\n",
    "# flatten 이 없(가중치학습 시키지않음)\n",
    "global_average_layer = tf.keras.layers.GlobalAveragePooling2D() #그래서 풀링 이거 씀.\n",
    "# FFNN의 가중치는 학습시킴\n",
    "prediction_layer = tf.keras.layers.Dense( len(label_names), activation='softmax' )"
   ]
  },
  {
   "cell_type": "code",
   "execution_count": 19,
   "metadata": {},
   "outputs": [],
   "source": [
    "model = tf.keras.Sequential( [ # MODEL [ VGG16 가중치 + FFNN 가중치 학습] \n",
    "    VGG16_MODEL,\n",
    "    global_average_layer,\n",
    "    prediction_layer\n",
    "] )"
   ]
  },
  {
   "cell_type": "code",
   "execution_count": 20,
   "metadata": {},
   "outputs": [],
   "source": [
    "# sparse 희소행렬\n",
    "model.compile( optimizer=tf.train.AdamOptimizer(),\n",
    "               loss=tf.keras.losses.sparse_categorical_crossentropy,\n",
    "               metrics=['accuracy'])"
   ]
  },
  {
   "cell_type": "code",
   "execution_count": 21,
   "metadata": {},
   "outputs": [
    {
     "name": "stdout",
     "output_type": "stream",
     "text": [
      "Train on 2 steps\n",
      "Epoch 1/100\n",
      "2/2 [==============================] - 11s 6s/step - loss: 1.8703 - acc: 0.2188\n",
      "Epoch 2/100\n",
      "2/2 [==============================] - 0s 191ms/step - loss: 2.0279 - acc: 0.0625\n",
      "Epoch 3/100\n",
      "2/2 [==============================] - 0s 189ms/step - loss: 1.6634 - acc: 0.2344\n",
      "Epoch 4/100\n",
      "2/2 [==============================] - 0s 188ms/step - loss: 1.6068 - acc: 0.2188\n",
      "Epoch 5/100\n",
      "2/2 [==============================] - 0s 189ms/step - loss: 1.6342 - acc: 0.2500\n",
      "Epoch 6/100\n",
      "2/2 [==============================] - 0s 189ms/step - loss: 1.6325 - acc: 0.2031\n",
      "Epoch 7/100\n",
      "2/2 [==============================] - 0s 188ms/step - loss: 1.5520 - acc: 0.2031\n",
      "Epoch 8/100\n",
      "2/2 [==============================] - 0s 184ms/step - loss: 1.6357 - acc: 0.1406\n",
      "Epoch 9/100\n",
      "2/2 [==============================] - 0s 189ms/step - loss: 1.6018 - acc: 0.2188\n",
      "Epoch 10/100\n",
      "2/2 [==============================] - 0s 190ms/step - loss: 1.5165 - acc: 0.3594\n",
      "Epoch 11/100\n",
      "2/2 [==============================] - 0s 190ms/step - loss: 1.5278 - acc: 0.3594\n",
      "Epoch 12/100\n",
      "2/2 [==============================] - 0s 189ms/step - loss: 1.4732 - acc: 0.4844\n",
      "Epoch 13/100\n",
      "2/2 [==============================] - 0s 186ms/step - loss: 1.3967 - acc: 0.5312\n",
      "Epoch 14/100\n",
      "2/2 [==============================] - 0s 186ms/step - loss: 1.5090 - acc: 0.3750\n",
      "Epoch 15/100\n",
      "2/2 [==============================] - 0s 189ms/step - loss: 1.5081 - acc: 0.4375\n",
      "Epoch 16/100\n",
      "2/2 [==============================] - 0s 189ms/step - loss: 1.4608 - acc: 0.3750\n",
      "Epoch 17/100\n",
      "2/2 [==============================] - 0s 191ms/step - loss: 1.5197 - acc: 0.3281\n",
      "Epoch 18/100\n",
      "2/2 [==============================] - 0s 189ms/step - loss: 1.4937 - acc: 0.4375\n",
      "Epoch 19/100\n",
      "2/2 [==============================] - 0s 185ms/step - loss: 1.4519 - acc: 0.4062\n",
      "Epoch 20/100\n",
      "2/2 [==============================] - 0s 189ms/step - loss: 1.3678 - acc: 0.5469\n",
      "Epoch 21/100\n",
      "2/2 [==============================] - 0s 190ms/step - loss: 1.3736 - acc: 0.5469\n",
      "Epoch 22/100\n",
      "2/2 [==============================] - 0s 190ms/step - loss: 1.3359 - acc: 0.5938\n",
      "Epoch 23/100\n",
      "2/2 [==============================] - 0s 191ms/step - loss: 1.3472 - acc: 0.5469\n",
      "Epoch 24/100\n",
      "2/2 [==============================] - 0s 186ms/step - loss: 1.3140 - acc: 0.4688\n",
      "Epoch 25/100\n",
      "2/2 [==============================] - 0s 188ms/step - loss: 1.3452 - acc: 0.5781\n",
      "Epoch 26/100\n",
      "2/2 [==============================] - 0s 190ms/step - loss: 1.3834 - acc: 0.4688\n",
      "Epoch 27/100\n",
      "2/2 [==============================] - 0s 191ms/step - loss: 1.3390 - acc: 0.4844\n",
      "Epoch 28/100\n",
      "2/2 [==============================] - 0s 189ms/step - loss: 1.3408 - acc: 0.5938\n",
      "Epoch 29/100\n",
      "2/2 [==============================] - 0s 186ms/step - loss: 1.3541 - acc: 0.5156\n",
      "Epoch 30/100\n",
      "2/2 [==============================] - 0s 188ms/step - loss: 1.3995 - acc: 0.4219\n",
      "Epoch 31/100\n",
      "2/2 [==============================] - 0s 191ms/step - loss: 1.2874 - acc: 0.6250\n",
      "Epoch 32/100\n",
      "2/2 [==============================] - 0s 190ms/step - loss: 1.3047 - acc: 0.5625\n",
      "Epoch 33/100\n",
      "2/2 [==============================] - 0s 190ms/step - loss: 1.2980 - acc: 0.5625\n",
      "Epoch 34/100\n",
      "2/2 [==============================] - 0s 188ms/step - loss: 1.2394 - acc: 0.6406\n",
      "Epoch 35/100\n",
      "2/2 [==============================] - 0s 187ms/step - loss: 1.2671 - acc: 0.6094\n",
      "Epoch 36/100\n",
      "2/2 [==============================] - 0s 189ms/step - loss: 1.2516 - acc: 0.5781\n",
      "Epoch 37/100\n",
      "2/2 [==============================] - 0s 190ms/step - loss: 1.2779 - acc: 0.5000\n",
      "Epoch 38/100\n",
      "2/2 [==============================] - 0s 190ms/step - loss: 1.2741 - acc: 0.5469\n",
      "Epoch 39/100\n",
      "2/2 [==============================] - 0s 189ms/step - loss: 1.3032 - acc: 0.5156\n",
      "Epoch 40/100\n",
      "2/2 [==============================] - 0s 184ms/step - loss: 1.2482 - acc: 0.6094\n",
      "Epoch 41/100\n",
      "2/2 [==============================] - 0s 188ms/step - loss: 1.2616 - acc: 0.5469\n",
      "Epoch 42/100\n",
      "2/2 [==============================] - 0s 189ms/step - loss: 1.2490 - acc: 0.6562\n",
      "Epoch 43/100\n",
      "2/2 [==============================] - 0s 190ms/step - loss: 1.1279 - acc: 0.7188\n",
      "Epoch 44/100\n",
      "2/2 [==============================] - 0s 190ms/step - loss: 1.1530 - acc: 0.6875\n",
      "Epoch 45/100\n",
      "2/2 [==============================] - 0s 185ms/step - loss: 1.2837 - acc: 0.5938\n",
      "Epoch 46/100\n",
      "2/2 [==============================] - 0s 191ms/step - loss: 1.1996 - acc: 0.6875\n",
      "Epoch 47/100\n",
      "2/2 [==============================] - 0s 188ms/step - loss: 1.2381 - acc: 0.6250\n",
      "Epoch 48/100\n",
      "2/2 [==============================] - 0s 189ms/step - loss: 1.2112 - acc: 0.6250\n",
      "Epoch 49/100\n",
      "2/2 [==============================] - 0s 188ms/step - loss: 1.3106 - acc: 0.5000\n",
      "Epoch 50/100\n",
      "2/2 [==============================] - 0s 185ms/step - loss: 1.1781 - acc: 0.6719\n",
      "Epoch 51/100\n",
      "2/2 [==============================] - 0s 187ms/step - loss: 1.1701 - acc: 0.6094\n",
      "Epoch 52/100\n",
      "2/2 [==============================] - 0s 190ms/step - loss: 1.1490 - acc: 0.6875\n",
      "Epoch 53/100\n",
      "2/2 [==============================] - 0s 189ms/step - loss: 1.0781 - acc: 0.7344\n",
      "Epoch 54/100\n",
      "2/2 [==============================] - 0s 189ms/step - loss: 1.0709 - acc: 0.7656\n",
      "Epoch 55/100\n",
      "2/2 [==============================] - 0s 187ms/step - loss: 1.2205 - acc: 0.6562\n",
      "Epoch 56/100\n",
      "2/2 [==============================] - 0s 185ms/step - loss: 1.2194 - acc: 0.5156\n",
      "Epoch 57/100\n",
      "2/2 [==============================] - 0s 189ms/step - loss: 1.0081 - acc: 0.7500\n",
      "Epoch 58/100\n",
      "2/2 [==============================] - 0s 189ms/step - loss: 1.0836 - acc: 0.7344\n",
      "Epoch 59/100\n",
      "2/2 [==============================] - 0s 189ms/step - loss: 1.0650 - acc: 0.7031\n",
      "Epoch 60/100\n",
      "2/2 [==============================] - 0s 189ms/step - loss: 1.1603 - acc: 0.5938\n",
      "Epoch 61/100\n",
      "2/2 [==============================] - 0s 184ms/step - loss: 1.0801 - acc: 0.6250\n",
      "Epoch 62/100\n",
      "2/2 [==============================] - 0s 189ms/step - loss: 0.9608 - acc: 0.7969\n",
      "Epoch 63/100\n",
      "2/2 [==============================] - 0s 191ms/step - loss: 1.0963 - acc: 0.6406\n",
      "Epoch 64/100\n",
      "2/2 [==============================] - 0s 188ms/step - loss: 1.0906 - acc: 0.7031\n",
      "Epoch 65/100\n",
      "2/2 [==============================] - 0s 190ms/step - loss: 1.0026 - acc: 0.7188\n",
      "Epoch 66/100\n",
      "2/2 [==============================] - 0s 184ms/step - loss: 1.1420 - acc: 0.6562\n",
      "Epoch 67/100\n",
      "2/2 [==============================] - 0s 189ms/step - loss: 1.0573 - acc: 0.6719\n",
      "Epoch 68/100\n",
      "2/2 [==============================] - 0s 190ms/step - loss: 1.1450 - acc: 0.6250\n",
      "Epoch 69/100\n",
      "2/2 [==============================] - 0s 189ms/step - loss: 1.0873 - acc: 0.6406\n",
      "Epoch 70/100\n",
      "2/2 [==============================] - 0s 190ms/step - loss: 1.1162 - acc: 0.6094\n",
      "Epoch 71/100\n",
      "2/2 [==============================] - 0s 186ms/step - loss: 1.0194 - acc: 0.7812\n",
      "Epoch 72/100\n",
      "2/2 [==============================] - 0s 187ms/step - loss: 1.0537 - acc: 0.6875\n",
      "Epoch 73/100\n",
      "2/2 [==============================] - 0s 188ms/step - loss: 0.9518 - acc: 0.7656\n",
      "Epoch 74/100\n",
      "2/2 [==============================] - 0s 188ms/step - loss: 0.9218 - acc: 0.7812\n",
      "Epoch 75/100\n",
      "2/2 [==============================] - 0s 188ms/step - loss: 0.9501 - acc: 0.7969\n",
      "Epoch 76/100\n",
      "2/2 [==============================] - 0s 187ms/step - loss: 1.0466 - acc: 0.6875\n",
      "Epoch 77/100\n",
      "2/2 [==============================] - 0s 185ms/step - loss: 1.0416 - acc: 0.6562\n",
      "Epoch 78/100\n",
      "2/2 [==============================] - 0s 188ms/step - loss: 1.0026 - acc: 0.6875\n",
      "Epoch 79/100\n",
      "2/2 [==============================] - 0s 188ms/step - loss: 1.0233 - acc: 0.7031\n",
      "Epoch 80/100\n",
      "2/2 [==============================] - 0s 188ms/step - loss: 1.0097 - acc: 0.6250\n",
      "Epoch 81/100\n",
      "2/2 [==============================] - 0s 189ms/step - loss: 1.1085 - acc: 0.6562\n",
      "Epoch 82/100\n",
      "2/2 [==============================] - 0s 183ms/step - loss: 0.9400 - acc: 0.7031\n",
      "Epoch 83/100\n",
      "2/2 [==============================] - 0s 188ms/step - loss: 0.9282 - acc: 0.7500\n",
      "Epoch 84/100\n",
      "2/2 [==============================] - ETA: 0s - loss: 0.9070 - acc: 0.781 - 0s 189ms/step - loss: 0.9980 - acc: 0.7031\n",
      "Epoch 85/100\n",
      "2/2 [==============================] - 0s 188ms/step - loss: 0.9953 - acc: 0.7969\n",
      "Epoch 86/100\n",
      "2/2 [==============================] - 0s 188ms/step - loss: 0.9110 - acc: 0.6562\n",
      "Epoch 87/100\n",
      "2/2 [==============================] - 0s 186ms/step - loss: 0.9066 - acc: 0.7500\n",
      "Epoch 88/100\n",
      "2/2 [==============================] - 0s 187ms/step - loss: 1.0032 - acc: 0.7344\n",
      "Epoch 89/100\n",
      "2/2 [==============================] - 0s 189ms/step - loss: 1.0297 - acc: 0.7031\n",
      "Epoch 90/100\n",
      "2/2 [==============================] - 0s 189ms/step - loss: 0.9068 - acc: 0.7500\n",
      "Epoch 91/100\n",
      "2/2 [==============================] - 0s 189ms/step - loss: 1.0082 - acc: 0.6875\n",
      "Epoch 92/100\n",
      "2/2 [==============================] - 0s 188ms/step - loss: 0.9792 - acc: 0.7500\n",
      "Epoch 93/100\n",
      "2/2 [==============================] - 0s 186ms/step - loss: 0.9996 - acc: 0.6406\n",
      "Epoch 94/100\n",
      "2/2 [==============================] - 0s 188ms/step - loss: 0.8707 - acc: 0.7031\n",
      "Epoch 95/100\n",
      "2/2 [==============================] - 0s 188ms/step - loss: 1.0324 - acc: 0.6875\n",
      "Epoch 96/100\n",
      "2/2 [==============================] - 0s 188ms/step - loss: 1.0084 - acc: 0.6719\n",
      "Epoch 97/100\n",
      "2/2 [==============================] - 0s 187ms/step - loss: 0.9126 - acc: 0.7656\n",
      "Epoch 98/100\n",
      "2/2 [==============================] - 0s 184ms/step - loss: 0.9012 - acc: 0.7656\n",
      "Epoch 99/100\n",
      "2/2 [==============================] - 0s 188ms/step - loss: 1.0150 - acc: 0.7031\n",
      "Epoch 100/100\n",
      "2/2 [==============================] - 0s 190ms/step - loss: 0.9977 - acc: 0.6875\n"
     ]
    }
   ],
   "source": [
    "history = model.fit( train_ds, epochs=100, steps_per_epoch=2)\n",
    "                     #validation_steps=2, validation_data=validation_ds)"
   ]
  },
  {
   "cell_type": "code",
   "execution_count": null,
   "metadata": {},
   "outputs": [],
   "source": []
  }
 ],
 "metadata": {
  "kernelspec": {
   "display_name": "Python 3",
   "language": "python",
   "name": "python3"
  },
  "language_info": {
   "codemirror_mode": {
    "name": "ipython",
    "version": 3
   },
   "file_extension": ".py",
   "mimetype": "text/x-python",
   "name": "python",
   "nbconvert_exporter": "python",
   "pygments_lexer": "ipython3",
   "version": "3.7.0"
  },
  "toc": {
   "base_numbering": 1,
   "nav_menu": {},
   "number_sections": true,
   "sideBar": true,
   "skip_h1_title": false,
   "title_cell": "Table of Contents",
   "title_sidebar": "Contents",
   "toc_cell": false,
   "toc_position": {},
   "toc_section_display": true,
   "toc_window_display": false
  }
 },
 "nbformat": 4,
 "nbformat_minor": 4
}
