{
 "cells": [
  {
   "cell_type": "code",
   "execution_count": 1,
   "metadata": {},
   "outputs": [
    {
     "name": "stderr",
     "output_type": "stream",
     "text": [
      "C:\\Users\\ICT01_19\\Anaconda3\\envs\\tf_test\\lib\\site-packages\\tensorflow\\python\\framework\\dtypes.py:516: FutureWarning: Passing (type, 1) or '1type' as a synonym of type is deprecated; in a future version of numpy, it will be understood as (type, (1,)) / '(1,)type'.\n",
      "  _np_qint8 = np.dtype([(\"qint8\", np.int8, 1)])\n",
      "C:\\Users\\ICT01_19\\Anaconda3\\envs\\tf_test\\lib\\site-packages\\tensorflow\\python\\framework\\dtypes.py:517: FutureWarning: Passing (type, 1) or '1type' as a synonym of type is deprecated; in a future version of numpy, it will be understood as (type, (1,)) / '(1,)type'.\n",
      "  _np_quint8 = np.dtype([(\"quint8\", np.uint8, 1)])\n",
      "C:\\Users\\ICT01_19\\Anaconda3\\envs\\tf_test\\lib\\site-packages\\tensorflow\\python\\framework\\dtypes.py:518: FutureWarning: Passing (type, 1) or '1type' as a synonym of type is deprecated; in a future version of numpy, it will be understood as (type, (1,)) / '(1,)type'.\n",
      "  _np_qint16 = np.dtype([(\"qint16\", np.int16, 1)])\n",
      "C:\\Users\\ICT01_19\\Anaconda3\\envs\\tf_test\\lib\\site-packages\\tensorflow\\python\\framework\\dtypes.py:519: FutureWarning: Passing (type, 1) or '1type' as a synonym of type is deprecated; in a future version of numpy, it will be understood as (type, (1,)) / '(1,)type'.\n",
      "  _np_quint16 = np.dtype([(\"quint16\", np.uint16, 1)])\n",
      "C:\\Users\\ICT01_19\\Anaconda3\\envs\\tf_test\\lib\\site-packages\\tensorflow\\python\\framework\\dtypes.py:520: FutureWarning: Passing (type, 1) or '1type' as a synonym of type is deprecated; in a future version of numpy, it will be understood as (type, (1,)) / '(1,)type'.\n",
      "  _np_qint32 = np.dtype([(\"qint32\", np.int32, 1)])\n",
      "C:\\Users\\ICT01_19\\Anaconda3\\envs\\tf_test\\lib\\site-packages\\tensorflow\\python\\framework\\dtypes.py:525: FutureWarning: Passing (type, 1) or '1type' as a synonym of type is deprecated; in a future version of numpy, it will be understood as (type, (1,)) / '(1,)type'.\n",
      "  np_resource = np.dtype([(\"resource\", np.ubyte, 1)])\n"
     ]
    },
    {
     "name": "stdout",
     "output_type": "stream",
     "text": [
      "1.14.0\n"
     ]
    },
    {
     "name": "stderr",
     "output_type": "stream",
     "text": [
      "C:\\Users\\ICT01_19\\Anaconda3\\envs\\tf_test\\lib\\site-packages\\tensorboard\\compat\\tensorflow_stub\\dtypes.py:541: FutureWarning: Passing (type, 1) or '1type' as a synonym of type is deprecated; in a future version of numpy, it will be understood as (type, (1,)) / '(1,)type'.\n",
      "  _np_qint8 = np.dtype([(\"qint8\", np.int8, 1)])\n",
      "C:\\Users\\ICT01_19\\Anaconda3\\envs\\tf_test\\lib\\site-packages\\tensorboard\\compat\\tensorflow_stub\\dtypes.py:542: FutureWarning: Passing (type, 1) or '1type' as a synonym of type is deprecated; in a future version of numpy, it will be understood as (type, (1,)) / '(1,)type'.\n",
      "  _np_quint8 = np.dtype([(\"quint8\", np.uint8, 1)])\n",
      "C:\\Users\\ICT01_19\\Anaconda3\\envs\\tf_test\\lib\\site-packages\\tensorboard\\compat\\tensorflow_stub\\dtypes.py:543: FutureWarning: Passing (type, 1) or '1type' as a synonym of type is deprecated; in a future version of numpy, it will be understood as (type, (1,)) / '(1,)type'.\n",
      "  _np_qint16 = np.dtype([(\"qint16\", np.int16, 1)])\n",
      "C:\\Users\\ICT01_19\\Anaconda3\\envs\\tf_test\\lib\\site-packages\\tensorboard\\compat\\tensorflow_stub\\dtypes.py:544: FutureWarning: Passing (type, 1) or '1type' as a synonym of type is deprecated; in a future version of numpy, it will be understood as (type, (1,)) / '(1,)type'.\n",
      "  _np_quint16 = np.dtype([(\"quint16\", np.uint16, 1)])\n",
      "C:\\Users\\ICT01_19\\Anaconda3\\envs\\tf_test\\lib\\site-packages\\tensorboard\\compat\\tensorflow_stub\\dtypes.py:545: FutureWarning: Passing (type, 1) or '1type' as a synonym of type is deprecated; in a future version of numpy, it will be understood as (type, (1,)) / '(1,)type'.\n",
      "  _np_qint32 = np.dtype([(\"qint32\", np.int32, 1)])\n",
      "C:\\Users\\ICT01_19\\Anaconda3\\envs\\tf_test\\lib\\site-packages\\tensorboard\\compat\\tensorflow_stub\\dtypes.py:550: FutureWarning: Passing (type, 1) or '1type' as a synonym of type is deprecated; in a future version of numpy, it will be understood as (type, (1,)) / '(1,)type'.\n",
      "  np_resource = np.dtype([(\"resource\", np.ubyte, 1)])\n"
     ]
    }
   ],
   "source": [
    "import tensorflow as tf\n",
    "print(tf.__version__)"
   ]
  },
  {
   "cell_type": "code",
   "execution_count": 2,
   "metadata": {},
   "outputs": [
    {
     "name": "stdout",
     "output_type": "stream",
     "text": [
      "b'Hello, TensorFlow!'\n",
      "Tensor(\"Const:0\", shape=(), dtype=string)\n"
     ]
    }
   ],
   "source": [
    "# 데이터 타입\n",
    "import tensorflow as tf\n",
    "hello = tf.constant(\"Hello, TensorFlow!\")\n",
    "\n",
    "# 텐서플로\n",
    "# constant, variables, placeholder\n",
    "\n",
    "sess = tf.Session()\n",
    "print(hello) # 텐서플로의 데이터는 직접 확인이 불가\n",
    "print(sess.run(hello)) # numpy 데이터로 변경하여 출력\n"
   ]
  },
  {
   "cell_type": "code",
   "execution_count": 5,
   "metadata": {},
   "outputs": [
    {
     "name": "stdout",
     "output_type": "stream",
     "text": [
      "<tf.Variable 'y:0' shape=() dtype=int32_ref>\n"
     ]
    }
   ],
   "source": [
    "# variables\n",
    "x = tf.constant(35, name='x') # 변수에 이름을 따로 또 주는 이유는???\n",
    "                                # - 모델의 그래프 구조 확인을 위해\n",
    "                                # - 모델을 그대로 저장(가중치)할 때 메모리 위치를 확인하기 위해\n",
    "                                # 메모리에 저장된 가중치 위치를 알 수 없기 때문 운영체제가 계속 지맘대로 바꾸니까\n",
    "y = tf.Variable(x + 5, name='y') # 변수가 있는 경우 : 반드시 초기화 해줘야한다.\n",
    "print(y)"
   ]
  },
  {
   "cell_type": "code",
   "execution_count": 6,
   "metadata": {},
   "outputs": [
    {
     "name": "stdout",
     "output_type": "stream",
     "text": [
      "40\n"
     ]
    }
   ],
   "source": [
    "# variables 초기화 하는 법\n",
    "model = tf.global_variables_initializer() # 변수 초기화\n",
    "\n",
    "with tf.Session() as session:\n",
    "    session.run(model)\n",
    "    print(session.run(y))"
   ]
  },
  {
   "cell_type": "code",
   "execution_count": 7,
   "metadata": {},
   "outputs": [
    {
     "name": "stdout",
     "output_type": "stream",
     "text": [
      "[5 7 9]\n"
     ]
    }
   ],
   "source": [
    "# 판다스에서 데이터 초기화를 리스트, 딕셔너리에 했.\n",
    "a = tf.constant([1,2,3], name='a') # GPU공간에 만든다.\n",
    "b = tf.constant([4,5,6], name='b')\n",
    "add_op = a + b\n",
    "\n",
    "with tf.Session() as session: # 요소끼리 계산(배열연산)\n",
    "    print(session.run(add_op))"
   ]
  },
  {
   "cell_type": "code",
   "execution_count": 8,
   "metadata": {},
   "outputs": [],
   "source": [
    "# 주입변수\n",
    "# 자료구조가 그래프로 구성되어진다\n",
    "# add, mul이 계산되어야 total이 계산될 수 있다.\n",
    "a = tf.placeholder(tf.int16)\n",
    "b = tf.placeholder(tf.int16)\n",
    "add = tf.add(a,b)\n",
    "mul = tf.multiply(a,b)\n",
    "total = tf.multiply(add, mul)"
   ]
  },
  {
   "cell_type": "code",
   "execution_count": 10,
   "metadata": {},
   "outputs": [
    {
     "name": "stdout",
     "output_type": "stream",
     "text": [
      "fedd 변수곱 : 30\n"
     ]
    }
   ],
   "source": [
    "with tf.Session() as sess: # with구문 내부의 명령어가 끝나면 자동으로 세션이 종료됨.\n",
    "    print(\"feed 변수합 : %i\" % sess.run(add, feed_dict={a:2,b:3} ) )# 데이터 주입 호출\n",
    "    print(\"feed 변수곱 : %i\" % sess.run(mul, feed_dict={a:2,b:3} ) )\n",
    "    print(\"fedd 변수곱 : %i\" % sess.run(total, feed_dict={a:2, b:3} ) )"
   ]
  },
  {
   "cell_type": "code",
   "execution_count": null,
   "metadata": {},
   "outputs": [],
   "source": []
  },
  {
   "cell_type": "code",
   "execution_count": 11,
   "metadata": {},
   "outputs": [
    {
     "name": "stdout",
     "output_type": "stream",
     "text": [
      "[[12.]]\n"
     ]
    }
   ],
   "source": [
    "matrix1 = tf.constant([[3., 3.]])\n",
    "matrix2 = tf.constant([[2.], [2.]])\n",
    "product = tf.matmul(matrix1, matrix2) # matrix multiply\n",
    "# 세션 런 하기 전까진 명시적이다.\n",
    "\n",
    "with tf.Session() as sess: # 실행부..\n",
    "    result = sess.run(product)\n",
    "    print(result)"
   ]
  },
  {
   "cell_type": "code",
   "execution_count": 12,
   "metadata": {},
   "outputs": [],
   "source": [
    "zeros = tf.zeros([2,2]) # 0\n",
    "ones = tf.ones([6])     # 1\n",
    "\n",
    "#균등분포\n",
    "uniform = tf.random_uniform([3,3,3], minval=0.0, maxval=10) \n",
    "# 정규분포\n",
    "normal = tf.random_normal([3,3,3], mean=0.0, stddev=2.0)\n",
    "# truncated normal : 표준편차 2배수 내의 것으로 초기화\n",
    "trunc = tf.truncated_normal([2,2], mean=5.0, stddev=1.0)\n",
    "random_var = tf.Variable( tf.truncated_normal([2,2]) )"
   ]
  },
  {
   "cell_type": "code",
   "execution_count": 18,
   "metadata": {},
   "outputs": [
    {
     "name": "stdout",
     "output_type": "stream",
     "text": [
      "[[3.5017588 3.7734756]\n",
      " [5.556643  5.9936023]]\n",
      "변수초기화\n",
      " [[ 0.18507695 -0.04429251]\n",
      " [-0.3965657  -0.64081055]]\n"
     ]
    }
   ],
   "source": [
    "init = tf.global_variables_initializer()\n",
    "sess = tf.Session()\n",
    "sess.run(init)\n",
    "print(sess.run(trunc))\n",
    "print(\"변수초기화\\n\", sess.run(random_var))"
   ]
  },
  {
   "cell_type": "code",
   "execution_count": 20,
   "metadata": {},
   "outputs": [
    {
     "name": "stdout",
     "output_type": "stream",
     "text": [
      "<class 'tensorflow.python.framework.tensor_shape.TensorShape'>\n",
      "(6, 2)\n",
      "(2, 6)\n"
     ]
    }
   ],
   "source": [
    "import tensorflow as tf\n",
    "my_tensor = tf.constant(0, shape=[6,2]) # 6x2행렬\n",
    "my_static_shape = my_tensor.get_shape()\n",
    "print(type(my_static_shape))\n",
    "print(my_static_shape)\n",
    "# 내용은 run으로, 차수는 get_shape 함수로 확인\n",
    "\n",
    "# 전치해보자\n",
    "my_tensor_transposed = tf.transpose(my_tensor)\n",
    "print(my_tensor_transposed.get_shape())"
   ]
  },
  {
   "cell_type": "code",
   "execution_count": 21,
   "metadata": {},
   "outputs": [
    {
     "name": "stdout",
     "output_type": "stream",
     "text": [
      "[0. 0.]\n"
     ]
    }
   ],
   "source": [
    "# 대화형 세션 : \n",
    "import tensorflow as tf\n",
    "tf.InteractiveSession() # 대화형 세션\n",
    "tf.zeros(2)\n",
    "a = tf.zeros(2)\n",
    "print(a.eval()) # 대화형 세션인 경우 run하지 않아도 볼수"
   ]
  },
  {
   "cell_type": "code",
   "execution_count": 23,
   "metadata": {},
   "outputs": [],
   "source": [
    "\n",
    "def showvalue(t):\n",
    "    sess = tf.InteractiveSession()\n",
    "    tf.global_variables_initializer().run() # chaining\n",
    "    print(t.eval())\n",
    "    sess.close()"
   ]
  },
  {
   "cell_type": "code",
   "execution_count": 24,
   "metadata": {},
   "outputs": [
    {
     "name": "stdout",
     "output_type": "stream",
     "text": [
      "[ 3.5 10.1]\n",
      "[-8  5 17]\n"
     ]
    },
    {
     "name": "stderr",
     "output_type": "stream",
     "text": [
      "C:\\Users\\ICT01_19\\Anaconda3\\envs\\tf_test\\lib\\site-packages\\tensorflow\\python\\client\\session.py:1735: UserWarning: An interactive session is already active. This can cause out-of-memory errors in some cases. You must explicitly call `InteractiveSession.close()` to release resources held by the other session(s).\n",
      "  warnings.warn('An interactive session is already active. This can '\n"
     ]
    }
   ],
   "source": [
    "c2, c3 = tf.constant([1.2, 5.6]), tf.constant([-4, -1, 7])\n",
    "v2, v3 = tf.Variable([2.3, 4.5]), tf.Variable([-2, 3, 5])\n",
    "showvalue(tf.add_n([c2, v2]))\n",
    "showvalue(tf.add_n([c3, v3, v3])) # add_n ?: 여러개의 합이 가능 "
   ]
  },
  {
   "cell_type": "code",
   "execution_count": null,
   "metadata": {},
   "outputs": [],
   "source": [
    "# 2x +  y +  z  = 1\n",
    "# 4x + 3y + 4z  = 2\n",
    "# -4x+ 2y + 2z  = -6\n",
    "\n",
    "#  A dot x = [1 , 2, -6 ]\n",
    "#        y\n",
    "#        z\n",
    "\n",
    "# 3x3  3x1  =>  3x1\n",
    "\n",
    "# x   구하려면?   A의 역행렬을 곱해야\n",
    "# y\n",
    "# z"
   ]
  },
  {
   "cell_type": "code",
   "execution_count": 25,
   "metadata": {},
   "outputs": [
    {
     "name": "stdout",
     "output_type": "stream",
     "text": [
      "[[ 2.  1.  1.]\n",
      " [ 4.  3.  4.]\n",
      " [-4.  2.  2.]]\n",
      "[[ 1.]\n",
      " [ 2.]\n",
      " [-6.]]\n"
     ]
    }
   ],
   "source": [
    "sess=tf.Session()\n",
    "x = tf.constant([2.0, 1.0, 1.0,\n",
    "                 4, 3, 4,\n",
    "                 -4, 2, 2], shape=[3, 3])\n",
    "print(sess.run(x))\n",
    "\n",
    "y = tf.constant([1.0, 2, -6], shape=[3, 1])\n",
    "print(sess.run(y))"
   ]
  },
  {
   "cell_type": "code",
   "execution_count": 27,
   "metadata": {},
   "outputs": [
    {
     "name": "stdout",
     "output_type": "stream",
     "text": [
      "계수 :  [[ 1.0000001]\n",
      " [-2.0000002]\n",
      " [ 1.0000001]] \n",
      "\n",
      "[[ 1.0000001]\n",
      " [-2.0000002]\n",
      " [ 1.0000001]]\n"
     ]
    }
   ],
   "source": [
    "z = tf.matrix_solve(x,y) # param1의 역행렬과 param2를 곱한 값; 다차방정식의 해\n",
    "result = sess.run(z)\n",
    "print(\"계수 : \", result,\"\\n\")\n",
    "print(sess.run(z))"
   ]
  },
  {
   "cell_type": "code",
   "execution_count": 29,
   "metadata": {},
   "outputs": [
    {
     "name": "stdout",
     "output_type": "stream",
     "text": [
      "[1.0000001]\n",
      "[[ 1.0000001]\n",
      " [ 2.       ]\n",
      " [-6.000001 ]]\n"
     ]
    }
   ],
   "source": [
    "print(2.0*result[0] + 1.0*result[1] + 1.0*result[2])\n",
    "print(sess.run(tf.matmul(x, z)))"
   ]
  },
  {
   "cell_type": "code",
   "execution_count": 31,
   "metadata": {},
   "outputs": [
    {
     "name": "stdout",
     "output_type": "stream",
     "text": [
      "해\n",
      " [[ 1.0000002]\n",
      " [-2.0000005]\n",
      " [ 1.0000002]]\n"
     ]
    }
   ],
   "source": [
    "x_1 = tf.matrix_inverse(x)\n",
    "z = tf.matmul(x_1, y)\n",
    "print(\"해\\n\", sess.run(z))"
   ]
  },
  {
   "cell_type": "code",
   "execution_count": null,
   "metadata": {},
   "outputs": [],
   "source": []
  },
  {
   "cell_type": "code",
   "execution_count": 35,
   "metadata": {},
   "outputs": [
    {
     "name": "stdout",
     "output_type": "stream",
     "text": [
      "[9.508034   0.77286935] \n",
      "\n",
      "[[-0.38631773 -0.92236584]\n",
      " [-0.92236584  0.38631773]] \n",
      "\n",
      "[[-0.42866713  0.8059641 ]\n",
      " [-0.56630695  0.1123824 ]\n",
      " [-0.70394677 -0.58119917]] \n",
      "\n"
     ]
    }
   ],
   "source": [
    "# 특이행렬분해 (singular value decomposition) : 행렬이 다를 때 활용\n",
    "\n",
    "# PCA 할 때 : 고유값 분해 eigen value + eigen vector : 정방행렬인 경우에만 고유값 분해 가능.\n",
    "# 근데 하기 는 정방행렬이 아님\n",
    "# 정방행렬이 아닌 경우에는 특이행렬분해로\n",
    "a = tf.constant([1,2,3,4,5,6], shape=[2,3])\n",
    "a = tf.to_float(a)\n",
    "u, s, v = tf.svd(a)\n",
    "# 행과 열의 특징을 별도로 뽑음\n",
    "\n",
    "print(sess.run(u),\"\\n\") # left singular value 1x2\n",
    "print(sess.run(s),\"\\n\") # singular value 2x2\n",
    "print(sess.run(v),\"\\n\") # right singular value 3x2"
   ]
  },
  {
   "cell_type": "code",
   "execution_count": 36,
   "metadata": {},
   "outputs": [
    {
     "name": "stdout",
     "output_type": "stream",
     "text": [
      "[[1 0 0 0]\n",
      " [0 2 0 0]\n",
      " [0 0 3 0]\n",
      " [0 0 0 4]]\n"
     ]
    }
   ],
   "source": [
    "# 대각행렬\n",
    "diagonal = [1,2,3,4]\n",
    "dia = tf.diag(diagonal) # 대각행렬은 one hot encoding할때 많이 사용됨\n",
    "print(sess.run(dia))"
   ]
  },
  {
   "cell_type": "code",
   "execution_count": 37,
   "metadata": {},
   "outputs": [
    {
     "name": "stdout",
     "output_type": "stream",
     "text": [
      "[1 2 3 4]\n",
      "10\n"
     ]
    }
   ],
   "source": [
    "print(sess.run(tf.diag_part(dia)))\n",
    "print(sess.run(tf.trace(dia))) # 대각선 요소를 다 더해줌"
   ]
  },
  {
   "cell_type": "code",
   "execution_count": 40,
   "metadata": {},
   "outputs": [
    {
     "data": {
      "text/plain": [
       "array([[ 58,  64],\n",
       "       [139, 154]])"
      ]
     },
     "execution_count": 40,
     "metadata": {},
     "output_type": "execute_result"
    }
   ],
   "source": [
    "import numpy as np\n",
    "a = tf.constant([1,2,3,4,5,6], shape=[2,3])\n",
    "b = tf.constant([7,8,9,10,11,12], shape=[3,2])\n",
    "c = tf.matmul(a, b)\n",
    "sess.run(c)"
   ]
  },
  {
   "cell_type": "code",
   "execution_count": 41,
   "metadata": {},
   "outputs": [
    {
     "name": "stdout",
     "output_type": "stream",
     "text": [
      "[[[ 1  2  3]\n",
      "  [ 4  5  6]]\n",
      "\n",
      " [[ 7  8  9]\n",
      "  [10 11 12]]]\n",
      "[[[13 14]\n",
      "  [15 16]\n",
      "  [17 18]]\n",
      "\n",
      " [[19 20]\n",
      "  [21 22]\n",
      "  [23 24]]]\n"
     ]
    },
    {
     "data": {
      "text/plain": [
       "array([[[ 94, 100],\n",
       "        [229, 244]],\n",
       "\n",
       "       [[508, 532],\n",
       "        [697, 730]]])"
      ]
     },
     "execution_count": 41,
     "metadata": {},
     "output_type": "execute_result"
    }
   ],
   "source": [
    "# 행렬 : 맨 뒤의 행과 열을 확인하고\n",
    "# 앞의 개수는 어떻게 층을 이루고 있는지에 대한 것\n",
    "\n",
    "a = tf.constant(np.arange(1,13,dtype=np.int32), shape=[2,2,3]) # 행렬을 중심으로 데이터 표현\n",
    "print(sess.run(a))\n",
    "\n",
    "b= tf.constant(np.arange(13,25,dtype=np.int32), shape=[2,3,2])\n",
    "print(sess.run(b))\n",
    "\n",
    "c = tf.matmul(a,b)\n",
    "sess.run(c)"
   ]
  },
  {
   "cell_type": "code",
   "execution_count": 42,
   "metadata": {},
   "outputs": [
    {
     "name": "stdout",
     "output_type": "stream",
     "text": [
      "[[[[ 1  2  3]\n",
      "   [ 4  5  6]]\n",
      "\n",
      "  [[ 7  8  9]\n",
      "   [10 11 12]]]\n",
      "\n",
      "\n",
      " [[[13 14 15]\n",
      "   [16 17 18]]\n",
      "\n",
      "  [[19 20 21]\n",
      "   [22 23 24]]]]\n",
      "[[[[25 26]\n",
      "   [27 28]\n",
      "   [29 30]]\n",
      "\n",
      "  [[31 32]\n",
      "   [33 34]\n",
      "   [35 36]]]\n",
      "\n",
      "\n",
      " [[[37 38]\n",
      "   [39 40]\n",
      "   [41 42]]\n",
      "\n",
      "  [[43 44]\n",
      "   [45 46]\n",
      "   [47 48]]]]\n"
     ]
    },
    {
     "data": {
      "text/plain": [
       "array([[[[ 166,  172],\n",
       "         [ 409,  424]],\n",
       "\n",
       "        [[ 796,  820],\n",
       "         [1093, 1126]]],\n",
       "\n",
       "\n",
       "       [[[1642, 1684],\n",
       "         [1993, 2044]],\n",
       "\n",
       "        [[2704, 2764],\n",
       "         [3109, 3178]]]])"
      ]
     },
     "execution_count": 42,
     "metadata": {},
     "output_type": "execute_result"
    }
   ],
   "source": [
    "# 행렬 : 맨 뒤의 행과 열을 확인하고\n",
    "# 앞의 개수는 어떻게 층을 이루고 있는지에 대한 것\n",
    "\n",
    "a = tf.constant(np.arange(1,25,dtype=np.int32), shape=[2, 2,2,3]) # 행렬을 중심으로 데이터 표현\n",
    "print(sess.run(a))\n",
    "\n",
    "b= tf.constant(np.arange(25,49,dtype=np.int32), shape=[2, 2,3,2])\n",
    "print(sess.run(b))\n",
    "\n",
    "c = tf.matmul(a,b)\n",
    "sess.run(c)"
   ]
  },
  {
   "cell_type": "code",
   "execution_count": 44,
   "metadata": {},
   "outputs": [
    {
     "name": "stdout",
     "output_type": "stream",
     "text": [
      "[[[[  14   32]\n",
      "   [  32   77]]\n",
      "\n",
      "  [[ 194  266]\n",
      "   [ 266  365]]]\n",
      "\n",
      "\n",
      " [[[ 590  716]\n",
      "   [ 716  869]]\n",
      "\n",
      "  [[1202 1382]\n",
      "   [1382 1589]]]]\n"
     ]
    },
    {
     "data": {
      "text/plain": [
       "<tf.Tensor 'MatMul_9:0' shape=(2, 2, 2, 2) dtype=int32>"
      ]
     },
     "execution_count": 44,
     "metadata": {},
     "output_type": "execute_result"
    }
   ],
   "source": [
    "# a를 제곱한다면? 자기자신을 제곱하려면 전치해야\n",
    "# 다차행렬의 전치도 맨 뒤의 행렬만 신경써주면 됨. 맨뒤에 행렮만 전환하면 됨\n",
    "\n",
    "d = tf.matmul(a, tf.transpose(a, perm=[0,1,3,2]))\n",
    "print(sess.run(d))\n",
    "tf.matmul(a,a,transpose_b=True)#전치해서 자기 제곱"
   ]
  },
  {
   "cell_type": "code",
   "execution_count": 47,
   "metadata": {},
   "outputs": [
    {
     "name": "stdout",
     "output_type": "stream",
     "text": [
      "[2 2 3]\n"
     ]
    },
    {
     "data": {
      "text/plain": [
       "array([[[ 1,  7],\n",
       "        [ 2,  8],\n",
       "        [ 3,  9]],\n",
       "\n",
       "       [[ 4, 10],\n",
       "        [ 5, 11],\n",
       "        [ 6, 12]]])"
      ]
     },
     "execution_count": 47,
     "metadata": {},
     "output_type": "execute_result"
    }
   ],
   "source": [
    "\n",
    "                            # 0   1   2\n",
    "x = tf.constant([[[1, 2, 3],# 2 x 2 x 3    =>  제곱이 되려면 2x3x2 (0, 2, 1)\n",
    "                 [4, 5, 6]],\n",
    "                [[7, 8, 9],\n",
    "                 [10, 11, 12]]])\n",
    "print(sess.run(tf.shape(x)))\n",
    "sess.run(tf.transpose(x)) # 3 x 2 x 2    # 디폴트 2 1 0\n",
    "\n",
    "# 그래서\n",
    "y = tf.transpose(x, perm=[0,2,1])\n",
    "sess.run(tf.transpose(y))"
   ]
  },
  {
   "cell_type": "code",
   "execution_count": 48,
   "metadata": {},
   "outputs": [
    {
     "data": {
      "text/plain": [
       "array([[[ 14,  32],\n",
       "        [ 32,  77]],\n",
       "\n",
       "       [[194, 266],\n",
       "        [266, 365]]])"
      ]
     },
     "execution_count": 48,
     "metadata": {},
     "output_type": "execute_result"
    }
   ],
   "source": [
    "sess.run(tf.matmul(x, tf.transpose(x, perm=[0,2,1])))"
   ]
  },
  {
   "cell_type": "code",
   "execution_count": 51,
   "metadata": {},
   "outputs": [
    {
     "data": {
      "text/plain": [
       "array([[[[[[1]],\n",
       "\n",
       "          [[2]],\n",
       "\n",
       "          [[3]]]],\n",
       "\n",
       "\n",
       "\n",
       "        [[[[4]],\n",
       "\n",
       "          [[5]],\n",
       "\n",
       "          [[6]]]]]])"
      ]
     },
     "execution_count": 51,
     "metadata": {},
     "output_type": "execute_result"
    }
   ],
   "source": [
    "# 주어진 리스트로 6차원행렬을 만들어보자\n",
    "t = [1,2,3,4,5,6]\n",
    "\n",
    "t = tf.reshape(t, [1,2,1,3,1,1])\n",
    "sess.run(t)"
   ]
  },
  {
   "cell_type": "code",
   "execution_count": 52,
   "metadata": {},
   "outputs": [
    {
     "name": "stdout",
     "output_type": "stream",
     "text": [
      "t의 차원은  [1 2 1 3 1 1]\n"
     ]
    }
   ],
   "source": [
    "print(\"t의 차원은 \", sess.run(tf.shape(t)))"
   ]
  },
  {
   "cell_type": "code",
   "execution_count": 53,
   "metadata": {},
   "outputs": [
    {
     "name": "stdout",
     "output_type": "stream",
     "text": [
      "차원의 수를 축소할 때  [2 3]\n"
     ]
    }
   ],
   "source": [
    "print(\"차원의 수를 축소할 때 \", sess.run(tf.shape(tf.squeeze(t))))\n",
    "# squeeze : 요소가 하나로 이루어진 차원을 다 없애"
   ]
  },
  {
   "cell_type": "code",
   "execution_count": 54,
   "metadata": {},
   "outputs": [
    {
     "name": "stdout",
     "output_type": "stream",
     "text": [
      "[[ 1  2  3  4  5  6]\n",
      " [ 7  8  9 10 11 12]]\n",
      "[[[ 1  2  3]\n",
      "  [ 4  5  6]]\n",
      "\n",
      " [[ 7  8  9]\n",
      "  [10 11 12]]]\n"
     ]
    }
   ],
   "source": [
    "tensor = [1,2,3,4,5,6,7,8,9,10,11,12]\n",
    "\n",
    "# -1 : 계산해서 채워라\n",
    "print( sess.run( tf.reshape( tensor, [2,-1]) ) )\n",
    "tf.reshape(tensor, [-1, 6])\n",
    "print( sess.run( tf.reshape( tensor, [2, -1, 3]) ) )"
   ]
  },
  {
   "cell_type": "code",
   "execution_count": 55,
   "metadata": {},
   "outputs": [
    {
     "name": "stdout",
     "output_type": "stream",
     "text": [
      "Tensor(\"ExpandDims:0\", shape=(1, 1, 2, 1, 3, 1, 1), dtype=int32)\n"
     ]
    }
   ],
   "source": [
    "# 차원 확대\n",
    "print( tf.expand_dims(t, 0) )\n",
    "\n",
    "# 차원 확대 축소 하는 이유 : 행렬곱연산때문"
   ]
  },
  {
   "cell_type": "code",
   "execution_count": 56,
   "metadata": {},
   "outputs": [
    {
     "name": "stdout",
     "output_type": "stream",
     "text": [
      "[[0 0 0 0 0 0 0]\n",
      " [0 0 1 2 3 0 0]\n",
      " [0 0 4 5 6 0 0]\n",
      " [0 0 0 0 0 0 0]]\n"
     ]
    }
   ],
   "source": [
    "# 패딩\n",
    "t = [[1,2,3], [4,5,6]] # 2x3 => 4x7\n",
    "paddings = [[1,1], [2,2]] # 상 하 좌 우\n",
    "print(sess.run(tf.pad(t, paddings , \"CONSTANT\")))"
   ]
  },
  {
   "cell_type": "code",
   "execution_count": 58,
   "metadata": {},
   "outputs": [
    {
     "name": "stdout",
     "output_type": "stream",
     "text": [
      "[[5 4 5 6 5]\n",
      " [2 1 2 3 2]\n",
      " [5 4 5 6 5]\n",
      " [2 1 2 3 2]]\n"
     ]
    }
   ],
   "source": [
    "paddings = [[1,1], [1,1]] # 4x5\n",
    "print(sess.run(tf.pad(t, paddings, \"REFLECT\") ))"
   ]
  },
  {
   "cell_type": "code",
   "execution_count": 59,
   "metadata": {},
   "outputs": [
    {
     "name": "stdout",
     "output_type": "stream",
     "text": [
      "[[1 1 2 3 3]\n",
      " [1 1 2 3 3]\n",
      " [4 4 5 6 6]\n",
      " [4 4 5 6 6]]\n"
     ]
    }
   ],
   "source": [
    "print(sess.run(tf.pad(t, paddings, \"SYMMETRIC\")))"
   ]
  },
  {
   "cell_type": "code",
   "execution_count": null,
   "metadata": {},
   "outputs": [],
   "source": []
  },
  {
   "cell_type": "code",
   "execution_count": null,
   "metadata": {},
   "outputs": [],
   "source": [
    "# 다차 방정식의 해 구하는 법\n",
    "- 무작위 대입법\n",
    "- 역행렬을 구함\n",
    "\n",
    "- 입출력데이터만 있 : 계수를 결정해야(가중치 학습을 통해서 학습시켜)"
   ]
  },
  {
   "cell_type": "code",
   "execution_count": 77,
   "metadata": {},
   "outputs": [
    {
     "data": {
      "text/plain": [
       "100"
      ]
     },
     "execution_count": 77,
     "metadata": {},
     "output_type": "execute_result"
    }
   ],
   "source": [
    "# 데이터로부터 규칙을 찾 -> 예측과 분류를 하기 위해\n",
    "\n",
    "\n",
    "import numpy as np\n",
    "import tensorflow as tf\n",
    "\n",
    "# 데이터 생성  => minibatch로 만들어 feeding 해줘야. feeding은 반복문으로\n",
    "\n",
    "x_data = np.random.rand(100).astype(np.float32)\n",
    "y_data = x_data * 0.1 + 0.3 # 이거 없다고 생각하고 봐\n",
    "len(y_data)"
   ]
  },
  {
   "cell_type": "code",
   "execution_count": 89,
   "metadata": {},
   "outputs": [],
   "source": [
    "# 가중치와 바이어스로 수식 만들기\n",
    "# 가중치 : 설명력\n",
    "# 바이어스는 activation(활성계수)\n",
    "# 가중치에는 반드시 바이어스가 하나씩 결합\n",
    "\n",
    "# W = tf.Variable(tf.random_uniform([1], -1.0, 1.0)) # 균등분포로 초기화\n",
    "# b = tf.Variable(tf.zeros([1])) # 바이어스\n",
    "# sess = tf.Session()\n",
    "# y = W * x_data + b # 예측\n",
    "\n",
    "##################################\n",
    "# 데이터 바로 쓰지말고, 주입변수로 써보자\n",
    "x = tf.placeholder(tf.float32, name='x')\n",
    "y = tf.placeholder(tf.float32)\n",
    "\n",
    "W = tf.Variable(tf.random_uniform([1], -1.0, 1.0)) # 균등분포로 초기화\n",
    "b = tf.Variable(tf.zeros([1])) # 바이어스\n",
    "sess = tf.Session()\n",
    "\n",
    "y_model = W * x + b\n",
    "###############################"
   ]
  },
  {
   "cell_type": "code",
   "execution_count": 90,
   "metadata": {},
   "outputs": [],
   "source": [
    "# loss function : mse : 2차원인 경우 포물선을 이루고 최적점은 한개\n",
    "# (예측치 - 실제값)^2  하나의 값으로 만들어 평균\n",
    "# loss = tf.reduce_mean(tf.square(y - y_data))\n",
    "loss = tf.reduce_mean(tf.square(y_model - y))\n",
    "\n",
    "\n",
    "# 경사하강법\n",
    "# 기울기 : 미분을 이용해서 -면 가중치에 차를더해주고\n",
    "#                           +면 가중치에 감산해주고\n",
    "optimizer = tf.train.GradientDescentOptimizer(0.5) # 학습율\n",
    "train = optimizer.minimize(loss) # "
   ]
  },
  {
   "cell_type": "code",
   "execution_count": 91,
   "metadata": {},
   "outputs": [],
   "source": [
    "init = tf.global_variables_initializer() # 세션 run하기 전에만 초기화하면 됨.\n",
    "sess.run(init)"
   ]
  },
  {
   "cell_type": "code",
   "execution_count": 92,
   "metadata": {},
   "outputs": [
    {
     "name": "stdout",
     "output_type": "stream",
     "text": [
      "0 [0.655727] [0.00622187]\n",
      "20 [0.22511928] [0.23479721]\n",
      "40 [0.12808354] [0.285365]\n",
      "60 [0.10630346] [0.2967151]\n",
      "80 [0.10141484] [0.2992627]\n",
      "100 [0.10031758] [0.29983452]\n",
      "120 [0.1000713] [0.29996285]\n",
      "140 [0.10001601] [0.29999167]\n",
      "160 [0.10000359] [0.29999813]\n",
      "180 [0.10000082] [0.2999996]\n",
      "200 [0.10000017] [0.29999992]\n"
     ]
    }
   ],
   "source": [
    "# for step in range(201):\n",
    "#     sess.run(train)\n",
    "#     if step % 20 == 0:\n",
    "#         print(step, sess.run(W), sess.run(b)) # 0.1과 0.3으로 수렴\n",
    "\n",
    "        \n",
    "for step in range(201):\n",
    "    sess.run(train, {x : x_data, y : y_data} )\n",
    "    if step % 20 == 0:\n",
    "        print(step, sess.run(W), sess.run(b)) # 0.1과 0.3으로 수렴\n",
    "\n",
    "\n",
    "# data\n",
    "# predict\n",
    "# loss func\n",
    "# optimizer 순으로.."
   ]
  },
  {
   "cell_type": "code",
   "execution_count": 93,
   "metadata": {},
   "outputs": [],
   "source": [
    "predicted = sess.run( y_model, {x:[i for i in range(100)]})"
   ]
  },
  {
   "cell_type": "code",
   "execution_count": 94,
   "metadata": {},
   "outputs": [
    {
     "data": {
      "image/png": "[encoded data removed]",
      "text/plain": [
       "<Figure size 432x288 with 1 Axes>"
      ]
     },
     "metadata": {
      "needs_background": "light"
     },
     "output_type": "display_data"
    }
   ],
   "source": [
    "%matplotlib inline\n",
    "import matplotlib.pyplot as plt\n",
    "plt.plot(x_data, y_data, 'o', markersize=2)\n",
    "plt.plot(predicted, 'r')\n",
    "plt.show()"
   ]
  },
  {
   "cell_type": "code",
   "execution_count": null,
   "metadata": {},
   "outputs": [],
   "source": []
  },
  {
   "cell_type": "code",
   "execution_count": 95,
   "metadata": {},
   "outputs": [],
   "source": [
    "from tensorflow.python.framework import ops\n",
    "import os\n",
    "ops.reset_default_graph()"
   ]
  },
  {
   "cell_type": "code",
   "execution_count": 96,
   "metadata": {},
   "outputs": [
    {
     "name": "stdout",
     "output_type": "stream",
     "text": [
      "[1. 3. 5. 7. 9.]\n",
      "[ 3.  9. 15. 21. 27.]\n",
      "[ 5. 15. 25. 35. 45.]\n",
      "[ 7. 21. 35. 49. 63.]\n",
      "[ 9. 27. 45. 63. 81.]\n"
     ]
    }
   ],
   "source": [
    "sess = tf.Session()\n",
    "x_vals = np.array([1., 3., 5., 7., 9.])\n",
    "y_vals = np.array([1., 3., 5., 7., 9.])\n",
    "x_data = tf.placeholder(tf.float32)\n",
    "y_data = tf.placeholder(tf.float32)\n",
    "m = tf.constant(3.)\n",
    "prod = tf.multiply(x_data, y_data)\n",
    "for x_val in x_vals :\n",
    "    print(sess.run(prod, feed_dict={x_data : x_val,\n",
    "                                   y_data : y_vals}))"
   ]
  },
  {
   "cell_type": "code",
   "execution_count": 97,
   "metadata": {},
   "outputs": [],
   "source": [
    "merged = tf.summary.merge_all()\n",
    "if not os.path.exists('C://tmp/tensorboard_logs/'):\n",
    "    os.makedirs('C://tmp/tensorboard_logs/')\n",
    "\n",
    "my_writer = tf.summary.FileWriter('C://tmp/tensorboard_logs/', sess.graph)"
   ]
  },
  {
   "cell_type": "code",
   "execution_count": null,
   "metadata": {},
   "outputs": [],
   "source": []
  },
  {
   "cell_type": "code",
   "execution_count": null,
   "metadata": {},
   "outputs": [],
   "source": []
  },
  {
   "cell_type": "code",
   "execution_count": null,
   "metadata": {},
   "outputs": [],
   "source": []
  },
  {
   "cell_type": "code",
   "execution_count": 99,
   "metadata": {},
   "outputs": [],
   "source": [
    "# 문제 ?\n",
    "import numpy\n",
    "rng = numpy.random\n",
    "# 상수화하면 좋은 점?\n",
    "learning_rate = 0.01\n",
    "training_epochs = 4000\n",
    "display_step = 50\n",
    "\n",
    "train_X = numpy.asarray([3.3,4.4,5.5,6.71,6.93,4.168,9.779,6.182,7.59,2.167,7.042,10.791,5.313,7.997,5.654,9.27,3.1])\n",
    "train_Y = numpy.asarray([1.7,2.76,2.09,3.19,1.694,1.573,3.366,2.596,2.53,1.221,2.827,3.465,1.65,2.904,2.42,2.94,1.3]) "
   ]
  },
  {
   "cell_type": "code",
   "execution_count": 100,
   "metadata": {},
   "outputs": [
    {
     "name": "stdout",
     "output_type": "stream",
     "text": [
      "WARNING:tensorflow:From C:\\Users\\ICT01_19\\Anaconda3\\envs\\tf_test\\lib\\site-packages\\tensorflow\\python\\ops\\math_grad.py:1205: add_dispatch_support.<locals>.wrapper (from tensorflow.python.ops.array_ops) is deprecated and will be removed in a future version.\n",
      "Instructions for updating:\n",
      "Use tf.where in 2.0, which has the same broadcast rule as np.where\n",
      "WARNING:tensorflow:From C:\\Users\\ICT01_19\\Anaconda3\\envs\\tf_test\\lib\\site-packages\\tensorflow\\python\\util\\tf_should_use.py:193: initialize_all_variables (from tensorflow.python.ops.variables) is deprecated and will be removed after 2017-03-02.\n",
      "Instructions for updating:\n",
      "Use `tf.global_variables_initializer` instead.\n"
     ]
    }
   ],
   "source": [
    "# data point : 관측치\n",
    "# 0 행, 샘플수 결정   |   1 변수개수 결정\n",
    "n_samples = train_X.shape[0] # 차수 : 0 <- 행  인덱스 접근 샘플 수 몇개인지 결정\n",
    "X = tf.placeholder(\"float\")\n",
    "Y = tf.placeholder(\"float\")\n",
    "W = tf.Variable(rng.randn(), name=\"weight\")# 설명\n",
    "b = tf.Variable(rng.randn(), name=\"bias\")# activation 활성화\n",
    "activation = tf.add(tf.multiply(X, W), b) # y = ax + b를 이렇게도 쓸 수 있다.\n",
    "\n",
    "# minibatch 사이즈를 고려했기때문에 2를 나눠준거임\n",
    "cost = tf.reduce_sum(tf.pow(activation-Y, 2)) / (2*n_samples) # activation 예측치 | Y 실제값\n",
    "# 역전파 : optimizer도 hyper parameter\n",
    "optimizer = tf.train.GradientDescentOptimizer( # momentum : 고려\n",
    "    learning_rate).minimize(cost) # hyper parameter \n",
    "init = tf.initialize_all_variables()"
   ]
  },
  {
   "cell_type": "code",
   "execution_count": 101,
   "metadata": {},
   "outputs": [
    {
     "name": "stdout",
     "output_type": "stream",
     "text": [
      "Epoch: 0001 cost= 16.523485184 W= -0.17431821 b= -2.1958144\n",
      "Epoch: 0051 cost= 0.530952632 W= 0.62609637 b= -1.9070678\n",
      "Epoch: 0101 cost= 0.478528798 W= 0.6037042 b= -1.7459794\n",
      "Epoch: 0151 cost= 0.432156503 W= 0.5826434 b= -1.5944698\n",
      "Epoch: 0201 cost= 0.391138405 W= 0.56283534 b= -1.4519726\n",
      "Epoch: 0251 cost= 0.354855925 W= 0.5442056 b= -1.3179507\n",
      "Epoch: 0301 cost= 0.322761804 W= 0.5266833 b= -1.1918968\n",
      "Epoch: 0351 cost= 0.294374049 W= 0.51020354 b= -1.0733436\n",
      "Epoch: 0401 cost= 0.269263625 W= 0.49470386 b= -0.9618399\n",
      "Epoch: 0451 cost= 0.247052476 W= 0.480126 b= -0.8569672\n",
      "Epoch: 0501 cost= 0.227405921 W= 0.46641505 b= -0.758332\n",
      "Epoch: 0551 cost= 0.210028246 W= 0.45351985 b= -0.6655642\n",
      "Epoch: 0601 cost= 0.194657087 W= 0.44139144 b= -0.57831323\n",
      "Epoch: 0651 cost= 0.181061074 W= 0.42998436 b= -0.49625185\n",
      "Epoch: 0701 cost= 0.169035062 W= 0.41925573 b= -0.41907057\n",
      "Epoch: 0751 cost= 0.158397838 W= 0.40916508 b= -0.34647942\n",
      "Epoch: 0801 cost= 0.148989096 W= 0.39967453 b= -0.27820525\n",
      "Epoch: 0851 cost= 0.140667140 W= 0.39074856 b= -0.21399245\n",
      "Epoch: 0901 cost= 0.133306354 W= 0.3823534 b= -0.15359841\n",
      "Epoch: 0951 cost= 0.126795769 W= 0.37445757 b= -0.096796125\n",
      "Epoch: 1001 cost= 0.121037230 W= 0.36703137 b= -0.043372247\n",
      "Epoch: 1051 cost= 0.115943909 W= 0.3600468 b= 0.006874294\n",
      "Epoch: 1101 cost= 0.111439042 W= 0.35347766 b= 0.054132394\n",
      "Epoch: 1151 cost= 0.107454613 W= 0.34729913 b= 0.09857986\n",
      "Epoch: 1201 cost= 0.103930555 W= 0.34148815 b= 0.14038387\n",
      "Epoch: 1251 cost= 0.100813702 W= 0.3360227 b= 0.17970167\n",
      "Epoch: 1301 cost= 0.098057017 W= 0.3308824 b= 0.2166811\n",
      "Epoch: 1351 cost= 0.095618919 W= 0.32604772 b= 0.25146106\n",
      "Epoch: 1401 cost= 0.093462586 W= 0.32150063 b= 0.28417265\n",
      "Epoch: 1451 cost= 0.091555543 W= 0.31722394 b= 0.31493887\n",
      "Epoch: 1501 cost= 0.089868963 W= 0.31320167 b= 0.3438745\n",
      "Epoch: 1551 cost= 0.088377349 W= 0.3094186 b= 0.37108976\n",
      "Epoch: 1601 cost= 0.087058172 W= 0.30586046 b= 0.39668688\n",
      "Epoch: 1651 cost= 0.085891597 W= 0.30251405 b= 0.4207605\n",
      "Epoch: 1701 cost= 0.084859937 W= 0.29936662 b= 0.4434026\n",
      "Epoch: 1751 cost= 0.083947577 W= 0.29640636 b= 0.4646987\n",
      "Epoch: 1801 cost= 0.083140746 W= 0.29362217 b= 0.48472825\n",
      "Epoch: 1851 cost= 0.082427301 W= 0.29100353 b= 0.50356627\n",
      "Epoch: 1901 cost= 0.081796408 W= 0.28854075 b= 0.52128315\n",
      "Epoch: 1951 cost= 0.081238531 W= 0.28622437 b= 0.5379471\n",
      "Epoch: 2001 cost= 0.080745228 W= 0.28404573 b= 0.5536199\n",
      "Epoch: 2051 cost= 0.080309004 W= 0.28199664 b= 0.56836134\n",
      "Epoch: 2101 cost= 0.079923339 W= 0.28006938 b= 0.5822257\n",
      "Epoch: 2151 cost= 0.079582296 W= 0.27825677 b= 0.595266\n",
      "Epoch: 2201 cost= 0.079280779 W= 0.2765518 b= 0.60753125\n",
      "Epoch: 2251 cost= 0.079014234 W= 0.27494848 b= 0.6190655\n",
      "Epoch: 2301 cost= 0.078778602 W= 0.2734406 b= 0.62991285\n",
      "Epoch: 2351 cost= 0.078570284 W= 0.27202243 b= 0.64011526\n",
      "Epoch: 2401 cost= 0.078386113 W= 0.27068847 b= 0.6497114\n",
      "Epoch: 2451 cost= 0.078223325 W= 0.2694337 b= 0.65873724\n",
      "Epoch: 2501 cost= 0.078079402 W= 0.26825386 b= 0.6672259\n",
      "Epoch: 2551 cost= 0.077952214 W= 0.26714402 b= 0.67520946\n",
      "Epoch: 2601 cost= 0.077839799 W= 0.26610026 b= 0.6827182\n",
      "Epoch: 2651 cost= 0.077740438 W= 0.26511863 b= 0.68978006\n",
      "Epoch: 2701 cost= 0.077652618 W= 0.2641953 b= 0.6964228\n",
      "Epoch: 2751 cost= 0.077575020 W= 0.26332697 b= 0.7026698\n",
      "Epoch: 2801 cost= 0.077506438 W= 0.2625101 b= 0.7085463\n",
      "Epoch: 2851 cost= 0.077445835 W= 0.2617418 b= 0.7140731\n",
      "Epoch: 2901 cost= 0.077392317 W= 0.2610192 b= 0.71927106\n",
      "Epoch: 2951 cost= 0.077344999 W= 0.26033965 b= 0.72415984\n",
      "Epoch: 3001 cost= 0.077303223 W= 0.2597005 b= 0.728758\n",
      "Epoch: 3051 cost= 0.077266291 W= 0.25909922 b= 0.7330837\n",
      "Epoch: 3101 cost= 0.077233709 W= 0.25853384 b= 0.7371511\n",
      "Epoch: 3151 cost= 0.077204905 W= 0.25800204 b= 0.74097687\n",
      "Epoch: 3201 cost= 0.077179499 W= 0.25750175 b= 0.7445752\n",
      "Epoch: 3251 cost= 0.077157043 W= 0.2570314 b= 0.74795943\n",
      "Epoch: 3301 cost= 0.077137232 W= 0.25658897 b= 0.7511424\n",
      "Epoch: 3351 cost= 0.077119745 W= 0.2561728 b= 0.7541361\n",
      "Epoch: 3401 cost= 0.077104315 W= 0.25578132 b= 0.75695205\n",
      "Epoch: 3451 cost= 0.077090681 W= 0.25541306 b= 0.7596013\n",
      "Epoch: 3501 cost= 0.077078648 W= 0.25506693 b= 0.7620918\n",
      "Epoch: 3551 cost= 0.077068053 W= 0.25474128 b= 0.76443475\n",
      "Epoch: 3601 cost= 0.077058703 W= 0.25443494 b= 0.76663786\n",
      "Epoch: 3651 cost= 0.077050455 W= 0.25414693 b= 0.76871\n",
      "Epoch: 3701 cost= 0.077043176 W= 0.25387585 b= 0.7706598\n",
      "Epoch: 3751 cost= 0.077036761 W= 0.25362104 b= 0.77249366\n",
      "Epoch: 3801 cost= 0.077031121 W= 0.25338146 b= 0.77421707\n",
      "Epoch: 3851 cost= 0.077026144 W= 0.25315595 b= 0.7758391\n",
      "Epoch: 3901 cost= 0.077021755 W= 0.2529438 b= 0.7773652\n",
      "Epoch: 3951 cost= 0.077017903 W= 0.2527443 b= 0.77880055\n",
      "최적화 종료\n",
      "cost= 0.07701456 W= 0.25256044 b= 0.7801232\n"
     ]
    },
    {
     "data": {
      "image/png": "[encoded data removed]",
      "text/plain": [
       "<Figure size 432x288 with 1 Axes>"
      ]
     },
     "metadata": {
      "needs_background": "light"
     },
     "output_type": "display_data"
    }
   ],
   "source": [
    "# 그래프 정의\n",
    "#  node : 연산  |  edge(데이터 전달 : tensor(배열+행렬))\n",
    "# 전제조건 : GPU가 존재한다 전제가 있어야. -> 네트웤으로 연결 \n",
    "\n",
    "with tf.Session() as sess: # 실행부\n",
    "    sess.run(init)\n",
    "    for epoch in range(training_epochs): # 세대[반복]\n",
    "        for (x, y) in zip(train_X, train_Y): #데이터를 1개씩 feeding\n",
    "            sess.run(optimizer, feed_dict={X:x, Y:y})\n",
    "        if epoch % display_step == 0: # 비용함수는 감소해야.. 우하향 # accurency는 증가해야 # acurrency는 미분하면 0으로 가능 경우가 많아서 비용함수로..\n",
    "            print(\"Epoch:\",\"%04d\"%(epoch+1), \"cost=\", \"{:.9f}\".format(sess.run(cost, feed_dict={X : train_X, Y:train_Y})),\n",
    "            \"W=\", sess.run(W), \"b=\",sess.run(b)) # 수렴값\n",
    "\n",
    "    print(\"최적화 종료\")\n",
    "    print(\"cost=\", sess.run(cost, feed_dict={X:train_X, Y:train_Y}),\n",
    "         \"W=\",sess.run(W), \"b=\", sess.run(b))\n",
    "    plt.plot(train_X, train_Y, 'ro', label='Original data')\n",
    "    # predict한 결과값 출력\n",
    "    plt.plot(train_X, sess.run(W) * train_X + sess.run(b),\n",
    "            label='Fitted line')\n",
    "    plt.legend()\n",
    "    plt.show()"
   ]
  },
  {
   "cell_type": "code",
   "execution_count": null,
   "metadata": {},
   "outputs": [],
   "source": []
  },
  {
   "cell_type": "code",
   "execution_count": 104,
   "metadata": {},
   "outputs": [],
   "source": [
    "# \n",
    "W = 0.24768482\n",
    "b = 0.80373293"
   ]
  },
  {
   "cell_type": "code",
   "execution_count": 105,
   "metadata": {},
   "outputs": [],
   "source": [
    "# 텐서는 직접 데이터를 불러올 수 없다.\n",
    "# 직접 시각화하는 것도 불가능 -> numpy포맷으로 변경해야\n",
    "\n",
    "import tensorflow as tf\n",
    "def run_variable(variable):\n",
    "    tf.global_variables_initializer()\n",
    "    with tf.Session() as sess:\n",
    "        return sess.run(variable)"
   ]
  },
  {
   "cell_type": "code",
   "execution_count": 108,
   "metadata": {},
   "outputs": [],
   "source": [
    "my_distribution = tf.random_uniform((600,400), seed=42)\n",
    "uniform = run_variable(my_distribution)"
   ]
  },
  {
   "cell_type": "code",
   "execution_count": 109,
   "metadata": {},
   "outputs": [
    {
     "data": {
      "image/png": "[encoded data removed]",
      "text/plain": [
       "<Figure size 432x288 with 1 Axes>"
      ]
     },
     "metadata": {
      "needs_background": "light"
     },
     "output_type": "display_data"
    }
   ],
   "source": [
    "from matplotlib import pyplot as plt\n",
    "plt.hist(uniform.flatten()) # flatten : 차수는 무시하고 1차원으로.. 데이터 메모리 저장 : 1차원으로 저장..\n",
    "plt.show()\n",
    "\n",
    "# 데이터 갯수가 적으면 균등분포가 되지않는다."
   ]
  },
  {
   "cell_type": "code",
   "execution_count": null,
   "metadata": {},
   "outputs": [],
   "source": [
    "# activation 함수의 역할? : 회귀인가 분류인가를 결정\n",
    "#  - 비선형 매핑(선형대수문제를 비선형문제으로 변경)\n",
    "#  - 그래서 가중치를 깊게하고, 활성화함수매핑으로 xor문제를 해결 \n",
    "\n",
    "# 신경망은 한번쓴 변수는 다시쓸수없다. 리셋해줘야한다. 리셋하지 않으면 문제 발생."
   ]
  },
  {
   "cell_type": "code",
   "execution_count": 124,
   "metadata": {},
   "outputs": [
    {
     "name": "stdout",
     "output_type": "stream",
     "text": [
      "[-10.          -9.7979798   -9.5959596   -9.39393939  -9.19191919\n",
      "  -8.98989899  -8.78787879  -8.58585859  -8.38383838  -8.18181818\n",
      "  -7.97979798  -7.77777778  -7.57575758  -7.37373737  -7.17171717\n",
      "  -6.96969697  -6.76767677  -6.56565657  -6.36363636  -6.16161616\n",
      "  -5.95959596  -5.75757576  -5.55555556  -5.35353535  -5.15151515\n",
      "  -4.94949495  -4.74747475  -4.54545455  -4.34343434  -4.14141414\n",
      "  -3.93939394  -3.73737374  -3.53535354  -3.33333333  -3.13131313\n",
      "  -2.92929293  -2.72727273  -2.52525253  -2.32323232  -2.12121212\n",
      "  -1.91919192  -1.71717172  -1.51515152  -1.31313131  -1.11111111\n",
      "  -0.90909091  -0.70707071  -0.50505051  -0.3030303   -0.1010101\n",
      "   0.1010101    0.3030303    0.50505051   0.70707071   0.90909091\n",
      "   1.11111111   1.31313131   1.51515152   1.71717172   1.91919192\n",
      "   2.12121212   2.32323232   2.52525253   2.72727273   2.92929293\n",
      "   3.13131313   3.33333333   3.53535354   3.73737374   3.93939394\n",
      "   4.14141414   4.34343434   4.54545455   4.74747475   4.94949495\n",
      "   5.15151515   5.35353535   5.55555556   5.75757576   5.95959596\n",
      "   6.16161616   6.36363636   6.56565657   6.76767677   6.96969697\n",
      "   7.17171717   7.37373737   7.57575758   7.77777778   7.97979798\n",
      "   8.18181818   8.38383838   8.58585859   8.78787879   8.98989899\n",
      "   9.19191919   9.39393939   9.5959596    9.7979798   10.        ]\n"
     ]
    }
   ],
   "source": [
    "import tensorflow as tf\n",
    "import numpy as np\n",
    "import matplotlib.pyplot as plt\n",
    "from tensorflow.python.framework import ops\n",
    "\n",
    "ops.reset_default_graph() #그래프 초기화\n",
    "sess = tf.Session()\n",
    "\n",
    "x_vals = np.linspace(start = -10., stop = 10., num=100)\n",
    "print(x_vals)"
   ]
  },
  {
   "cell_type": "code",
   "execution_count": 141,
   "metadata": {},
   "outputs": [
    {
     "name": "stdout",
     "output_type": "stream",
     "text": [
      "[ 0.  3. 10.]\n",
      "[0.26894143 0.5        0.7310586 ]\n",
      "[-0.7615942  0.         0.7615942]\n",
      "[-0.63212055  0.          1.        ]\n",
      "[0.31326166 0.6931472  1.3132616 ]\n",
      "[[2.15844873]\n",
      " [2.10633425]\n",
      " [2.17953243]\n",
      " [2.12058811]\n",
      " [2.14336902]\n",
      " [2.26359209]\n",
      " [2.09247276]\n",
      " [2.18088182]\n",
      " [2.18121859]\n",
      " [2.11018215]\n",
      " [2.02078077]\n",
      " [2.10063882]\n",
      " [2.12058811]\n",
      " [2.2001378 ]\n",
      " [2.13547631]\n",
      " [2.05542838]\n",
      " [2.15439329]\n",
      " [1.99436182]\n",
      " [2.03014318]\n",
      " [2.07775452]\n",
      " [2.12738989]\n",
      " [2.09752448]\n",
      " [2.20273611]\n",
      " [2.18121859]\n",
      " [2.18210158]\n",
      " [2.15882757]\n",
      " [2.091674  ]\n",
      " [2.06419779]\n",
      " [2.19039433]\n",
      " [2.03014318]\n",
      " [2.20657976]\n",
      " [2.02198596]\n",
      " [2.26728237]\n",
      " [2.01158844]\n",
      " [2.19546643]\n",
      " [2.08041621]\n",
      " [2.1280733 ]\n",
      " [2.22031417]\n",
      " [2.16875823]\n",
      " [2.15844873]\n",
      " [2.03229674]\n",
      " [2.25710842]\n",
      " [2.11684628]\n",
      " [2.07721946]\n",
      " [2.14219741]\n",
      " [2.01804453]\n",
      " [2.16954475]\n",
      " [2.08521482]\n",
      " [2.17281164]\n",
      " [2.05443261]]\n",
      "[[2.03571126]\n",
      " [1.9765863 ]\n",
      " [2.0595157 ]\n",
      " [1.99279899]\n",
      " [2.01864543]\n",
      " [2.15380366]\n",
      " [1.96078918]\n",
      " [2.06103703]\n",
      " [2.06141667]\n",
      " [1.98096613]\n",
      " [1.87858114]\n",
      " [1.97009926]\n",
      " [1.99279899]\n",
      " [2.08271832]\n",
      " [2.0096996 ]\n",
      " [1.91841897]\n",
      " [2.03112502]\n",
      " [1.848063  ]\n",
      " [1.8893665 ]\n",
      " [1.9439819 ]\n",
      " [2.00052437]\n",
      " [1.96654988]\n",
      " [2.08563988]\n",
      " [2.06141667]\n",
      " [2.06241198]\n",
      " [2.03613956]\n",
      " [1.95987795]\n",
      " [1.92846963]\n",
      " [2.07175423]\n",
      " [1.8893665 ]\n",
      " [2.08995999]\n",
      " [1.87997036]\n",
      " [2.15792128]\n",
      " [1.86797668]\n",
      " [2.07746341]\n",
      " [1.94702398]\n",
      " [2.00130019]\n",
      " [2.10538021]\n",
      " [2.04735924]\n",
      " [2.03571126]\n",
      " [1.8918452 ]\n",
      " [2.14656488]\n",
      " [1.98854602]\n",
      " [1.94337023]\n",
      " [2.01731809]\n",
      " [1.87542612]\n",
      " [2.04824724]\n",
      " [1.95250547]\n",
      " [2.05193465]\n",
      " [1.91727691]]\n"
     ]
    },
    {
     "data": {
      "image/png": "[encoded data removed]",
      "text/plain": [
       "<Figure size 432x288 with 1 Axes>"
      ]
     },
     "metadata": {
      "needs_background": "light"
     },
     "output_type": "display_data"
    },
    {
     "data": {
      "image/png": "[encoded data removed]",
      "text/plain": [
       "<Figure size 432x288 with 1 Axes>"
      ]
     },
     "metadata": {
      "needs_background": "light"
     },
     "output_type": "display_data"
    }
   ],
   "source": [
    "# relu가 가장많이 쓰임. elu는 relu를 조금 수정한것\n",
    "print( sess.run( tf.nn.relu([-3., 3., 10.]) )) # 0~∞\n",
    "y_relu = sess.run(tf.nn.relu(x_vals))\n",
    "\n",
    "print(sess.run(tf.nn.sigmoid([-1., 0., 1.]))) #0~1\n",
    "y_sigmoid = sess.run(tf.nn.sigmoid(x_vals))\n",
    "\n",
    "print(sess.run(tf.nn.tanh([-1., 0., 1.])))# -1~1\n",
    "y_tanh = sess.run(tf.nn.tanh(x_vals))\n",
    "\n",
    "print(sess.run(tf.nn.elu([-1., 0., 1.])))# -1~∞\n",
    "y_elu = sess.run(tf.nn.elu(x_vals))\n",
    "\n",
    "print(sess.run(tf.nn.softplus([-1., 0., 1.]))) # 엘루의 각진 단점을 보완한 것이 소프트 플러스\n",
    "y_softplus = sess.run(tf.nn.softplus(x_vals))\n",
    "print(y_softplus)\n",
    "print(y_elu)\n",
    "\n",
    "plt.plot(x_vals, y_relu, 'b:', label='ReLU', linewidth=2)\n",
    "plt.plot(x_vals, y_elu, 'k-', label='ExpLU', linewidth=0.5)\n",
    "plt.ylim([-1.5,7])\n",
    "plt.legend(loc='upper left')\n",
    "plt.show()\n",
    "\n",
    "plt.plot(x_vals, y_sigmoid, 'r--', label=\"Sigmoid\", linewidth=2)\n",
    "plt.plot(x_vals, y_tanh, 'b:', label=\"Tanh\", linewidth=2)\n",
    "plt.ylim([-2,2])\n",
    "plt.legend(loc='upper left')\n",
    "plt.show()"
   ]
  },
  {
   "cell_type": "code",
   "execution_count": 140,
   "metadata": {},
   "outputs": [],
   "source": [
    "import tensorflow as tf\n",
    "\n",
    "ops.reset_default_graph() # 그래프 초기화\n",
    "sess=tf.Session()\n",
    "tf.set_random_seed(5) # 시드 초기값\n",
    "np.random.seed(42)\n",
    "batch_size = 50\n",
    "\n",
    "a1 = tf.Variable(tf.random_normal(shape=[1,1])) # 가중치\n",
    "b1 = tf.Variable(tf.random_uniform(shape=[1,1])) # bias\n",
    "a2 = tf.Variable(tf.random_normal(shape=[1,1]))\n",
    "b2 = tf.Variable(tf.random_uniform(shape=[1,1]))\n",
    "\n",
    "x = np.random.normal(2, 0.1, 500) # 500개의 데이터를 랜덤으로 생성\n",
    "\n",
    "# None\n",
    "# 사이즈 fix하지 않고 입력 데이터로부터 계산\n",
    "# 행 데이터로 생성\n",
    "# ex) [2,3,2,12,2,1,23,21,3]\n",
    "x_data = tf.placeholder(shape = [None, 1], dtype=tf.float32)"
   ]
  },
  {
   "cell_type": "code",
   "execution_count": 134,
   "metadata": {},
   "outputs": [
    {
     "name": "stdout",
     "output_type": "stream",
     "text": [
      "\n",
      " sigmoid and Relu 함수의 최적화 0.75\n"
     ]
    }
   ],
   "source": [
    "# y = ax + b 꼴을 취해 주되 sigmoid를 달아줘서 값을 0 ~ 1 사이값으로 매핑\n",
    "sigmoid_activation = tf.sigmoid(tf.add(tf.matmul(x_data, a1), b1))\n",
    "# relu를 달아줘서 값을 0 ~ ∞ 값으로 매핑\n",
    "relu_activation = tf.nn.relu(tf.add(tf.matmul(x_data, a2), b2))\n",
    "\n",
    "# 0.75로 수렴과정\n",
    "# MSE 식\n",
    "loss1 = tf.reduce_mean(tf.square(tf.subtract(sigmoid_activation, 0.75)))\n",
    "loss2 = tf.reduce_mean(tf.square(tf.subtract(relu_activation, 0.75)))\n",
    "\n",
    "init = tf.global_variables_initializer()\n",
    "sess.run(init)\n",
    "\n",
    "my_opt = tf.train.GradientDescentOptimizer(0.01)# 학습률 0.01로 주고\n",
    "train_step_sigmoid = my_opt.minimize(loss1)\n",
    "train_step_relu = my_opt.minimize(loss2)\n",
    "print(\"\\n sigmoid and Relu 함수의 최적화 0.75\")"
   ]
  },
  {
   "cell_type": "code",
   "execution_count": 135,
   "metadata": {},
   "outputs": [],
   "source": [
    "loss_vec_sigmoid = [] #로스값을 저장하기 위한 공간\n",
    "loss_vec_relu = []"
   ]
  },
  {
   "cell_type": "code",
   "execution_count": 138,
   "metadata": {},
   "outputs": [
    {
     "name": "stdout",
     "output_type": "stream",
     "text": [
      "sigmoid = 0.12870753 relu1.8938602\n",
      "sigmoid = 0.17667443 relu0.75795364\n",
      "sigmoid = 0.25224036 relu0.7486777\n",
      "sigmoid = 0.35073912 relu0.7475851\n",
      "sigmoid = 0.44995007 relu0.7466505\n",
      "sigmoid = 0.5288399 relu0.75078493\n",
      "sigmoid = 0.5881987 relu0.7462536\n",
      "sigmoid = 0.62726855 relu0.7498423\n",
      "sigmoid = 0.6581211 relu0.74611145\n",
      "sigmoid = 0.6792232 relu0.7435567\n"
     ]
    }
   ],
   "source": [
    "for i in range(500):\n",
    "    # 500개 중 50개 초이스\n",
    "    rand_indices = np.random.choice(len(x), size=batch_size) # batch_size = 50\n",
    "    x_vals = np.transpose([x[rand_indices]]) # 모양맞추기 위해 조정\n",
    "    \n",
    "    sess.run(train_step_sigmoid, feed_dict={x_data : x_vals})\n",
    "    sess.run(train_step_relu, feed_dict={x_data : x_vals})\n",
    "    \n",
    "    loss_vec_sigmoid.append(sess.run(loss1, feed_dict={x_data : x_vals}))\n",
    "    loss_vec_relu.append(sess.run(loss2, feed_dict={x_data : x_vals}))\n",
    "    \n",
    "    sigmoid_output = np.mean(sess.run(sigmoid_activation, feed_dict={x_data : x_vals}))\n",
    "    relu_output = np.mean(sess.run(relu_activation, feed_dict={x_data : x_vals}))\n",
    "    \n",
    "    if i % 50 == 0:\n",
    "        print('sigmoid = ' + str(np.mean(sigmoid_output)) + ' relu' + str(np.mean(relu_output)))\n",
    "        \n",
    "# 0.75 수렴하는 과정"
   ]
  },
  {
   "cell_type": "code",
   "execution_count": 139,
   "metadata": {},
   "outputs": [
    {
     "data": {
      "image/png": "[encoded data removed]",
      "text/plain": [
       "<Figure size 432x288 with 1 Axes>"
      ]
     },
     "metadata": {
      "needs_background": "light"
     },
     "output_type": "display_data"
    }
   ],
   "source": [
    "# 비용함수 값 그래프\n",
    "# 렐루는 속도도 빠르고 빨리 근사치로 간다.\n",
    "# 그래서 지금은 시그모이드 잘 안씀\n",
    "plt.plot(loss_vec_sigmoid, 'k-', label='Sigmoid Activation')\n",
    "plt.plot(loss_vec_relu, 'r--', label='Relu Activation')\n",
    "plt.ylim([0, 1.0])\n",
    "plt.title(' loss per Generation')\n",
    "plt.xlabel('Generation')\n",
    "plt.ylabel('Loss')\n",
    "plt.legend(loc='upper right')\n",
    "plt.show() "
   ]
  },
  {
   "cell_type": "code",
   "execution_count": null,
   "metadata": {},
   "outputs": [],
   "source": []
  },
  {
   "cell_type": "code",
   "execution_count": null,
   "metadata": {},
   "outputs": [],
   "source": []
  },
  {
   "cell_type": "code",
   "execution_count": null,
   "metadata": {},
   "outputs": [],
   "source": []
  }
 ],
 "metadata": {
  "kernelspec": {
   "display_name": "Python 3",
   "language": "python",
   "name": "python3"
  },
  "language_info": {
   "codemirror_mode": {
    "name": "ipython",
    "version": 3
   },
   "file_extension": ".py",
   "mimetype": "text/x-python",
   "name": "python",
   "nbconvert_exporter": "python",
   "pygments_lexer": "ipython3",
   "version": "3.7.6"
  }
 },
 "nbformat": 4,
 "nbformat_minor": 4
}
