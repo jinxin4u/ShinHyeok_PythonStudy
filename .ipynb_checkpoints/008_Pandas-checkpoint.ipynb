{
 "cells": [
  {
   "cell_type": "code",
   "execution_count": null,
   "metadata": {},
   "outputs": [],
   "source": [
    "# 회귀분석, 상관분석\n",
    "- 회귀분석 다중공선성 : 종속변수가 과하게 영향을 받을 수 있음\n",
    "\n",
    "    - 회귀분석 자기상관성(Autocorelation)이 존재하면? => 시계열 분석을 해야\n",
    "    자기상관성? 지난 데이터가 다음 데이터에 영향을 미치는 경우\n",
    "    \n",
    "- 시계열 분석 ARMA(Autocorelation + Moving Average)\n",
    "    - 이동평균법하는 이유? => (주파수를 줄여줌 => 복잡하면 분석 불가)\n",
    "        ex) 주식데이터\n",
    "    - 정상성을 띈 데이터에만 가능[평균이 일정하고 분산이 일정한 데이터]\n",
    "        실제로는 없\n",
    "    - 그러므로 비정상성 데이터를 정상성화\n",
    "    - ARIMA(Integrated 통합 => 비정상성을 띈 데이터에도 가능)\n",
    "    - Pandas는 시계열 분석을 지원(시간 index를 지원)\n"
   ]
  },
  {
   "cell_type": "code",
   "execution_count": null,
   "metadata": {},
   "outputs": [],
   "source": [
    "import numpy as np\n",
    "from statistics import *\n",
    "x = np.array([7,8,9])\n",
    "y = np.array([9,10,20])\n",
    "print(y.mean()) # 통계 : 중위수(medians) 사용 why? 평균은 이상치에 영향을 받으나 중위수는 그렇지 않으므로\n",
    "\n",
    "# 공분산 행렬\n",
    "print(\"공분산 : \",np.cov(x,y))\n",
    "\n",
    "# 상관계수행렬 ()\n",
    "print(\"상관계수 : \", np.corrcoef(x,y))"
   ]
  },
  {
   "cell_type": "code",
   "execution_count": null,
   "metadata": {},
   "outputs": [],
   "source": [
    "import numpy as np\n",
    "arr = np.array([[1,2,3],[4,5,6],[7,8,9]])\n",
    "print(\"원본\\n\",arr)\n",
    "print(\"누적합(행)\\n\",arr.cumsum(0))\n",
    "print(\"누적곱(열)\\n\",arr.cumprod(1))\n",
    "print(\"배열의 합계\\n\",arr.sum())\n",
    "\n",
    "print(\"열방향으로의 합계(행평균)\\n\",arr.mean(axis=1))# axis = 행방향과 열방향의 구분\n",
    "print(\"행방향으로의 합계\\n\",arr.sum(0))"
   ]
  },
  {
   "cell_type": "code",
   "execution_count": null,
   "metadata": {},
   "outputs": [],
   "source": [
    "# 가중치를 부여한다는 의미\n",
    "\n",
    "a = np.array([1,2,3,4])\n",
    "wts = np.array([4,3,2,1])\n",
    "print(np.average(a, weights = wts)) # 수의 중요성을 부여 a0  4가중치 ,  a1 3가중치, a2 2가중치 , a3 1가중치 부여\n",
    "\n",
    "std = np.sqrt( np.mean( abs(a-a.mean())**2 ) ) \n",
    "print(np.var([1,2,3,4])) # 분산\n",
    "print(np.std([1,2,3,4])) # 표준편차"
   ]
  },
  {
   "cell_type": "code",
   "execution_count": null,
   "metadata": {},
   "outputs": [],
   "source": [
    "# 시각화\n",
    "# matplotlib, seaborn, pandas.plot\n",
    "- 상기 패키지는 모두 matplotlib로 구성\n",
    "- 아나콘다의 경우는 %matplotlib inline을 사용해야 한다"
   ]
  },
  {
   "cell_type": "code",
   "execution_count": null,
   "metadata": {},
   "outputs": [],
   "source": [
    "%matplotlib inline\n",
    "from numpy import mean,std # 메모리 낭비를 절감하기 위해 * 안쓰고\n",
    "# 서브 패키지 : linalg, random, fft(패스트 푸리에 변환), poly(다차방정식)\n",
    "# random : 의사난수) 데이터 출력순서 정해짐\n",
    "from numpy.random import randn, seed\n",
    "from matplotlib import pyplot \n",
    "\n",
    "seed(1) # 같은 수가 발생\n",
    "data1 = 20 * randn(1000) + 100 # randn (랜드 노멀) 정규분포   ex) 최고치는 20이고 100개를\n",
    "data2 = data1 + (10 * randn(1000) + 50)\n",
    "print(\"data1 : mean=%.3f stdv=%.3f\"%(mean(data1), std(data1)))\n",
    "print(\"data2 : mean=%.3f stdv=%.3f\"%(mean(data2), std(data2)))\n",
    "pyplot.scatter(data1, data2) # 산포도\n",
    "pyplot.show()"
   ]
  },
  {
   "cell_type": "code",
   "execution_count": null,
   "metadata": {},
   "outputs": [],
   "source": [
    "import matplotlib.pyplot as plt\n",
    "print(plt.style.available)"
   ]
  },
  {
   "cell_type": "code",
   "execution_count": null,
   "metadata": {},
   "outputs": [],
   "source": [
    "plt.style.use(['classic'])\n",
    "xs = np.random.normal(0,3,(100,3)) # 평균:0, 표준편차:3 100=3 데이터 생성\n",
    "plt.figure(figsize=(12,4)) # figure : 모양을 결정\n",
    "\n",
    "for i in range(0,3):\n",
    "    x = xs[:,i]\n",
    "    plt.plot(range(0, len(x)), x, linewidth=1, linestyle='--', label='x_{}'.format(i))\n",
    "plt.legend()\n",
    "plt.grid(True) # 격자선\n",
    "plt.show()"
   ]
  },
  {
   "cell_type": "code",
   "execution_count": null,
   "metadata": {},
   "outputs": [],
   "source": [
    "fig = plt.figure(figsize=(12,12))\n",
    "ax1 = fig.add_subplot(2,2,1) #2행, 1열, 첫번째\n",
    "ax2 = fig.add_subplot(2,2,4)\n",
    "\n",
    "x = range(0 ,100)\n",
    "y = [v*v for v in x]\n",
    "\n",
    "ax1.plot(x,y)\n",
    "ax2.bar(x,y)\n",
    "plt.show()"
   ]
  },
  {
   "cell_type": "code",
   "execution_count": null,
   "metadata": {},
   "outputs": [],
   "source": [
    "x1 = np.linspace(0.0, 5.0)\n",
    "x2 = np.linspace(0.0, 2.0)\n",
    "\n",
    "plt.plot(np.exp(x1), 'yo-') # 지수함수의 그래프\n",
    "plt.show()"
   ]
  },
  {
   "cell_type": "code",
   "execution_count": null,
   "metadata": {},
   "outputs": [],
   "source": [
    "y1 = np.cos(2 * np.pi * x1) * np.exp(-x1)\n",
    "y2 = np.cos(2 * np.pi * x2)\n",
    "\n",
    "ax1 = plt.subplot(2, 1, 1)\n",
    "plt.plot(x1, y1, 'yo-') # yellow, point marking, linetype\n",
    "plt.title('subplots')\n",
    "print(ax1)\n",
    "ax2 = plt.subplot(2,1,2)\n",
    "plt.plot(x2, y2, 'r.-')\n",
    "plt.xlabel('time(s)')\n",
    "print(ax2)\n",
    "plt.show()"
   ]
  },
  {
   "cell_type": "code",
   "execution_count": null,
   "metadata": {},
   "outputs": [],
   "source": [
    "fig = plt.figure(figsize=(20,10))\n",
    "ax1 = fig.add_subplot(121)\n",
    "ax2 = fig.add_subplot(122)\n",
    "# 이산형 막대그래프, 연속형 그래프 histogram\n",
    "ax1.bar([1,2,3],[3,4,5],color='y')\n",
    "ax2.barh([0.5,1,2.5],[0,1,2])#v : vertical , h:horizontal\n",
    "ax1.axvline(0.65)\n",
    "ax2.axhline(0.45)\n",
    "plt.tight_layout()#여백을 줄여 표현\n",
    "plt.show()"
   ]
  },
  {
   "cell_type": "code",
   "execution_count": null,
   "metadata": {},
   "outputs": [],
   "source": [
    "# boxplot\n",
    "# IQR(Inter quantitle range) = 3사분위수 - 1사분위수\n",
    "# IQR * ±1.5 : 상하한선\n",
    "\n",
    "np.random.seed(19680801)\n",
    "\n",
    "spread = np.random.rand(50) * 100 # 분포데이터\n",
    "center = np.ones(25) * 50 # 중심데이터\n",
    "\n",
    "flier_high = np.random.rand(10) * 100 + 100 # 상한선을 넘는 데이터\n",
    "flier_low = np.random.rand(10)* -100 #하한선넘는데이터\n",
    "\n",
    "data = np.concatenate((spread, center, flier_high, flier_low)) # 데이터 병합\n",
    "\n",
    "fig1, ax1 = plt.subplots() # 형태 제어용 인스턴스, 레이어\n",
    "ax1.set_title('boxplot')\n",
    "ax1.boxplot(data)"
   ]
  },
  {
   "cell_type": "code",
   "execution_count": null,
   "metadata": {},
   "outputs": [],
   "source": [
    "fig2, ax2 = plt.subplots()\n",
    "ax.set_title('Notched boxes')\n",
    "ax2.boxplot(data, notch=True)# notch = 홈이 95% 신뢰구간"
   ]
  },
  {
   "cell_type": "code",
   "execution_count": null,
   "metadata": {},
   "outputs": [],
   "source": [
    "red_square =dict(markerfacecolor='r', marker='s') # red, square\n",
    "fig5, ax5 = plt.subplots()\n",
    "ax5.set_title('Horizontal')\n",
    "ax5.boxplot(data, vert = False, flierprops = red_square) # 이상치 표현을 제어, vert:수평표현"
   ]
  },
  {
   "cell_type": "code",
   "execution_count": null,
   "metadata": {},
   "outputs": [],
   "source": [
    "# meshgrid 그물망 격자\n",
    "# 그래프 수식표현 : latex 문법 $\\와 $ 사이에 식을 기입\n",
    "\n",
    "points = np.arange(-5,5,0.01) # 1000개\n",
    "xs, ys = np.meshgrid(points, points) #1000*1000\n",
    "z = np.sqrt(xs**2 + ys**2)\n",
    "\n",
    "# 높이값을 이미지로 -> 이미지는 사각형인데 transpanent하여 보이지 않아야 할부분을 가려\n",
    "plt.imshow(z, cmap=plt.cm.rainbow) # imshow : 데이터를 이미지로 출력\n",
    "# cm : color mp\n",
    "\n",
    "plt.colorbar() # 컬러별 수의 크기를 나타내는 막대 표시\n",
    "plt.title(\" $\\sqrt{x^2+y^2}$\")\n",
    "plt.show()\n",
    "\n",
    "# CNN(Convolution neural network)"
   ]
  },
  {
   "cell_type": "code",
   "execution_count": null,
   "metadata": {},
   "outputs": [],
   "source": [
    "# 3차원\n",
    "from mpl_toolkits.mplot3d import Axes3D\n",
    "fig = plt.figure()\n",
    "ax = Axes3D(fig) # 3차원 출력 도화지\n",
    "X = np.arange(-16, 16, 0.25)\n",
    "Y = np.arange(-16, 16, 0.25)\n",
    "\n",
    "X, Y = np.meshgrid(X, Y)# 좌표점으로\n",
    "R = np.sqrt(X**2 + Y**2)# 거리값\n",
    "Z = np.sin(R)\n",
    "#Z = R\n",
    "ax.plot_surface(X,Y,Z, rstride=1, cstride=1, cmap='hot')\n",
    "plt.show()\n",
    "ax.plot_surface(X,Y,Z, rstride=1, cstride=1, cmap=plt.cm.rainbow)\n",
    "plt.show()"
   ]
  },
  {
   "cell_type": "code",
   "execution_count": null,
   "metadata": {},
   "outputs": [],
   "source": [
    "from mpl_toolkits.mplot3d import Axes3D\n",
    "def f(x,y) : return (1-x/2+x**5+y**3)*np.exp(-x**2-y**2)\n",
    "fig = plt.figure()\n",
    "ax = Axes3D(fig)\n",
    "X = np.arange(-4,4,0.25)\n",
    "Y = np.arange(-4,4,0.25)\n",
    "X,Y = np.meshgrid(X,Y)\n",
    "Z = np.sin(f(X,Y))\n",
    "# row, column\n",
    "ax.plot_surface(X, Y, Z, rstride=1, cstride=1, cmap='hot')\n",
    "plt.show()"
   ]
  },
  {
   "cell_type": "code",
   "execution_count": null,
   "metadata": {},
   "outputs": [],
   "source": [
    "plt.contourf(X, Y, f(X,Y), 8, alpha = .75, cmap='jet')\n",
    "plt.colorbar()\n",
    "plt.show()"
   ]
  },
  {
   "cell_type": "code",
   "execution_count": null,
   "metadata": {},
   "outputs": [],
   "source": [
    "a = [0,0,0.5,0,\n",
    "    1,0,1,0,\n",
    "    1,1,0.5,1,\n",
    "    0,0,1,0]\n",
    "np1 = np.array(a)\n",
    "print(np1)\n",
    "plt.imshow(np1.reshape(4,4), cmap='Greys', interpolation='nearest')\n",
    "# interpolation 보간법 : 컬러값이 지정되지 않으면 보간해서 적용해라\n",
    "# 컬러값 사이에 뭔가 없으면 보간..해서 넣어라\n",
    "plt.show()"
   ]
  },
  {
   "cell_type": "code",
   "execution_count": null,
   "metadata": {},
   "outputs": [],
   "source": [
    "%matplotlib inline\n",
    "from matplotlib import font_manager, rc\n",
    "import matplotlib\n",
    "import matplotlib.pyplot as plt\n",
    "\n",
    "plt.style.use(['classic'])\n",
    "font_path = \"C:/Windows/Fonts/H2GTRM.TTF\"\n",
    "font_name = font_manager.FontProperties(fname=font_path).get_name()#폰트이름획득\n",
    "matplotlib.rc('font', family = font_name)\n",
    "# rc : resource configuration\n",
    "plt.plot([1,2,3,4])\n",
    "plt.xlabel(\"시간\")\n",
    "plt.ylabel(\"거리\")\n",
    "plt.show()"
   ]
  },
  {
   "cell_type": "code",
   "execution_count": null,
   "metadata": {},
   "outputs": [],
   "source": [
    "import matplotlib.font_manager as fm\n",
    "\n",
    "path = 'C:\\\\Windows\\\\Fonts\\\\NanumBarunGothic.ttf'\n",
    "fontprop = fm.FontProperties(fname=path, size=18)\n",
    "data = np.random.randint(-100, 100, 50).cumsum()#cumulative sum 누적합계\n",
    "data\n",
    "plt.plot(range(50), data, 'r')\n",
    "plt.title('가격변동 추이', fontproperties=fontprop)\n",
    "plt.ylabel('가격', fontproperties=fontprop)\n",
    "plt.show()"
   ]
  },
  {
   "cell_type": "code",
   "execution_count": null,
   "metadata": {},
   "outputs": [],
   "source": [
    "from pylab import plt\n",
    "plt.style.use('ggplot')\n",
    "import matplotlib as mpl\n",
    "mpl.rcParams['font.family'] = '바탕'\n",
    "def f(x):\n",
    "    return np.sin(x) + 0.5 * x # 주기함수\n",
    "x = np.linspace(-2 * np.pi, 2 * np.pi, 50)\n",
    "plt.plot(x, f(x), 'b')\n",
    "plt.grid(True)\n",
    "plt.xlabel('x')\n",
    "plt.ylabel('y')"
   ]
  },
  {
   "cell_type": "code",
   "execution_count": null,
   "metadata": {},
   "outputs": [],
   "source": [
    "# 최소제곱법을 이용하여 상기 그래프를 fitting -> 적합\n",
    "# polyfit 다차방정식으로 fitting[적합] -> 계수를 찾아내는 것\n",
    "\n",
    "reg = np.polyfit(x, f(x), deg=5)# 5차방정식으로 피팅하라\n",
    "ry = np.polyval(reg, x) # 5차방정식으로 회귀, reg 계수값을 이용하여 ry로 출력\n",
    "\n",
    "# 다차방정식으로 복잡한 비선형문제를 푸는 것이 딥러닝이다!\n",
    "\n",
    "plt.plot(x, f(x), 'b', label='f(x)') # 원본데이터\n",
    "plt.plot(x, ry, 'r.', label='regression') # 최소제곱법으로 피팅\n",
    "plt.legend(loc=0)\n",
    "plt.grid(True)\n",
    "plt.xlabel('x')\n",
    "plt.ylabel('f(x)')"
   ]
  },
  {
   "cell_type": "code",
   "execution_count": 1,
   "metadata": {},
   "outputs": [
    {
     "data": {
      "text/html": [
       "<div style=\"width:100%;\"><div style=\"position:relative;width:100%;height:0;padding-bottom:60%;\"><iframe src=\"data:text/html;charset=utf-8;base64,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\" style=\"position:absolute;width:100%;height:100%;left:0;top:0;border:none !important;\" allowfullscreen webkitallowfullscreen mozallowfullscreen></iframe></div></div>"
      ],
      "text/plain": [
       "<folium.folium.Map at 0x220932db4e0>"
      ]
     },
     "execution_count": 1,
     "metadata": {},
     "output_type": "execute_result"
    }
   ],
   "source": [
    "import folium\n",
    "# 위경도 좌표\n",
    "map_1 = folium.Map(location = [37.565711, 126.978090], zoom_start=16) # 확대축소\n",
    "map_1\n",
    "# titles ='Stamen Terrain')\n",
    "folium.Marker([37.565711, 126.978090], popup='서울시청').add_to(map_1)\n",
    "folium.Marker([37.565711, 126.978090], popup='서울시청 밑', icon = folium.Icon(icon='cloud')).add_to(map_1)\n",
    "map_1\n"
   ]
  },
  {
   "cell_type": "code",
   "execution_count": null,
   "metadata": {},
   "outputs": [],
   "source": [
    "# 숙제 : 서울 소재 10개 대학의 좌표를 출력해보시오\n",
    "# 메일로 제출"
   ]
  },
  {
   "cell_type": "code",
   "execution_count": null,
   "metadata": {},
   "outputs": [],
   "source": [
    "# pandas : Series, DataFrame, Panel\n",
    "# numpy가 베이스.. 그래서 numpy방식의 인덱싱이 가능, dict(중복을 허용, 순서를 보장)"
   ]
  },
  {
   "cell_type": "code",
   "execution_count": null,
   "metadata": {},
   "outputs": [],
   "source": [
    "import pandas as pd\n",
    "data = {'a':0., 'b':1., 'c':2.}\n",
    "s = pd.Series(data) # 1차원\n",
    "print(s['a'])# 키 인덱싱\n",
    "s = pd.Series(data, index=['b','c','d','a'])# index행이름\n",
    "print(s['a'])\n",
    "print(s['d'])# 데이터가 없을 때는 nan\n",
    "list(s)"
   ]
  },
  {
   "cell_type": "code",
   "execution_count": null,
   "metadata": {},
   "outputs": [],
   "source": [
    "s = pd.Series([1,2,3,4,5], index = ['a','b','c','d','e'])\n",
    "print(\"인덱스에 의한 출력 \", s[0]) # 순서에 의한 인덱스\n",
    "print(s['a'])# 키에 의한 인덱스\n",
    "print(s[:3])# numpy\n",
    "print(\"음수\",s[-3:])\n",
    "s['a'] = 100\n",
    "print(s['a'])\n",
    "s['f']=10\n",
    "print(s['f'])\n",
    "print('filtering에 의한 출력 ', s[s>4])# 인덱스 : boolean index\n",
    "print(s)\n",
    "print(s*2)"
   ]
  },
  {
   "cell_type": "code",
   "execution_count": null,
   "metadata": {},
   "outputs": [],
   "source": [
    "import numpy as np\n",
    "import pandas as pd\n",
    "# range => list\n",
    "# arange => ndarray\n",
    "# RangeIndex => Index\n",
    "\n",
    "data = np.array(['a','b','c','d'])# 인덱스 옵션 넣지 않으면 자동으로 RangeIndex 객체가 자동으로 생성됨\n",
    "s = pd.Series(data) # ndarray를 이용해 시리즈 초기화\n",
    "print(\"시리즈 데이터\", s.values)# 값만\n",
    "print(\"시리즈 인덱스\", s.index) # RangeIndex(start = 0, stop = 4, step= 1)\n",
    "print(\"시리즈 초기화\", s)\n",
    "print(\"시리즈 인덱스의 값\", s.index.values)\n",
    "\n",
    "print(s[0])\n",
    "print(s.head()) # head() tail()\n",
    "print(s.value_counts())# 도수분포표\n",
    "print(s.value_counts(normalize=True)) # 상대도수분포표\n",
    "print(s.describe()) # 숫자변수에 대해서만, 전체갯수, 범주 4개 \n",
    "# 문자열 => object\n",
    "\n",
    "print(\"데이터타입 : \", s.dtypes)\n",
    "print(\"차원\",s.ndim)\n",
    "print(\"차수\",s.shape)"
   ]
  },
  {
   "cell_type": "code",
   "execution_count": null,
   "metadata": {},
   "outputs": [],
   "source": [
    "# dict\n",
    "\n",
    "sdata = { 'Ohio' : 35000, 'Texas':71000, 'Oregon':16000, 'Utah':5000 }\n",
    "obj3 = pd.Series(sdata)\n",
    "print(obj3)\n",
    "print(obj3.shape)\n",
    "states = ['California', 'Ohio', 'Oregon', 'Texas']\n",
    "obj4 = pd.Series(sdata, index=states) # California : nan\n",
    "print(obj4)\n",
    "print(\"시리즈 인덱스 \", obj3.index)\n",
    "print(\"시리즈 인덱스 \", obj4.index)\n",
    "print(\"null이 있는가\\n\", pd.isnull(obj4))# 데이터가 null일때 True\n",
    "print(\"결측치가 있는가\\n\", pd.notnull(obj4))# 데이터가 null일때 False\n",
    "print(\"객체 출력\")\n",
    "print(\"obj3을 출력합니다\\n\", obj3)\n",
    "print(\"obj4을 출력합니다\\n\", obj4)\n",
    "# 짝이 맞지 않기 때문에..\n",
    "# Index가 다름 -> 짝이 없으면 NaN\n",
    "print(\"연산결과를 출력합니다\\n.\", obj3 + obj4)"
   ]
  },
  {
   "cell_type": "code",
   "execution_count": null,
   "metadata": {},
   "outputs": [],
   "source": [
    "s = pd.Series(['A','B', 'Aaba', 'Baca', np.nan, 'CABA', 'cat'])\n",
    "s.str.count('a')# 시리즈는 str함수도 지원"
   ]
  },
  {
   "cell_type": "code",
   "execution_count": null,
   "metadata": {},
   "outputs": [],
   "source": [
    "s = pd.Series([1,2,2.5,3,3.5,4,5])\n",
    "s.plot.kde() # kernel density estimate\n",
    "plt.show()"
   ]
  },
  {
   "cell_type": "code",
   "execution_count": null,
   "metadata": {},
   "outputs": [],
   "source": [
    "s.plot.kde(bw_method=0.3) # bin widths 조금씩 기준을 두어 예측,.. 과적합\n",
    "plt.show()"
   ]
  },
  {
   "cell_type": "code",
   "execution_count": null,
   "metadata": {},
   "outputs": [],
   "source": [
    "import pandas as pd\n",
    "area = pd.Series({'California': 423967, 'Texas': 695662,\n",
    "                  'New York': 141297, 'Florida': 170312,\n",
    "                  'Illinois': 149995})\n",
    "pop = pd.Series({'California': 38332521, 'Texas': 26448193,\n",
    "                 'New York': 19651127, 'Florida': 19552860,\n",
    "                 'Illinois': 12882135})\n",
    "data = pd.DataFrame({'area':area, 'pop':pop})\n",
    "data"
   ]
  },
  {
   "cell_type": "code",
   "execution_count": null,
   "metadata": {},
   "outputs": [],
   "source": [
    "data['area']\n",
    "data.area\n",
    "# 접근방식 달리해도 결과는 같다"
   ]
  },
  {
   "cell_type": "code",
   "execution_count": null,
   "metadata": {},
   "outputs": [],
   "source": [
    "# 객체 비교 is None\n",
    "data.area is data['area']"
   ]
  },
  {
   "cell_type": "code",
   "execution_count": null,
   "metadata": {},
   "outputs": [],
   "source": [
    "# 객체에서 변수를 실시간으로 추가하는 것이 가능\n",
    "# 리스트에서는 append\n",
    "data['density'] = data['pop'] / data['area']\n",
    "data"
   ]
  },
  {
   "cell_type": "code",
   "execution_count": null,
   "metadata": {},
   "outputs": [],
   "source": [
    "data.values# 값만 가져오기 #ndarray => numpy의 함수로 처리"
   ]
  },
  {
   "cell_type": "code",
   "execution_count": null,
   "metadata": {},
   "outputs": [],
   "source": [
    "data.T # 전치도 됨"
   ]
  },
  {
   "cell_type": "code",
   "execution_count": null,
   "metadata": {},
   "outputs": [],
   "source": [
    "data.values[0]# 행값"
   ]
  },
  {
   "cell_type": "code",
   "execution_count": null,
   "metadata": {},
   "outputs": [],
   "source": [
    "data.iloc[:3, :2] # 행과 열로 입력 integer location"
   ]
  },
  {
   "cell_type": "code",
   "execution_count": null,
   "metadata": {},
   "outputs": [],
   "source": [
    "data.loc[:'Illinois', :'pop']# 키로조회할땐 loc"
   ]
  },
  {
   "cell_type": "code",
   "execution_count": null,
   "metadata": {},
   "outputs": [],
   "source": [
    "data.iloc[0,2] = 90\n",
    "data"
   ]
  },
  {
   "cell_type": "code",
   "execution_count": null,
   "metadata": {},
   "outputs": [],
   "source": [
    "data['Florida':'Illinois']"
   ]
  },
  {
   "cell_type": "code",
   "execution_count": null,
   "metadata": {},
   "outputs": [],
   "source": [
    "import pandas as pd\n",
    "import numpy as np\n",
    "\n",
    "d = {'Name':pd.Series(['김하나','이하나','삼하나','사하나','오하나','육하나','칠하나', '팔하나']),\n",
    "   'Age':pd.Series([25,26,25,23,30,29,23]),\n",
    "   'Rating':pd.Series([4.23,3.24,3.98,2.56,3.20,4.6,3.8])}"
   ]
  },
  {
   "cell_type": "code",
   "execution_count": null,
   "metadata": {},
   "outputs": [],
   "source": [
    "df = pd.DataFrame(d)\n",
    "print(df)\n",
    "print('축',df.axes)\n",
    "print('데이터 타입', df.dtypes)\n",
    "print('데이터 타입', df.get_dtype_counts) # unique(중복무)\n",
    "print('비었나', df.empty)# 데이터가 비었는지\n",
    "print('차원', df.ndim)\n",
    "print('차수', df.shape)\n",
    "print('사이즈', df.size)\n",
    "print('값', df.values)\n",
    "print(df.head(2))\n",
    "print(df.tail(2))"
   ]
  },
  {
   "cell_type": "code",
   "execution_count": null,
   "metadata": {},
   "outputs": [],
   "source": [
    "print(\"합계\\n\", df.sum(), '\\n') # 전체 데이터 합\n",
    "print(df.mean(),'\\n') # 숫자만적용\n",
    "print(df.std(),'\\n')# standard deviation 표준편차\n",
    "print(df.describe(),'\\n') # 숫자에만 적용됨\n",
    "print('오브젝트', df.describe(include=['object']), '\\n') # \n",
    "print(df.describe(include='all'))"
   ]
  },
  {
   "cell_type": "code",
   "execution_count": null,
   "metadata": {},
   "outputs": [],
   "source": [
    "import pandas as pd\n",
    "data={'state': ['경기', '강원', '서울', '충북', '인천'],\n",
    "      'year':[2000,2001,2002,2001,2002],\n",
    "      'pop':[1.5,1.7,3.6,2.4,2.9]}\n",
    "\n",
    "frame2=pd.DataFrame(data, columns=['year', 'state', 'pop', 'debt'],\n",
    "                 index=['one', 'two', 'three', 'four', 'five']) "
   ]
  },
  {
   "cell_type": "code",
   "execution_count": null,
   "metadata": {},
   "outputs": [],
   "source": [
    "# 1) state만 출력하시오\n",
    "# 2) debt 열을 추가하고 모든 값을 16.5로 입력하시오\n",
    "# 3) debt를 pd.Series([-1.2, -1.5, -1.7], index = ['two', 'four', 'five'])로 수정하시오\n",
    "# 4) 파생변수 'estern'에 주소가 서울인가를 따져 서울은 True 아니면 False가 입력되게 하시오"
   ]
  },
  {
   "cell_type": "code",
   "execution_count": null,
   "metadata": {},
   "outputs": [],
   "source": [
    "# 1) state만 출력하시오\n",
    "frame2['state']"
   ]
  },
  {
   "cell_type": "code",
   "execution_count": null,
   "metadata": {},
   "outputs": [],
   "source": [
    "# 2) debt 열을 추가하고 모든 값을 16.5로 입력하시오\n",
    "frame2['debt'] = 16.5\n",
    "frame2"
   ]
  },
  {
   "cell_type": "code",
   "execution_count": null,
   "metadata": {},
   "outputs": [],
   "source": [
    "# 3) debt를 pd.Series([-1.2, -1.5, -1.7], index = ['two', 'four', 'five'])로 수정하시오\n",
    "v = pd.Series([-1.2, -1.5, -1.7], index = ['two', 'four', 'five'])\n",
    "frame2['debt'] = v\n",
    "frame2"
   ]
  },
  {
   "cell_type": "code",
   "execution_count": null,
   "metadata": {},
   "outputs": [],
   "source": [
    "# 4) 파생변수 'estern'에 주소가 서울인가를 따져 서울은 True 아니면 False가 입력되게 하시오\n",
    "frame2['estern'] = frame2.state == '서울'\n",
    "frame2\n",
    "\n",
    "# 지우고프면\n",
    "#del frame2['estern']\n",
    "\n",
    "# 열이먼저옴\n",
    "print(frame2['year']['one'])\n",
    "# 그러니 loc쓰자\n",
    "print(frame2.loc['one', 'year'])"
   ]
  },
  {
   "cell_type": "code",
   "execution_count": null,
   "metadata": {},
   "outputs": [],
   "source": [
    "# 시간함수\n",
    "# 리눅스 : timestamp 1970.1.1 이후로 경과된 mili초로 표현\n",
    "# 판다스 내부에서는 timestamp로 데이터 저장됨\n",
    "\n",
    "# pandas 에서는 nano초까지 표현\n",
    "# 판다스에서는 시간인덱스 지원함 : 시계열 분석 : DateTimeIndex, PeriodIndex(주기값)\n",
    "# 파이썬 : time.time() : 2000. 1. 1 부터 경과된 mili초로 표현\n",
    "# datetime(날짜와 시간을 표현)"
   ]
  },
  {
   "cell_type": "code",
   "execution_count": null,
   "metadata": {},
   "outputs": [],
   "source": [
    "import time\n",
    "print(time.time()) # 밀리초로 표현\n",
    "print(time.localtime()) # 년월일 시분초\n",
    "yesterday = time.localtime(time.time()-60*60*24) # 시간연산도 가능\n",
    "yesterday\n",
    "print(yesterday)\n",
    "time.strftime('%Y %m %d') # 시간을 문자열로 변경해서 출력"
   ]
  },
  {
   "cell_type": "code",
   "execution_count": null,
   "metadata": {},
   "outputs": [],
   "source": [
    "from datetime import date, time, datetime, timedelta # 시간 차\n",
    "now = datetime.now() # 년원일 시분초\n",
    "print(now)\n",
    "now.year, now.month, now.day # 시간을 년 원 일로 각각 표시\n",
    "now.timestamp() # 시간을 밀리초로 표현하고플때"
   ]
  },
  {
   "cell_type": "code",
   "execution_count": null,
   "metadata": {},
   "outputs": [],
   "source": [
    "now_str = now.strftime('%Y-%m-%d %H:%M:%S') # 년월일시분초 -> 문자열\n",
    "print(now_str)\n",
    "print(type(now_str))"
   ]
  },
  {
   "cell_type": "code",
   "execution_count": null,
   "metadata": {},
   "outputs": [],
   "source": [
    "dd = datetime.strptime(now_str, '%Y-%m-%d %H:%M:%S')\n",
    "# 날짜 형식으로 변환\n",
    "print(dd)\n",
    "print(type(dd))"
   ]
  },
  {
   "cell_type": "code",
   "execution_count": null,
   "metadata": {},
   "outputs": [],
   "source": [
    "delta = datetime(2015, 1, 7) - datetime(2010,6,24,8,15)\n",
    "print('시간차는=',delta,delta.days, delta.seconds)"
   ]
  },
  {
   "cell_type": "code",
   "execution_count": null,
   "metadata": {},
   "outputs": [],
   "source": [
    "start = datetime(2019,1,7)\n",
    "print(start + timedelta(12))# 기본이 날짜\n",
    "start + timedelta(hours=-5)"
   ]
  },
  {
   "cell_type": "code",
   "execution_count": null,
   "metadata": {},
   "outputs": [],
   "source": [
    "import pandas as pd\n",
    "# 판다스 에서의 타임 제어\n",
    "print(pd.datetime.now())\n",
    "\n",
    "print(pd.Timestamp('2017-03-01'))\n",
    "print(pd.Timestamp(1587687255, unit='s'))"
   ]
  },
  {
   "cell_type": "code",
   "execution_count": null,
   "metadata": {},
   "outputs": [],
   "source": [
    "#DatetimeIndex\n",
    "print(pd.date_range('11:00', '13:30', freq='30min'), '\\n')\n",
    "print(\"시간으로\\n\", pd.date_range('11:00', '13:30', freq='30min').time, '\\n') # 시간만 표시\n",
    "print(pd.date_range('11:00', '13:30', freq='H'))# 시간단위로"
   ]
  },
  {
   "cell_type": "code",
   "execution_count": null,
   "metadata": {},
   "outputs": [],
   "source": [
    "# 지정된 시간을 DatetimeIndex로 생성 \n",
    "print(pd.to_datetime(pd.Series(['Jul 31, 2009', '2010-01-10', None])))\n",
    "print(pd.to_datetime(['2005/11/23', '2010.12.31', None]))"
   ]
  },
  {
   "cell_type": "code",
   "execution_count": null,
   "metadata": {},
   "outputs": [],
   "source": [
    "print(pd.date_range('1/1/2017', periods = 5)) # 기본주기는 날짜"
   ]
  },
  {
   "cell_type": "code",
   "execution_count": null,
   "metadata": {},
   "outputs": [],
   "source": [
    "print(pd.date_range('1/1/2017', periods=5, freq='M'))"
   ]
  },
  {
   "cell_type": "code",
   "execution_count": null,
   "metadata": {},
   "outputs": [],
   "source": [
    "ts = pd.Series(np.random.randn(1000),\n",
    "              index=pd.date_range('1/1/2000', periods=1000))\n",
    "ts = ts.cumsum()\n",
    "ts.plot()\n",
    "\n",
    "df = pd.DataFrame(np.random.randn(1000,4), index=ts.index,\n",
    "                 columns=list('ABCD'))\n",
    "df = df.cumsum()\n",
    "df.plot()\n",
    "df.plot.bar()"
   ]
  },
  {
   "cell_type": "code",
   "execution_count": null,
   "metadata": {},
   "outputs": [],
   "source": [
    "columns = ['지역','2018','2017','2016','2015','2015-2018증가율']\n",
    "index = ['서울', '부산', '인천', '대구']"
   ]
  },
  {
   "cell_type": "code",
   "execution_count": null,
   "metadata": {},
   "outputs": [],
   "source": [
    "\n",
    "# 문제 다음 데이터를 데이터프레임에 저장하시요\n",
    "#         지역  2018     2017    2016     2015    2015-2018 증가율\n",
    "# 서울 수도권  9904312 9631482 9762546 9853972    0.0283\n",
    "# 부산 경상권  3448737 3393191 3512547 3655437    0.0163\n",
    "# 인천 수도권  2890451 2632035 2517680 2466338    0.0982\n",
    "# 대구 경상권  2466052 2431774 2456016 2473990    0.0141 \n",
    "\n",
    "# 문제 : '2015-2018 증가율'을 %로 변경하시오\n",
    "\n",
    "# 문제 : 2015-2017의 증가율을 구해서 변수를 추가하시오\n",
    "# [ 열 이름 : 2015-2017증가율 ]\n"
   ]
  },
  {
   "cell_type": "code",
   "execution_count": null,
   "metadata": {},
   "outputs": [],
   "source": [
    "import pandas as pd\n",
    "\n",
    "data = { '지역' : ['수도권', '경상권', '수도권', '경상권'],\n",
    "       '2018' : [9904312, 3448737, 2890451, 2466052],\n",
    "       '2017' : [9631482, 3393191, 2632035, 2431774],\n",
    "       '2016' : [9762546, 3512547, 2517680, 2456016],\n",
    "       '2015' : [9853972, 3655437, 2466338, 2473990],\n",
    "       '2015-2018증가율':[0.0283, 0.0163, 0.0982, 0.0141] }\n",
    "\n",
    "df = pd.DataFrame(data, columns = ['지역','2018','2017','2016','2015','2015-2018증가율'], index = ['서울', '부산', '인천', '대구'] )\n",
    "df\n"
   ]
  },
  {
   "cell_type": "code",
   "execution_count": null,
   "metadata": {},
   "outputs": [],
   "source": [
    "# 문제 : '2015-2018 증가율'을 %로 변경하시오\n",
    "df['2015-2018증가율'] = df['2015-2018증가율']*100\n",
    "df"
   ]
  },
  {
   "cell_type": "code",
   "execution_count": null,
   "metadata": {},
   "outputs": [],
   "source": [
    "# 문제 : 2015-2017의 증가율을 구해서 변수를 추가하시오\n",
    "# [ 열 이름 : 2015-2017증가율 ]\n",
    "df['2015-2017증가율'] = ((df['2017']-df['2015']) / df['2015'])\n",
    "df['2015-2017증가율'] = round(df['2015-2017증가율'] * 100, 2)\n",
    "df"
   ]
  },
  {
   "cell_type": "code",
   "execution_count": null,
   "metadata": {},
   "outputs": [],
   "source": []
  },
  {
   "cell_type": "code",
   "execution_count": null,
   "metadata": {},
   "outputs": [],
   "source": []
  }
 ],
 "metadata": {
  "kernelspec": {
   "display_name": "Python 3",
   "language": "python",
   "name": "python3"
  },
  "language_info": {
   "codemirror_mode": {
    "name": "ipython",
    "version": 3
   },
   "file_extension": ".py",
   "mimetype": "text/x-python",
   "name": "python",
   "nbconvert_exporter": "python",
   "pygments_lexer": "ipython3",
   "version": "3.7.3"
  }
 },
 "nbformat": 4,
 "nbformat_minor": 2
}
