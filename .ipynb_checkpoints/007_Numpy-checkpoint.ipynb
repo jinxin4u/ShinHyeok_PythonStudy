{
 "cells": [
  {
   "cell_type": "code",
   "execution_count": 1,
   "metadata": {},
   "outputs": [
    {
     "name": "stdout",
     "output_type": "stream",
     "text": [
      "1.16.4\n",
      "type : <class 'numpy.ndarray'>\n",
      "shape : (3,), dimension : 1, dtype : int32\n",
      "Array's Data : \n",
      " [1 2 3]\n"
     ]
    }
   ],
   "source": [
    "# flask : 웹 서버 기능, 5000번 포트로 서비스\n",
    "\n",
    "import matplotlib # 시각화 패키지\n",
    "import numpy as np # 클래스로 구성되어 있다. as : 별칭\n",
    "\n",
    "print(np.__version__) # __는 상위 오브젝트가 가지고 있는 속성이라는 의미\n",
    "\n",
    "def pprint(arr):\n",
    "    print(\"type : {}\".format(type(arr)))\n",
    "    print(\"shape : {}, dimension : {}, dtype : {}\".format(arr.shape, arr.ndim, arr.dtype)) # 차수 3개다, 차원 1차원이다, 데이터 타입 숫자의 default는 int32\n",
    "    print(\"Array's Data : \\n\",arr)\n",
    "    \n",
    "arr = [1.0,2.0,3.0] # list\n",
    "a = np.array([1,2,3]) # ndarray : numpy의 기본 데이터 배열 , 매개변수는 리스트로 들어간다\n",
    "pprint(a)"
   ]
  },
  {
   "cell_type": "code",
   "execution_count": 6,
   "metadata": {},
   "outputs": [
    {
     "name": "stdout",
     "output_type": "stream",
     "text": [
      "1509824915376\n",
      "10\n",
      "[0. 1. 2. 3. 4. 5. 6. 7. 8. 9.]\n",
      "40\n"
     ]
    },
    {
     "data": {
      "text/plain": [
       "array([ 0,  1,  2,  3,  4,  5,  6,  7,  8,  9, 10, 11, 12, 13, 14, 15, 16,\n",
       "       17, 18, 19, 20, 21, 22, 23, 24, 25, 26, 27, 28, 29, 30, 31, 32, 33,\n",
       "       34, 35, 36, 37, 38, 39, 40, 41, 42, 43, 44, 45, 46, 47, 48, 49, 50,\n",
       "       51, 52, 53, 54, 55, 56, 57, 58, 59, 60, 61, 62, 63, 64, 65, 66, 67,\n",
       "       68, 69, 70, 71, 72, 73, 74, 75, 76, 77, 78, 79, 80, 81, 82, 83, 84,\n",
       "       85, 86, 87, 88, 89, 90, 91, 92, 93, 94, 95, 96, 97, 98, 99])"
      ]
     },
     "execution_count": 6,
     "metadata": {},
     "output_type": "execute_result"
    }
   ],
   "source": [
    "# 인스턴스 상태에서 ndarray를 만들어보자\n",
    "a = np.array([0,1,2,3,4,5,6,7,8,9])\n",
    "print(id(a)) # 메모리 주소값 확인\n",
    "print(a.size) # 데이터 갯수\n",
    "print(a.astype(np.float32)) # astype : 데이터 타입 변경, numpy 행중심, 동질적\n",
    "print(a.dtype.itemsize*a.size) # 전체 메모리 사이즈(byte) = 타입 고유의 사이즈 * 차수 수\n",
    "\n",
    "# iterator\n",
    "# range는 list를 만들고, arange는 ndarray를 만든다.\n",
    "a = np.arange(100)\n",
    "a"
   ]
  },
  {
   "cell_type": "code",
   "execution_count": 8,
   "metadata": {},
   "outputs": [
    {
     "name": "stdout",
     "output_type": "stream",
     "text": [
      "[[0. 0. 0. 0.]\n",
      " [0. 0. 0. 0.]\n",
      " [0. 0. 0. 0.]]\n",
      "[[[1 1 1 1]\n",
      "  [1 1 1 1]\n",
      "  [1 1 1 1]]\n",
      "\n",
      " [[1 1 1 1]\n",
      "  [1 1 1 1]\n",
      "  [1 1 1 1]]]\n",
      "[[7 7]\n",
      " [7 7]]\n",
      "[[1. 0. 0. 0.]\n",
      " [0. 1. 0. 0.]\n",
      " [0. 0. 1. 0.]\n",
      " [0. 0. 0. 1.]]\n",
      "[[0.00000000e+000 0.00000000e+000]\n",
      " [0.00000000e+000 0.00000000e+000]\n",
      " [0.00000000e+000 4.62445445e-321]\n",
      " [1.24611470e-306 8.90060779e-307]]\n"
     ]
    }
   ],
   "source": [
    "# ndarray 초기화 함수\n",
    "print( np.zeros( (3,4) ) ) # 0 채워넣기\n",
    "print( np.ones( (2,3,4), dtype = np.int16 ) ) # 1채워넣기 3차원[] 2면, 3행, 4열 ]\n",
    "print( np.full( (2,2), 7) ) # 2행 x 2열 7로 채워넣기\n",
    "print( np.eye(4) ) # 대각 1넣기, 대각행렬 identity 항등원 + 0 * 1\n",
    "print( np.empty( (4, 2) ) ) # 쓰레기값..."
   ]
  },
  {
   "cell_type": "code",
   "execution_count": 10,
   "metadata": {},
   "outputs": [
    {
     "name": "stdout",
     "output_type": "stream",
     "text": [
      "[1, 5, -1]\n",
      "[ 0 10 20 30 40 50 60 70 80 90]\n",
      "[10 50 90]\n"
     ]
    }
   ],
   "source": [
    "a = np.arange(0, 100, 10)\n",
    "indices = [1, 5, -1]\n",
    "print(indices)\n",
    "b = a[indices] # 리스트를 첨자로 사용\n",
    "print(a)\n",
    "print(b)"
   ]
  },
  {
   "cell_type": "code",
   "execution_count": 13,
   "metadata": {},
   "outputs": [
    {
     "name": "stdout",
     "output_type": "stream",
     "text": [
      "[11 12 13 14 15 16 17 18 19 20 21 22 23 24 25 26 27 28 29 30 31 32 33 34\n",
      " 35]\n",
      "[[11 12 13 14 15]\n",
      " [16 17 18 19 20]\n",
      " [21 22 23 24 25]\n",
      " [26 27 28 29 30]\n",
      " [31 32 33 34 35]]\n",
      "<class 'numpy.ndarray'>\n",
      "int32\n",
      "25\n",
      "(5, 5)\n",
      "2\n",
      "100\n",
      "(20, 4)\n"
     ]
    }
   ],
   "source": [
    "a = np.arange(11, 36)\n",
    "print(a)\n",
    "a.shape = (5,5) # 행렬은 정상모양을 갖춘 개수로 표현\n",
    "print(a)\n",
    "print(type(a))\n",
    "print(a.dtype)\n",
    "print(a.size)\n",
    "print(a.shape) # 차수\n",
    "print(a.ndim) # 차원\n",
    "print(a.nbytes) # 100바이트 = 25개 * 4바이트\n",
    "print(a.strides) # 다음 행,열의 데이터는 몇 바이트를 건너뛰는가"
   ]
  },
  {
   "cell_type": "code",
   "execution_count": 14,
   "metadata": {},
   "outputs": [
    {
     "name": "stdout",
     "output_type": "stream",
     "text": [
      "<class 'numpy.ndarray'>\n",
      "[0 1 2 3 4 5 6 7 8 9]\n",
      "5\n",
      "[5 6 7]\n",
      "[ 1  2  3  4 12]\n"
     ]
    }
   ],
   "source": [
    "arr = np.arange(10)\n",
    "print(type(arr))\n",
    "print(arr)\n",
    "print(arr[5])\n",
    "print(arr[5:8])\n",
    "arr[5:8] = 12\n",
    "print(arr[1:6])"
   ]
  },
  {
   "cell_type": "code",
   "execution_count": 16,
   "metadata": {},
   "outputs": [
    {
     "name": "stdout",
     "output_type": "stream",
     "text": [
      "[1 2 3]\n",
      "3\n",
      "3\n",
      "[[1 2 3]\n",
      " [4 5 6]]\n",
      "[[2 3]\n",
      " [5 6]]\n",
      "[4 5]\n",
      "[7]\n",
      "[[0 2 3]\n",
      " [0 5 6]\n",
      " [7 8 9]]\n"
     ]
    }
   ],
   "source": [
    "# numpy 첨자생략 불가 [,4] 이런 것 안됨\n",
    "\n",
    "arr2d = np.array([ [1,2,3], [4,5,6], [7,8,9] ])\n",
    "print(arr2d[0]) # 행우선 이니 0행 출력\n",
    "print(arr2d[0][2]) # 0행 2열\n",
    "print(arr2d[0,2])\n",
    "print(arr2d[:2]) # 0,1행\n",
    "print(arr2d[:2,1:])\n",
    "print(arr2d[:,1:]) # :는 모든 행\n",
    "print(arr2d[1,:2])\n",
    "print(arr2d[2,:1])\n",
    "arr2d[:2, :1] = 0\n",
    "arr2d[:2, :1] = 0\n",
    "print(arr2d)"
   ]
  },
  {
   "cell_type": "code",
   "execution_count": 17,
   "metadata": {},
   "outputs": [
    {
     "name": "stdout",
     "output_type": "stream",
     "text": [
      "스트라이드의 값 (160, 40, 8)\n"
     ]
    }
   ],
   "source": [
    "# 사람이 데이터를 다루는 것은 입체로 하나, 실제 메모리에는 일렬로 저장\n",
    "\n",
    "# 행렬연산에서의 앞의 행렬열수와 뒤의 행렬 행수를 일치시켜야 행렬곱이 가능하므로,\n",
    "# 행렬곱에서 행렬의 계산 순서를 바꾸면 안됨\n",
    "\n",
    "print(\"스트라이드의 값\", np.ones((3,4,5), dtype=np.float64).strides )\n",
    "# 단일데이터가 float64 : 8바이트\n",
    "# 40 = 5열 * 8바이트\n",
    "# 160 = 4행 * 5열 * 8바이트"
   ]
  },
  {
   "cell_type": "code",
   "execution_count": 22,
   "metadata": {},
   "outputs": [
    {
     "name": "stdout",
     "output_type": "stream",
     "text": [
      "첫 면은 =  [[1 2 3]\n",
      " [4 5 6]]\n",
      "첫 면의 첫행은 =  [1 2 3]\n",
      "첫요소는 =  1\n",
      "8\n",
      "12\n"
     ]
    }
   ],
   "source": [
    "# 문제\n",
    "arr3d = np.array([ [[1,2,3], [4,5,6]], [[7,8,9],[10,11,12]] ]) # 2, 2, 3\n",
    "print(\"첫 면은 = \", arr3d[0])\n",
    "print(\"첫 면의 첫행은 = \", arr3d[0,0])\n",
    "print(\"첫요소는 = \", arr3d[0,0,0])\n",
    "\n",
    "# 8을 출력해봅시다\n",
    "print(arr3d[1,0,1])\n",
    "# 12를 출력해봅시다\n",
    "print(arr3d[1,1,2])"
   ]
  },
  {
   "cell_type": "code",
   "execution_count": 26,
   "metadata": {},
   "outputs": [
    {
     "name": "stdout",
     "output_type": "stream",
     "text": [
      "값의 변경 후\n",
      "[[[42 42 42]\n",
      "  [42 42 42]]\n",
      "\n",
      " [[ 7  8  9]\n",
      "  [10 11 12]]] \n",
      "\n",
      " 이전 값으로 복구\n",
      "[[[42 42 42]\n",
      "  [42 42 42]]\n",
      "\n",
      " [[ 7  8  9]\n",
      "  [10 11 12]]] \n",
      "\n",
      "값의 변경 후\n",
      "[[[42 42 42]\n",
      "  [42 42 42]]\n",
      "\n",
      " [[ 7  8  9]\n",
      "  [10 11 12]]] \n",
      "\n",
      " 이전 값으로 복구\n",
      "[[[42 42 42]\n",
      "  [42 42 42]]\n",
      "\n",
      " [[ 7  8  9]\n",
      "  [10 11 12]]] \n",
      "\n"
     ]
    }
   ],
   "source": [
    "# 백업이 안됨 : 대입하면 같은 주소를 가리키기 때문\n",
    "old_values = arr3d # 대입 : 주소를 복사\n",
    "arr3d[0] = 42\n",
    "print(\"값의 변경 후\")\n",
    "print(arr3d,'\\n')\n",
    "print(\" 이전 값으로 복구\")\n",
    "arr3d = old_values\n",
    "print(arr3d,'\\n')\n",
    "\n",
    "# old_values = arr3d.copy() # 값을 복사\n",
    "# arr3d[0] = 42\n",
    "# print(\"값의 변경 후\")\n",
    "# print(arr3d,'\\n')\n",
    "# print(\" 이전 값으로 복구\")\n",
    "# arr3d = old_values\n",
    "# print(arr3d,'\\n')\n"
   ]
  },
  {
   "cell_type": "code",
   "execution_count": 28,
   "metadata": {},
   "outputs": [
    {
     "name": "stdout",
     "output_type": "stream",
     "text": [
      "[ 0  1  2  3  4  5  6  7  8  9 10 11 12 13 14 15 16 17 18 19 20 21 22 23\n",
      " 24 25 26 27 28 29 30 31 32 33 34 35] \n",
      "\n",
      "[[[ 0  1  2  3  4  5]\n",
      "  [ 6  7  8  9 10 11]\n",
      "  [12 13 14 15 16 17]]\n",
      "\n",
      " [[18 19 20 21 22 23]\n",
      "  [24 25 26 27 28 29]\n",
      "  [30 31 32 33 34 35]]]\n"
     ]
    }
   ],
   "source": [
    "Z = np.arange(36)\n",
    "print(Z,'\\n')\n",
    "Z = Z.reshape((6,6))\n",
    "reshape2 = Z.reshape((2,3,6))\n",
    "print(reshape2)"
   ]
  },
  {
   "cell_type": "code",
   "execution_count": 8,
   "metadata": {},
   "outputs": [
    {
     "name": "stdout",
     "output_type": "stream",
     "text": [
      "[[ 0  1  2  3]\n",
      " [ 4  5  6  7]\n",
      " [ 8  9 10 11]\n",
      " [12 13 14 15]\n",
      " [16 17 18 19]\n",
      " [20 21 22 23]\n",
      " [24 25 26 27]\n",
      " [28 29 30 31]] \n",
      "\n",
      "[[ 4  5  6  7]\n",
      " [20 21 22 23]\n",
      " [28 29 30 31]\n",
      " [ 8  9 10 11]] \n",
      "\n",
      "[[28 29 30 31]\n",
      " [12 13 14 15]\n",
      " [ 4  5  6  7]\n",
      " [24 25 26 27]] \n",
      "\n",
      "[ 4 23 29 10] \n",
      "\n",
      "[[ 4  5  6  7]\n",
      " [ 8  9 10 11]\n",
      " [20 21 22 23]\n",
      " [28 29 30 31]] \n",
      "\n",
      "[[ 4  7  5  6]\n",
      " [20 23 21 22]\n",
      " [28 31 29 30]\n",
      " [ 8 11  9 10]]\n"
     ]
    }
   ],
   "source": [
    "arr = np.arange(32).reshape((8,4))\n",
    "print(arr,'\\n')\n",
    "print(arr[[1,5,7,2]],'\\n') # 행중심\n",
    "print(arr[[-1,-5,-7,-2]],'\\n')\n",
    "print(arr[ [1,5,7,2], [0,3,1,2] ],'\\n')\n",
    "\n",
    "# fancy 인덱싱\n",
    "print(arr[[1,2,5,7]] [:,[0,1,2,3]],'\\n')\n",
    "print(arr[[1,5,7,2]] [:,[0,3,1,2]])"
   ]
  },
  {
   "cell_type": "code",
   "execution_count": 27,
   "metadata": {},
   "outputs": [
    {
     "name": "stdout",
     "output_type": "stream",
     "text": [
      "[[0, 1, 2, 3, 4, 5], [10, 11, 12, 13, 14, 15], [20, 21, 22, 23, 24, 25], [30, 31, 32, 33, 34, 35], [40, 41, 42, 43, 44, 45], [50, 51, 52, 53, 54, 55]]\n",
      "[ 2 22 52]\n",
      "\n",
      "[ 1 12 23 34 45]\n",
      "\n",
      "[[30 32 35]\n",
      " [40 42 45]\n",
      " [50 52 55]]\n"
     ]
    }
   ],
   "source": [
    "arr = []\n",
    "for i in range(6):\n",
    "    ad = []\n",
    "    for j in range(6):\n",
    "        ad.append( i*10 + j )\n",
    "    arr.append(ad)\n",
    "print(arr)\n",
    "arr = np.array(arr)\n",
    "\n",
    "# 빨간거\n",
    "print(arr[[0,2,5],2]); print()\n",
    "\n",
    "# 주황색\n",
    "print(arr[[0,1,2,3,4],[1,2,3,4,5]]); print()\n",
    "\n",
    "# 옥색\n",
    "print(arr[3:6][:,[0,2,5]])\n"
   ]
  },
  {
   "cell_type": "code",
   "execution_count": 39,
   "metadata": {},
   "outputs": [
    {
     "name": "stdout",
     "output_type": "stream",
     "text": [
      "[ 2 12 22 32 42 52]\n",
      "\n",
      "[3 4]\n",
      "\n",
      "[[20 22 24]\n",
      " [50 52 54]]\n",
      "\n",
      "[[44 45]\n",
      " [54 55]]\n",
      "\n"
     ]
    }
   ],
   "source": [
    "# 문제2\n",
    "\n",
    "# 빨간거\n",
    "print(arr[:,2]); print()\n",
    "\n",
    "# 주황\n",
    "print(arr[0,[3,4]]); print()\n",
    "\n",
    "# 녹\n",
    "print(arr[[2,5]][:,[0,2,4]]); print()\n",
    "\n",
    "# 청녹\n",
    "print(arr[4:][:,[4,5]]); print()\n"
   ]
  },
  {
   "cell_type": "code",
   "execution_count": 43,
   "metadata": {},
   "outputs": [
    {
     "name": "stdout",
     "output_type": "stream",
     "text": [
      "타일출력\n",
      "\n",
      "[[1 0 1]\n",
      " [1 0 1]\n",
      " [1 0 1]\n",
      " [1 0 1]] \n",
      "\n",
      "[[ 2  2  4]\n",
      " [ 5  5  7]\n",
      " [ 8  8 10]\n",
      " [11 11 13]] \n",
      "\n",
      "\n",
      "[[ 2  2  4]\n",
      " [ 5  5  7]\n",
      " [ 8  8 10]\n",
      " [11 11 13]] \n",
      "\n",
      "[[ 4  5  6]\n",
      " [ 7  8  9]\n",
      " [10 11 12]\n",
      " [13 14 15]]\n"
     ]
    }
   ],
   "source": [
    "x = np.array([ [1,2,3], [4,5,6], [7,8,9], [10,11,12] ]) # 4x3\n",
    "v = np.array([1,0,1])\n",
    "print(\"타일출력\\n\")\n",
    "vv = np.tile(v,(4,1)) # 화장실 타일처럼 복사시키기\n",
    "print(vv,'\\n')\n",
    "y = x + vv # 4행3열 배열연산[요소별로 연산 +-*/]     배열연산과 행렬연산은 다르다!!!!!!\n",
    "print(y,'\\n\\n')\n",
    "# 배열연산은 양쪽 차원이 일치해야한다\n",
    "print(x + v,'\\n')# 4x3, 1x3 의 연산이 되나? broadcasting! 행이나 열의 수가 같아야!\n",
    "print(x + 3)"
   ]
  },
  {
   "cell_type": "code",
   "execution_count": 47,
   "metadata": {},
   "outputs": [
    {
     "name": "stdout",
     "output_type": "stream",
     "text": [
      "[[0 1]\n",
      " [2 3]\n",
      " [4 5]]\n",
      "[[0 2 4]\n",
      " [1 3 5]]\n"
     ]
    }
   ],
   "source": [
    "x = np.arange(6).reshape((3,2))\n",
    "print(x)\n",
    "# 거듭제곱(행렬곱)\n",
    "#x @ x # 앞의 열수와 뒤의 행수가 일치해야 한다\n",
    "# (3x2) (3x2)\n",
    "\n",
    "# 전치행렬\n",
    "x@x.T # (3x2) (2x3)\n",
    "\n",
    "print(np.transpose(x)) # 행렬을 바꾸어준다"
   ]
  },
  {
   "cell_type": "code",
   "execution_count": 51,
   "metadata": {},
   "outputs": [
    {
     "name": "stdout",
     "output_type": "stream",
     "text": [
      "[[[ 0  1  2  3]\n",
      "  [ 4  5  6  7]\n",
      "  [ 8  9 10 11]]\n",
      "\n",
      " [[12 13 14 15]\n",
      "  [16 17 18 19]\n",
      "  [20 21 22 23]]]\n",
      "\n",
      "\n",
      "\n",
      "\n",
      "[[[ 0  1  2  3]\n",
      "  [12 13 14 15]]\n",
      "\n",
      " [[ 4  5  6  7]\n",
      "  [16 17 18 19]]\n",
      "\n",
      " [[ 8  9 10 11]\n",
      "  [20 21 22 23]]]\n",
      "\n",
      "\n",
      "\n",
      "\n",
      "[[[ 0  4  8]\n",
      "  [ 1  5  9]\n",
      "  [ 2  6 10]\n",
      "  [ 3  7 11]]\n",
      "\n",
      " [[12 16 20]\n",
      "  [13 17 21]\n",
      "  [14 18 22]\n",
      "  [15 19 23]]]\n"
     ]
    }
   ],
   "source": [
    "arr = np.arange(24).reshape((2,3,4)) # 0,1,2\n",
    "print(arr)\n",
    "print('\\n\\n\\n')\n",
    "print(arr.transpose((1,0,2))) # 3x2x4\n",
    "print('\\n\\n\\n')\n",
    "print(arr.transpose((0,2,1))) # 2x4x3"
   ]
  },
  {
   "cell_type": "markdown",
   "metadata": {},
   "source": [
    "# BOOLEAN INDEXING (TRUE/FALSE)"
   ]
  },
  {
   "cell_type": "code",
   "execution_count": 52,
   "metadata": {},
   "outputs": [
    {
     "name": "stdout",
     "output_type": "stream",
     "text": [
      "[ True False False False False False False]\n",
      "[[ 0.42095613  0.17597758 -0.05644088 -1.10524404]]\n",
      "[[-0.05644088 -1.10524404]]\n",
      "[-1.10524404]\n",
      "[False  True  True  True  True  True  True]\n",
      "[False  True  True  True  True  True  True]\n",
      "[ True False  True False  True False False]\n",
      "[[ 0.42095613  0.17597758 -0.05644088 -1.10524404]\n",
      " [-0.03307741 -0.87156314 -0.52807885  0.60578028]\n",
      " [ 1.37052914  1.3105813   0.5604668  -0.30676522]]\n"
     ]
    }
   ],
   "source": [
    "names = np.array(['Seoul', 'Daejun', 'chungju', 'seoul', 'chungju', 'Daejun', 'Daejun'])\n",
    "data = np.random.randn(7,4)\n",
    "print(names == 'Seoul') # 문자열은 대소문자 구분함  # T,F,F,F,F,F,F\n",
    "print(data[names=='Seoul']) # True인 것만 출력\n",
    "print(data[names=='Seoul', 2:])\n",
    "print(data[names=='Seoul', 3])\n",
    "print(names != 'Seoul') # F,T,T,T,T,T,T\n",
    "print(~(names=='Seoul')) # F,T,T,T,T,T,T\n",
    "mask = (names=='Seoul') | (names=='chungju')\n",
    "print(mask)\n",
    "print(data[mask])"
   ]
  },
  {
   "cell_type": "code",
   "execution_count": 55,
   "metadata": {},
   "outputs": [
    {
     "name": "stdout",
     "output_type": "stream",
     "text": [
      "<zip object at 0x0000015DC12E0048>\n",
      "[(1.1, 2.1, True), (1.2, 2.2, False), (1.3, 2.3, True), (1.4, 2.4, True), (1.5, 2.5, False)]\n",
      "result =  [1.1, 2.2, 1.3, 1.4, 2.5]\n",
      "[1.1 2.2 1.3 1.4 2.5]\n",
      "[[-0.43115124  0.31799955 -0.71370485  0.36621282]\n",
      " [-1.67870128  0.91579184 -0.4281239  -2.15582502]\n",
      " [-1.22680744 -1.59959683 -0.29502866  0.04495333]\n",
      " [ 0.55818941  0.20412896 -0.02008031  0.1374442 ]]\n",
      "[[-2  2 -2  2]\n",
      " [-2  2 -2 -2]\n",
      " [-2 -2 -2  2]\n",
      " [ 2  2 -2  2]]\n"
     ]
    }
   ],
   "source": [
    "xarr = np.array([1.1, 1.2, 1.3, 1.4, 1.5])\n",
    "yarr = np.array([2.1, 2.2, 2.3, 2.4, 2.5])\n",
    "cond = np.array([True, False, True, True, False])\n",
    "\n",
    "print(zip(xarr, yarr, cond)) # zip : 요소별로 데이터를 묶음\n",
    "print(list(zip(xarr, yarr, cond)))\n",
    "result = [(x if c else y) for x,y,c in zip(xarr, yarr, cond)] # 3항연산자\n",
    "print(\"result = \",result)\n",
    "\n",
    "result = np.where(cond, xarr, yarr)\n",
    "print(result)\n",
    "\n",
    "arr = np.random.randn(4,4)\n",
    "print(arr)\n",
    "print(np.where(arr>0, 2, -2))"
   ]
  },
  {
   "cell_type": "code",
   "execution_count": 58,
   "metadata": {},
   "outputs": [
    {
     "name": "stdout",
     "output_type": "stream",
     "text": [
      "[1, 2, 0, 0, 0, 2, 0]\n"
     ]
    }
   ],
   "source": [
    "# 문제 : 다음 데이터를 이용하여\n",
    "# 두개 다 참일 때는 0,\n",
    "# cond1이 참일 때는 1,\n",
    "# cond2가 참일 때는 2\n",
    "# 그 외일 때는 3으로 처리하여 출력하도록 하시오\n",
    "\n",
    "result = []\n",
    "cond1 = np.array([1,0,1,1,0,0,1], dtype=bool)\n",
    "cond2 = np.array([0,1,1,1,0,1,1], dtype=bool)\n",
    "\n",
    "# 조건문으로 하면 4가지\n",
    "for i in range(len(cond1)):\n",
    "    if(cond1[i] and cond2[i]):\n",
    "        result.append(0)\n",
    "    elif cond1[i]:\n",
    "        result.append(1)\n",
    "    elif cond2[i]:\n",
    "        result.append(2)\n",
    "    else:\n",
    "        result.append(3)\n",
    "        \n",
    "# where로 풀면\n",
    "result = np.where(cond1 & cond2, 0, np.where(cond1, 1, np.where(cond2, 2,3)))\n",
    "\n",
    "# 수식을 이용하면\n",
    "result = 1*(cond1&~cond2) + 2*(cond2&~cond1) + 3*~(cond1|cond2)\n",
    "\n",
    "# 내가 해본 것은\n",
    "result = [(0 if (a&b)|(~(a|b)) else (1 if a else (2 if b else 3)) )  for a,b in zip(cond1,cond2)]\n",
    "print(result)"
   ]
  },
  {
   "cell_type": "code",
   "execution_count": 64,
   "metadata": {},
   "outputs": [
    {
     "name": "stdout",
     "output_type": "stream",
     "text": [
      "[10002 10004 10006 ... 29996 29998 30000]\n"
     ]
    }
   ],
   "source": [
    "x = np.arange(1, 10001)\n",
    "y = np.arange(10001, 20001)\n",
    "z = np.zeros_like(x) # 파라메터[다른 행렬]와 같은 사이즈로 초기화\n",
    "\n",
    "for i in range(10000):\n",
    "    z[i] = x[i] + y[i]\n",
    "print(z)"
   ]
  },
  {
   "cell_type": "code",
   "execution_count": 65,
   "metadata": {},
   "outputs": [
    {
     "name": "stdout",
     "output_type": "stream",
     "text": [
      "False\n",
      "[ 2.71828183  7.3890561  20.08553692 54.59815003]\n"
     ]
    }
   ],
   "source": [
    "a = np.array([1,2,3,4])\n",
    "b = np.array([4,2,2,4])\n",
    "print(np.all(a==b)) # 전체가 참일 때 참\n",
    "print(np.any(a==b)) # 하나라도 참이면 참\n",
    "print(np.exp(a)) # 지수함수( 자연대수 : 2.718)"
   ]
  },
  {
   "cell_type": "code",
   "execution_count": null,
   "metadata": {},
   "outputs": [],
   "source": [
    "# 선형대수 : 문제를 선형으로 해결하자 => 비선형도 잘게 나누면 선형"
   ]
  },
  {
   "cell_type": "code",
   "execution_count": null,
   "metadata": {},
   "outputs": [],
   "source": [
    "# 행렬의 종류\n",
    "#- 정방행렬 : 정사각형(행, 열의 수가 같은 행렬)\n",
    "#- 대칭행렬 : 우상단과 좌하단이 같은 것\n",
    "#- 대각행렬 : scale을 변화시키는 요소\n",
    "#- 단위행렬(identity) :  행렬곱의 항등원, 행렬과 역행렬을 곱하면 단위행렬나옴.\n",
    "#- 역행렬 : 행렬의 나눗셈을 위해 구해서 곱해지는 행렬[정방행렬만 가능]\n",
    "#- 특이행렬 : 역행렬이 없는 행렬\n",
    "#- 직교행렬 : 축의 정직교, 각축간의 내적이 0인 행렬\n",
    "#- 정방행렬이면서 대칭행렬 : 공분산행렬, 상관계수행렬, 거리행렬\n",
    "#- 공분산 : 두 수 사이의 관계, ((한 수-평균) * (다른 수-평균)) / (n-1)\n",
    "                                    # 제곱한 효과\n",
    "#- 상관계수(표준화 -1 ~ 1) : 공분산 / 표준편차의 곱\n",
    "\n"
   ]
  },
  {
   "cell_type": "code",
   "execution_count": 66,
   "metadata": {},
   "outputs": [
    {
     "name": "stdout",
     "output_type": "stream",
     "text": [
      "[[1 2]\n",
      " [3 4]]\n",
      "[[2 2]\n",
      " [2 2]]\n",
      "[[3 4]\n",
      " [5 6]]\n",
      "[[2 4]\n",
      " [6 8]]\n",
      "[[ 6  6]\n",
      " [14 14]]\n"
     ]
    }
   ],
   "source": [
    "import numpy as np\n",
    "\n",
    "F1 = np.array([[1,2], [3,4]])\n",
    "F2 = np.array([[2,2], [2,2]])\n",
    "print(F1)\n",
    "print(F2)\n",
    "print(F1+F2) # 요소끼리\n",
    "print(F1*F2)\n",
    "print(F1@F2) # 행렬곱도 내적이다. 두 벡터의 사이각을 구해\n",
    "# 1,2   2,2      6,6\n",
    "# 3,4   2,2     14,14   \n",
    "\n",
    "# 차원을 축소하여 특징을 추출할 때 한번에 해버리면 데이터 소실이 심하므로, 차원축소를 여러횟수로 나눠서 한다. 이를 딥러닝이라 한다.\n",
    "# 예) 100개 -> 2개... (X)      100개 -> 50개 -> 2개 (O)\n",
    "\n",
    "# 1,2,  2,2,1\n",
    "# 3,4   2,2,1      차원확장도 가능\n",
    "\n"
   ]
  },
  {
   "cell_type": "code",
   "execution_count": null,
   "metadata": {},
   "outputs": [],
   "source": [
    "# 문제\n",
    "# 방정식의 해\n",
    "# 2x1 + x2 -2 x3 = -3\n",
    "# 3x1 +       x3 = 5\n",
    "#  x1 + x2-   x3 = -2\n"
   ]
  },
  {
   "cell_type": "code",
   "execution_count": 68,
   "metadata": {},
   "outputs": [
    {
     "name": "stdout",
     "output_type": "stream",
     "text": [
      "[[ 2  1 -2]\n",
      " [ 3  0  1]\n",
      " [ 1  1 -1]]\n",
      "[[-3]\n",
      " [ 5]\n",
      " [-2]]\n",
      "[[ 1.]\n",
      " [-1.]\n",
      " [ 2.]]\n"
     ]
    }
   ],
   "source": [
    "A = np.array([[2,1,-2], [3,0,1], [1,1,-1]])\n",
    "print(A)\n",
    "b = np.transpose(np.array([[-3,5,-2]])) # 열로 전치\n",
    "print(b)\n",
    "x = np.linalg.solve(A,b) #A의 역행렬을 구해서 b와 곱해줌\n",
    "print(x)"
   ]
  },
  {
   "cell_type": "code",
   "execution_count": 69,
   "metadata": {},
   "outputs": [
    {
     "data": {
      "text/plain": [
       "array([[ 1.],\n",
       "       [-1.],\n",
       "       [ 2.]])"
      ]
     },
     "execution_count": 69,
     "metadata": {},
     "output_type": "execute_result"
    }
   ],
   "source": [
    "np.dot(np.linalg.inv(A),b) # A의 역행렬을 구해서 b와 행렬곱"
   ]
  },
  {
   "cell_type": "code",
   "execution_count": 70,
   "metadata": {},
   "outputs": [
    {
     "data": {
      "text/plain": [
       "array([[ 1.],\n",
       "       [-1.],\n",
       "       [ 2.]])"
      ]
     },
     "execution_count": 70,
     "metadata": {},
     "output_type": "execute_result"
    }
   ],
   "source": [
    "np.linalg.inv(A)@b # 왜 역행렬을 구해야 하는가? 행렬은 나눗셈이 없기 때문에 역행렬을 곱해서 해결한다"
   ]
  },
  {
   "cell_type": "code",
   "execution_count": 72,
   "metadata": {},
   "outputs": [
    {
     "data": {
      "text/plain": [
       "-3"
      ]
     },
     "execution_count": 72,
     "metadata": {},
     "output_type": "execute_result"
    }
   ],
   "source": [
    "# 검산\n",
    "2*1  +  (-1) + -2*2"
   ]
  },
  {
   "cell_type": "code",
   "execution_count": 73,
   "metadata": {},
   "outputs": [
    {
     "name": "stdout",
     "output_type": "stream",
     "text": [
      "0\n"
     ]
    }
   ],
   "source": [
    "a = np.array([0,1,0]) # y축\n",
    "b= np.array([1,0,0]) # x축\n",
    "res = np.dot(a,b) # 내적 사이각 = 직각\n",
    "print(res)"
   ]
  },
  {
   "cell_type": "code",
   "execution_count": 74,
   "metadata": {},
   "outputs": [
    {
     "name": "stdout",
     "output_type": "stream",
     "text": [
      "1.0\n",
      "1.0\n",
      "1.0\n",
      "cos theta 0.0\n",
      "1.5707963267948966\n",
      "90.0\n"
     ]
    }
   ],
   "source": [
    "print(np.linalg.norm(a)) # 벡터의 크기\n",
    "print(np.linalg.norm(b))\n",
    "print(np.linalg.norm(a) * np.linalg.norm(b))\n",
    "rad = res / (np.linalg.norm(a) * np.linalg.norm(b)) # cos(theta) 값을 구함\n",
    "print(\"cos theta\", rad)\n",
    "print(np.arccos(rad)) #theta 값을 구함\n",
    "print(np.degrees(np.arccos(rad))) # 사람이 알아보는 각도로 표현"
   ]
  },
  {
   "cell_type": "code",
   "execution_count": 75,
   "metadata": {},
   "outputs": [
    {
     "name": "stdout",
     "output_type": "stream",
     "text": [
      "[[1 2]\n",
      " [3 4]]\n",
      "[[-2.   1. ]\n",
      " [ 1.5 -0.5]]\n",
      "[[1.00000000e+00 1.11022302e-16]\n",
      " [0.00000000e+00 1.00000000e+00]]\n"
     ]
    }
   ],
   "source": [
    "x = np.array([[1,2], [3,4]])\n",
    "y = np.linalg.inv(x)\n",
    "print(x)\n",
    "print(y)\n",
    "print(np.dot(x,y))"
   ]
  },
  {
   "cell_type": "code",
   "execution_count": null,
   "metadata": {},
   "outputs": [],
   "source": [
    "# 다음 방정식의 해를 구하고 검산하시오\n",
    "x + y + z = 6\n",
    "2y + 5z = -4\n",
    "2x + 5y -z = 27"
   ]
  },
  {
   "cell_type": "code",
   "execution_count": 76,
   "metadata": {},
   "outputs": [
    {
     "name": "stdout",
     "output_type": "stream",
     "text": [
      "[[ 1  1  1]\n",
      " [ 0  2  5]\n",
      " [ 2  5 -1]]\n",
      "\n",
      "[ 6 -4 27]\n",
      "\n",
      "[ 5.  3. -2.]\n"
     ]
    }
   ],
   "source": [
    "x = np.array([[1,1,1],[0,2,5],[2,5,-1]])\n",
    "y = np.transpose(np.array([6,-4,27]))\n",
    "print(x); print()\n",
    "print(y); print()\n",
    "print(np.linalg.solve(x,y))"
   ]
  },
  {
   "cell_type": "code",
   "execution_count": null,
   "metadata": {},
   "outputs": [],
   "source": []
  },
  {
   "cell_type": "code",
   "execution_count": null,
   "metadata": {},
   "outputs": [],
   "source": []
  },
  {
   "cell_type": "code",
   "execution_count": null,
   "metadata": {},
   "outputs": [],
   "source": []
  },
  {
   "cell_type": "code",
   "execution_count": null,
   "metadata": {},
   "outputs": [],
   "source": []
  },
  {
   "cell_type": "code",
   "execution_count": null,
   "metadata": {},
   "outputs": [],
   "source": []
  },
  {
   "cell_type": "code",
   "execution_count": null,
   "metadata": {},
   "outputs": [],
   "source": []
  },
  {
   "cell_type": "code",
   "execution_count": null,
   "metadata": {},
   "outputs": [],
   "source": []
  }
 ],
 "metadata": {
  "kernelspec": {
   "display_name": "Python 3",
   "language": "python",
   "name": "python3"
  },
  "language_info": {
   "codemirror_mode": {
    "name": "ipython",
    "version": 3
   },
   "file_extension": ".py",
   "mimetype": "text/x-python",
   "name": "python",
   "nbconvert_exporter": "python",
   "pygments_lexer": "ipython3",
   "version": "3.7.3"
  }
 },
 "nbformat": 4,
 "nbformat_minor": 2
}
