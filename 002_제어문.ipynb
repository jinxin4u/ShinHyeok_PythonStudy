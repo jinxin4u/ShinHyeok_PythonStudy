{
 "cells": [
  {
   "cell_type": "code",
   "execution_count": null,
   "metadata": {},
   "outputs": [],
   "source": [
    "# 3항연산자\n",
    "x = 5\n",
    "ans = 'non' if x>=0 else 'negative'\n",
    "print(ans)\n",
    "type(ans)"
   ]
  },
  {
   "cell_type": "code",
   "execution_count": 9,
   "metadata": {},
   "outputs": [
    {
     "name": "stdout",
     "output_type": "stream",
     "text": [
      "2019-12-26 16:22:44.821829\n",
      "19910312\n",
      "당신나이는? 29\n",
      "미성년자 아님\n"
     ]
    }
   ],
   "source": [
    "import datetime\n",
    "dt = datetime.datetime.now() \n",
    "print(dt)\n",
    "\n",
    "age= input()\n",
    "year = int(age[0:4])\n",
    "month = int(age[4:6])\n",
    "day = int(age[6:])\n",
    "\n",
    "year_diff = dt.year - year\n",
    "month_diff = dt.month -  month\n",
    "day_diff = dt.day - day\n",
    "\n",
    "if day_diff < 0:\n",
    "    month_diff -= 1\n",
    "if month_diff < 0:\n",
    "    year_diff -= 1\n",
    "\n",
    "print('당신나이는?',year_diff + 1)\n",
    "\n",
    "if year_diff<18:\n",
    "    print('미성년자')\n",
    "else:\n",
    "    print('미성년자 아님')"
   ]
  },
  {
   "cell_type": "code",
   "execution_count": null,
   "metadata": {},
   "outputs": [],
   "source": [
    "# 반복문\n",
    "# 데이터를 이용하는 방법\n",
    "elements = [\"earth\", \"air\",\"fire\", \"water\"]\n",
    "\n",
    "for i in elements: # in 문 뒤에 올 수 있는 것은 Collections, iterator, generator, enumerate\n",
    "    print(i, end=\" \")"
   ]
  },
  {
   "cell_type": "code",
   "execution_count": null,
   "metadata": {},
   "outputs": [],
   "source": [
    "# Collections : list, tuple, dict, set\n",
    "# iterator : 반복자 ex) range\n",
    "# generator : 콜렉션의 데이터가 많을 땐 메모리 못쓰니, 데이터를 실시간으로 생성하는 방식을 활용한다.\n",
    "#                데이터를 매핑해준다\n",
    "# enumerate : 콜렉션에 번호메기기, 1대 1 대응으로"
   ]
  },
  {
   "cell_type": "code",
   "execution_count": null,
   "metadata": {},
   "outputs": [],
   "source": [
    "for i in range(5):\n",
    "    print(i)"
   ]
  },
  {
   "cell_type": "code",
   "execution_count": null,
   "metadata": {},
   "outputs": [],
   "source": [
    "# 파이썬은 오버로딩이 없음 : default 값으로 처리\n",
    "for i in range(2,5):\n",
    "    print(i)"
   ]
  },
  {
   "cell_type": "code",
   "execution_count": null,
   "metadata": {},
   "outputs": [],
   "source": [
    "for i in range(0,10,2): # start, end, step\n",
    "    print(i)"
   ]
  },
  {
   "cell_type": "code",
   "execution_count": null,
   "metadata": {},
   "outputs": [],
   "source": [
    "# idx를 이용하는 방법\n",
    "for i in range(4):\n",
    "    print(i)\n",
    "    print(elements[i])"
   ]
  },
  {
   "cell_type": "code",
   "execution_count": null,
   "metadata": {},
   "outputs": [],
   "source": [
    "# range는 객체다.\n",
    "\n",
    "ra = range(4)\n",
    "# ra = reversed(range(4)) 거꾸로 하고프면 reversed 함수 써라\n",
    "print(ra)\n",
    "print(list(ra)) # 리스트로 type casting 해줘야 조회가능"
   ]
  },
  {
   "cell_type": "code",
   "execution_count": null,
   "metadata": {},
   "outputs": [],
   "source": [
    "print(list(range(5,-1,-1)))"
   ]
  },
  {
   "cell_type": "code",
   "execution_count": null,
   "metadata": {},
   "outputs": [],
   "source": [
    "# 1부터 10까지 더하기\n",
    "sum = 0\n",
    "\n",
    "for i in range(1,11):\n",
    "    sum += i\n",
    "\n",
    "print(sum)"
   ]
  },
  {
   "cell_type": "code",
   "execution_count": null,
   "metadata": {},
   "outputs": [],
   "source": [
    "# 중첩 for 문\n",
    "\n",
    "for i in range(2,10):\n",
    "    print(i,\"단\")\n",
    "    for j in range(2,10):\n",
    "        print(i,'*',j,'=',i*j, end=\"\\t\")\n",
    "    print(\"\\n\")"
   ]
  },
  {
   "cell_type": "code",
   "execution_count": null,
   "metadata": {},
   "outputs": [],
   "source": [
    "for i in range(2,10):\n",
    "    for j in range(2,10):\n",
    "        print(j,'*',i,'=',i*j,'\\t', end = ' ')\n",
    "    print('\\n')"
   ]
  },
  {
   "cell_type": "code",
   "execution_count": null,
   "metadata": {},
   "outputs": [],
   "source": [
    "# 내장리스트 ; 동적으로 데이터 생성\n",
    "[i for i in range(10)]"
   ]
  },
  {
   "cell_type": "code",
   "execution_count": null,
   "metadata": {},
   "outputs": [],
   "source": [
    "[i**2 for i in range(10)]"
   ]
  },
  {
   "cell_type": "code",
   "execution_count": null,
   "metadata": {},
   "outputs": [],
   "source": [
    "{i : i**3 for i in range(10) }"
   ]
  },
  {
   "cell_type": "code",
   "execution_count": null,
   "metadata": {},
   "outputs": [],
   "source": [
    "[i**2 for i in range(10) if i%2 == 0]"
   ]
  },
  {
   "cell_type": "code",
   "execution_count": null,
   "metadata": {},
   "outputs": [],
   "source": [
    "# for r in rows:\n",
    "#    for c in cols:\n",
    "#        (r,c)\n",
    "\n",
    "rows = range(1,5)\n",
    "cols = range(10, 15)\n",
    "vectors = [(r,c) for r in rows for c in cols ]\n",
    "vectors"
   ]
  },
  {
   "cell_type": "code",
   "execution_count": null,
   "metadata": {},
   "outputs": [],
   "source": [
    "# 문자열 연산 +, *\n",
    "# + 붙이기, * 는 반복\n",
    "\n",
    "[\"3의배수\"*(i%3==0) + '&'*(i % 3==0 and i % 5==0) + \"5의배수\"*(i%5==0) or i for i in range(1,21)]"
   ]
  },
  {
   "cell_type": "code",
   "execution_count": null,
   "metadata": {},
   "outputs": [],
   "source": [
    "# 문제 : 점수를 입력받아 A,B,C,D,F학점으로 출력하시오\n",
    "'''\n",
    "while True:\n",
    "    print(\"점수입력 : \", end = ' ')\n",
    "    score = int(input())\n",
    "    if score == 0:\n",
    "        break\n",
    "    if score > 90: print(\"A\")\n",
    "    elif score > 80: print(\"B\")\n",
    "    elif score > 70 : print(\"C\")\n",
    "    elif score > 60 : print(\"D\")\n",
    "    else: print(\"F\")\n",
    "'''\n",
    "\n",
    "while score != 0:\n",
    "    print(\"점수입력 : \", end = ' ')\n",
    "    score = int(input())\n",
    "\n",
    "    if score > 90: print(\"A\")\n",
    "    elif score > 80: print(\"B\")\n",
    "    elif score > 70 : print(\"C\")\n",
    "    elif score > 60 : print(\"D\")\n",
    "    else: print(\"F\")"
   ]
  },
  {
   "cell_type": "code",
   "execution_count": null,
   "metadata": {},
   "outputs": [],
   "source": [
    "# 문제 : 번호 이름 국어 영어 수학 점수를 입력하는 프로그램 작성 (3명 분)\n",
    "# 2차원 리스트\n",
    "\n",
    "final = []\n",
    "#sungjuk = []\n",
    "for i in range(3):\n",
    "    sungjuk = [] # for문 안과 밖에서 돌때의 차이 확인해보기\n",
    "    num = int(input(\"번호 입력 : \"))\n",
    "    name = input(\"이름 입력 : \")\n",
    "    kor = int(input(\"국어 점수 : \"))\n",
    "    eng = int(input(\"영어 점수 : \"))\n",
    "    math = int(input(\"수학 점수 : \"))\n",
    "    sungjuk.append(num)\n",
    "    sungjuk.append(name)\n",
    "    sungjuk.append(kor)\n",
    "    sungjuk.append(eng)\n",
    "    sungjuk.append(math)\n",
    "    final.append(sungjuk)\n",
    "print(final)"
   ]
  },
  {
   "cell_type": "code",
   "execution_count": null,
   "metadata": {},
   "outputs": [],
   "source": [
    "# 문제 : 합계와 평균을 추가해보기, 평균은 소수점 3째자리에서 반올림하여 2째자리까지 표현하기\n",
    "students = []\n",
    "for i in range(3):\n",
    "    st_list = []\n",
    "    num = int(input(\"번호\"))\n",
    "    name = input(\"이름\")\n",
    "    kor = int(input(\"국어\"))\n",
    "    eng = int(input(\"영어\"))\n",
    "    math= int(input(\"수학\"))\n",
    "    sum = num+kor+eng+math\n",
    "    ave = round(sum / 4, 2)\n",
    "    \n",
    "    st_list.append(num)\n",
    "    st_list.append(name)\n",
    "    st_list.append(kor)\n",
    "    st_list.append(eng)\n",
    "    st_list.append(math)\n",
    "    st_list.append(sum)\n",
    "    st_list.append(ave)\n",
    "    \n",
    "    students.append(st_list)\n",
    "    \n",
    "print(students)\n"
   ]
  },
  {
   "cell_type": "code",
   "execution_count": null,
   "metadata": {},
   "outputs": [],
   "source": [
    "# 정렬하고 싶은 경우 (이름으로 정렬)\n",
    "students.sort()"
   ]
  },
  {
   "cell_type": "code",
   "execution_count": null,
   "metadata": {},
   "outputs": [],
   "source": [
    "# 정렬하고 싶은 경우 (이름으로 정렬)\n",
    "def getKey(lists):\n",
    "    return lists[1]\n",
    "\n",
    "students.sort(key = getKey, reverse = True) # 내림차순도..\n",
    "students\n",
    "\n",
    "# 기본데이터타입 : string, integer, float, list, dict, set, tuple\n",
    "# 파이썬은 객체(변수+함수)로 이루어져 : 사용자정의 데이터 타입"
   ]
  },
  {
   "cell_type": "code",
   "execution_count": null,
   "metadata": {},
   "outputs": [],
   "source": [
    "#lambda 함수 : 무명함수, 간단한 함수를 작성할 때 사용\n",
    "# list comprehension\n",
    "\n",
    "students.sort(key = lambda lists : lists[1])\n",
    "students"
   ]
  },
  {
   "cell_type": "code",
   "execution_count": null,
   "metadata": {},
   "outputs": [],
   "source": [
    "# 등수를 입력하는 필드를 추가하시오\n",
    "\n",
    "students.sort(key = lambda lists : lists[5], reverse = True)\n",
    "rank = 1\n",
    "for i in range(len(students)):\n",
    "    students[i].append(rank)\n",
    "    rank+=1\n",
    "students.sort(key = lambda lists : lists[0])\n",
    "students"
   ]
  },
  {
   "cell_type": "code",
   "execution_count": null,
   "metadata": {},
   "outputs": [],
   "source": [
    "tot_list = [\"번호\",\"이름\",\"국어\",\"영어\",\"수학\",\"합계\",\"평균\",\"순위\"]\n",
    "\n",
    "for j in range( len(students[0]) ):\n",
    "    print(tot_list[j], end = \" \")\n",
    "    \n",
    "for i in range( len(students) ):\n",
    "    print(end = \"\\n\")\n",
    "    for j in range( len(students[0]) ):\n",
    "        print(students[i][j], end=\" \")"
   ]
  },
  {
   "cell_type": "code",
   "execution_count": null,
   "metadata": {},
   "outputs": [],
   "source": [
    "# 문제 number guess(숫자맞추기게임 1:1)\n",
    "1) 컴퓨터는 숫자를 랜덤으로 발생시킴 (1~100)\n",
    "2) 사용자는 숫자 입력\n",
    "3) 컴퓨터가 낸 숫자와 사용자가 입력한 수가 일치하는지 확인하고 일치하면 확인하고 다시 다음 게임으로 진행\n",
    "4) 만약 못맞추면 사용자가 입력한 숫자가 컴퓨터가 뽑은 수보다 큰지 작은지 알려줌\n",
    "5) 무한루프로 진행하던 게임은 q입력하면 종료\n",
    "6) 몇회만에 맞추었는지 확인해서 출력\n",
    "7) 총 진행회수, guess 횟수를 누적시킨다음 평균 시도횟수를 출력"
   ]
  },
  {
   "cell_type": "code",
   "execution_count": 2,
   "metadata": {},
   "outputs": [
    {
     "name": "stdout",
     "output_type": "stream",
     "text": [
      "1~100의 숫자 아무거나 입력해봐 \n",
      "50\n",
      "8 <- 컴퓨터가 정한 수\n",
      "\t 50 보다 적은 수 입니다.\n",
      "\t 1 번 시도\n",
      "\t 1 라운드 중\n",
      "1~100의 숫자 아무거나 입력해봐 \n",
      "1\n",
      "8 <- 컴퓨터가 정한 수\n",
      "\t 1 보다 큰 수 입니다.\n",
      "\t 2 번 시도\n",
      "\t 1 라운드 중\n",
      "1~100의 숫자 아무거나 입력해봐 \n",
      "2\n",
      "8 <- 컴퓨터가 정한 수\n",
      "\t 2 보다 큰 수 입니다.\n",
      "\t 3 번 시도\n",
      "\t 1 라운드 중\n",
      "1~100의 숫자 아무거나 입력해봐 \n",
      "3\n",
      "8 <- 컴퓨터가 정한 수\n",
      "\t 3 보다 큰 수 입니다.\n",
      "\t 4 번 시도\n",
      "\t 1 라운드 중\n",
      "1~100의 숫자 아무거나 입력해봐 \n",
      "4\n",
      "8 <- 컴퓨터가 정한 수\n",
      "\t 4 보다 큰 수 입니다.\n",
      "\t 5 번 시도\n",
      "\t 1 라운드 중\n",
      "1~100의 숫자 아무거나 입력해봐 \n",
      "5\n",
      "8 <- 컴퓨터가 정한 수\n",
      "\t 5 보다 큰 수 입니다.\n",
      "\t 6 번 시도\n",
      "\t 1 라운드 중\n",
      "1~100의 숫자 아무거나 입력해봐 \n",
      "6\n",
      "8 <- 컴퓨터가 정한 수\n",
      "\t 6 보다 큰 수 입니다.\n",
      "\t 7 번 시도\n",
      "\t 1 라운드 중\n",
      "1~100의 숫자 아무거나 입력해봐 \n",
      "7\n",
      "8 <- 컴퓨터가 정한 수\n",
      "\t 7 보다 큰 수 입니다.\n",
      "\t 8 번 시도\n",
      "\t 1 라운드 중\n",
      "1~100의 숫자 아무거나 입력해봐 \n",
      "8\n",
      "8 <- 컴퓨터가 정한 수\n",
      "\t ㅊㅋㅊㅋ 8 번만에 맞추셨군요\n",
      "\t 평균 시도횟수 :  8.0\n",
      "\t 1 라운드 끝\n",
      "1~100의 숫자 아무거나 입력해봐 \n",
      "50\n",
      "28 <- 컴퓨터가 정한 수\n",
      "\t 50 보다 적은 수 입니다.\n",
      "\t 1 번 시도\n",
      "\t 2 라운드 중\n",
      "1~100의 숫자 아무거나 입력해봐 \n",
      "25\n",
      "28 <- 컴퓨터가 정한 수\n",
      "\t 25 보다 큰 수 입니다.\n",
      "\t 2 번 시도\n",
      "\t 2 라운드 중\n",
      "1~100의 숫자 아무거나 입력해봐 \n",
      "27\n",
      "28 <- 컴퓨터가 정한 수\n",
      "\t 27 보다 큰 수 입니다.\n",
      "\t 3 번 시도\n",
      "\t 2 라운드 중\n",
      "1~100의 숫자 아무거나 입력해봐 \n",
      "28\n",
      "28 <- 컴퓨터가 정한 수\n",
      "\t ㅊㅋㅊㅋ 3 번만에 맞추셨군요\n",
      "\t 평균 시도횟수 :  5.5\n",
      "\t 2 라운드 끝\n",
      "1~100의 숫자 아무거나 입력해봐 \n",
      "q\n"
     ]
    }
   ],
   "source": [
    "# 필요 변수 : 컴퓨터가 뽑은 수, 사용자 입력, 총횟수, 평균시도횟수\n",
    "from random import randint\n",
    "\n",
    "guess_cnt = 0\n",
    "round_cnt = 1\n",
    "rand_num = randint(1,101)\n",
    "guess_list = []\n",
    "\n",
    "while 1:\n",
    "    print(\"1~100의 숫자 아무거나 입력해봐 \")\n",
    "    insert_num = input()\n",
    "    \n",
    "    if insert_num == 'q': break;\n",
    "    else: insert_num = int(insert_num)\n",
    "    print(rand_num,\"<- 컴퓨터가 정한 수\")\n",
    "    \n",
    "    if insert_num == rand_num:\n",
    "        guess_list.append(guess_cnt)                                     # 시도횟수를 리스트에 저장\n",
    "        print(\"\\t\",\"ㅊㅋㅊㅋ\",guess_cnt,\"번만에 맞추셨군요\")\n",
    "        print(\"\\t\",\"평균 시도횟수 : \", sum(guess_list)/len(guess_list))  # 평균시도 횟수 출력 \n",
    "        guess_cnt = 0                                                    # 시도횟수 초기화\n",
    "        print(\"\\t\",round_cnt,\"라운드 끝\\n\\n\")\n",
    "        round_cnt+=1                                                     # 게임 라운드 ++\n",
    "        rand_num = randint(1,101)                                        # 컴퓨터 랜덤 넘버 뽑기\n",
    "        continue;\n",
    "        \n",
    "    elif insert_num > rand_num:\n",
    "        print(\"\\t\",insert_num,\"보다 적은 수 입니다.\\n\")\n",
    "\n",
    "    else:\n",
    "        print(\"\\t\",insert_num,\"보다 큰 수 입니다.\\n\")\n",
    "    \n",
    "    guess_cnt+=1\n",
    "    print(\"\\t\",guess_cnt,\"번 시도\")\n",
    "    print(\"\\t\",round_cnt,\"라운드 중\\n\")\n",
    "    \n",
    "    \n",
    "# import sys\n",
    "# sys.exit(0)"
   ]
  },
  {
   "cell_type": "code",
   "execution_count": 7,
   "metadata": {},
   "outputs": [
    {
     "name": "stdout",
     "output_type": "stream",
     "text": [
      "21\n",
      "6.354009077155824 은 소형입니다.\n"
     ]
    }
   ],
   "source": [
    "# 문제 1 : 제곱미터로 입력되는 아파트 면적을 평형으로 계산하여 종류 판정\n",
    "# (30평을 기준으로 판정)하는 프로그램 작성\n",
    "# 소형(17) 중소형(25) 중형(30)\n",
    "# 평형수 = 제곱미터 / 3.305\n",
    "\n",
    "meter = float(input())\n",
    "\n",
    "pyung = meter / 3.305\n",
    "\n",
    "if pyung < 17:\n",
    "    print(pyung,\"은 소형입니다.\")\n",
    "elif pyung < 25:\n",
    "    print(pyung,\"은 중소형입니다.\")\n",
    "elif pyung < 30:\n",
    "    print(pyung,\"은 중형입니다.\")\n",
    "else:\n",
    "    print(pyung,\"은 대형입니다.\")"
   ]
  },
  {
   "cell_type": "code",
   "execution_count": 11,
   "metadata": {},
   "outputs": [
    {
     "name": "stdout",
     "output_type": "stream",
     "text": [
      "1\n",
      "86400\n"
     ]
    }
   ],
   "source": [
    "# 문제 2 : 날 수를 입력하면 이를 초로 변경하는 프로그램 작성\n",
    "\n",
    "day = int(input())\n",
    "second = day * 24 * 60 * 60\n",
    "print(second)"
   ]
  },
  {
   "cell_type": "code",
   "execution_count": 13,
   "metadata": {},
   "outputs": [
    {
     "name": "stdout",
     "output_type": "stream",
     "text": [
      "1002\n",
      "당신의 소득세는  1192.38\n"
     ]
    }
   ],
   "source": [
    "# 소득세 계산 : 소득 세율표를 구해보고 이를 이용하여 소득이 들어오면 세금이 얼마인지 계산해 보시오(연봉. 단순히 세율만 적용함)\n",
    "# 1천만원 미만시 연봉 9.5% / 1천~4천 : 19% / 4천~8천 : 28% / 8천이상 : 37%\n",
    "\n",
    "income = int(input())\n",
    "\n",
    "if income < 1000:\n",
    "    tax = income * 0.095\n",
    "elif income < 4000:\n",
    "    tax = 1000*0.095 + (income-1000) * 0.19\n",
    "elif income < 8000:\n",
    "    tax = 1000*0.095 + 3000*0.19 + (income-4000) * 0.28\n",
    "else:\n",
    "    tax = 1000*0.095 + 3000*0.19 + 4000*0.28 + (income-8000) * 0.37\n",
    "\n",
    "print(\"당신의 소득세는 \",tax)"
   ]
  },
  {
   "cell_type": "code",
   "execution_count": 16,
   "metadata": {},
   "outputs": [
    {
     "name": "stdout",
     "output_type": "stream",
     "text": [
      "입장료 가격 -> \n",
      "초딩 : 5000\n",
      "청소년 : 10000\n",
      "일반인 : 15000\n",
      "경로대상 : 3000\n",
      "\n",
      "5\n",
      "25\n",
      "4\n",
      "5\n",
      "카드 유(0) / 무(1) / vip(2)2\n",
      "요금 :  280000.0\n"
     ]
    }
   ],
   "source": [
    "# 놀이공원 매표소 단체 입장료 계산하기\n",
    "# 조건 : 팀별 인원 구성을 입력(초등, 청소년, 일반인, 경로대상) 하면 입장료 소견표에\n",
    "# 정산요금 : 초등(5000원), 청소년(10000원), 일반인(15000원), 경로대상(3000원)\n",
    "# 팀별 할인 카드 확인\n",
    "# 카드 없음 : 할인 무, 일반카드 : 10%, VIP : 20%\n",
    "\n",
    "print(\"입장료 가격 -> \\n초딩 : 5000\\n청소년 : 10000\\n일반인 : 15000\\n경로대상 : 3000\\n\")\n",
    "\n",
    "el = int(input())\n",
    "mid = int(input())\n",
    "nor = int(input())\n",
    "se = int(input())\n",
    "\n",
    "el*=5000\n",
    "mid*=10000\n",
    "nor *= 15000\n",
    "se *= 3000\n",
    "\n",
    "sum = el+mid+nor+se\n",
    "\n",
    "choose = int(input(\"카드 유(0) / 무(1) / vip(2)\"))\n",
    "calc = [sum, sum*0.9, sum*0.8]\n",
    "\n",
    "print(\"요금 : \", calc[choose])\n"
   ]
  },
  {
   "cell_type": "code",
   "execution_count": 18,
   "metadata": {},
   "outputs": [
    {
     "name": "stdout",
     "output_type": "stream",
     "text": [
      "10\n",
      "**********\n",
      "**********\n",
      "**********\n",
      "**********\n",
      "**********\n",
      "**********\n",
      "**********\n",
      "**********\n",
      "**********\n",
      "**********\n"
     ]
    }
   ],
   "source": [
    "num = int(input())\n",
    "for i in range(num):\n",
    "    for j in range(num):\n",
    "        print(\"*\",end=\"\")\n",
    "    print()"
   ]
  },
  {
   "cell_type": "code",
   "execution_count": 20,
   "metadata": {},
   "outputs": [
    {
     "name": "stdout",
     "output_type": "stream",
     "text": [
      "10\n",
      "**********\n",
      "*********\n",
      "********\n",
      "*******\n",
      "******\n",
      "*****\n",
      "****\n",
      "***\n",
      "**\n",
      "*\n"
     ]
    }
   ],
   "source": [
    "num = int(input())\n",
    "for i in range(num):\n",
    "    for j in range(num-i):\n",
    "        print(\"*\",end=\"\")\n",
    "    print()"
   ]
  },
  {
   "cell_type": "code",
   "execution_count": 22,
   "metadata": {},
   "outputs": [
    {
     "name": "stdout",
     "output_type": "stream",
     "text": [
      "10\n",
      "          *\n",
      "         **\n",
      "        ***\n",
      "       ****\n",
      "      *****\n",
      "     ******\n",
      "    *******\n",
      "   ********\n",
      "  *********\n",
      " **********\n"
     ]
    }
   ],
   "source": [
    "num = int(input())\n",
    "for i in range(num):\n",
    "    for j in range(num-i):\n",
    "        print(\" \",end=\"\")\n",
    "    for k in range(i+1):\n",
    "        print(\"*\",end=\"\")\n",
    "    print()"
   ]
  },
  {
   "cell_type": "code",
   "execution_count": 31,
   "metadata": {},
   "outputs": [
    {
     "name": "stdout",
     "output_type": "stream",
     "text": [
      "10\n",
      "          *\n",
      "         ***\n",
      "        *****\n",
      "       *******\n",
      "      *********\n",
      "     ***********\n",
      "    *************\n",
      "   ***************\n",
      "  *****************\n",
      " *******************\n"
     ]
    }
   ],
   "source": [
    "# 피라미드모양\n",
    "num = int(input())\n",
    "\n",
    "for i in range(num):\n",
    "    for j in range(num-i):\n",
    "        print(\" \",end=\"\")\n",
    "    for k in range(i*2+1):\n",
    "        print(\"*\",end=\"\")\n",
    "    print()\n",
    "\n",
    "'''    \n",
    "for i in range(1,11):\n",
    "    print(\" \"*(10-i), \"*\"*(i*2-1))\n",
    "'''"
   ]
  },
  {
   "cell_type": "code",
   "execution_count": 34,
   "metadata": {},
   "outputs": [
    {
     "name": "stdout",
     "output_type": "stream",
     "text": [
      "10\n",
      "\n",
      "*\n",
      "**\n",
      "***\n",
      "****\n",
      "*****\n",
      "****\n",
      "***\n",
      "**\n",
      "*\n"
     ]
    }
   ],
   "source": [
    "# ▶ 모양\n",
    "num = int(input())\n",
    "\n",
    "for i in range(num):\n",
    "    if i < num/2:\n",
    "        for j in range(i):\n",
    "            print(\"*\",end=\"\")\n",
    "    else:\n",
    "        for j in range(num-i):\n",
    "            print(\"*\",end=\"\")\n",
    "    print()\n",
    "\n",
    "'''    \n",
    "for i in range(1,10):\n",
    "    print(\"*\"*(i-int(i/6)*(i*2-10)))\n",
    "'''"
   ]
  },
  {
   "cell_type": "code",
   "execution_count": 57,
   "metadata": {},
   "outputs": [
    {
     "name": "stdout",
     "output_type": "stream",
     "text": [
      "10\n",
      "*                    *\n",
      "**                  **\n",
      "***                ***\n",
      "****              ****\n",
      "*****            *****\n",
      "******          ******\n",
      "*******        *******\n",
      "********      ********\n",
      "*********    *********\n",
      "**********  **********\n"
     ]
    }
   ],
   "source": [
    "# V 모양\n",
    "num = int(input())\n",
    "\n",
    "for i in range(num):\n",
    "    for j in range(i+1):\n",
    "        print(\"*\",end=\"\")\n",
    "    for k in range((num-i)*2):\n",
    "        print(\" \",end=\"\")\n",
    "    for l in range(i+1):\n",
    "        print(\"*\",end=\"\")\n",
    "    print()"
   ]
  },
  {
   "cell_type": "code",
   "execution_count": 45,
   "metadata": {},
   "outputs": [
    {
     "name": "stdout",
     "output_type": "stream",
     "text": [
      "10\n",
      "*                    *\n",
      "**                  **\n",
      "***                ***\n",
      "****              ****\n",
      "*****            *****\n",
      "******          ******\n",
      "*******        *******\n",
      "********      ********\n",
      "*********    *********\n",
      "**********  **********\n",
      "**********************\n",
      "**********************\n",
      "**********************\n"
     ]
    }
   ],
   "source": [
    "# V ver2 모양\n",
    "num = int(input())\n",
    "\n",
    "for i in range(num):\n",
    "    for j in range(i+1):\n",
    "        print(\"*\", end=\"\")\n",
    "    for k in range((num-i)*2):\n",
    "        print(\" \", end=\"\")\n",
    "    for l in range(i+1):\n",
    "        print(\"*\", end=\"\")\n",
    "    print()\n",
    "for i in range(int(num/3)):\n",
    "    for j in range((num+1)*2):\n",
    "        print(\"*\", end=\"\")\n",
    "    print()"
   ]
  },
  {
   "cell_type": "code",
   "execution_count": 54,
   "metadata": {},
   "outputs": [
    {
     "name": "stdout",
     "output_type": "stream",
     "text": [
      "10\n",
      "*                    *\n",
      "**                  **\n",
      "***                ***\n",
      "****              ****\n",
      "*****            *****\n",
      "******          ******\n",
      "*******        *******\n",
      "********      ********\n",
      "*********    *********\n",
      "**********  **********\n",
      "*********    *********\n",
      "********      ********\n",
      "*******        *******\n",
      "******          ******\n",
      "*****            *****\n",
      "****              ****\n",
      "***                ***\n",
      "**                  **\n",
      "*                    *\n"
     ]
    }
   ],
   "source": [
    "# 나비넥타이 모양\n",
    "num = int(input())\n",
    "\n",
    "for i in range(num):\n",
    "    for j in range(i+1):\n",
    "        print(\"*\",end=\"\")\n",
    "    for k in range((num-i)*2):\n",
    "        print(\" \",end=\"\")\n",
    "    for l in range(i+1):\n",
    "        print(\"*\",end=\"\")\n",
    "    print()\n",
    "for i in range(num-1,0,-1):\n",
    "    for j in range(i):\n",
    "        print(\"*\",end=\"\")\n",
    "    for k in range((num-i+1)*2):\n",
    "        print(\" \", end=\"\")\n",
    "    for l in range(i):\n",
    "        print(\"*\", end=\"\")\n",
    "    print()"
   ]
  },
  {
   "cell_type": "code",
   "execution_count": null,
   "metadata": {},
   "outputs": [],
   "source": []
  },
  {
   "cell_type": "code",
   "execution_count": null,
   "metadata": {},
   "outputs": [],
   "source": []
  },
  {
   "cell_type": "code",
   "execution_count": null,
   "metadata": {},
   "outputs": [],
   "source": []
  },
  {
   "cell_type": "code",
   "execution_count": null,
   "metadata": {},
   "outputs": [],
   "source": []
  },
  {
   "cell_type": "code",
   "execution_count": null,
   "metadata": {},
   "outputs": [],
   "source": []
  },
  {
   "cell_type": "code",
   "execution_count": null,
   "metadata": {},
   "outputs": [],
   "source": []
  },
  {
   "cell_type": "code",
   "execution_count": null,
   "metadata": {},
   "outputs": [],
   "source": []
  },
  {
   "cell_type": "code",
   "execution_count": null,
   "metadata": {},
   "outputs": [],
   "source": []
  },
  {
   "cell_type": "code",
   "execution_count": null,
   "metadata": {},
   "outputs": [],
   "source": []
  },
  {
   "cell_type": "code",
   "execution_count": null,
   "metadata": {},
   "outputs": [],
   "source": []
  },
  {
   "cell_type": "code",
   "execution_count": null,
   "metadata": {},
   "outputs": [],
   "source": []
  },
  {
   "cell_type": "code",
   "execution_count": null,
   "metadata": {},
   "outputs": [],
   "source": []
  },
  {
   "cell_type": "code",
   "execution_count": null,
   "metadata": {},
   "outputs": [],
   "source": []
  },
  {
   "cell_type": "code",
   "execution_count": null,
   "metadata": {},
   "outputs": [],
   "source": []
  }
 ],
 "metadata": {
  "kernelspec": {
   "display_name": "Python 3",
   "language": "python",
   "name": "python3"
  },
  "language_info": {
   "codemirror_mode": {
    "name": "ipython",
    "version": 3
   },
   "file_extension": ".py",
   "mimetype": "text/x-python",
   "name": "python",
   "nbconvert_exporter": "python",
   "pygments_lexer": "ipython3",
   "version": "3.7.4"
  }
 },
 "nbformat": 4,
 "nbformat_minor": 2
}
