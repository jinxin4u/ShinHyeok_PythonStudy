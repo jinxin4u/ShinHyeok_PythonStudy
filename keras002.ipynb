{
 "cells": [
  {
   "cell_type": "code",
   "execution_count": 17,
   "metadata": {},
   "outputs": [
    {
     "name": "stdout",
     "output_type": "stream",
     "text": [
      "[name: \"/device:CPU:0\"\n",
      "device_type: \"CPU\"\n",
      "memory_limit: 268435456\n",
      "locality {\n",
      "}\n",
      "incarnation: 10136752412068703166\n",
      ", name: \"/device:GPU:0\"\n",
      "device_type: \"GPU\"\n",
      "memory_limit: 3141979340\n",
      "locality {\n",
      "  bus_id: 1\n",
      "  links {\n",
      "  }\n",
      "}\n",
      "incarnation: 2578304669301653501\n",
      "physical_device_desc: \"device: 0, name: GeForce GTX 1050 Ti, pci bus id: 0000:01:00.0, compute capability: 6.1\"\n",
      "]\n"
     ]
    },
    {
     "data": {
      "text/plain": [
       "'/device:GPU:0'"
      ]
     },
     "execution_count": 17,
     "metadata": {},
     "output_type": "execute_result"
    }
   ],
   "source": [
    "import tensorflow as tf\n",
    "from tensorflow.python.client import device_lib\n",
    "print(device_lib.list_local_devices())\n",
    "tf.test.gpu_device_name()"
   ]
  },
  {
   "cell_type": "code",
   "execution_count": 28,
   "metadata": {},
   "outputs": [],
   "source": [
    "import keras\n",
    "from keras.datasets import mnist\n",
    "from keras.models import Sequential\n",
    "from keras.layers import Dense, Dropout, Flatten, Conv2D, MaxPooling2D\n",
    "from keras import backend as K\n",
    "\n",
    "batch_size = 128\n",
    "num_classes = 10\n",
    "epochs = 12\n",
    "img_rows, img_cols = 28, 28\n",
    "(x_train, y_train), (x_test, y_test) = mnist.load_data()"
   ]
  },
  {
   "cell_type": "code",
   "execution_count": 29,
   "metadata": {},
   "outputs": [
    {
     "name": "stdout",
     "output_type": "stream",
     "text": [
      "x_train shape: (60000, 28, 28, 1)\n",
      "60000 train samples\n",
      "10000 test samples\n"
     ]
    }
   ],
   "source": [
    "# channel_first\n",
    "#x_train = x_train.reshape(x_train.shape[0], 1, 28, 28)\n",
    "#x_test = x_test.reshape(x_test.shape[0], 1, 28, 28)\n",
    "\n",
    "# channel_last\n",
    "x_train = x_train.reshape(x_train.shape[0], 28, 28, 1)\n",
    "x_test = x_test.reshape(x_test.shape[0], 28, 28, 1)\n",
    "\n",
    "# 타입 변경\n",
    "x_train = x_train.astype(\"float32\")\n",
    "x_test = x_test.astype(\"float32\")\n",
    "x_train /= 255\n",
    "x_test /= 255\n",
    "print(\"x_train shape:\", x_train.shape)\n",
    "print(x_train.shape[0], \"train samples\")\n",
    "print(x_test.shape[0], \"test samples\")\n",
    "y_train = keras.utils.to_categorical(y_train, num_classes)\n",
    "y_test = keras.utils.to_categorical(y_test, num_classes)"
   ]
  },
  {
   "cell_type": "code",
   "execution_count": 30,
   "metadata": {},
   "outputs": [],
   "source": [
    "model = Sequential()\n",
    "# output filter의 개수, filter size\n",
    "# 28 x 28(input filter) -> (128, 26, 26, 32) # 26 = (28-3+1)\n",
    "# valid, same(28, 28) : 모서리 특징\n",
    "model.add(Conv2D(32, kernel_size=(3, 3), activation=\"relu\", input_shape=(28,28,1)))\n",
    "model.add(Conv2D(64, (3, 3), activation=\"relu\"))\n",
    "# 128, 24, 24, 64\n",
    "model.add(MaxPooling2D(pool_size=(2,2))) # 128, 12, 12, 64\n",
    "model.add(Dropout(0.25))\n",
    "model.add(Flatten()) # 12 x 12 x 64 =>1차원 9216\n",
    "# FFNN, FC(Fully-connected)\n",
    "model.add(Dense(128, activation=\"relu\")) # 9216 x 128\n",
    "# 128 x 128\n",
    "model.add(Dropout(0.5)) # 계산회로만 생략\n",
    "model.add(Dense(10, activation=\"softmax\")) # 128 x 10"
   ]
  },
  {
   "cell_type": "code",
   "execution_count": 31,
   "metadata": {},
   "outputs": [
    {
     "name": "stdout",
     "output_type": "stream",
     "text": [
      "Train on 60000 samples, validate on 10000 samples\n",
      "Epoch 1/12\n",
      "60000/60000 [==============================] - 50s 832us/step - loss: 0.2590 - accuracy: 0.9197 - val_loss: 0.0575 - val_accuracy: 0.9814\n",
      "Epoch 2/12\n",
      "60000/60000 [==============================] - 49s 825us/step - loss: 0.0872 - accuracy: 0.9742 - val_loss: 0.0361 - val_accuracy: 0.9889\n",
      "Epoch 3/12\n",
      "60000/60000 [==============================] - 50s 829us/step - loss: 0.0663 - accuracy: 0.9802 - val_loss: 0.0325 - val_accuracy: 0.9880\n",
      "Epoch 4/12\n",
      "60000/60000 [==============================] - 50s 826us/step - loss: 0.0532 - accuracy: 0.9838 - val_loss: 0.0296 - val_accuracy: 0.9895\n",
      "Epoch 5/12\n",
      "60000/60000 [==============================] - 50s 826us/step - loss: 0.0467 - accuracy: 0.9862 - val_loss: 0.0333 - val_accuracy: 0.9882\n",
      "Epoch 6/12\n",
      "60000/60000 [==============================] - 50s 826us/step - loss: 0.0413 - accuracy: 0.9873 - val_loss: 0.0265 - val_accuracy: 0.9910\n",
      "Epoch 7/12\n",
      "60000/60000 [==============================] - 49s 824us/step - loss: 0.0386 - accuracy: 0.9884 - val_loss: 0.0260 - val_accuracy: 0.9909\n",
      "Epoch 8/12\n",
      "60000/60000 [==============================] - 49s 824us/step - loss: 0.0352 - accuracy: 0.9888 - val_loss: 0.0267 - val_accuracy: 0.9912\n",
      "Epoch 9/12\n",
      "60000/60000 [==============================] - 49s 823us/step - loss: 0.0307 - accuracy: 0.9907 - val_loss: 0.0256 - val_accuracy: 0.9917\n",
      "Epoch 10/12\n",
      "60000/60000 [==============================] - 49s 822us/step - loss: 0.0317 - accuracy: 0.9903 - val_loss: 0.0263 - val_accuracy: 0.9927\n",
      "Epoch 11/12\n",
      "60000/60000 [==============================] - 50s 832us/step - loss: 0.0296 - accuracy: 0.9904 - val_loss: 0.0267 - val_accuracy: 0.9915\n",
      "Epoch 12/12\n",
      "60000/60000 [==============================] - 49s 825us/step - loss: 0.0260 - accuracy: 0.9918 - val_loss: 0.0233 - val_accuracy: 0.9927\n"
     ]
    }
   ],
   "source": [
    "model.compile(loss=keras.losses.categorical_crossentropy,\n",
    "              optimizer=keras.optimizers.Adadelta(),\n",
    "              metrics=[\"accuracy\"])\n",
    "model.fit(x_train, y_train, batch_size=batch_size, epochs=epochs, verbose=1, validation_data=(x_test, y_test))\n",
    "score = model.evaluate(x_test, y_test, verbose=0)"
   ]
  },
  {
   "cell_type": "code",
   "execution_count": 35,
   "metadata": {},
   "outputs": [
    {
     "name": "stdout",
     "output_type": "stream",
     "text": [
      "Train on 60000 samples, validate on 10000 samples\n",
      "Epoch 1/12\n",
      "60000/60000 [==============================] - 50s 832us/step - loss: 0.0264 - accuracy: 0.9920 - val_loss: 0.0256 - val_accuracy: 0.9923\n",
      "Epoch 2/12\n",
      "60000/60000 [==============================] - 49s 824us/step - loss: 0.0248 - accuracy: 0.9920 - val_loss: 0.0237 - val_accuracy: 0.9925\n",
      "Epoch 3/12\n",
      "60000/60000 [==============================] - 49s 823us/step - loss: 0.0237 - accuracy: 0.9923 - val_loss: 0.0277 - val_accuracy: 0.9914\n",
      "Epoch 4/12\n",
      "60000/60000 [==============================] - 50s 826us/step - loss: 0.0241 - accuracy: 0.9925 - val_loss: 0.0276 - val_accuracy: 0.9922\n",
      "Epoch 5/12\n",
      "60000/60000 [==============================] - 49s 823us/step - loss: 0.0221 - accuracy: 0.9928 - val_loss: 0.0257 - val_accuracy: 0.9915\n",
      "Epoch 6/12\n",
      "60000/60000 [==============================] - 49s 824us/step - loss: 0.0222 - accuracy: 0.9932 - val_loss: 0.0270 - val_accuracy: 0.9918\n",
      "Epoch 7/12\n",
      "60000/60000 [==============================] - 49s 824us/step - loss: 0.0215 - accuracy: 0.9936 - val_loss: 0.0281 - val_accuracy: 0.9919\n",
      "Epoch 8/12\n",
      "60000/60000 [==============================] - 49s 824us/step - loss: 0.0198 - accuracy: 0.9940 - val_loss: 0.0292 - val_accuracy: 0.9919\n",
      "Epoch 9/12\n",
      "60000/60000 [==============================] - 49s 825us/step - loss: 0.0195 - accuracy: 0.9941 - val_loss: 0.0265 - val_accuracy: 0.9929\n",
      "Epoch 10/12\n",
      "60000/60000 [==============================] - 49s 821us/step - loss: 0.0204 - accuracy: 0.9938 - val_loss: 0.0262 - val_accuracy: 0.9930\n",
      "Epoch 11/12\n",
      "60000/60000 [==============================] - 49s 819us/step - loss: 0.0202 - accuracy: 0.9938 - val_loss: 0.0288 - val_accuracy: 0.9925\n",
      "Epoch 12/12\n",
      "60000/60000 [==============================] - 49s 821us/step - loss: 0.0182 - accuracy: 0.9944 - val_loss: 0.0267 - val_accuracy: 0.9928\n"
     ]
    },
    {
     "ename": "IndexError",
     "evalue": "list index out of range",
     "output_type": "error",
     "traceback": [
      "\u001b[1;31m---------------------------------------------------------------------------\u001b[0m",
      "\u001b[1;31mIndexError\u001b[0m                                Traceback (most recent call last)",
      "\u001b[1;32m<ipython-input-35-20e64d629fb1>\u001b[0m in \u001b[0;36m<module>\u001b[1;34m\u001b[0m\n\u001b[0;32m     12\u001b[0m          \u001b[0mbatch_size\u001b[0m\u001b[1;33m=\u001b[0m\u001b[0mbatch_size\u001b[0m\u001b[1;33m,\u001b[0m \u001b[0mepochs\u001b[0m\u001b[1;33m=\u001b[0m\u001b[0mepochs\u001b[0m\u001b[1;33m,\u001b[0m \u001b[0mverbose\u001b[0m\u001b[1;33m=\u001b[0m\u001b[1;36m1\u001b[0m\u001b[1;33m,\u001b[0m\u001b[1;33m\u001b[0m\u001b[1;33m\u001b[0m\u001b[0m\n\u001b[0;32m     13\u001b[0m          validation_data=(x_test, y_test), callbacks=[history])\n\u001b[1;32m---> 14\u001b[1;33m \u001b[0mscore\u001b[0m \u001b[1;33m=\u001b[0m \u001b[0mmodel\u001b[0m\u001b[1;33m.\u001b[0m\u001b[0mevaluate\u001b[0m\u001b[1;33m(\u001b[0m\u001b[0mx_test\u001b[0m\u001b[1;33m,\u001b[0m \u001b[0mverbose\u001b[0m\u001b[1;33m=\u001b[0m\u001b[1;36m0\u001b[0m\u001b[1;33m)\u001b[0m\u001b[1;33m\u001b[0m\u001b[1;33m\u001b[0m\u001b[0m\n\u001b[0m\u001b[0;32m     15\u001b[0m \u001b[0mprint\u001b[0m\u001b[1;33m(\u001b[0m\u001b[0mscore\u001b[0m\u001b[1;33m[\u001b[0m\u001b[1;36m0\u001b[0m\u001b[1;33m]\u001b[0m\u001b[1;33m)\u001b[0m\u001b[1;33m\u001b[0m\u001b[1;33m\u001b[0m\u001b[0m\n\u001b[0;32m     16\u001b[0m \u001b[0mprint\u001b[0m\u001b[1;33m(\u001b[0m\u001b[0mscore\u001b[0m\u001b[1;33m[\u001b[0m\u001b[1;36m1\u001b[0m\u001b[1;33m]\u001b[0m\u001b[1;33m)\u001b[0m\u001b[1;33m\u001b[0m\u001b[1;33m\u001b[0m\u001b[0m\n",
      "\u001b[1;32m~\\Anaconda3\\lib\\site-packages\\keras\\engine\\training.py\u001b[0m in \u001b[0;36mevaluate\u001b[1;34m(self, x, y, batch_size, verbose, sample_weight, steps, callbacks, max_queue_size, workers, use_multiprocessing)\u001b[0m\n\u001b[0;32m   1359\u001b[0m                                          \u001b[0mverbose\u001b[0m\u001b[1;33m=\u001b[0m\u001b[0mverbose\u001b[0m\u001b[1;33m,\u001b[0m\u001b[1;33m\u001b[0m\u001b[1;33m\u001b[0m\u001b[0m\n\u001b[0;32m   1360\u001b[0m                                          \u001b[0msteps\u001b[0m\u001b[1;33m=\u001b[0m\u001b[0msteps\u001b[0m\u001b[1;33m,\u001b[0m\u001b[1;33m\u001b[0m\u001b[1;33m\u001b[0m\u001b[0m\n\u001b[1;32m-> 1361\u001b[1;33m                                          callbacks=callbacks)\n\u001b[0m\u001b[0;32m   1362\u001b[0m \u001b[1;33m\u001b[0m\u001b[0m\n\u001b[0;32m   1363\u001b[0m     def predict(self, x,\n",
      "\u001b[1;32m~\\Anaconda3\\lib\\site-packages\\keras\\engine\\training_arrays.py\u001b[0m in \u001b[0;36mtest_loop\u001b[1;34m(model, f, ins, batch_size, verbose, steps, callbacks)\u001b[0m\n\u001b[0;32m    401\u001b[0m     \u001b[0mindices_for_conversion_to_dense\u001b[0m \u001b[1;33m=\u001b[0m \u001b[1;33m[\u001b[0m\u001b[1;33m]\u001b[0m\u001b[1;33m\u001b[0m\u001b[1;33m\u001b[0m\u001b[0m\n\u001b[0;32m    402\u001b[0m     \u001b[1;32mfor\u001b[0m \u001b[0mi\u001b[0m \u001b[1;32min\u001b[0m \u001b[0mrange\u001b[0m\u001b[1;33m(\u001b[0m\u001b[0mlen\u001b[0m\u001b[1;33m(\u001b[0m\u001b[0mfeed\u001b[0m\u001b[1;33m)\u001b[0m\u001b[1;33m)\u001b[0m\u001b[1;33m:\u001b[0m\u001b[1;33m\u001b[0m\u001b[1;33m\u001b[0m\u001b[0m\n\u001b[1;32m--> 403\u001b[1;33m         \u001b[1;32mif\u001b[0m \u001b[0missparse\u001b[0m\u001b[1;33m(\u001b[0m\u001b[0mins\u001b[0m\u001b[1;33m[\u001b[0m\u001b[0mi\u001b[0m\u001b[1;33m]\u001b[0m\u001b[1;33m)\u001b[0m \u001b[1;32mand\u001b[0m \u001b[1;32mnot\u001b[0m \u001b[0mK\u001b[0m\u001b[1;33m.\u001b[0m\u001b[0mis_sparse\u001b[0m\u001b[1;33m(\u001b[0m\u001b[0mfeed\u001b[0m\u001b[1;33m[\u001b[0m\u001b[0mi\u001b[0m\u001b[1;33m]\u001b[0m\u001b[1;33m)\u001b[0m\u001b[1;33m:\u001b[0m\u001b[1;33m\u001b[0m\u001b[1;33m\u001b[0m\u001b[0m\n\u001b[0m\u001b[0;32m    404\u001b[0m             \u001b[0mindices_for_conversion_to_dense\u001b[0m\u001b[1;33m.\u001b[0m\u001b[0mappend\u001b[0m\u001b[1;33m(\u001b[0m\u001b[0mi\u001b[0m\u001b[1;33m)\u001b[0m\u001b[1;33m\u001b[0m\u001b[1;33m\u001b[0m\u001b[0m\n\u001b[0;32m    405\u001b[0m \u001b[1;33m\u001b[0m\u001b[0m\n",
      "\u001b[1;31mIndexError\u001b[0m: list index out of range"
     ]
    }
   ],
   "source": [
    "# train, validation, test\n",
    "# epoch마다 accuracy를 저장한다.\n",
    "class AccuracyHistory(keras.callbacks.Callback):\n",
    "    def on_train_begin(self, logs={}):\n",
    "        self.acc = []\n",
    "    def on_epoch_end(self, batch, logs={}):\n",
    "        self.acc.append(logs.get(\"accuracy\"))\n",
    "        \n",
    "history = AccuracyHistory()  # 인스턴스 해주고 아래 fit에 , callbacks에  history 지정한다.\n",
    "\n",
    "model.fit(x_train, y_train,\n",
    "         batch_size=batch_size, epochs=epochs, verbose=1,\n",
    "         validation_data=(x_test, y_test), callbacks=[history])\n",
    "score = model.evaluate(x_test, verbose=0)\n",
    "print(score[0])\n",
    "print(score[1])\n",
    "plt.plot(range(1, 11), history.acc)\n",
    "plt.xlabel(\"Epochs\")\n",
    "plt.ylabel(\"Accuracy\")\n",
    "plt.show()"
   ]
  },
  {
   "cell_type": "code",
   "execution_count": 36,
   "metadata": {},
   "outputs": [
    {
     "name": "stdout",
     "output_type": "stream",
     "text": [
      "모델이 저장되었습니다.\n",
      "모델이 로딩되었습니다.\n",
      "Model: \"sequential_2\"\n",
      "_________________________________________________________________\n",
      "Layer (type)                 Output Shape              Param #   \n",
      "=================================================================\n",
      "conv2d_3 (Conv2D)            (None, 26, 26, 32)        320       \n",
      "_________________________________________________________________\n",
      "conv2d_4 (Conv2D)            (None, 24, 24, 64)        18496     \n",
      "_________________________________________________________________\n",
      "max_pooling2d_2 (MaxPooling2 (None, 12, 12, 64)        0         \n",
      "_________________________________________________________________\n",
      "dropout_3 (Dropout)          (None, 12, 12, 64)        0         \n",
      "_________________________________________________________________\n",
      "flatten_2 (Flatten)          (None, 9216)              0         \n",
      "_________________________________________________________________\n",
      "dense_3 (Dense)              (None, 128)               1179776   \n",
      "_________________________________________________________________\n",
      "dropout_4 (Dropout)          (None, 128)               0         \n",
      "_________________________________________________________________\n",
      "dense_4 (Dense)              (None, 10)                1290      \n",
      "=================================================================\n",
      "Total params: 1,199,882\n",
      "Trainable params: 1,199,882\n",
      "Non-trainable params: 0\n",
      "_________________________________________________________________\n"
     ]
    }
   ],
   "source": [
    "# HDFS(Hadoop File System) : 모델 구조 전체 저장\n",
    "# 가중치, 구조, Optimization statge 등이 저장\n",
    "# json으로 저장 -> 구조와 가중치를 별도로 저장\n",
    "model.save(\"model_mnist.h5\")\n",
    "print(\"모델이 저장되었습니다.\")\n",
    "\n",
    "from keras.models import load_model\n",
    "\n",
    "model = load_model(\"model_mnist.h5\")\n",
    "print(\"모델이 로딩되었습니다.\")\n",
    "model.summary()"
   ]
  },
  {
   "cell_type": "code",
   "execution_count": 37,
   "metadata": {},
   "outputs": [
    {
     "name": "stdout",
     "output_type": "stream",
     "text": [
      "conv2d_3\n",
      "(None, 28, 28, 1)\n",
      "<function relu at 0x00000217788921F8>\n",
      "(None, 26, 26, 32)\n"
     ]
    }
   ],
   "source": [
    "# 레이어 정보 확인\n",
    "l1 = model.layers[0]\n",
    "l2 = model.layers[1]\n",
    "print(l1.name)\n",
    "print(l1.input_shape)\n",
    "print(l1.activation)\n",
    "print(l1.output_shape)"
   ]
  },
  {
   "cell_type": "code",
   "execution_count": 38,
   "metadata": {},
   "outputs": [
    {
     "name": "stderr",
     "output_type": "stream",
     "text": [
      "C:\\Users\\ICT01_24\\Anaconda3\\lib\\site-packages\\keras_preprocessing\\image\\image_data_generator.py:336: UserWarning: This ImageDataGenerator specifies `zca_whitening`, which overrides setting of `featurewise_center`.\n",
      "  warnings.warn('This ImageDataGenerator specifies '\n"
     ]
    },
    {
     "data": {
      "image/png": "[encoded data removed]",
      "text/plain": [
       "<Figure size 432x288 with 9 Axes>"
      ]
     },
     "metadata": {
      "needs_background": "light"
     },
     "output_type": "display_data"
    }
   ],
   "source": [
    "# imageDataGenerator\n",
    "import keras\n",
    "from keras.models import Sequential\n",
    "from keras.datasets import mnist\n",
    "from keras.preprocessing.image import ImageDataGenerator\n",
    "from matplotlib import pyplot\n",
    "from keras import backend as K\n",
    "(X_train, y_train), (X_test, y_test) = mnist.load_data()\n",
    "X_train = X_train.reshape(X_train.shape[0], 28, 28, 1)\n",
    "X_test = X_test.reshape(X_test.shape[0], 28, 28, 1)\n",
    "X_train = X_train.astype(\"float32\")\n",
    "X_test = X_test.astype(\"float32\")\n",
    "#datagen = ImageDataGenerator(horizontal_flip=True, vertical_flip=True)\n",
    "#datagen = ImageDataGenerator(width_shift_range=0.2, height_shift_range=0.2)\n",
    "\n",
    "# 이미지 백색화 => noise 제거(변수 간 상관도를 없앰 : PCA)\n",
    "datagen = ImageDataGenerator(zca_whitening=True)\n",
    "datagen = ImageDataGenerator(rotation_range=90)\n",
    "datagen.fit(X_train)\n",
    "for X_batch, y_batch in datagen.flow(X_train, y_train, batch_size=9,\n",
    "                                     save_to_dir=\"images\",\n",
    "                                     save_prefix=\"aug\",\n",
    "                                     save_format=\"png\"):\n",
    "    \n",
    "    for i in range(0, 9):\n",
    "        pyplot.subplot(330 + 1 + i)\n",
    "        pyplot.imshow(X_batch[i].reshape(28, 28),\n",
    "                     cmap=pyplot.get_cmap(\"gray\"))\n",
    "    pyplot.show()\n",
    "    break"
   ]
  },
  {
   "cell_type": "code",
   "execution_count": 9,
   "metadata": {},
   "outputs": [
    {
     "name": "stdout",
     "output_type": "stream",
     "text": [
      "X_train shape: (50000, 32, 32, 3)\n",
      "50000 train samples\n",
      "10000 test samples\n"
     ]
    },
    {
     "data": {
      "image/png": "[encoded data removed]",
      "text/plain": [
       "<Figure size 432x288 with 1 Axes>"
      ]
     },
     "metadata": {
      "needs_background": "light"
     },
     "output_type": "display_data"
    },
    {
     "data": {
      "image/png": "[encoded data removed]",
      "text/plain": [
       "<Figure size 432x288 with 1 Axes>"
      ]
     },
     "metadata": {
      "needs_background": "light"
     },
     "output_type": "display_data"
    }
   ],
   "source": [
    "import keras\n",
    "from keras.layers import Dense, Dropout, Flatten, Conv2D, MaxPooling2D\n",
    "from keras import backend as K\n",
    "from keras.models import Sequential\n",
    "from keras.datasets import cifar10\n",
    "from keras.optimizers import SGD, Adam, RMSprop\n",
    "from keras.utils import np_utils\n",
    "from keras.layers import Activation\n",
    "import matplotlib.pyplot as plt\n",
    "%matplotlib inline\n",
    "\n",
    "(X_train, Y_train), (X_test, Y_test) = cifar10.load_data()\n",
    "print(\"X_train shape:\", X_train.shape)\n",
    "print(X_train.shape[0], \"train samples\")\n",
    "print(X_test.shape[0], \"test samples\")\n",
    "NB_CLASSES = 10\n",
    "Y_train = np_utils.to_categorical(Y_train, NB_CLASSES)\n",
    "Y_test = np_utils.to_categorical(Y_test, NB_CLASSES)\n",
    "\n",
    "X_train = X_train.astype(\"float32\")\n",
    "X_test = X_test.astype(\"float32\")\n",
    "X_train /= 255\n",
    "X_test /= 255\n",
    "\n",
    "plt.imshow(X_train[5])\n",
    "plt.grid(False)\n",
    "plt.show()\n",
    "plt.imshow(X_train[6])\n",
    "plt.grid(False)\n",
    "plt.show()"
   ]
  },
  {
   "cell_type": "code",
   "execution_count": 10,
   "metadata": {},
   "outputs": [],
   "source": [
    "IMG_CHANNELS = 3\n",
    "IMG_ROWS = 32\n",
    "IMG_COLS = 32\n",
    "BATCH_SIZE = 128\n",
    "NB_EPOCH = 40\n",
    "NB_CLASSES = 10\n",
    "VERBOSE = 1\n",
    "VALIDATION_SPLIT = 0.2\n",
    "OPTIM = RMSprop()"
   ]
  },
  {
   "cell_type": "code",
   "execution_count": 11,
   "metadata": {},
   "outputs": [
    {
     "name": "stdout",
     "output_type": "stream",
     "text": [
      "WARNING:tensorflow:From C:\\Users\\ICT01_24\\Anaconda3\\envs\\tf15_test\\lib\\site-packages\\keras\\backend\\tensorflow_backend.py:517: The name tf.placeholder is deprecated. Please use tf.compat.v1.placeholder instead.\n",
      "\n",
      "WARNING:tensorflow:From C:\\Users\\ICT01_24\\Anaconda3\\envs\\tf15_test\\lib\\site-packages\\keras\\backend\\tensorflow_backend.py:4138: The name tf.random_uniform is deprecated. Please use tf.random.uniform instead.\n",
      "\n",
      "WARNING:tensorflow:From C:\\Users\\ICT01_24\\Anaconda3\\envs\\tf15_test\\lib\\site-packages\\keras\\backend\\tensorflow_backend.py:3976: The name tf.nn.max_pool is deprecated. Please use tf.nn.max_pool2d instead.\n",
      "\n",
      "WARNING:tensorflow:From C:\\Users\\ICT01_24\\Anaconda3\\envs\\tf15_test\\lib\\site-packages\\keras\\backend\\tensorflow_backend.py:133: The name tf.placeholder_with_default is deprecated. Please use tf.compat.v1.placeholder_with_default instead.\n",
      "\n",
      "WARNING:tensorflow:From C:\\Users\\ICT01_24\\Anaconda3\\envs\\tf15_test\\lib\\site-packages\\keras\\backend\\tensorflow_backend.py:3445: calling dropout (from tensorflow.python.ops.nn_ops) with keep_prob is deprecated and will be removed in a future version.\n",
      "Instructions for updating:\n",
      "Please use `rate` instead of `keep_prob`. Rate should be set to `rate = 1 - keep_prob`.\n"
     ]
    }
   ],
   "source": [
    "model = Sequential()\n",
    "# residual망의 영향\n",
    "# 32 x 32 x 3 => 32x32x32\n",
    "model.add(Conv2D(32, kernel_size=3, padding=\"same\", input_shape=(IMG_ROWS, IMG_COLS, IMG_CHANNELS)))\n",
    "model.add(Activation(\"relu\"))\n",
    "model.add(Conv2D(32, kernel_size=3, padding=\"same\"))\n",
    "model.add(Activation(\"relu\"))\n",
    "model.add(MaxPooling2D(pool_size=(2,2)))\n",
    "model.add(Dropout(0.25))"
   ]
  },
  {
   "cell_type": "code",
   "execution_count": 12,
   "metadata": {},
   "outputs": [
    {
     "name": "stderr",
     "output_type": "stream",
     "text": [
      "C:\\Users\\ICT01_24\\Anaconda3\\envs\\tf15_test\\lib\\site-packages\\ipykernel_launcher.py:3: UserWarning: Update your `Conv2D` call to the Keras 2 API: `Conv2D(64, (3, 3))`\n",
      "  This is separate from the ipykernel package so we can avoid doing imports until\n"
     ]
    }
   ],
   "source": [
    "model.add(Conv2D(64, kernel_size=3, padding=\"same\"))\n",
    "model.add(Activation(\"relu\"))\n",
    "model.add(Conv2D(64, 3, 3))\n",
    "model.add(Activation(\"relu\"))\n",
    "model.add(MaxPooling2D(pool_size=(2,2)))\n",
    "model.add(Dropout(0.25))"
   ]
  },
  {
   "cell_type": "code",
   "execution_count": 13,
   "metadata": {},
   "outputs": [
    {
     "name": "stdout",
     "output_type": "stream",
     "text": [
      "_________________________________________________________________\n",
      "Layer (type)                 Output Shape              Param #   \n",
      "=================================================================\n",
      "conv2d_1 (Conv2D)            (None, 32, 32, 32)        896       \n",
      "_________________________________________________________________\n",
      "activation_1 (Activation)    (None, 32, 32, 32)        0         \n",
      "_________________________________________________________________\n",
      "conv2d_2 (Conv2D)            (None, 32, 32, 32)        9248      \n",
      "_________________________________________________________________\n",
      "activation_2 (Activation)    (None, 32, 32, 32)        0         \n",
      "_________________________________________________________________\n",
      "max_pooling2d_1 (MaxPooling2 (None, 16, 16, 32)        0         \n",
      "_________________________________________________________________\n",
      "dropout_1 (Dropout)          (None, 16, 16, 32)        0         \n",
      "_________________________________________________________________\n",
      "conv2d_3 (Conv2D)            (None, 16, 16, 64)        18496     \n",
      "_________________________________________________________________\n",
      "activation_3 (Activation)    (None, 16, 16, 64)        0         \n",
      "_________________________________________________________________\n",
      "conv2d_4 (Conv2D)            (None, 14, 14, 64)        36928     \n",
      "_________________________________________________________________\n",
      "activation_4 (Activation)    (None, 14, 14, 64)        0         \n",
      "_________________________________________________________________\n",
      "max_pooling2d_2 (MaxPooling2 (None, 7, 7, 64)          0         \n",
      "_________________________________________________________________\n",
      "dropout_2 (Dropout)          (None, 7, 7, 64)          0         \n",
      "_________________________________________________________________\n",
      "flatten_1 (Flatten)          (None, 3136)              0         \n",
      "_________________________________________________________________\n",
      "dense_1 (Dense)              (None, 512)               1606144   \n",
      "_________________________________________________________________\n",
      "activation_5 (Activation)    (None, 512)               0         \n",
      "_________________________________________________________________\n",
      "dropout_3 (Dropout)          (None, 512)               0         \n",
      "_________________________________________________________________\n",
      "dense_2 (Dense)              (None, 10)                5130      \n",
      "_________________________________________________________________\n",
      "activation_6 (Activation)    (None, 10)                0         \n",
      "=================================================================\n",
      "Total params: 1,676,842\n",
      "Trainable params: 1,676,842\n",
      "Non-trainable params: 0\n",
      "_________________________________________________________________\n",
      "WARNING:tensorflow:From C:\\Users\\ICT01_24\\Anaconda3\\envs\\tf15_test\\lib\\site-packages\\keras\\optimizers.py:790: The name tf.train.Optimizer is deprecated. Please use tf.compat.v1.train.Optimizer instead.\n",
      "\n",
      "WARNING:tensorflow:From C:\\Users\\ICT01_24\\Anaconda3\\envs\\tf15_test\\lib\\site-packages\\keras\\backend\\tensorflow_backend.py:3295: The name tf.log is deprecated. Please use tf.math.log instead.\n",
      "\n"
     ]
    }
   ],
   "source": [
    "model.add(Flatten())\n",
    "model.add(Dense(512))\n",
    "model.add(Activation(\"relu\"))\n",
    "model.add(Dropout(0.5))\n",
    "model.add(Dense(NB_CLASSES))\n",
    "model.add(Activation(\"softmax\"))\n",
    "model.summary()\n",
    "model.compile(loss=\"categorical_crossentropy\", optimizer=OPTIM, metrics=[\"accuracy\"])"
   ]
  },
  {
   "cell_type": "code",
   "execution_count": 14,
   "metadata": {},
   "outputs": [
    {
     "name": "stdout",
     "output_type": "stream",
     "text": [
      "WARNING:tensorflow:From C:\\Users\\ICT01_24\\Anaconda3\\envs\\tf15_test\\lib\\site-packages\\tensorflow_core\\python\\ops\\math_grad.py:1424: where (from tensorflow.python.ops.array_ops) is deprecated and will be removed in a future version.\n",
      "Instructions for updating:\n",
      "Use tf.where in 2.0, which has the same broadcast rule as np.where\n",
      "WARNING:tensorflow:From C:\\Users\\ICT01_24\\Anaconda3\\envs\\tf15_test\\lib\\site-packages\\keras\\backend\\tensorflow_backend.py:986: The name tf.assign_add is deprecated. Please use tf.compat.v1.assign_add instead.\n",
      "\n",
      "WARNING:tensorflow:From C:\\Users\\ICT01_24\\Anaconda3\\envs\\tf15_test\\lib\\site-packages\\keras\\backend\\tensorflow_backend.py:973: The name tf.assign is deprecated. Please use tf.compat.v1.assign instead.\n",
      "\n",
      "WARNING:tensorflow:From C:\\Users\\ICT01_24\\Anaconda3\\envs\\tf15_test\\lib\\site-packages\\keras\\backend\\tensorflow_backend.py:2741: The name tf.Session is deprecated. Please use tf.compat.v1.Session instead.\n",
      "\n",
      "Train on 40000 samples, validate on 10000 samples\n",
      "Epoch 1/40\n",
      "WARNING:tensorflow:From C:\\Users\\ICT01_24\\Anaconda3\\envs\\tf15_test\\lib\\site-packages\\keras\\backend\\tensorflow_backend.py:174: The name tf.get_default_session is deprecated. Please use tf.compat.v1.get_default_session instead.\n",
      "\n",
      "WARNING:tensorflow:From C:\\Users\\ICT01_24\\Anaconda3\\envs\\tf15_test\\lib\\site-packages\\keras\\backend\\tensorflow_backend.py:181: The name tf.ConfigProto is deprecated. Please use tf.compat.v1.ConfigProto instead.\n",
      "\n",
      "WARNING:tensorflow:From C:\\Users\\ICT01_24\\Anaconda3\\envs\\tf15_test\\lib\\site-packages\\keras\\backend\\tensorflow_backend.py:190: The name tf.global_variables is deprecated. Please use tf.compat.v1.global_variables instead.\n",
      "\n",
      "WARNING:tensorflow:From C:\\Users\\ICT01_24\\Anaconda3\\envs\\tf15_test\\lib\\site-packages\\keras\\backend\\tensorflow_backend.py:199: The name tf.is_variable_initialized is deprecated. Please use tf.compat.v1.is_variable_initialized instead.\n",
      "\n",
      "WARNING:tensorflow:From C:\\Users\\ICT01_24\\Anaconda3\\envs\\tf15_test\\lib\\site-packages\\keras\\backend\\tensorflow_backend.py:206: The name tf.variables_initializer is deprecated. Please use tf.compat.v1.variables_initializer instead.\n",
      "\n",
      "40000/40000 [==============================] - 11s 281us/step - loss: 1.8096 - acc: 0.3467 - val_loss: 1.3996 - val_acc: 0.5050\n",
      "Epoch 2/40\n",
      "40000/40000 [==============================] - 8s 200us/step - loss: 1.3290 - acc: 0.5266 - val_loss: 1.1727 - val_acc: 0.5897\n",
      "Epoch 3/40\n",
      "40000/40000 [==============================] - 8s 201us/step - loss: 1.1064 - acc: 0.6092 - val_loss: 1.1275 - val_acc: 0.5990\n",
      "Epoch 4/40\n",
      "40000/40000 [==============================] - 8s 200us/step - loss: 0.9714 - acc: 0.6622 - val_loss: 0.8776 - val_acc: 0.6946\n",
      "Epoch 5/40\n",
      "40000/40000 [==============================] - 8s 200us/step - loss: 0.8704 - acc: 0.6942 - val_loss: 0.9634 - val_acc: 0.6619\n",
      "Epoch 6/40\n",
      "40000/40000 [==============================] - 8s 201us/step - loss: 0.7965 - acc: 0.7227 - val_loss: 0.7723 - val_acc: 0.7292\n",
      "Epoch 7/40\n",
      "40000/40000 [==============================] - 8s 201us/step - loss: 0.7449 - acc: 0.7405 - val_loss: 0.8061 - val_acc: 0.7254\n",
      "Epoch 8/40\n",
      "40000/40000 [==============================] - 8s 201us/step - loss: 0.6976 - acc: 0.7580 - val_loss: 0.7241 - val_acc: 0.7524\n",
      "Epoch 9/40\n",
      "40000/40000 [==============================] - 8s 200us/step - loss: 0.6551 - acc: 0.7705 - val_loss: 0.9544 - val_acc: 0.6999\n",
      "Epoch 10/40\n",
      "40000/40000 [==============================] - 8s 200us/step - loss: 0.6238 - acc: 0.7844 - val_loss: 0.7010 - val_acc: 0.7675\n",
      "Epoch 11/40\n",
      "40000/40000 [==============================] - 8s 202us/step - loss: 0.5928 - acc: 0.7963 - val_loss: 0.7310 - val_acc: 0.7560\n",
      "Epoch 12/40\n",
      "40000/40000 [==============================] - 8s 201us/step - loss: 0.5754 - acc: 0.8035 - val_loss: 0.7145 - val_acc: 0.7670\n",
      "Epoch 13/40\n",
      "40000/40000 [==============================] - 8s 200us/step - loss: 0.5639 - acc: 0.8067 - val_loss: 0.7008 - val_acc: 0.7740\n",
      "Epoch 14/40\n",
      "40000/40000 [==============================] - 8s 201us/step - loss: 0.5519 - acc: 0.8120 - val_loss: 1.0204 - val_acc: 0.6757\n",
      "Epoch 15/40\n",
      "40000/40000 [==============================] - 8s 200us/step - loss: 0.5457 - acc: 0.8140 - val_loss: 0.8060 - val_acc: 0.7380\n",
      "Epoch 16/40\n",
      "40000/40000 [==============================] - 8s 200us/step - loss: 0.5384 - acc: 0.8178 - val_loss: 0.7002 - val_acc: 0.7894\n",
      "Epoch 17/40\n",
      "40000/40000 [==============================] - 8s 202us/step - loss: 0.5334 - acc: 0.8228 - val_loss: 0.7662 - val_acc: 0.7840\n",
      "Epoch 18/40\n",
      "40000/40000 [==============================] - 8s 203us/step - loss: 0.5285 - acc: 0.8241 - val_loss: 0.7130 - val_acc: 0.7874\n",
      "Epoch 19/40\n",
      "40000/40000 [==============================] - 8s 201us/step - loss: 0.5269 - acc: 0.8257 - val_loss: 0.9591 - val_acc: 0.7690\n",
      "Epoch 20/40\n",
      "40000/40000 [==============================] - 8s 201us/step - loss: 0.5287 - acc: 0.8211 - val_loss: 0.7849 - val_acc: 0.7912\n",
      "Epoch 21/40\n",
      "40000/40000 [==============================] - 8s 201us/step - loss: 0.5319 - acc: 0.8244 - val_loss: 0.7652 - val_acc: 0.7541\n",
      "Epoch 22/40\n",
      "40000/40000 [==============================] - 8s 201us/step - loss: 0.5279 - acc: 0.8257 - val_loss: 0.6998 - val_acc: 0.7889\n",
      "Epoch 23/40\n",
      "40000/40000 [==============================] - 8s 201us/step - loss: 0.5378 - acc: 0.8224 - val_loss: 0.7822 - val_acc: 0.7712\n",
      "Epoch 24/40\n",
      "40000/40000 [==============================] - 8s 201us/step - loss: 0.5283 - acc: 0.8249 - val_loss: 0.8311 - val_acc: 0.7829\n",
      "Epoch 25/40\n",
      "40000/40000 [==============================] - 8s 201us/step - loss: 0.5287 - acc: 0.8271 - val_loss: 0.6795 - val_acc: 0.7880\n",
      "Epoch 26/40\n",
      "40000/40000 [==============================] - 8s 201us/step - loss: 0.5272 - acc: 0.8256 - val_loss: 0.8614 - val_acc: 0.7903\n",
      "Epoch 27/40\n",
      "40000/40000 [==============================] - 8s 201us/step - loss: 0.5337 - acc: 0.8246 - val_loss: 0.9588 - val_acc: 0.7773\n",
      "Epoch 28/40\n",
      "40000/40000 [==============================] - 8s 201us/step - loss: 0.5382 - acc: 0.8243 - val_loss: 1.0273 - val_acc: 0.7460\n",
      "Epoch 29/40\n",
      "40000/40000 [==============================] - 8s 201us/step - loss: 0.5399 - acc: 0.8226 - val_loss: 0.8021 - val_acc: 0.7936\n",
      "Epoch 30/40\n",
      "40000/40000 [==============================] - 8s 201us/step - loss: 0.5382 - acc: 0.8251 - val_loss: 1.0490 - val_acc: 0.7866\n",
      "Epoch 31/40\n",
      "40000/40000 [==============================] - 8s 202us/step - loss: 0.5433 - acc: 0.8242 - val_loss: 0.6866 - val_acc: 0.7938\n",
      "Epoch 32/40\n",
      "40000/40000 [==============================] - 8s 202us/step - loss: 0.5516 - acc: 0.8233 - val_loss: 0.8513 - val_acc: 0.7437\n",
      "Epoch 33/40\n",
      "40000/40000 [==============================] - 8s 203us/step - loss: 0.5426 - acc: 0.8224 - val_loss: 1.0295 - val_acc: 0.7869\n",
      "Epoch 34/40\n",
      "40000/40000 [==============================] - 8s 202us/step - loss: 0.5454 - acc: 0.8256 - val_loss: 0.7155 - val_acc: 0.7735\n",
      "Epoch 35/40\n",
      "40000/40000 [==============================] - 8s 202us/step - loss: 0.5431 - acc: 0.8245 - val_loss: 0.7557 - val_acc: 0.7877\n",
      "Epoch 36/40\n",
      "40000/40000 [==============================] - 8s 201us/step - loss: 0.5498 - acc: 0.8216 - val_loss: 0.7984 - val_acc: 0.7823\n",
      "Epoch 37/40\n",
      "40000/40000 [==============================] - 8s 202us/step - loss: 0.5495 - acc: 0.8227 - val_loss: 0.7762 - val_acc: 0.7941\n",
      "Epoch 38/40\n",
      "40000/40000 [==============================] - 8s 205us/step - loss: 0.5592 - acc: 0.8221 - val_loss: 0.7525 - val_acc: 0.7800\n",
      "Epoch 39/40\n",
      "40000/40000 [==============================] - 8s 201us/step - loss: 0.5584 - acc: 0.8205 - val_loss: 0.8941 - val_acc: 0.7714\n",
      "Epoch 40/40\n",
      "40000/40000 [==============================] - 8s 202us/step - loss: 0.5603 - acc: 0.8220 - val_loss: 1.0290 - val_acc: 0.7481\n"
     ]
    }
   ],
   "source": [
    "history = model.fit(X_train, Y_train, batch_size=BATCH_SIZE,\n",
    "                    epochs=NB_EPOCH, validation_split=VALIDATION_SPLIT, verbose=VERBOSE)"
   ]
  },
  {
   "cell_type": "code",
   "execution_count": 15,
   "metadata": {},
   "outputs": [
    {
     "ename": "NameError",
     "evalue": "name 'ImageDataGenerator' is not defined",
     "output_type": "error",
     "traceback": [
      "\u001b[1;31m---------------------------------------------------------------------------\u001b[0m",
      "\u001b[1;31mNameError\u001b[0m                                 Traceback (most recent call last)",
      "\u001b[1;32m<ipython-input-15-5ecd19f0fc19>\u001b[0m in \u001b[0;36m<module>\u001b[1;34m\u001b[0m\n\u001b[1;32m----> 1\u001b[1;33m datagen = ImageDataGenerator(featurewise_center=False,\n\u001b[0m\u001b[0;32m      2\u001b[0m                              \u001b[0msamplewise_center\u001b[0m\u001b[1;33m=\u001b[0m\u001b[1;32mFalse\u001b[0m\u001b[1;33m,\u001b[0m\u001b[1;33m\u001b[0m\u001b[1;33m\u001b[0m\u001b[0m\n\u001b[0;32m      3\u001b[0m                              \u001b[0mfeaturewise_std_normalization\u001b[0m\u001b[1;33m=\u001b[0m\u001b[1;32mFalse\u001b[0m\u001b[1;33m,\u001b[0m\u001b[1;33m\u001b[0m\u001b[1;33m\u001b[0m\u001b[0m\n\u001b[0;32m      4\u001b[0m                              \u001b[0msamplewise_std_normalization\u001b[0m\u001b[1;33m=\u001b[0m\u001b[1;32mFalse\u001b[0m\u001b[1;33m,\u001b[0m\u001b[1;33m\u001b[0m\u001b[1;33m\u001b[0m\u001b[0m\n\u001b[0;32m      5\u001b[0m                              \u001b[0mzca_whitening\u001b[0m\u001b[1;33m=\u001b[0m\u001b[1;32mFalse\u001b[0m\u001b[1;33m,\u001b[0m \u001b[1;31m# 이미지 PCA 노이즈 제거\u001b[0m\u001b[1;33m\u001b[0m\u001b[1;33m\u001b[0m\u001b[0m\n",
      "\u001b[1;31mNameError\u001b[0m: name 'ImageDataGenerator' is not defined"
     ]
    }
   ],
   "source": [
    "datagen = ImageDataGenerator(featurewise_center=False,\n",
    "                             samplewise_center=False,\n",
    "                             featurewise_std_normalization=False,\n",
    "                             samplewise_std_normalization=False,\n",
    "                             zca_whitening=False, # 이미지 PCA 노이즈 제거\n",
    "                             rotation_range=0.1,\n",
    "                             width_shift_range=0.1,\n",
    "                             height_shift_range=0.1,\n",
    "                             horizontal_flip=True,\n",
    "                             vertical_flip=False)\n",
    "datagen.fit(X_train)"
   ]
  },
  {
   "cell_type": "code",
   "execution_count": null,
   "metadata": {},
   "outputs": [],
   "source": [
    "model.fit_generator(datagen.flow(X_test, Y_test,\n",
    "                                 batch_size=BATCH_SIZE),\n",
    "                    samples_per_epoch=X_train.shape[0],\n",
    "                    nb_epoch=NB_EPOCH,\n",
    "                    verbose=VERBOSE)"
   ]
  },
  {
   "cell_type": "code",
   "execution_count": null,
   "metadata": {},
   "outputs": [],
   "source": [
    "score = model.evaluate(X_test, Y_test, batch_size=BATCH_SIZE, verbose=VERBOSE)\n",
    "print(\"\\nTest score:\", score[0])\n",
    "print(\"\\nTest accuracy:\", score[1])"
   ]
  },
  {
   "cell_type": "code",
   "execution_count": null,
   "metadata": {},
   "outputs": [],
   "source": [
    "# json\n",
    "model_json = model.to_json()\n",
    "open(\"cifar10_architecture.json\", \"w\").write(model_json)\n",
    "model.save_weights(\"cifar10_weights.h5\", overwrite=True)"
   ]
  },
  {
   "cell_type": "code",
   "execution_count": null,
   "metadata": {},
   "outputs": [],
   "source": [
    "from keras.models import model_from_json\n",
    "json_file = open(\"cifar10_architecture.json\", \"r\")\n",
    "loaded_model_json = json_file.read()\n",
    "json_file.close()\n",
    "loaded_model = model_from_json(loaded_model_json)\n",
    "loaded_model.load_weights(\"cifar10_weights.h5\")\n",
    "print(\"Loaded model from disk\")"
   ]
  },
  {
   "cell_type": "code",
   "execution_count": null,
   "metadata": {},
   "outputs": [],
   "source": [
    "# accuracy graph를 출력해보시요.\n",
    "# 이미지 cat, dog를 다운로드한 다음 위의 모델로 예측해보시요.\n"
   ]
  }
 ],
 "metadata": {
  "kernelspec": {
   "display_name": "Python 3",
   "language": "python",
   "name": "python3"
  },
  "language_info": {
   "codemirror_mode": {
    "name": "ipython",
    "version": 3
   },
   "file_extension": ".py",
   "mimetype": "text/x-python",
   "name": "python",
   "nbconvert_exporter": "python",
   "pygments_lexer": "ipython3",
   "version": "3.7.6"
  }
 },
 "nbformat": 4,
 "nbformat_minor": 2
}
