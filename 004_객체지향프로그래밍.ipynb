{
 "cells": [
  {
   "cell_type": "code",
   "execution_count": null,
   "metadata": {},
   "outputs": [],
   "source": [
    "# 파이썬에서의 private 선언 방법 -> 변수 앞에 '__' 붙여라\n",
    "# default은 public\n",
    "\n",
    "# 객체지향성격 개념\n",
    "# 캡슐화 : public or private\n",
    "# 추상화 : 메소드에 의한 접근, 데이터 토스\n",
    "# 상속성 : 말그대로 상속 / 공통부분은 상속받아 재정의\n",
    "# 다형성 : Overloading -> 파이썬에서는 기본적인 오버로딩은 없고 연산자 오버로딩의 경우는 오버라이딩으로 해결\n",
    "#            \n",
    "\n",
    "# __init__ : 생성자\n",
    "# 소멸자는 자동으로 됨\n",
    "\n",
    "# 메소드의 첫번째 param은 self 넣어야\n",
    "# 멤버 변수도 self 적어줘야, 장소무관, 인스턴스 중 변수추가[실시간 추가] 가능\n",
    "\n",
    "# 클래스 변수 : 공유변수 <- 클래스 시작지점에 만들어지는 변수, 모든 객체가 공유하는 변수\n",
    "# 멤버 변수 : self\n",
    "# 지역 변수 : self가 붙지않아 메소드 안에서 실행되다가 종료되면 사라지는 변수\n",
    "\n",
    "class A:\n",
    "    def func1(self):\n",
    "        return print('t')\n",
    "    def __init__(self):\n",
    "        self.name\n",
    "        self.age\n",
    "    \n",
    "a = A()\n",
    "a.func1()\n",
    "dir(a)"
   ]
  },
  {
   "cell_type": "code",
   "execution_count": null,
   "metadata": {},
   "outputs": [],
   "source": [
    " 객체 지향 프로그래밍 ( Class(꼴) => (instance : 메모리 확보)  Object(객체) )\n",
    "    - class : 멤버변수(속성) + 멤버함수"
   ]
  },
  {
   "cell_type": "code",
   "execution_count": null,
   "metadata": {},
   "outputs": [],
   "source": [
    "# 절차지향\n",
    "\n",
    "width = 10\n",
    "height = 20\n",
    "area = 10 * 20 / 2\n",
    "\n",
    "print(\"삼각형의 넓이는\",area)"
   ]
  },
  {
   "cell_type": "code",
   "execution_count": null,
   "metadata": {},
   "outputs": [],
   "source": [
    "# 객체지향\n",
    "class Triangle :\n",
    "    \n",
    "    def setData(self, width, height):\n",
    "        self.width = width\n",
    "        self.height = height\n",
    "        \n",
    "    def area(self):\n",
    "        return self.width * self.height / 2\n",
    "    \n",
    "    \n",
    "tri1 = Triangle() # 인스턴스化\n",
    "tri1.setData(10,20)\n",
    "\n",
    "print(tri1.width, tri1.height, tri1.area())"
   ]
  },
  {
   "cell_type": "code",
   "execution_count": null,
   "metadata": {},
   "outputs": [],
   "source": [
    "# Initializing\n",
    "\n",
    "class Triangle :\n",
    "    \n",
    "    def __init__(self, width, height):\n",
    "        self.width = width\n",
    "        self.height = height\n",
    "        \n",
    "    def area(self):\n",
    "        return self.width * self.height / 2\n",
    "    \n",
    "    \n",
    "tri1 = Triangle(10,20) # 인스턴스化\n",
    "\n",
    "print(tri1.width, tri1.height, tri1.area())"
   ]
  },
  {
   "cell_type": "code",
   "execution_count": null,
   "metadata": {},
   "outputs": [],
   "source": [
    "# 클래스변수, 멤버변수, 지역변수\n",
    "\n",
    "class MyClass(object): # 선언하는 순간에 메모리에 자리를 잡음 , object 부모를 상속(명시적으로 적어놔도 or 적지않아도)\n",
    "    \n",
    "    i = 12345           # 클래스 변수, 공용변수               \n",
    "    \n",
    "    def __init__(self):\n",
    "        self.i = 54321  # 멤버변수\n",
    "        num = 100       # 지역변수\n",
    "        \n",
    "    def f(self):\n",
    "        return self.i\n",
    "    \n",
    "MyClass.__doc__          # Object의 속성"
   ]
  },
  {
   "cell_type": "code",
   "execution_count": null,
   "metadata": {},
   "outputs": [],
   "source": [
    "print(MyClass.i) # 인스턴스 하지 않고도 호출가능"
   ]
  },
  {
   "cell_type": "code",
   "execution_count": null,
   "metadata": {},
   "outputs": [],
   "source": [
    "myclass = MyClass() # self.i 에 대한 메모리 확보\n",
    "print(myclass.i)    # 멤버변수호출\n",
    "myclass.f()"
   ]
  },
  {
   "cell_type": "code",
   "execution_count": null,
   "metadata": {},
   "outputs": [],
   "source": [
    "print(MyClass.i)\n",
    "print(MyClass().i)  # 참조가 없기 때문에 사용과 동시에 메모리에서 사라짐"
   ]
  },
  {
   "cell_type": "code",
   "execution_count": null,
   "metadata": {},
   "outputs": [],
   "source": [
    "from time import time, ctime, sleep  #시간은 초로 관리 ctime(문자열로 convert)\n",
    "\n",
    "class Life:\n",
    "    \n",
    "    def __init__(self):           # 생성자\n",
    "        self.birth = ctime()\n",
    "        print('생성', self.birth)\n",
    "\n",
    "    def __del__(self):            # 소멸자\n",
    "        print('사망', ctime())\n",
    "        \n",
    "    def test(self):\n",
    "        print('Sleeping for 3 sec')\n",
    "        sleep(3)\n",
    "        \n",
    "li = Life()   # 오른쪽은 heap에 저장, 왼쪽은 그 주소를 가리키는 stack에 생성\n",
    "li.test()\n",
    "del li        # 자동으로 가비지컬렉션 됨"
   ]
  },
  {
   "cell_type": "code",
   "execution_count": null,
   "metadata": {},
   "outputs": [],
   "source": [
    "# 사원관리\n",
    "\n",
    "class Employee:\n",
    "\n",
    "    empCount = 0\n",
    "    \n",
    "    def __init__(self, name, salary):\n",
    "        self.name = name\n",
    "        self.salary = salary\n",
    "        Employee.empCount += 1\n",
    "    \n",
    "    def displayCount(self):\n",
    "        print('직원 수 = %d' % Employee.empCount)\n",
    "        \n",
    "    def displayEmployee(self):\n",
    "        print('이름 : ', self.name, ', 급여 : ', self.salary)\n",
    "    \n",
    "    def __call__(self, *pargs, **kargs):\n",
    "        print('Called : ',pargs, kargs)"
   ]
  },
  {
   "cell_type": "code",
   "execution_count": null,
   "metadata": {},
   "outputs": [],
   "source": [
    "emp = Employee('김종호', 500)\n",
    "emp.displayCount()\n",
    "\n",
    "emp1 = Employee('빅데타', 600)\n",
    "emp1.displayCount()\n",
    "\n",
    "emp.displayCount()\n",
    "\n",
    "emp.displayEmployee()\n",
    "emp1.displayEmployee()\n",
    "\n",
    "emp('빅데타',500,100, c = 100) # 클래스를 함수처럼 사용하고 싶을 때\n",
    "                                # __call__을 오버라이딩"
   ]
  },
  {
   "cell_type": "code",
   "execution_count": null,
   "metadata": {},
   "outputs": [],
   "source": [
    "emp1.age = 7\n",
    "emp.age = 8\n",
    "\n",
    "# 실시간으로 변수를 추가 가능 그래서 에러 나지 않음"
   ]
  },
  {
   "cell_type": "code",
   "execution_count": null,
   "metadata": {},
   "outputs": [],
   "source": [
    "emp1.__dict__"
   ]
  },
  {
   "cell_type": "code",
   "execution_count": null,
   "metadata": {},
   "outputs": [],
   "source": [
    "Employee.empCount"
   ]
  },
  {
   "cell_type": "code",
   "execution_count": null,
   "metadata": {},
   "outputs": [],
   "source": [
    "dir(emp)"
   ]
  },
  {
   "cell_type": "code",
   "execution_count": null,
   "metadata": {},
   "outputs": [],
   "source": [
    "# 문제\n",
    "#    - 이름과 나이를 저장하는 Student class를 생성하시오\n",
    "#    - 이름과 나이를 출력하는 pring 함수를 클래스 내에 정의하시오\n",
    "\n",
    "class Student:\n",
    "\n",
    "    def __init__(self, name, age):\n",
    "        self.name = name\n",
    "        self.age = age\n",
    "\n",
    "    def pring(self):\n",
    "        print('이름 : ', self.name, ' , 나이 : ', self.age)\n",
    "        \n",
    "    def __repr__(self): # __str__     repr을 오버라이딩 해 놓은 경우 클래스던저주면 문자열이 리턴\n",
    "        return '나의 이름은 ' + self.name\n",
    "        \n",
    "std1 = Student('김신혁',29)\n",
    "std1.pring()"
   ]
  },
  {
   "cell_type": "code",
   "execution_count": null,
   "metadata": {},
   "outputs": [],
   "source": [
    "print(std1)"
   ]
  },
  {
   "cell_type": "code",
   "execution_count": null,
   "metadata": {},
   "outputs": [],
   "source": [
    "# objecty로 부터 상속..\n",
    "std1.__class__ # 어떤 클래스에서 인스턴스화 되었는지 확인"
   ]
  },
  {
   "cell_type": "code",
   "execution_count": null,
   "metadata": {},
   "outputs": [],
   "source": [
    "g = std1.__class__('김종호',34) # 인스턴스된 변수로부터 클래스 생성 마치 Student('김종호',34) 를 쓴 것과 같은 효과를\n",
    "print(g)"
   ]
  },
  {
   "cell_type": "code",
   "execution_count": null,
   "metadata": {},
   "outputs": [],
   "source": [
    "# 1개를 다루는 클래스를 작성하고 있지만, 거리값은 두 개를 이용 [거리값은 두 포인트를 이용해야 구할 수 있으니까]\n",
    "\n",
    "import math\n",
    "\n",
    "class Point:\n",
    "    def __init__(self, x, y):\n",
    "        self.x = x\n",
    "        self.y = y\n",
    "\n",
    "    def __str__(self): # __repr__ 문자열을 요구하는 함수에 들어가면\n",
    "        return \"좌표는 (%d, %d)\" % (self.x, self.y)\n",
    "    \n",
    "    def dist(self, other):\n",
    "        distance = math.sqrt( (self.x - other.x)**2 + (self.y - other.y)**2 )\n",
    "        return distance\n",
    "    \n",
    "    def collision(self, other):\n",
    "        return self.dist(other) < 3"
   ]
  },
  {
   "cell_type": "code",
   "execution_count": null,
   "metadata": {},
   "outputs": [],
   "source": [
    "first = Point(7,3)\n",
    "second = Point(4,7)\n",
    "\n",
    "print(first)\n",
    "print(second)"
   ]
  },
  {
   "cell_type": "code",
   "execution_count": null,
   "metadata": {},
   "outputs": [],
   "source": [
    "print(\"두 점 사이의 거리는 = \", first.dist(second))\n",
    "if first.collision(second):\n",
    "    print(\"충돌했습니다.\")\n",
    "else:\n",
    "    print(\"충돌하지 않았습니다.\")"
   ]
  },
  {
   "cell_type": "code",
   "execution_count": null,
   "metadata": {},
   "outputs": [],
   "source": [
    "# 문제 : Point 클래스를 이용하여  Circle 클래스를 정의하시오\n",
    "# - 원 : 중심점(point)과 반지름이 필요\n",
    "# - 원과 원이 충돌하는 여부를 확인하는 함수를 작성하시오\n",
    "\n",
    "import math\n",
    "\n",
    "class Circle():\n",
    "    def __init__(self, center, radius):\n",
    "        self.center = center\n",
    "        self.radius = radius\n",
    "\n",
    "    def __repr__(self):\n",
    "        return \"원의 중심은 \" + str(self.center) + \" 반지름은 \" + str(self.radius)\n",
    "    \n",
    "    def collision(self, other):\n",
    "        if self.center.dist(other.center) < self.radius + other.radius:\n",
    "            result = \"충돌함\"\n",
    "        else:\n",
    "            result = \"충돌 안함\"\n",
    "        return result\n",
    "        "
   ]
  },
  {
   "cell_type": "code",
   "execution_count": null,
   "metadata": {},
   "outputs": [],
   "source": [
    "cir1 = Circle(first, 1)\n",
    "cir2 = Circle(second, 5)"
   ]
  },
  {
   "cell_type": "code",
   "execution_count": null,
   "metadata": {},
   "outputs": [],
   "source": [
    "print(cir1)\n",
    "print(cir2)"
   ]
  },
  {
   "cell_type": "code",
   "execution_count": null,
   "metadata": {},
   "outputs": [],
   "source": [
    "print(cir1.collision(cir2))\n",
    "Circle.collision(cir1, cir2)"
   ]
  },
  {
   "cell_type": "code",
   "execution_count": null,
   "metadata": {},
   "outputs": [],
   "source": [
    "# R 절대값 abs : absolute\n",
    "\n",
    "# Point를 이용해서 사각형 Rectangle 클래스를 작성하시오\n",
    "# - 사각형의 면적구하는 함수 작성\n",
    "# - 둘레 구하는 함수 작성\n",
    "# - 대각선의 길이 구하는 함수 작성"
   ]
  },
  {
   "cell_type": "code",
   "execution_count": null,
   "metadata": {},
   "outputs": [],
   "source": [
    "import math\n",
    "\n",
    "class Rectangle:\n",
    "    def __init__(self, pt1, pt2):\n",
    "        self.pt1 = pt1\n",
    "        self.pt2 = pt2\n",
    "        \n",
    "    def area(self):\n",
    "        return abs((pt1.x - pt2.x)) * abs((pt1.y - pt2.y))\n",
    "        \n",
    "    def girth(self):\n",
    "        return abs((pt1.x - pt2.x)) * 2 + abs((pt1.y - pt2.y)) * 2\n",
    "        \n",
    "    def length(self): # 대각선 diagonal\n",
    "        return pt1.dist(pt2)    \n"
   ]
  },
  {
   "cell_type": "code",
   "execution_count": null,
   "metadata": {},
   "outputs": [],
   "source": [
    "pt1 = Point(1,1)\n",
    "pt2 = Point(4,4)"
   ]
  },
  {
   "cell_type": "code",
   "execution_count": null,
   "metadata": {},
   "outputs": [],
   "source": [
    "rec1 = Rectangle(pt1,pt2)"
   ]
  },
  {
   "cell_type": "code",
   "execution_count": null,
   "metadata": {},
   "outputs": [],
   "source": [
    "rec1.area()"
   ]
  },
  {
   "cell_type": "code",
   "execution_count": null,
   "metadata": {},
   "outputs": [],
   "source": [
    "rec1.girth()"
   ]
  },
  {
   "cell_type": "code",
   "execution_count": null,
   "metadata": {},
   "outputs": [],
   "source": [
    "rec1.length()"
   ]
  },
  {
   "cell_type": "code",
   "execution_count": null,
   "metadata": {},
   "outputs": [],
   "source": [
    "# 문제 :Vector class를 작성하시오\n",
    "#    - x, y의 2차원 벡터 구현\n",
    "#    - 벡터의 연산(+,-,*,/) : 요소별로 계산하면 됨\n",
    "#    - dot 함수를 구현하시오 : 벡터의 요소별로 곱하고 모두 더해주면 내적 유사도\n",
    "#    - cos 값으로 변환하는 함수를 구현하시오\n",
    "#        cos theta = acos( A 내적 B / |A| |B| )\n",
    "#        |A| = math.sqrt(x^2 + y^2)"
   ]
  },
  {
   "cell_type": "code",
   "execution_count": null,
   "metadata": {},
   "outputs": [],
   "source": [
    "# Vector(10,20) + Vector(30,40)\n",
    "\n",
    "class Vector:\n",
    "    def __init__(self, x, y):\n",
    "        self.x = x\n",
    "        self.y = y\n",
    "\n",
    "    def __repr__(self):\n",
    "        return \"(좌표는 %d, %d) \" % (self.x, self.y)\n",
    "    \n",
    "    def __add__(self, other): # 연산자 오버로딩을 오버라이딩으로 구현한 거쇼\n",
    "        return Vector(self.x + other.x, self.y + self.y)\n",
    "    \n",
    "    def __sub__(self, other):\n",
    "        return Vector(self.x - other.x, self.y - self.y)\n",
    "\n",
    "    def __mul__(self, other):\n",
    "        return Vector(self.x * other.x, self.y * self.y)\n",
    "    \n",
    "    def __truediv__(self, other):\n",
    "        return Vector(self.x / other.x, self.y / self.y)\n",
    "    "
   ]
  },
  {
   "cell_type": "code",
   "execution_count": null,
   "metadata": {},
   "outputs": [],
   "source": [
    "vec1 = Vector(10, 23)\n",
    "vec2 = Vector(20, 27)"
   ]
  },
  {
   "cell_type": "code",
   "execution_count": null,
   "metadata": {},
   "outputs": [],
   "source": [
    "print(vec1)\n",
    "print(vec1 + vec1)\n",
    "print(vec1 + vec2)\n",
    "\n",
    "print(vec1 - vec2)\n",
    "print(vec1 * vec2)\n",
    "print(vec1 / vec2)"
   ]
  },
  {
   "cell_type": "code",
   "execution_count": null,
   "metadata": {},
   "outputs": [],
   "source": [
    "# 3차원 벡터 클래스 생성하기(연산자 오버로딩 이용하기)\n",
    "\n",
    "class Vector:\n",
    "    def __init__(self, x, y, z):\n",
    "        self.x = x\n",
    "        self.y = y\n",
    "        self.z = z\n",
    "    \n",
    "    def __repr__(self):\n",
    "        return \"(좌표는 %d, %d, %d) \" % (self.x, self.y, self.z)\n",
    "        \n",
    "    def __add__(self,other):\n",
    "        return Vector( self.x + other.x, self.y + other.y, self.z + other.z )\n",
    "    \n",
    "    def __sub__(self,other):\n",
    "        return Vector( self.x - other.x, self.y - other.y, self.z - other.z )\n",
    "    \n",
    "    def __mul__(self,other):\n",
    "        return Vector( self.x * other.x, self.y * other.y, self.z * other.z )\n",
    "    \n",
    "    def __div__(self,other):\n",
    "        return Vector( self.x / other.x, self.y / other.y, self.z / other.z)\n",
    "    \n",
    "########################################################################################    \n",
    "\n",
    "    def dist(self):\n",
    "        return math.sqrt(self.x * self.x + self.y * self.y + self.z * self.z)\n",
    "    \n",
    "    # 방향만 바뀌어야지 크기까지 바뀌면 안됨  [0-1까지가 아니라 아에 반지름이 1인]\n",
    "    def norm(self): # 정규화(Normalization) 크기 값이 1인 사이즈로 변경(반지름이 1인 사이즈)\n",
    "        dist = self.dist()\n",
    "        return (self.x / dist, self.y / dist, self.z / dist)\n",
    "    \n",
    "    def dot(self, other):\n",
    "        return self.x*other.x + self.y*other.y + self.z*other.z\n",
    "    \n",
    "    def theta(self, other):\n",
    "        dot = self.dot(other)\n",
    "        dist1 = self.dist()\n",
    "        dist2 = other.dist()\n",
    "        return math.acos(dot / (dist1 * dist2)) * ( 180 / math.pi ) # 라디안 -> 디그리로 변경\n",
    "    # 변환과정이 필요 : 사람이 사용하는 각도 입력 -> 라디안 변환 -> 계산 후 사람이 사용하는 degree로 변환해서 출력"
   ]
  },
  {
   "cell_type": "code",
   "execution_count": null,
   "metadata": {},
   "outputs": [],
   "source": [
    "f = Vector(10,0,0)\n",
    "g = Vector(0,27,0)\n",
    "\n",
    "print(\"f 벡터의 크기 = \", f.dist())\n",
    "print(\"g 벡터의 크기 = \", g.dist())\n",
    "\n",
    "print(\"f의 normal vector = \", f.norm())\n",
    "print(\"g의 normal vector = \", g.norm())\n",
    "\n",
    "print(\"두 벡터의 내적 = \", g.dot(f))# 내적이 0 이면 두 벡터는 90도 직교한다\n",
    "print(\"f와 g의 사이각은 = \", f.theta(g))"
   ]
  },
  {
   "cell_type": "code",
   "execution_count": null,
   "metadata": {},
   "outputs": [],
   "source": [
    "# deep copy와 copy의 차이\n",
    "\n",
    "import copy\n",
    "\n",
    "a = [1,2,3]\n",
    "b = [4,5,a]\n",
    "x = [a,b,100]\n",
    "y = copy.copy(x)     # copy는 주소 복사\n",
    "t = copy.deepcopy(x) # deepcopy는 원래의 요소를 별도 공간에 복사한 다음 주소 전달\n",
    "e = copy.deepcopy(y)\n",
    "\n",
    "print(\"a=\", a)\n",
    "print(x)\n",
    "print(y)\n",
    "print(t)\n",
    "print(e)\n",
    "\n",
    "a.append(100)\n",
    "print(x)\n",
    "print(y)\n",
    "print(t)\n",
    "print(e)"
   ]
  },
  {
   "cell_type": "code",
   "execution_count": null,
   "metadata": {},
   "outputs": [],
   "source": [
    "# 이름, 국어, 수학, 영어를 관리하는 Student class를 작성하시오(1인분 관리)\n",
    "#    - 총점과 평균도 계산해서 멤버 변수에 저장\n",
    "\n",
    "class Student:\n",
    "    \n",
    "    student_count = 0 # 학생 수 저장\n",
    "    \n",
    "    def __init__(self, name, kor, math, eng):\n",
    "        self.name = name\n",
    "        self.kor = kor\n",
    "        self.math = math\n",
    "        self.eng = eng\n",
    "        self.sum_ = kor + math + eng\n",
    "        self.ave_ = self.sum_ / 3\n",
    "        Student.student_count += 1\n"
   ]
  },
  {
   "cell_type": "code",
   "execution_count": null,
   "metadata": {},
   "outputs": [],
   "source": [
    "# 메뉴화\n",
    "def start():\n",
    "    students = []\n",
    "\n",
    "    while True:\n",
    "        choice = input(\"\\n1.입력 2.출력 3.계산 4.종료 => \")\n",
    "        \n",
    "        if choice =='1':\n",
    "            name = input(\"이름 : \")\n",
    "            kor = int(input(\"국어점수 : \"))\n",
    "            math = int(input(\"수학점수 : \"))\n",
    "            eng = int(input(\"영어점수 : \"))\n",
    "            std = Student(name,kor,math,eng)\n",
    "            students.append(std)\n",
    "            \n",
    "        elif choice == '2':\n",
    "            for s in students:\n",
    "                print(\"이름:{} 국어:{} 영어:{} 수학:{} 총점:{} 평균:{}\".format(s.name, s.kor, s.eng, s.math, s.sum_, s.ave_))\n",
    "            print()\n",
    "            \n",
    "        elif choice == '3':\n",
    "        # 3번 국어, 영어, 수학의 반평균을 출력하시오\n",
    "            korsum = 0\n",
    "            engsum = 0\n",
    "            mathsum = 0\n",
    "            n = s.student_count\n",
    "            \n",
    "            for s in students:\n",
    "                korsum += s.kor\n",
    "                engsum += s.eng\n",
    "                mathsum += s.math\n",
    "                \n",
    "            print(\"학생 수 : {} 국어평균 : {} 영어평균 : {} 수학평균 : {}\".format(n, korsum/n, engsum/n, mathsum/n))\n",
    "        \n",
    "        elif choice == '4':\n",
    "            break;\n",
    "            \n",
    "start()\n"
   ]
  },
  {
   "cell_type": "code",
   "execution_count": null,
   "metadata": {},
   "outputs": [],
   "source": [
    "# 2개로 분리된 class\n",
    "- 기본적인 데이터를 저장하는 클래스\n",
    "- Management(입력, 출력, 검색, 수정 등)\n",
    "- 메뉴함수"
   ]
  },
  {
   "cell_type": "code",
   "execution_count": 8,
   "metadata": {},
   "outputs": [],
   "source": [
    "class Student:\n",
    "    def __init__(self):\n",
    "        self.num = 0; self.name = name = '';\n",
    "        self.kor = 0; self.mat = 0; self.eng = 0\n",
    "        self.tot = 0; self.ave = 0; self.grade = \"\"\n",
    "        \n",
    "    def inputData(self):\n",
    "        self.name = input(\"이름을 입력하세요\")\n",
    "        self.kor = int(input(\"국어 점수 : \"))\n",
    "        self.mat = int(input(\"수학 점수 : \"))\n",
    "        self.eng = int(input(\"영어 점수 : \"))\n",
    "                \n",
    "    def calc_total_average(self): # 수정도 염두에 두어서 별도의 함수화\n",
    "        self.tot = self.kor + self.mat + self.eng\n",
    "        self.ave = round( self.tot / 3, 2)\n",
    "        self.grade = self.calcSemGrade()\n",
    "        \n",
    "    def calcSemGrade(self):\n",
    "        if self.ave >= 90: return 'A'\n",
    "        elif self.ave >= 80: return 'B'\n",
    "        elif self.ave >= 70: return 'C'\n",
    "        elif self.ave >= 60: return 'D'\n",
    "        else: return 'F'\n",
    "        \n",
    "    def __str__(self):\n",
    "        return '%5s %5s %6.2f %6.2f %6.2f %7.2f %7.2f %5s' % (self.num, self.name, self.kor, self.mat, self.eng, self.tot, self.ave, self.grade)\n",
    "    \n",
    "    def __cmp__(self, other): # compare : true/false로 결과 리턴\n",
    "        return self.name == other.name"
   ]
  },
  {
   "cell_type": "code",
   "execution_count": 9,
   "metadata": {},
   "outputs": [],
   "source": [
    "class Management:\n",
    "    \n",
    "    schoolname = \"제주 아카데미\"\n",
    "    num = 0\n",
    "    \n",
    "    def __init__(self, cnt):\n",
    "        print(\"메뉴를 선택하시오\")\n",
    "        self.score = []\n",
    "        self.cnt = cnt\n",
    "    \n",
    "    def input_score(self):\n",
    "        for co_in in range(self.cnt):\n",
    "            stu = Student()\n",
    "            stu.inputData()\n",
    "            Management.num += 1 # 번호 자동 입력을 위해\n",
    "            stu.num = Management.num\n",
    "            self.score.append(stu)\n",
    "            \n",
    "    def print_score(self):\n",
    "        for per in self.score:\n",
    "            print(per)\n",
    "        print()\n",
    "    \n",
    "    def calc_score(self):\n",
    "        for per in self.score:\n",
    "            per.calc_total_average()\n",
    "    \n",
    "    def search_name(self):\n",
    "        name = input(\"검색할 학생 이름을 추가하시오\")\n",
    "        for per in self.score:\n",
    "            if per.name == name:\n",
    "                print(per)\n",
    "                return\n",
    "        print(\"검색하고자 하는 학생이 없습니다.\")\n",
    "        return\n",
    "    \n",
    "    def change_name(self):\n",
    "        name = input(\"수정할 학생 이름을 적으시오\")\n",
    "        ch_name = input(\"덮어쓸 이름을 적으시오\")\n",
    "\n",
    "        for per in self.score:\n",
    "            if per.name == name:\n",
    "                per.name = ch_name\n",
    "                print(\"수정완료\")\n",
    "                print(per)\n",
    "                return\n",
    "            \n",
    "        print(\"수정할 학생이 목록에 없습니다.\")\n",
    "        return\n",
    "    \n",
    "    def remove_name(self):\n",
    "        name = input(\"삭제할 이름을 적으시오\")\n",
    "\n",
    "        for per in self.score:\n",
    "            if per.name == name:\n",
    "                per.pop()\n",
    "                print(\"삭제완료 -확인하려면 출력해보세요\")\n",
    "                return\n",
    "\n",
    "        print(\"삭제할 이름이 목록에 없습니다\")\n",
    "        return\n",
    "    \n",
    "    def sort_score(self):\n",
    "        sorted(self.score, key= lambda x : x.tot)\n",
    "        print(\"정렬완료 -확인하려면 출력해보세요\")\n",
    "        "
   ]
  },
  {
   "cell_type": "code",
   "execution_count": 10,
   "metadata": {},
   "outputs": [
    {
     "name": "stdout",
     "output_type": "stream",
     "text": [
      "메뉴를 선택하시오\n",
      "['입력(1), 출력(2), 계산(3), 검색(4), 이름수정(5), 이름삭제(6), 정렬(7), 종료(8)']1\n",
      "이름을 입력하세요w\n",
      "국어 점수 : 1\n",
      "수학 점수 : 2\n",
      "영어 점수 : 3\n",
      "이름을 입력하세요e\n",
      "국어 점수 : 4\n",
      "수학 점수 : 5\n",
      "영어 점수 : 6\n",
      "이름을 입력하세요u\n",
      "국어 점수 : 9\n",
      "수학 점수 : 6\n",
      "영어 점수 : 4\n",
      "['입력(1), 출력(2), 계산(3), 검색(4), 이름수정(5), 이름삭제(6), 정렬(7), 종료(8)']6\n",
      "삭제할 이름을 적으시오u\n"
     ]
    },
    {
     "ename": "AttributeError",
     "evalue": "'Student' object has no attribute 'pop'",
     "output_type": "error",
     "traceback": [
      "\u001b[1;31m---------------------------------------------------------------------------\u001b[0m",
      "\u001b[1;31mAttributeError\u001b[0m                            Traceback (most recent call last)",
      "\u001b[1;32m<ipython-input-10-a1989735ee06>\u001b[0m in \u001b[0;36m<module>\u001b[1;34m\u001b[0m\n\u001b[0;32m     32\u001b[0m \u001b[1;33m\u001b[0m\u001b[0m\n\u001b[0;32m     33\u001b[0m     \u001b[1;32melif\u001b[0m \u001b[0msel\u001b[0m \u001b[1;33m==\u001b[0m \u001b[1;34m\"6\"\u001b[0m\u001b[1;33m:\u001b[0m\u001b[1;33m\u001b[0m\u001b[1;33m\u001b[0m\u001b[0m\n\u001b[1;32m---> 34\u001b[1;33m         \u001b[0mman_sung\u001b[0m\u001b[1;33m.\u001b[0m\u001b[0mremove_name\u001b[0m\u001b[1;33m(\u001b[0m\u001b[1;33m)\u001b[0m\u001b[1;33m\u001b[0m\u001b[1;33m\u001b[0m\u001b[0m\n\u001b[0m\u001b[0;32m     35\u001b[0m         \u001b[1;32mcontinue\u001b[0m\u001b[1;33m\u001b[0m\u001b[1;33m\u001b[0m\u001b[0m\n\u001b[0;32m     36\u001b[0m \u001b[1;33m\u001b[0m\u001b[0m\n",
      "\u001b[1;32m<ipython-input-9-cba91104d75e>\u001b[0m in \u001b[0;36mremove_name\u001b[1;34m(self)\u001b[0m\n\u001b[0;32m     54\u001b[0m         \u001b[1;32mfor\u001b[0m \u001b[0mper\u001b[0m \u001b[1;32min\u001b[0m \u001b[0mself\u001b[0m\u001b[1;33m.\u001b[0m\u001b[0mscore\u001b[0m\u001b[1;33m:\u001b[0m\u001b[1;33m\u001b[0m\u001b[1;33m\u001b[0m\u001b[0m\n\u001b[0;32m     55\u001b[0m             \u001b[1;32mif\u001b[0m \u001b[0mper\u001b[0m\u001b[1;33m.\u001b[0m\u001b[0mname\u001b[0m \u001b[1;33m==\u001b[0m \u001b[0mname\u001b[0m\u001b[1;33m:\u001b[0m\u001b[1;33m\u001b[0m\u001b[1;33m\u001b[0m\u001b[0m\n\u001b[1;32m---> 56\u001b[1;33m                 \u001b[0mper\u001b[0m\u001b[1;33m.\u001b[0m\u001b[0mpop\u001b[0m\u001b[1;33m(\u001b[0m\u001b[1;33m)\u001b[0m\u001b[1;33m\u001b[0m\u001b[1;33m\u001b[0m\u001b[0m\n\u001b[0m\u001b[0;32m     57\u001b[0m                 \u001b[0mprint\u001b[0m\u001b[1;33m(\u001b[0m\u001b[1;34m\"삭제완료 -확인하려면 출력해보세요\"\u001b[0m\u001b[1;33m)\u001b[0m\u001b[1;33m\u001b[0m\u001b[1;33m\u001b[0m\u001b[0m\n\u001b[0;32m     58\u001b[0m                 \u001b[1;32mreturn\u001b[0m\u001b[1;33m\u001b[0m\u001b[1;33m\u001b[0m\u001b[0m\n",
      "\u001b[1;31mAttributeError\u001b[0m: 'Student' object has no attribute 'pop'"
     ]
    }
   ],
   "source": [
    "sj = [\"번호\", \"이름\", \"국어\", \"수학\", \"영어\", \"총점\", \"평균\", \"학점\"]\n",
    "\n",
    "menu = [ \"입력(1), 출력(2), 계산(3), 검색(4), 이름수정(5), 이름삭제(6), 정렬(7), 종료(8)\"]\n",
    "\n",
    "man_sung = Management(3)\n",
    "\n",
    "while 1:\n",
    "    sel = input(menu)\n",
    "    \n",
    "    if sel == \"1\":\n",
    "        man_sung.input_score()\n",
    "        continue\n",
    "        \n",
    "    elif sel == \"2\":\n",
    "        print(Management.schoolname + \" 성적 계산표 \")\n",
    "        print(\"%5s %5s %6s %6s %6s %7s  %7s %7s\" % (\"번 호\", \"이 름\", \"국 어\", \"수 학\", \"영 어\", \"총 점\", \"평 균\", \"학 점\"))\n",
    "        man_sung.print_score()\n",
    "        continue\n",
    "        \n",
    "    elif sel == \"3\":\n",
    "        man_sung.calc_score()\n",
    "        print(\"계산이 완료되었습니다. -확인하려면 출력해보세요\")\n",
    "        continue\n",
    "        \n",
    "    elif sel == \"4\":\n",
    "        man_sung.search_name()\n",
    "        continue\n",
    "    \n",
    "    elif sel == \"5\":\n",
    "        man_sung.change_name()\n",
    "        continue\n",
    "    \n",
    "    elif sel == \"6\":\n",
    "        man_sung.remove_name()\n",
    "        continue\n",
    "    \n",
    "    elif sel == \"7\":\n",
    "        man_sung.sort_score()\n",
    "        continue\n",
    "    \n",
    "    elif sel == \"8\":\n",
    "        break\n",
    "    \n",
    "    else:\n",
    "        print(\"잘못된 입력입니다. 다시입력하세요\")\n",
    "        continue\n",
    "        \n",
    "# 이름수정 이름삭제 정렬[정렬은 총점으로 정렬] 구현해봐라"
   ]
  },
  {
   "cell_type": "code",
   "execution_count": null,
   "metadata": {},
   "outputs": [],
   "source": []
  },
  {
   "cell_type": "code",
   "execution_count": null,
   "metadata": {},
   "outputs": [],
   "source": []
  },
  {
   "cell_type": "code",
   "execution_count": null,
   "metadata": {},
   "outputs": [],
   "source": []
  },
  {
   "cell_type": "code",
   "execution_count": null,
   "metadata": {},
   "outputs": [],
   "source": []
  },
  {
   "cell_type": "code",
   "execution_count": null,
   "metadata": {},
   "outputs": [],
   "source": []
  },
  {
   "cell_type": "code",
   "execution_count": null,
   "metadata": {},
   "outputs": [],
   "source": []
  },
  {
   "cell_type": "code",
   "execution_count": null,
   "metadata": {},
   "outputs": [],
   "source": []
  },
  {
   "cell_type": "code",
   "execution_count": null,
   "metadata": {},
   "outputs": [],
   "source": []
  }
 ],
 "metadata": {
  "kernelspec": {
   "display_name": "Python 3",
   "language": "python",
   "name": "python3"
  },
  "language_info": {
   "codemirror_mode": {
    "name": "ipython",
    "version": 3
   },
   "file_extension": ".py",
   "mimetype": "text/x-python",
   "name": "python",
   "nbconvert_exporter": "python",
   "pygments_lexer": "ipython3",
   "version": "3.7.4"
  }
 },
 "nbformat": 4,
 "nbformat_minor": 2
}
